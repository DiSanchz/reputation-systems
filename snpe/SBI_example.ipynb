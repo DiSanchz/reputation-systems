{
 "cells": [
  {
   "cell_type": "code",
   "execution_count": 1,
   "metadata": {},
   "outputs": [],
   "source": [
    "%load_ext autoreload\n",
    "%autoreload 2"
   ]
  },
  {
   "cell_type": "code",
   "execution_count": 2,
   "metadata": {},
   "outputs": [
    {
     "data": {
      "application/javascript": [
       "\n",
       "            setTimeout(function() {\n",
       "                var nbb_cell_id = 2;\n",
       "                var nbb_unformatted_code = \"# Just a formatting related plugin\\n%load_ext nb_black\";\n",
       "                var nbb_formatted_code = \"# Just a formatting related plugin\\n%load_ext nb_black\";\n",
       "                var nbb_cells = Jupyter.notebook.get_cells();\n",
       "                for (var i = 0; i < nbb_cells.length; ++i) {\n",
       "                    if (nbb_cells[i].input_prompt_number == nbb_cell_id) {\n",
       "                        if (nbb_cells[i].get_text() == nbb_unformatted_code) {\n",
       "                             nbb_cells[i].set_text(nbb_formatted_code);\n",
       "                        }\n",
       "                        break;\n",
       "                    }\n",
       "                }\n",
       "            }, 500);\n",
       "            "
      ],
      "text/plain": [
       "<IPython.core.display.Javascript object>"
      ]
     },
     "metadata": {},
     "output_type": "display_data"
    }
   ],
   "source": [
    "# Just a formatting related plugin\n",
    "%load_ext nb_black"
   ]
  },
  {
   "cell_type": "code",
   "execution_count": 3,
   "metadata": {},
   "outputs": [
    {
     "data": {
      "application/javascript": [
       "\n",
       "            setTimeout(function() {\n",
       "                var nbb_cell_id = 3;\n",
       "                var nbb_unformatted_code = \"%matplotlib inline\\nimport matplotlib.pyplot as plt\";\n",
       "                var nbb_formatted_code = \"%matplotlib inline\\nimport matplotlib.pyplot as plt\";\n",
       "                var nbb_cells = Jupyter.notebook.get_cells();\n",
       "                for (var i = 0; i < nbb_cells.length; ++i) {\n",
       "                    if (nbb_cells[i].input_prompt_number == nbb_cell_id) {\n",
       "                        if (nbb_cells[i].get_text() == nbb_unformatted_code) {\n",
       "                             nbb_cells[i].set_text(nbb_formatted_code);\n",
       "                        }\n",
       "                        break;\n",
       "                    }\n",
       "                }\n",
       "            }, 500);\n",
       "            "
      ],
      "text/plain": [
       "<IPython.core.display.Javascript object>"
      ]
     },
     "metadata": {},
     "output_type": "display_data"
    }
   ],
   "source": [
    "%matplotlib inline\n",
    "import matplotlib.pyplot as plt"
   ]
  },
  {
   "cell_type": "code",
   "execution_count": 4,
   "metadata": {},
   "outputs": [
    {
     "data": {
      "application/javascript": [
       "\n",
       "            setTimeout(function() {\n",
       "                var nbb_cell_id = 4;\n",
       "                var nbb_unformatted_code = \"import torch\\nimport numpy as np\\n\\nfrom sbi import utils as utils\\nfrom sbi.inference.base import infer\\nfrom sbi.inference import SNPE, prepare_for_sbi\";\n",
       "                var nbb_formatted_code = \"import torch\\nimport numpy as np\\n\\nfrom sbi import utils as utils\\nfrom sbi.inference.base import infer\\nfrom sbi.inference import SNPE, prepare_for_sbi\";\n",
       "                var nbb_cells = Jupyter.notebook.get_cells();\n",
       "                for (var i = 0; i < nbb_cells.length; ++i) {\n",
       "                    if (nbb_cells[i].input_prompt_number == nbb_cell_id) {\n",
       "                        if (nbb_cells[i].get_text() == nbb_unformatted_code) {\n",
       "                             nbb_cells[i].set_text(nbb_formatted_code);\n",
       "                        }\n",
       "                        break;\n",
       "                    }\n",
       "                }\n",
       "            }, 500);\n",
       "            "
      ],
      "text/plain": [
       "<IPython.core.display.Javascript object>"
      ]
     },
     "metadata": {},
     "output_type": "display_data"
    }
   ],
   "source": [
    "import torch\n",
    "import numpy as np\n",
    "\n",
    "from sbi import utils as utils\n",
    "from sbi.inference.base import infer\n",
    "from sbi.inference import SNPE, prepare_for_sbi"
   ]
  },
  {
   "cell_type": "markdown",
   "metadata": {},
   "source": [
    "# A basic model of review generation"
   ]
  },
  {
   "cell_type": "markdown",
   "metadata": {},
   "source": [
    "This is a probabilistic model of a single customer's journey. Eventually, the simulation works by picking a random number of reviews that needs to generated and simulating new customers till that number of reviews has been achieved (or, a max number of simulated customers has been hit). This process makes it possible to generate review distributions with different total number of reviews irrespective of the value of $\\rho$, the parameter that controls the energy barrier to reviewing.\n",
    "\n",
    "**Note: = denotes equality, ~ denotes a single draw from a probability distribution**\n",
    "\n",
    "**For a single customer**, they begin with a prior for the review distribution of a product and the currently existing review distribution for the same product. Both of these are Dirichlet-distributed as follows:\n",
    "\n",
    "Review distribution prior for arriving customer (same for every customer and product):\n",
    "$$\n",
    "\\text{Prior} = Dirichlet(\\alpha_1,..,\\alpha_5=1.0)\n",
    "$$\n",
    "\n",
    "Existing distribution for product:\n",
    "$$\n",
    "\\text{Reviews} = Dirichlet(\\beta_1,..,\\beta_5), \\beta_i=\\text{Currently existing number of reviews with rating=i}\n",
    "$$\n",
    "\n",
    "Customer adds the review numbers of the prior and existing distribution to form a posterior of \"quality\":\n",
    "$$\n",
    "\\text{Quality posterior} = \\text{Prior}+\\text{Reviews} = Dirichlet(\\alpha_1+\\beta_1,..,\\alpha_5+\\beta_5)\n",
    "$$\n",
    "\n",
    "Customer now pulls a single multinomial draw from the quality posterior - this is their \"utility\" distribution which combines quality and \"fit\":\n",
    "$$\n",
    "\\text{Utility} = Multinomial(\\sum_{i=1}^{i=5}p_i=1) \\sim \\text{Quality posterior}  \n",
    "$$\n",
    "\n",
    "Customer buys the product if the utility mean is higher than the prior mean (customer expects to have a better \"experience\" than the prior would suggest). Customer also buys product if no reviews exist for the product yet (to deal with the cold start problem):\n",
    "$$\n",
    "\\text{Expected experience} = \\sum_{i=1}^{i=5}(i \\times p_i) - \\frac{\\sum_{i=1}^{i=5}(i \\times \\alpha_i)}{\\sum_{i=1}^{i=5} \\alpha_i}\n",
    "$$\n",
    "\n",
    "If customer buys the product, they draw an actual \"experience\" from their multinomial utility distribution. The actual experience is an integer from 1 to 5:\n",
    "$$\n",
    "\\text{Experience} \\sim Utility \\in [1, 5]\n",
    "$$\n",
    "\n",
    "Now customer calculates the difference between their \"actual\" experience and their \"expected\" experience:\n",
    "$$\n",
    "\\Delta = \\text{Experience} - \\sum_{i=1}^{i=5}(i \\times p_i)\n",
    "$$\n",
    "\n",
    "Customer uses this difference to decide on the rating they will give to the product:\n",
    "$$\n",
    "\\text{Rating} = \n",
    "\\begin{cases}\n",
    "    1,& \\text{if } \\Delta \\in (-\\infty, -1.5] \\\\\n",
    "    2,& \\text{if } \\Delta \\in (-1.5, -0.5] \\\\\n",
    "    3,& \\text{if } \\Delta \\in (-0.5, 0.5] \\\\\n",
    "    4,& \\text{if } \\Delta \\in (0.5, 1.5] \\\\\n",
    "    5,& \\text{if } \\Delta \\in (1.5, \\infty) \n",
    "\\end{cases}\n",
    "$$\n",
    "\n",
    "**Now, customer leaves a rating by comparing $\\Delta$ to the energy barrier to rate, $\\rho$.**\n",
    "\n",
    "If we have the same $\\rho$ for both positive and negative $\\Delta$, the customer leaves their rating in any of the following situations:\n",
    "1. A small, baseline probability of leaving the rating through *tendency to rate*\n",
    "2. If $|\\Delta| \\geq \\rho$\n",
    "\n",
    "If we have different $\\rho$ for positive and negative $\\Delta$, the customer leaves their rating in any of the following situations:\n",
    "1. A small, baseline probability of leaving the rating through *tendency to rate*\n",
    "2. If $\\Delta \\geq 0$ and $|\\Delta| \\geq \\rho_+$\n",
    "3. If $\\Delta < 0$ and $|\\Delta| \\geq \\rho_-$\n",
    "\n",
    "In any of the situations above moderated by $\\Delta$ and $\\rho$, the customer only leaves the review 60% of the time if the rating is <=3, but always if the rating > 3 (given positivity bias shown in review lit)"
   ]
  },
  {
   "cell_type": "code",
   "execution_count": 5,
   "metadata": {},
   "outputs": [
    {
     "data": {
      "application/javascript": [
       "\n",
       "            setTimeout(function() {\n",
       "                var nbb_cell_id = 5;\n",
       "                var nbb_unformatted_code = \"prior = utils.BoxUniform(low=torch.tensor([0.0]), high=torch.tensor([4.0]))\";\n",
       "                var nbb_formatted_code = \"prior = utils.BoxUniform(low=torch.tensor([0.0]), high=torch.tensor([4.0]))\";\n",
       "                var nbb_cells = Jupyter.notebook.get_cells();\n",
       "                for (var i = 0; i < nbb_cells.length; ++i) {\n",
       "                    if (nbb_cells[i].input_prompt_number == nbb_cell_id) {\n",
       "                        if (nbb_cells[i].get_text() == nbb_unformatted_code) {\n",
       "                             nbb_cells[i].set_text(nbb_formatted_code);\n",
       "                        }\n",
       "                        break;\n",
       "                    }\n",
       "                }\n",
       "            }, 500);\n",
       "            "
      ],
      "text/plain": [
       "<IPython.core.display.Javascript object>"
      ]
     },
     "metadata": {},
     "output_type": "display_data"
    }
   ],
   "source": [
    "prior = utils.BoxUniform(low=torch.tensor([0.0]), high=torch.tensor([4.0]))"
   ]
  },
  {
   "cell_type": "code",
   "execution_count": 6,
   "metadata": {},
   "outputs": [
    {
     "data": {
      "application/javascript": [
       "\n",
       "            setTimeout(function() {\n",
       "                var nbb_cell_id = 6;\n",
       "                var nbb_unformatted_code = \"# rev_prior = torch.tensor([2.0, 2.0, 10.0, 3.0, 3.0])\\n# Keeping a flat prior for the reviews expected by the user\\nrev_prior = torch.tensor([1.0, 1.0, 1.0, 1.0, 1.0])\";\n",
       "                var nbb_formatted_code = \"# rev_prior = torch.tensor([2.0, 2.0, 10.0, 3.0, 3.0])\\n# Keeping a flat prior for the reviews expected by the user\\nrev_prior = torch.tensor([1.0, 1.0, 1.0, 1.0, 1.0])\";\n",
       "                var nbb_cells = Jupyter.notebook.get_cells();\n",
       "                for (var i = 0; i < nbb_cells.length; ++i) {\n",
       "                    if (nbb_cells[i].input_prompt_number == nbb_cell_id) {\n",
       "                        if (nbb_cells[i].get_text() == nbb_unformatted_code) {\n",
       "                             nbb_cells[i].set_text(nbb_formatted_code);\n",
       "                        }\n",
       "                        break;\n",
       "                    }\n",
       "                }\n",
       "            }, 500);\n",
       "            "
      ],
      "text/plain": [
       "<IPython.core.display.Javascript object>"
      ]
     },
     "metadata": {},
     "output_type": "display_data"
    }
   ],
   "source": [
    "# rev_prior = torch.tensor([2.0, 2.0, 10.0, 3.0, 3.0])\n",
    "# Keeping a flat prior for the reviews expected by the user\n",
    "rev_prior = torch.tensor([1.0, 1.0, 1.0, 1.0, 1.0])"
   ]
  },
  {
   "cell_type": "code",
   "execution_count": 7,
   "metadata": {},
   "outputs": [
    {
     "data": {
      "text/plain": [
       "tensor(3.)"
      ]
     },
     "execution_count": 7,
     "metadata": {},
     "output_type": "execute_result"
    },
    {
     "data": {
      "application/javascript": [
       "\n",
       "            setTimeout(function() {\n",
       "                var nbb_cell_id = 7;\n",
       "                var nbb_unformatted_code = \"# This is how you would take the mean of a review distribution\\na = rev_prior * torch.arange(1, 6)\\na.sum() / rev_prior.sum()\";\n",
       "                var nbb_formatted_code = \"# This is how you would take the mean of a review distribution\\na = rev_prior * torch.arange(1, 6)\\na.sum() / rev_prior.sum()\";\n",
       "                var nbb_cells = Jupyter.notebook.get_cells();\n",
       "                for (var i = 0; i < nbb_cells.length; ++i) {\n",
       "                    if (nbb_cells[i].input_prompt_number == nbb_cell_id) {\n",
       "                        if (nbb_cells[i].get_text() == nbb_unformatted_code) {\n",
       "                             nbb_cells[i].set_text(nbb_formatted_code);\n",
       "                        }\n",
       "                        break;\n",
       "                    }\n",
       "                }\n",
       "            }, 500);\n",
       "            "
      ],
      "text/plain": [
       "<IPython.core.display.Javascript object>"
      ]
     },
     "metadata": {},
     "output_type": "display_data"
    }
   ],
   "source": [
    "# This is how you would take the mean of a review distribution\n",
    "a = rev_prior * torch.arange(1, 6)\n",
    "a.sum() / rev_prior.sum()"
   ]
  },
  {
   "cell_type": "code",
   "execution_count": 11,
   "metadata": {},
   "outputs": [
    {
     "data": {
      "application/javascript": [
       "\n",
       "            setTimeout(function() {\n",
       "                var nbb_cell_id = 11;\n",
       "                var nbb_unformatted_code = \"tendency_to_rate = 0.05\";\n",
       "                var nbb_formatted_code = \"tendency_to_rate = 0.05\";\n",
       "                var nbb_cells = Jupyter.notebook.get_cells();\n",
       "                for (var i = 0; i < nbb_cells.length; ++i) {\n",
       "                    if (nbb_cells[i].input_prompt_number == nbb_cell_id) {\n",
       "                        if (nbb_cells[i].get_text() == nbb_unformatted_code) {\n",
       "                             nbb_cells[i].set_text(nbb_formatted_code);\n",
       "                        }\n",
       "                        break;\n",
       "                    }\n",
       "                }\n",
       "            }, 500);\n",
       "            "
      ],
      "text/plain": [
       "<IPython.core.display.Javascript object>"
      ]
     },
     "metadata": {},
     "output_type": "display_data"
    }
   ],
   "source": [
    "tendency_to_rate = 0.05"
   ]
  },
  {
   "cell_type": "code",
   "execution_count": 12,
   "metadata": {},
   "outputs": [
    {
     "data": {
      "application/javascript": [
       "\n",
       "            setTimeout(function() {\n",
       "                var nbb_cell_id = 12;\n",
       "                var nbb_unformatted_code = \"# The function that simulates 1 visitor's journey (which may or may not end in review generation)\\n\\n\\ndef visitor_journey(sim_revs, rho):\\n    # print(\\\"==========A New Visitor===========\\\")\\n    # Convolve the current simulated review distribution with the prior to get the posterior of reviews\\n    post_revs_conc_params = sim_revs + rev_prior\\n    # print(\\\"Posterior:\\\", post_revs_conc_params)\\n\\n    # Add some reviews to one of the bins to add noise to this posterior\\n    # This \\\"noisy\\\" posterior is the utility distribution\\n    # add_revs_num = np.random.randint(low=5, high=50)\\n    # add_revs_bin = np.random.randint(low=0, high=4)\\n    # utility_conc_params = post_revs_conc_params.clone().detach()\\n    # utility_conc_params[add_revs_bin] += add_revs_num\\n\\n    # Just make a single draw from the posterior Dirichlet dist of reviews to get the utility distribution\\n    utility_dist = torch.distributions.Dirichlet(post_revs_conc_params).sample()\\n    # print(\\\"Utility dist:\\\", utility_dist)\\n\\n    # Customer buys if mean of the utility distribution is >= prior mean\\n    # Also, first customer always buys and reviews\\n    # Reviews if experience is different from expectation\\n    prior_mean = torch.sum(rev_prior * torch.arange(1, 6)) / rev_prior.sum()\\n    # utility_mean = (\\n    #    torch.sum(utility_conc_params * torch.arange(1, 6)) / utility_conc_params.sum()\\n    # )\\n    utility_mean = torch.sum(utility_dist * torch.arange(1, 6))\\n    # print(\\\"Utility mean:\\\", utility_mean)\\n\\n    # If there are no existing reviews, the customer always buys\\n    if utility_mean >= prior_mean or torch.sum(sim_revs) == 0:\\n        # print(\\\"Bought\\\")\\n        # Draw an experience from the user's utility distribution\\n        # experience_dist = torch.distributions.Dirichlet(utility_conc_params).sample()\\n        # experience = torch.multinomial(experience_dist, 1) + 1.0\\n        experience = torch.multinomial(utility_dist, 1) + 1.0\\n        # print(\\\"Experience:\\\", experience)\\n        # Compare the mismatch in experience to rho\\n        delta = experience - utility_mean\\n        # print(\\\"Delta:\\\", delta)\\n        if delta <= -1.5:\\n            review = 0\\n        elif delta > -1.5 and delta <= -0.5:\\n            review = 1\\n        elif delta > -0.5 and delta <= 0.5:\\n            review = 2\\n        elif delta > 0.5 and delta <= 1.5:\\n            review = 3\\n        else:\\n            review = 4\\n\\n        # print(\\\"Generated:\\\", review)\\n\\n        # Return the review only if mismatch is higher than rho\\n        # We also make it slightly more likely for a customer to leave a review if the rating is positive\\n        # than if it is negative\\n        if np.random.random() <= tendency_to_rate:\\n            return review\\n        elif torch.abs(delta) >= rho and review <= 2 and np.random.random() <= 0.6:\\n            return review\\n        elif bool(torch.abs(delta) >= rho) and review > 2:\\n            return review\\n        else:\\n            return None\";\n",
       "                var nbb_formatted_code = \"# The function that simulates 1 visitor's journey (which may or may not end in review generation)\\n\\n\\ndef visitor_journey(sim_revs, rho):\\n    # print(\\\"==========A New Visitor===========\\\")\\n    # Convolve the current simulated review distribution with the prior to get the posterior of reviews\\n    post_revs_conc_params = sim_revs + rev_prior\\n    # print(\\\"Posterior:\\\", post_revs_conc_params)\\n\\n    # Add some reviews to one of the bins to add noise to this posterior\\n    # This \\\"noisy\\\" posterior is the utility distribution\\n    # add_revs_num = np.random.randint(low=5, high=50)\\n    # add_revs_bin = np.random.randint(low=0, high=4)\\n    # utility_conc_params = post_revs_conc_params.clone().detach()\\n    # utility_conc_params[add_revs_bin] += add_revs_num\\n\\n    # Just make a single draw from the posterior Dirichlet dist of reviews to get the utility distribution\\n    utility_dist = torch.distributions.Dirichlet(post_revs_conc_params).sample()\\n    # print(\\\"Utility dist:\\\", utility_dist)\\n\\n    # Customer buys if mean of the utility distribution is >= prior mean\\n    # Also, first customer always buys and reviews\\n    # Reviews if experience is different from expectation\\n    prior_mean = torch.sum(rev_prior * torch.arange(1, 6)) / rev_prior.sum()\\n    # utility_mean = (\\n    #    torch.sum(utility_conc_params * torch.arange(1, 6)) / utility_conc_params.sum()\\n    # )\\n    utility_mean = torch.sum(utility_dist * torch.arange(1, 6))\\n    # print(\\\"Utility mean:\\\", utility_mean)\\n\\n    # If there are no existing reviews, the customer always buys\\n    if utility_mean >= prior_mean or torch.sum(sim_revs) == 0:\\n        # print(\\\"Bought\\\")\\n        # Draw an experience from the user's utility distribution\\n        # experience_dist = torch.distributions.Dirichlet(utility_conc_params).sample()\\n        # experience = torch.multinomial(experience_dist, 1) + 1.0\\n        experience = torch.multinomial(utility_dist, 1) + 1.0\\n        # print(\\\"Experience:\\\", experience)\\n        # Compare the mismatch in experience to rho\\n        delta = experience - utility_mean\\n        # print(\\\"Delta:\\\", delta)\\n        if delta <= -1.5:\\n            review = 0\\n        elif delta > -1.5 and delta <= -0.5:\\n            review = 1\\n        elif delta > -0.5 and delta <= 0.5:\\n            review = 2\\n        elif delta > 0.5 and delta <= 1.5:\\n            review = 3\\n        else:\\n            review = 4\\n\\n        # print(\\\"Generated:\\\", review)\\n\\n        # Return the review only if mismatch is higher than rho\\n        # We also make it slightly more likely for a customer to leave a review if the rating is positive\\n        # than if it is negative\\n        if np.random.random() <= tendency_to_rate:\\n            return review\\n        elif torch.abs(delta) >= rho and review <= 2 and np.random.random() <= 0.6:\\n            return review\\n        elif bool(torch.abs(delta) >= rho) and review > 2:\\n            return review\\n        else:\\n            return None\";\n",
       "                var nbb_cells = Jupyter.notebook.get_cells();\n",
       "                for (var i = 0; i < nbb_cells.length; ++i) {\n",
       "                    if (nbb_cells[i].input_prompt_number == nbb_cell_id) {\n",
       "                        if (nbb_cells[i].get_text() == nbb_unformatted_code) {\n",
       "                             nbb_cells[i].set_text(nbb_formatted_code);\n",
       "                        }\n",
       "                        break;\n",
       "                    }\n",
       "                }\n",
       "            }, 500);\n",
       "            "
      ],
      "text/plain": [
       "<IPython.core.display.Javascript object>"
      ]
     },
     "metadata": {},
     "output_type": "display_data"
    }
   ],
   "source": [
    "# The function that simulates 1 visitor's journey (which may or may not end in review generation)\n",
    "\n",
    "\n",
    "def visitor_journey(sim_revs, rho):\n",
    "    # print(\"==========A New Visitor===========\")\n",
    "    # Convolve the current simulated review distribution with the prior to get the posterior of reviews\n",
    "    post_revs_conc_params = sim_revs + rev_prior\n",
    "    # print(\"Posterior:\", post_revs_conc_params)\n",
    "\n",
    "    # Add some reviews to one of the bins to add noise to this posterior\n",
    "    # This \"noisy\" posterior is the utility distribution\n",
    "    # add_revs_num = np.random.randint(low=5, high=50)\n",
    "    # add_revs_bin = np.random.randint(low=0, high=4)\n",
    "    # utility_conc_params = post_revs_conc_params.clone().detach()\n",
    "    # utility_conc_params[add_revs_bin] += add_revs_num\n",
    "\n",
    "    # Just make a single draw from the posterior Dirichlet dist of reviews to get the utility distribution\n",
    "    utility_dist = torch.distributions.Dirichlet(post_revs_conc_params).sample()\n",
    "    # print(\"Utility dist:\", utility_dist)\n",
    "\n",
    "    # Customer buys if mean of the utility distribution is >= prior mean\n",
    "    # Also, first customer always buys and reviews\n",
    "    # Reviews if experience is different from expectation\n",
    "    prior_mean = torch.sum(rev_prior * torch.arange(1, 6)) / rev_prior.sum()\n",
    "    # utility_mean = (\n",
    "    #    torch.sum(utility_conc_params * torch.arange(1, 6)) / utility_conc_params.sum()\n",
    "    # )\n",
    "    utility_mean = torch.sum(utility_dist * torch.arange(1, 6))\n",
    "    # print(\"Utility mean:\", utility_mean)\n",
    "\n",
    "    # If there are no existing reviews, the customer always buys\n",
    "    if utility_mean >= prior_mean or torch.sum(sim_revs) == 0:\n",
    "        # print(\"Bought\")\n",
    "        # Draw an experience from the user's utility distribution\n",
    "        # experience_dist = torch.distributions.Dirichlet(utility_conc_params).sample()\n",
    "        # experience = torch.multinomial(experience_dist, 1) + 1.0\n",
    "        experience = torch.multinomial(utility_dist, 1) + 1.0\n",
    "        # print(\"Experience:\", experience)\n",
    "        # Compare the mismatch in experience to rho\n",
    "        delta = experience - utility_mean\n",
    "        # print(\"Delta:\", delta)\n",
    "        if delta <= -1.5:\n",
    "            review = 0\n",
    "        elif delta > -1.5 and delta <= -0.5:\n",
    "            review = 1\n",
    "        elif delta > -0.5 and delta <= 0.5:\n",
    "            review = 2\n",
    "        elif delta > 0.5 and delta <= 1.5:\n",
    "            review = 3\n",
    "        else:\n",
    "            review = 4\n",
    "\n",
    "        # print(\"Generated:\", review)\n",
    "\n",
    "        # Return the review only if mismatch is higher than rho\n",
    "        # We also make it slightly more likely for a customer to leave a review if the rating is positive\n",
    "        # than if it is negative\n",
    "        if np.random.random() <= tendency_to_rate:\n",
    "            return review\n",
    "        elif torch.abs(delta) >= rho and review <= 2 and np.random.random() <= 0.6:\n",
    "            return review\n",
    "        elif bool(torch.abs(delta) >= rho) and review > 2:\n",
    "            return review\n",
    "        else:\n",
    "            return None"
   ]
  },
  {
   "cell_type": "code",
   "execution_count": 13,
   "metadata": {},
   "outputs": [
    {
     "data": {
      "application/javascript": [
       "\n",
       "            setTimeout(function() {\n",
       "                var nbb_cell_id = 13;\n",
       "                var nbb_unformatted_code = \"# This runs the model by:\\n# Picking a number of reviews that needs to be generated\\n# and simulating visitors either till that number or a max number of visitors has been reached\\ndef model(rho):\\n    # Total number of reviews we want in this simulation\\n    revs_num = np.random.randint(low=20, high=1000)\\n    # Absolute total number of visitors - if we hit this number but haven't gotten revs_num reviews\\n    # we will stop with whatever reviews we have at that point\\n    total_visitors = revs_num * 30\\n    # Simulated distribution of reviews\\n    sim_revs = torch.zeros(5)\\n\\n    for visitor in range(total_visitors):\\n        index = visitor_journey(sim_revs, rho)\\n        if index is not None:\\n            sim_revs[index] += 1\\n        if torch.sum(sim_revs) >= revs_num:\\n            break\\n    return sim_revs\\n\\n\\n#    return (\\n#        sim_revs,\\n#        100 * torch.sum(sim_revs) / visitor,\\n#        visitor == total_visitors - 1,\\n#        torch.sum(sim_revs),\\n#        revs_num,\\n#        visitor,\\n#    )\";\n",
       "                var nbb_formatted_code = \"# This runs the model by:\\n# Picking a number of reviews that needs to be generated\\n# and simulating visitors either till that number or a max number of visitors has been reached\\ndef model(rho):\\n    # Total number of reviews we want in this simulation\\n    revs_num = np.random.randint(low=20, high=1000)\\n    # Absolute total number of visitors - if we hit this number but haven't gotten revs_num reviews\\n    # we will stop with whatever reviews we have at that point\\n    total_visitors = revs_num * 30\\n    # Simulated distribution of reviews\\n    sim_revs = torch.zeros(5)\\n\\n    for visitor in range(total_visitors):\\n        index = visitor_journey(sim_revs, rho)\\n        if index is not None:\\n            sim_revs[index] += 1\\n        if torch.sum(sim_revs) >= revs_num:\\n            break\\n    return sim_revs\\n\\n\\n#    return (\\n#        sim_revs,\\n#        100 * torch.sum(sim_revs) / visitor,\\n#        visitor == total_visitors - 1,\\n#        torch.sum(sim_revs),\\n#        revs_num,\\n#        visitor,\\n#    )\";\n",
       "                var nbb_cells = Jupyter.notebook.get_cells();\n",
       "                for (var i = 0; i < nbb_cells.length; ++i) {\n",
       "                    if (nbb_cells[i].input_prompt_number == nbb_cell_id) {\n",
       "                        if (nbb_cells[i].get_text() == nbb_unformatted_code) {\n",
       "                             nbb_cells[i].set_text(nbb_formatted_code);\n",
       "                        }\n",
       "                        break;\n",
       "                    }\n",
       "                }\n",
       "            }, 500);\n",
       "            "
      ],
      "text/plain": [
       "<IPython.core.display.Javascript object>"
      ]
     },
     "metadata": {},
     "output_type": "display_data"
    }
   ],
   "source": [
    "# This runs the model by:\n",
    "# Picking a number of reviews that needs to be generated\n",
    "# and simulating visitors either till that number or a max number of visitors has been reached\n",
    "def model(rho):\n",
    "    # Total number of reviews we want in this simulation\n",
    "    revs_num = np.random.randint(low=20, high=1000)\n",
    "    # Absolute total number of visitors - if we hit this number but haven't gotten revs_num reviews\n",
    "    # we will stop with whatever reviews we have at that point\n",
    "    total_visitors = revs_num * 30\n",
    "    # Simulated distribution of reviews\n",
    "    sim_revs = torch.zeros(5)\n",
    "\n",
    "    for visitor in range(total_visitors):\n",
    "        index = visitor_journey(sim_revs, rho)\n",
    "        if index is not None:\n",
    "            sim_revs[index] += 1\n",
    "        if torch.sum(sim_revs) >= revs_num:\n",
    "            break\n",
    "    return sim_revs\n",
    "\n",
    "\n",
    "#    return (\n",
    "#        sim_revs,\n",
    "#        100 * torch.sum(sim_revs) / visitor,\n",
    "#        visitor == total_visitors - 1,\n",
    "#        torch.sum(sim_revs),\n",
    "#        revs_num,\n",
    "#        visitor,\n",
    "#    )"
   ]
  },
  {
   "cell_type": "code",
   "execution_count": 14,
   "metadata": {},
   "outputs": [
    {
     "data": {
      "text/plain": [
       "tensor([ 95.,  45., 112., 137., 136.])"
      ]
     },
     "execution_count": 14,
     "metadata": {},
     "output_type": "execute_result"
    },
    {
     "data": {
      "application/javascript": [
       "\n",
       "            setTimeout(function() {\n",
       "                var nbb_cell_id = 14;\n",
       "                var nbb_unformatted_code = \"model(torch.tensor([4.0]))\";\n",
       "                var nbb_formatted_code = \"model(torch.tensor([4.0]))\";\n",
       "                var nbb_cells = Jupyter.notebook.get_cells();\n",
       "                for (var i = 0; i < nbb_cells.length; ++i) {\n",
       "                    if (nbb_cells[i].input_prompt_number == nbb_cell_id) {\n",
       "                        if (nbb_cells[i].get_text() == nbb_unformatted_code) {\n",
       "                             nbb_cells[i].set_text(nbb_formatted_code);\n",
       "                        }\n",
       "                        break;\n",
       "                    }\n",
       "                }\n",
       "            }, 500);\n",
       "            "
      ],
      "text/plain": [
       "<IPython.core.display.Javascript object>"
      ]
     },
     "metadata": {},
     "output_type": "display_data"
    }
   ],
   "source": [
    "model(torch.tensor([4.0]))"
   ]
  },
  {
   "cell_type": "code",
   "execution_count": 19,
   "metadata": {},
   "outputs": [
    {
     "data": {
      "text/plain": [
       "tensor([40.,  4., 22., 77., 12.])"
      ]
     },
     "execution_count": 19,
     "metadata": {},
     "output_type": "execute_result"
    },
    {
     "data": {
      "application/javascript": [
       "\n",
       "            setTimeout(function() {\n",
       "                var nbb_cell_id = 19;\n",
       "                var nbb_unformatted_code = \"model(torch.tensor([2.6]))\";\n",
       "                var nbb_formatted_code = \"model(torch.tensor([2.6]))\";\n",
       "                var nbb_cells = Jupyter.notebook.get_cells();\n",
       "                for (var i = 0; i < nbb_cells.length; ++i) {\n",
       "                    if (nbb_cells[i].input_prompt_number == nbb_cell_id) {\n",
       "                        if (nbb_cells[i].get_text() == nbb_unformatted_code) {\n",
       "                             nbb_cells[i].set_text(nbb_formatted_code);\n",
       "                        }\n",
       "                        break;\n",
       "                    }\n",
       "                }\n",
       "            }, 500);\n",
       "            "
      ],
      "text/plain": [
       "<IPython.core.display.Javascript object>"
      ]
     },
     "metadata": {},
     "output_type": "display_data"
    }
   ],
   "source": [
    "model(torch.tensor([2.6]))"
   ]
  },
  {
   "cell_type": "code",
   "execution_count": 30,
   "metadata": {},
   "outputs": [
    {
     "data": {
      "text/plain": [
       "tensor([ 94.,  75., 153., 471., 115.])"
      ]
     },
     "execution_count": 30,
     "metadata": {},
     "output_type": "execute_result"
    },
    {
     "data": {
      "application/javascript": [
       "\n",
       "            setTimeout(function() {\n",
       "                var nbb_cell_id = 30;\n",
       "                var nbb_unformatted_code = \"model(torch.tensor([0.1]))\";\n",
       "                var nbb_formatted_code = \"model(torch.tensor([0.1]))\";\n",
       "                var nbb_cells = Jupyter.notebook.get_cells();\n",
       "                for (var i = 0; i < nbb_cells.length; ++i) {\n",
       "                    if (nbb_cells[i].input_prompt_number == nbb_cell_id) {\n",
       "                        if (nbb_cells[i].get_text() == nbb_unformatted_code) {\n",
       "                             nbb_cells[i].set_text(nbb_formatted_code);\n",
       "                        }\n",
       "                        break;\n",
       "                    }\n",
       "                }\n",
       "            }, 500);\n",
       "            "
      ],
      "text/plain": [
       "<IPython.core.display.Javascript object>"
      ]
     },
     "metadata": {},
     "output_type": "display_data"
    }
   ],
   "source": [
    "model(torch.tensor([0.1]))"
   ]
  },
  {
   "cell_type": "code",
   "execution_count": 20,
   "metadata": {},
   "outputs": [
    {
     "data": {
      "application/vnd.jupyter.widget-view+json": {
       "model_id": "",
       "version_major": 2,
       "version_minor": 0
      },
      "text/plain": [
       "HBox(children=(HTML(value='Running 15000 simulations in 15000 batches.'), FloatProgress(value=0.0, max=15000.0…"
      ]
     },
     "metadata": {},
     "output_type": "display_data"
    },
    {
     "name": "stdout",
     "output_type": "stream",
     "text": [
      "\n"
     ]
    },
    {
     "name": "stderr",
     "output_type": "stream",
     "text": [
      "/etc/anaconda3/envs/sbi/lib/python3.7/site-packages/sbi/neural_nets/flow.py:108: UserWarning: In one-dimensional output space, this flow is limited to Gaussians\n",
      "  warn(f\"In one-dimensional output space, this flow is limited to Gaussians\")\n"
     ]
    },
    {
     "name": "stdout",
     "output_type": "stream",
     "text": [
      "Neural network successfully converged after 88 epochs.\n"
     ]
    },
    {
     "data": {
      "application/javascript": [
       "\n",
       "            setTimeout(function() {\n",
       "                var nbb_cell_id = 20;\n",
       "                var nbb_unformatted_code = \"posterior = infer(model, prior, method=\\\"SNPE\\\", num_simulations=15000, num_workers=16)\";\n",
       "                var nbb_formatted_code = \"posterior = infer(model, prior, method=\\\"SNPE\\\", num_simulations=15000, num_workers=16)\";\n",
       "                var nbb_cells = Jupyter.notebook.get_cells();\n",
       "                for (var i = 0; i < nbb_cells.length; ++i) {\n",
       "                    if (nbb_cells[i].input_prompt_number == nbb_cell_id) {\n",
       "                        if (nbb_cells[i].get_text() == nbb_unformatted_code) {\n",
       "                             nbb_cells[i].set_text(nbb_formatted_code);\n",
       "                        }\n",
       "                        break;\n",
       "                    }\n",
       "                }\n",
       "            }, 500);\n",
       "            "
      ],
      "text/plain": [
       "<IPython.core.display.Javascript object>"
      ]
     },
     "metadata": {},
     "output_type": "display_data"
    }
   ],
   "source": [
    "posterior = infer(model, prior, method=\"SNPE\", num_simulations=15000, num_workers=16)"
   ]
  },
  {
   "cell_type": "code",
   "execution_count": 21,
   "metadata": {},
   "outputs": [
    {
     "data": {
      "application/javascript": [
       "\n",
       "            setTimeout(function() {\n",
       "                var nbb_cell_id = 21;\n",
       "                var nbb_unformatted_code = \"# Pickle the posterior\\nimport pickle\\n\\nwith open(\\\"sbi_posterior_single_rho.pkl\\\", \\\"wb\\\") as f:\\n    pickle.dump(posterior, f)\";\n",
       "                var nbb_formatted_code = \"# Pickle the posterior\\nimport pickle\\n\\nwith open(\\\"sbi_posterior_single_rho.pkl\\\", \\\"wb\\\") as f:\\n    pickle.dump(posterior, f)\";\n",
       "                var nbb_cells = Jupyter.notebook.get_cells();\n",
       "                for (var i = 0; i < nbb_cells.length; ++i) {\n",
       "                    if (nbb_cells[i].input_prompt_number == nbb_cell_id) {\n",
       "                        if (nbb_cells[i].get_text() == nbb_unformatted_code) {\n",
       "                             nbb_cells[i].set_text(nbb_formatted_code);\n",
       "                        }\n",
       "                        break;\n",
       "                    }\n",
       "                }\n",
       "            }, 500);\n",
       "            "
      ],
      "text/plain": [
       "<IPython.core.display.Javascript object>"
      ]
     },
     "metadata": {},
     "output_type": "display_data"
    }
   ],
   "source": [
    "# Pickle the posterior\n",
    "import pickle\n",
    "\n",
    "with open(\"sbi_posterior_single_rho.pkl\", \"wb\") as f:\n",
    "    pickle.dump(posterior, f)"
   ]
  },
  {
   "cell_type": "markdown",
   "metadata": {},
   "source": [
    "**$\\rho$ for J shaped review distribution**"
   ]
  },
  {
   "cell_type": "code",
   "execution_count": 22,
   "metadata": {},
   "outputs": [
    {
     "data": {
      "application/vnd.jupyter.widget-view+json": {
       "model_id": "",
       "version_major": 2,
       "version_minor": 0
      },
      "text/plain": [
       "HBox(children=(HTML(value='Drawing 10000 posterior samples'), FloatProgress(value=0.0, max=10000.0), HTML(valu…"
      ]
     },
     "metadata": {},
     "output_type": "display_data"
    },
    {
     "name": "stdout",
     "output_type": "stream",
     "text": [
      "\n"
     ]
    },
    {
     "data": {
      "application/javascript": [
       "\n",
       "            setTimeout(function() {\n",
       "                var nbb_cell_id = 22;\n",
       "                var nbb_unformatted_code = \"posterior_samples = posterior.sample((10000,), x=torch.tensor([15, 20, 30, 100, 600]))\";\n",
       "                var nbb_formatted_code = \"posterior_samples = posterior.sample((10000,), x=torch.tensor([15, 20, 30, 100, 600]))\";\n",
       "                var nbb_cells = Jupyter.notebook.get_cells();\n",
       "                for (var i = 0; i < nbb_cells.length; ++i) {\n",
       "                    if (nbb_cells[i].input_prompt_number == nbb_cell_id) {\n",
       "                        if (nbb_cells[i].get_text() == nbb_unformatted_code) {\n",
       "                             nbb_cells[i].set_text(nbb_formatted_code);\n",
       "                        }\n",
       "                        break;\n",
       "                    }\n",
       "                }\n",
       "            }, 500);\n",
       "            "
      ],
      "text/plain": [
       "<IPython.core.display.Javascript object>"
      ]
     },
     "metadata": {},
     "output_type": "display_data"
    }
   ],
   "source": [
    "posterior_samples = posterior.sample((10000,), x=torch.tensor([15, 20, 30, 100, 600]))"
   ]
  },
  {
   "cell_type": "code",
   "execution_count": 23,
   "metadata": {},
   "outputs": [
    {
     "data": {
      "text/plain": [
       "(array([  27.,  187.,  841., 2012., 2866., 2442., 1205.,  361.,   49.,\n",
       "          10.]),\n",
       " array([0.9489323, 1.0126328, 1.0763334, 1.140034 , 1.2037345, 1.2674351,\n",
       "        1.3311355, 1.3948361, 1.4585366, 1.5222372, 1.5859377],\n",
       "       dtype=float32),\n",
       " <BarContainer object of 10 artists>)"
      ]
     },
     "execution_count": 23,
     "metadata": {},
     "output_type": "execute_result"
    },
    {
     "data": {
      "image/png": "[encoded data removed]",
      "text/plain": [
       "<Figure size 432x288 with 1 Axes>"
      ]
     },
     "metadata": {
      "needs_background": "light"
     },
     "output_type": "display_data"
    },
    {
     "data": {
      "application/javascript": [
       "\n",
       "            setTimeout(function() {\n",
       "                var nbb_cell_id = 23;\n",
       "                var nbb_unformatted_code = \"plt.hist(posterior_samples.numpy())\";\n",
       "                var nbb_formatted_code = \"plt.hist(posterior_samples.numpy())\";\n",
       "                var nbb_cells = Jupyter.notebook.get_cells();\n",
       "                for (var i = 0; i < nbb_cells.length; ++i) {\n",
       "                    if (nbb_cells[i].input_prompt_number == nbb_cell_id) {\n",
       "                        if (nbb_cells[i].get_text() == nbb_unformatted_code) {\n",
       "                             nbb_cells[i].set_text(nbb_formatted_code);\n",
       "                        }\n",
       "                        break;\n",
       "                    }\n",
       "                }\n",
       "            }, 500);\n",
       "            "
      ],
      "text/plain": [
       "<IPython.core.display.Javascript object>"
      ]
     },
     "metadata": {},
     "output_type": "display_data"
    }
   ],
   "source": [
    "plt.hist(posterior_samples.numpy())"
   ]
  },
  {
   "cell_type": "markdown",
   "metadata": {},
   "source": [
    "**$\\rho$ for U shaped review distribution**"
   ]
  },
  {
   "cell_type": "code",
   "execution_count": 24,
   "metadata": {},
   "outputs": [
    {
     "data": {
      "application/vnd.jupyter.widget-view+json": {
       "model_id": "",
       "version_major": 2,
       "version_minor": 0
      },
      "text/plain": [
       "HBox(children=(HTML(value='Drawing 10000 posterior samples'), FloatProgress(value=0.0, max=10000.0), HTML(valu…"
      ]
     },
     "metadata": {},
     "output_type": "display_data"
    },
    {
     "name": "stdout",
     "output_type": "stream",
     "text": [
      "\n"
     ]
    },
    {
     "data": {
      "application/javascript": [
       "\n",
       "            setTimeout(function() {\n",
       "                var nbb_cell_id = 24;\n",
       "                var nbb_unformatted_code = \"posterior_samples = posterior.sample((10000,), x=torch.tensor([180, 20, 30, 50, 600]))\";\n",
       "                var nbb_formatted_code = \"posterior_samples = posterior.sample((10000,), x=torch.tensor([180, 20, 30, 50, 600]))\";\n",
       "                var nbb_cells = Jupyter.notebook.get_cells();\n",
       "                for (var i = 0; i < nbb_cells.length; ++i) {\n",
       "                    if (nbb_cells[i].input_prompt_number == nbb_cell_id) {\n",
       "                        if (nbb_cells[i].get_text() == nbb_unformatted_code) {\n",
       "                             nbb_cells[i].set_text(nbb_formatted_code);\n",
       "                        }\n",
       "                        break;\n",
       "                    }\n",
       "                }\n",
       "            }, 500);\n",
       "            "
      ],
      "text/plain": [
       "<IPython.core.display.Javascript object>"
      ]
     },
     "metadata": {},
     "output_type": "display_data"
    }
   ],
   "source": [
    "posterior_samples = posterior.sample((10000,), x=torch.tensor([180, 20, 30, 50, 600]))"
   ]
  },
  {
   "cell_type": "code",
   "execution_count": 25,
   "metadata": {},
   "outputs": [
    {
     "data": {
      "text/plain": [
       "(array([1.000e+00, 1.200e+01, 1.750e+02, 8.690e+02, 2.270e+03, 3.290e+03,\n",
       "        2.351e+03, 8.490e+02, 1.610e+02, 2.200e+01]),\n",
       " array([0.71585226, 0.79252446, 0.86919665, 0.94586885, 1.022541  ,\n",
       "        1.0992132 , 1.1758854 , 1.2525576 , 1.3292298 , 1.405902  ,\n",
       "        1.4825742 ], dtype=float32),\n",
       " <BarContainer object of 10 artists>)"
      ]
     },
     "execution_count": 25,
     "metadata": {},
     "output_type": "execute_result"
    },
    {
     "data": {
      "image/png": "[encoded data removed]",
      "text/plain": [
       "<Figure size 432x288 with 1 Axes>"
      ]
     },
     "metadata": {
      "needs_background": "light"
     },
     "output_type": "display_data"
    },
    {
     "data": {
      "application/javascript": [
       "\n",
       "            setTimeout(function() {\n",
       "                var nbb_cell_id = 25;\n",
       "                var nbb_unformatted_code = \"plt.hist(posterior_samples.numpy())\";\n",
       "                var nbb_formatted_code = \"plt.hist(posterior_samples.numpy())\";\n",
       "                var nbb_cells = Jupyter.notebook.get_cells();\n",
       "                for (var i = 0; i < nbb_cells.length; ++i) {\n",
       "                    if (nbb_cells[i].input_prompt_number == nbb_cell_id) {\n",
       "                        if (nbb_cells[i].get_text() == nbb_unformatted_code) {\n",
       "                             nbb_cells[i].set_text(nbb_formatted_code);\n",
       "                        }\n",
       "                        break;\n",
       "                    }\n",
       "                }\n",
       "            }, 500);\n",
       "            "
      ],
      "text/plain": [
       "<IPython.core.display.Javascript object>"
      ]
     },
     "metadata": {},
     "output_type": "display_data"
    }
   ],
   "source": [
    "plt.hist(posterior_samples.numpy())"
   ]
  },
  {
   "cell_type": "markdown",
   "metadata": {},
   "source": [
    "**$\\rho$ for Gaussian review distribution**"
   ]
  },
  {
   "cell_type": "code",
   "execution_count": 26,
   "metadata": {},
   "outputs": [
    {
     "data": {
      "application/vnd.jupyter.widget-view+json": {
       "model_id": "",
       "version_major": 2,
       "version_minor": 0
      },
      "text/plain": [
       "HBox(children=(HTML(value='Drawing 10000 posterior samples'), FloatProgress(value=0.0, max=10000.0), HTML(valu…"
      ]
     },
     "metadata": {},
     "output_type": "display_data"
    },
    {
     "name": "stdout",
     "output_type": "stream",
     "text": [
      "\n"
     ]
    },
    {
     "data": {
      "application/javascript": [
       "\n",
       "            setTimeout(function() {\n",
       "                var nbb_cell_id = 26;\n",
       "                var nbb_unformatted_code = \"posterior_samples = posterior.sample((10000,), x=torch.tensor([20, 50, 100, 50, 20]))\";\n",
       "                var nbb_formatted_code = \"posterior_samples = posterior.sample((10000,), x=torch.tensor([20, 50, 100, 50, 20]))\";\n",
       "                var nbb_cells = Jupyter.notebook.get_cells();\n",
       "                for (var i = 0; i < nbb_cells.length; ++i) {\n",
       "                    if (nbb_cells[i].input_prompt_number == nbb_cell_id) {\n",
       "                        if (nbb_cells[i].get_text() == nbb_unformatted_code) {\n",
       "                             nbb_cells[i].set_text(nbb_formatted_code);\n",
       "                        }\n",
       "                        break;\n",
       "                    }\n",
       "                }\n",
       "            }, 500);\n",
       "            "
      ],
      "text/plain": [
       "<IPython.core.display.Javascript object>"
      ]
     },
     "metadata": {},
     "output_type": "display_data"
    }
   ],
   "source": [
    "posterior_samples = posterior.sample((10000,), x=torch.tensor([20, 50, 100, 50, 20]))"
   ]
  },
  {
   "cell_type": "code",
   "execution_count": 27,
   "metadata": {},
   "outputs": [
    {
     "data": {
      "text/plain": [
       "(array([  13.,   81.,  220.,  580., 1363., 1960., 2274., 1860., 1150.,\n",
       "         499.]),\n",
       " array([1.8393608, 2.0553696, 2.2713783, 2.487387 , 2.7033958, 2.9194045,\n",
       "        3.1354132, 3.3514218, 3.5674305, 3.7834394, 3.999448 ],\n",
       "       dtype=float32),\n",
       " <BarContainer object of 10 artists>)"
      ]
     },
     "execution_count": 27,
     "metadata": {},
     "output_type": "execute_result"
    },
    {
     "data": {
      "image/png": "[encoded data removed]",
      "text/plain": [
       "<Figure size 432x288 with 1 Axes>"
      ]
     },
     "metadata": {
      "needs_background": "light"
     },
     "output_type": "display_data"
    },
    {
     "data": {
      "application/javascript": [
       "\n",
       "            setTimeout(function() {\n",
       "                var nbb_cell_id = 27;\n",
       "                var nbb_unformatted_code = \"plt.hist(posterior_samples.numpy())\";\n",
       "                var nbb_formatted_code = \"plt.hist(posterior_samples.numpy())\";\n",
       "                var nbb_cells = Jupyter.notebook.get_cells();\n",
       "                for (var i = 0; i < nbb_cells.length; ++i) {\n",
       "                    if (nbb_cells[i].input_prompt_number == nbb_cell_id) {\n",
       "                        if (nbb_cells[i].get_text() == nbb_unformatted_code) {\n",
       "                             nbb_cells[i].set_text(nbb_formatted_code);\n",
       "                        }\n",
       "                        break;\n",
       "                    }\n",
       "                }\n",
       "            }, 500);\n",
       "            "
      ],
      "text/plain": [
       "<IPython.core.display.Javascript object>"
      ]
     },
     "metadata": {},
     "output_type": "display_data"
    }
   ],
   "source": [
    "plt.hist(posterior_samples.numpy())"
   ]
  },
  {
   "cell_type": "markdown",
   "metadata": {},
   "source": [
    "**$\\rho$ for review distribution shifted towards +ive but not peaked at 3**"
   ]
  },
  {
   "cell_type": "code",
   "execution_count": 31,
   "metadata": {},
   "outputs": [
    {
     "data": {
      "application/vnd.jupyter.widget-view+json": {
       "model_id": "",
       "version_major": 2,
       "version_minor": 0
      },
      "text/plain": [
       "HBox(children=(HTML(value='Drawing 10000 posterior samples'), FloatProgress(value=0.0, max=10000.0), HTML(valu…"
      ]
     },
     "metadata": {},
     "output_type": "display_data"
    },
    {
     "name": "stdout",
     "output_type": "stream",
     "text": [
      "\n"
     ]
    },
    {
     "data": {
      "application/javascript": [
       "\n",
       "            setTimeout(function() {\n",
       "                var nbb_cell_id = 31;\n",
       "                var nbb_unformatted_code = \"posterior_samples = posterior.sample((10000,), x=torch.tensor([20, 50, 100, 200, 40]))\";\n",
       "                var nbb_formatted_code = \"posterior_samples = posterior.sample((10000,), x=torch.tensor([20, 50, 100, 200, 40]))\";\n",
       "                var nbb_cells = Jupyter.notebook.get_cells();\n",
       "                for (var i = 0; i < nbb_cells.length; ++i) {\n",
       "                    if (nbb_cells[i].input_prompt_number == nbb_cell_id) {\n",
       "                        if (nbb_cells[i].get_text() == nbb_unformatted_code) {\n",
       "                             nbb_cells[i].set_text(nbb_formatted_code);\n",
       "                        }\n",
       "                        break;\n",
       "                    }\n",
       "                }\n",
       "            }, 500);\n",
       "            "
      ],
      "text/plain": [
       "<IPython.core.display.Javascript object>"
      ]
     },
     "metadata": {},
     "output_type": "display_data"
    }
   ],
   "source": [
    "posterior_samples = posterior.sample((10000,), x=torch.tensor([20, 50, 100, 200, 40]))"
   ]
  },
  {
   "cell_type": "code",
   "execution_count": 32,
   "metadata": {},
   "outputs": [
    {
     "data": {
      "text/plain": [
       "(array([1209., 1822., 2098., 1928., 1525.,  829.,  383.,  145.,   54.,\n",
       "           7.]),\n",
       " array([5.69376016e-06, 5.16338088e-02, 1.03261925e-01, 1.54890046e-01,\n",
       "        2.06518158e-01, 2.58146286e-01, 3.09774399e-01, 3.61402512e-01,\n",
       "        4.13030624e-01, 4.64658737e-01, 5.16286850e-01], dtype=float32),\n",
       " <BarContainer object of 10 artists>)"
      ]
     },
     "execution_count": 32,
     "metadata": {},
     "output_type": "execute_result"
    },
    {
     "data": {
      "image/png": "[encoded data removed]",
      "text/plain": [
       "<Figure size 432x288 with 1 Axes>"
      ]
     },
     "metadata": {
      "needs_background": "light"
     },
     "output_type": "display_data"
    },
    {
     "data": {
      "application/javascript": [
       "\n",
       "            setTimeout(function() {\n",
       "                var nbb_cell_id = 32;\n",
       "                var nbb_unformatted_code = \"plt.hist(posterior_samples.numpy())\";\n",
       "                var nbb_formatted_code = \"plt.hist(posterior_samples.numpy())\";\n",
       "                var nbb_cells = Jupyter.notebook.get_cells();\n",
       "                for (var i = 0; i < nbb_cells.length; ++i) {\n",
       "                    if (nbb_cells[i].input_prompt_number == nbb_cell_id) {\n",
       "                        if (nbb_cells[i].get_text() == nbb_unformatted_code) {\n",
       "                             nbb_cells[i].set_text(nbb_formatted_code);\n",
       "                        }\n",
       "                        break;\n",
       "                    }\n",
       "                }\n",
       "            }, 500);\n",
       "            "
      ],
      "text/plain": [
       "<IPython.core.display.Javascript object>"
      ]
     },
     "metadata": {},
     "output_type": "display_data"
    }
   ],
   "source": [
    "plt.hist(posterior_samples.numpy())"
   ]
  },
  {
   "cell_type": "markdown",
   "metadata": {},
   "source": [
    "**$\\rho$ for flat review distribution**"
   ]
  },
  {
   "cell_type": "code",
   "execution_count": 37,
   "metadata": {},
   "outputs": [
    {
     "data": {
      "application/vnd.jupyter.widget-view+json": {
       "model_id": "7352620e4a1c4c9e8b6adee85b6cd873",
       "version_major": 2,
       "version_minor": 0
      },
      "text/plain": [
       "HBox(children=(HTML(value='Drawing 10000 posterior samples'), FloatProgress(value=0.0, max=10000.0), HTML(valu…"
      ]
     },
     "metadata": {},
     "output_type": "display_data"
    },
    {
     "name": "stdout",
     "output_type": "stream",
     "text": [
      "\n"
     ]
    },
    {
     "data": {
      "application/javascript": [
       "\n",
       "            setTimeout(function() {\n",
       "                var nbb_cell_id = 37;\n",
       "                var nbb_unformatted_code = \"posterior_samples = posterior.sample((10000,), x=torch.tensor([10, 10, 10, 10, 10]))\";\n",
       "                var nbb_formatted_code = \"posterior_samples = posterior.sample((10000,), x=torch.tensor([10, 10, 10, 10, 10]))\";\n",
       "                var nbb_cells = Jupyter.notebook.get_cells();\n",
       "                for (var i = 0; i < nbb_cells.length; ++i) {\n",
       "                    if (nbb_cells[i].input_prompt_number == nbb_cell_id) {\n",
       "                        if (nbb_cells[i].get_text() == nbb_unformatted_code) {\n",
       "                             nbb_cells[i].set_text(nbb_formatted_code);\n",
       "                        }\n",
       "                        break;\n",
       "                    }\n",
       "                }\n",
       "            }, 500);\n",
       "            "
      ],
      "text/plain": [
       "<IPython.core.display.Javascript object>"
      ]
     },
     "metadata": {},
     "output_type": "display_data"
    }
   ],
   "source": [
    "posterior_samples = posterior.sample((10000,), x=torch.tensor([10, 10, 10, 10, 10]))"
   ]
  },
  {
   "cell_type": "code",
   "execution_count": 38,
   "metadata": {},
   "outputs": [
    {
     "data": {
      "text/plain": [
       "(array([   4.,   21.,  115.,  307.,  814., 1475., 2108., 2202., 1857.,\n",
       "        1097.]),\n",
       " array([0.8351703, 1.151647 , 1.4681237, 1.7846004, 2.101077 , 2.417554 ,\n",
       "        2.7340305, 3.0505073, 3.366984 , 3.6834607, 3.9999373],\n",
       "       dtype=float32),\n",
       " <BarContainer object of 10 artists>)"
      ]
     },
     "execution_count": 38,
     "metadata": {},
     "output_type": "execute_result"
    },
    {
     "data": {
      "image/png": "[encoded data removed]",
      "text/plain": [
       "<Figure size 432x288 with 1 Axes>"
      ]
     },
     "metadata": {
      "needs_background": "light"
     },
     "output_type": "display_data"
    },
    {
     "data": {
      "application/javascript": [
       "\n",
       "            setTimeout(function() {\n",
       "                var nbb_cell_id = 38;\n",
       "                var nbb_unformatted_code = \"plt.hist(posterior_samples.numpy())\";\n",
       "                var nbb_formatted_code = \"plt.hist(posterior_samples.numpy())\";\n",
       "                var nbb_cells = Jupyter.notebook.get_cells();\n",
       "                for (var i = 0; i < nbb_cells.length; ++i) {\n",
       "                    if (nbb_cells[i].input_prompt_number == nbb_cell_id) {\n",
       "                        if (nbb_cells[i].get_text() == nbb_unformatted_code) {\n",
       "                             nbb_cells[i].set_text(nbb_formatted_code);\n",
       "                        }\n",
       "                        break;\n",
       "                    }\n",
       "                }\n",
       "            }, 500);\n",
       "            "
      ],
      "text/plain": [
       "<IPython.core.display.Javascript object>"
      ]
     },
     "metadata": {},
     "output_type": "display_data"
    }
   ],
   "source": [
    "plt.hist(posterior_samples.numpy())"
   ]
  },
  {
   "cell_type": "markdown",
   "metadata": {},
   "source": [
    "# Simulation with 2 different $\\rho$, one for postive $\\Delta$ and another for negative $\\Delta$"
   ]
  },
  {
   "cell_type": "code",
   "execution_count": 19,
   "metadata": {},
   "outputs": [
    {
     "data": {
      "application/javascript": [
       "\n",
       "            setTimeout(function() {\n",
       "                var nbb_cell_id = 19;\n",
       "                var nbb_unformatted_code = \"num_dim = 2\\nprior = utils.BoxUniform(low=torch.zeros(num_dim), high=torch.ones(num_dim) * 4)\";\n",
       "                var nbb_formatted_code = \"num_dim = 2\\nprior = utils.BoxUniform(low=torch.zeros(num_dim), high=torch.ones(num_dim) * 4)\";\n",
       "                var nbb_cells = Jupyter.notebook.get_cells();\n",
       "                for (var i = 0; i < nbb_cells.length; ++i) {\n",
       "                    if (nbb_cells[i].input_prompt_number == nbb_cell_id) {\n",
       "                        if (nbb_cells[i].get_text() == nbb_unformatted_code) {\n",
       "                             nbb_cells[i].set_text(nbb_formatted_code);\n",
       "                        }\n",
       "                        break;\n",
       "                    }\n",
       "                }\n",
       "            }, 500);\n",
       "            "
      ],
      "text/plain": [
       "<IPython.core.display.Javascript object>"
      ]
     },
     "metadata": {},
     "output_type": "display_data"
    }
   ],
   "source": [
    "num_dim = 2\n",
    "prior = utils.BoxUniform(low=torch.zeros(num_dim), high=torch.ones(num_dim) * 4)"
   ]
  },
  {
   "cell_type": "code",
   "execution_count": 20,
   "metadata": {},
   "outputs": [
    {
     "data": {
      "application/javascript": [
       "\n",
       "            setTimeout(function() {\n",
       "                var nbb_cell_id = 20;\n",
       "                var nbb_unformatted_code = \"# rev_prior = torch.tensor([2.0, 2.0, 10.0, 3.0, 3.0])\\n# Keeping a flat prior for the reviews expected by the user\\nrev_prior = torch.tensor([1.0, 1.0, 1.0, 1.0, 1.0])\";\n",
       "                var nbb_formatted_code = \"# rev_prior = torch.tensor([2.0, 2.0, 10.0, 3.0, 3.0])\\n# Keeping a flat prior for the reviews expected by the user\\nrev_prior = torch.tensor([1.0, 1.0, 1.0, 1.0, 1.0])\";\n",
       "                var nbb_cells = Jupyter.notebook.get_cells();\n",
       "                for (var i = 0; i < nbb_cells.length; ++i) {\n",
       "                    if (nbb_cells[i].input_prompt_number == nbb_cell_id) {\n",
       "                        if (nbb_cells[i].get_text() == nbb_unformatted_code) {\n",
       "                             nbb_cells[i].set_text(nbb_formatted_code);\n",
       "                        }\n",
       "                        break;\n",
       "                    }\n",
       "                }\n",
       "            }, 500);\n",
       "            "
      ],
      "text/plain": [
       "<IPython.core.display.Javascript object>"
      ]
     },
     "metadata": {},
     "output_type": "display_data"
    }
   ],
   "source": [
    "# rev_prior = torch.tensor([2.0, 2.0, 10.0, 3.0, 3.0])\n",
    "# Keeping a flat prior for the reviews expected by the user\n",
    "rev_prior = torch.tensor([1.0, 1.0, 1.0, 1.0, 1.0])"
   ]
  },
  {
   "cell_type": "code",
   "execution_count": 21,
   "metadata": {},
   "outputs": [
    {
     "data": {
      "text/plain": [
       "tensor(3.)"
      ]
     },
     "execution_count": 21,
     "metadata": {},
     "output_type": "execute_result"
    },
    {
     "data": {
      "application/javascript": [
       "\n",
       "            setTimeout(function() {\n",
       "                var nbb_cell_id = 21;\n",
       "                var nbb_unformatted_code = \"# This is how you would take the mean of a review distribution\\na = rev_prior * torch.arange(1, 6)\\na.sum() / rev_prior.sum()\";\n",
       "                var nbb_formatted_code = \"# This is how you would take the mean of a review distribution\\na = rev_prior * torch.arange(1, 6)\\na.sum() / rev_prior.sum()\";\n",
       "                var nbb_cells = Jupyter.notebook.get_cells();\n",
       "                for (var i = 0; i < nbb_cells.length; ++i) {\n",
       "                    if (nbb_cells[i].input_prompt_number == nbb_cell_id) {\n",
       "                        if (nbb_cells[i].get_text() == nbb_unformatted_code) {\n",
       "                             nbb_cells[i].set_text(nbb_formatted_code);\n",
       "                        }\n",
       "                        break;\n",
       "                    }\n",
       "                }\n",
       "            }, 500);\n",
       "            "
      ],
      "text/plain": [
       "<IPython.core.display.Javascript object>"
      ]
     },
     "metadata": {},
     "output_type": "display_data"
    }
   ],
   "source": [
    "# This is how you would take the mean of a review distribution\n",
    "a = rev_prior * torch.arange(1, 6)\n",
    "a.sum() / rev_prior.sum()"
   ]
  },
  {
   "cell_type": "code",
   "execution_count": 22,
   "metadata": {},
   "outputs": [
    {
     "data": {
      "application/javascript": [
       "\n",
       "            setTimeout(function() {\n",
       "                var nbb_cell_id = 22;\n",
       "                var nbb_unformatted_code = \"tendency_to_rate = 0.05\";\n",
       "                var nbb_formatted_code = \"tendency_to_rate = 0.05\";\n",
       "                var nbb_cells = Jupyter.notebook.get_cells();\n",
       "                for (var i = 0; i < nbb_cells.length; ++i) {\n",
       "                    if (nbb_cells[i].input_prompt_number == nbb_cell_id) {\n",
       "                        if (nbb_cells[i].get_text() == nbb_unformatted_code) {\n",
       "                             nbb_cells[i].set_text(nbb_formatted_code);\n",
       "                        }\n",
       "                        break;\n",
       "                    }\n",
       "                }\n",
       "            }, 500);\n",
       "            "
      ],
      "text/plain": [
       "<IPython.core.display.Javascript object>"
      ]
     },
     "metadata": {},
     "output_type": "display_data"
    }
   ],
   "source": [
    "tendency_to_rate = 0.05"
   ]
  },
  {
   "cell_type": "code",
   "execution_count": 23,
   "metadata": {},
   "outputs": [
    {
     "data": {
      "application/javascript": [
       "\n",
       "            setTimeout(function() {\n",
       "                var nbb_cell_id = 23;\n",
       "                var nbb_unformatted_code = \"# The function that simulates 1 visitor's journey (which may or may not end in review generation)\\n\\n\\ndef visitor_journey(sim_revs, rho):\\n    # print(\\\"==========A New Visitor===========\\\")\\n    # Convolve the current simulated review distribution with the prior to get the posterior of reviews\\n    post_revs_conc_params = sim_revs + rev_prior\\n    # print(\\\"Posterior:\\\", post_revs_conc_params)\\n\\n    # Add some reviews to one of the bins to add noise to this posterior\\n    # This \\\"noisy\\\" posterior is the utility distribution\\n    # add_revs_num = np.random.randint(low=5, high=50)\\n    # add_revs_bin = np.random.randint(low=0, high=4)\\n    # utility_conc_params = post_revs_conc_params.clone().detach()\\n    # utility_conc_params[add_revs_bin] += add_revs_num\\n\\n    # Just make a single draw from the posterior Dirichlet dist of reviews to get the utility distribution\\n    utility_dist = torch.distributions.Dirichlet(post_revs_conc_params).sample()\\n    # print(\\\"Utility dist:\\\", utility_dist)\\n\\n    # Customer buys if mean of the utility distribution is >= prior mean\\n    # Also, first customer always buys and reviews\\n    # Reviews if experience is different from expectation\\n    prior_mean = torch.sum(rev_prior * torch.arange(1, 6)) / rev_prior.sum()\\n    # utility_mean = (\\n    #    torch.sum(utility_conc_params * torch.arange(1, 6)) / utility_conc_params.sum()\\n    # )\\n    utility_mean = torch.sum(utility_dist * torch.arange(1, 6))\\n    # print(\\\"Utility mean:\\\", utility_mean)\\n\\n    # If there are no existing reviews, the customer always buys\\n    if utility_mean >= prior_mean or torch.sum(sim_revs) == 0:\\n        # print(\\\"Bought\\\")\\n        # Draw an experience from the user's utility distribution\\n        # experience_dist = torch.distributions.Dirichlet(utility_conc_params).sample()\\n        # experience = torch.multinomial(experience_dist, 1) + 1.0\\n        experience = torch.multinomial(utility_dist, 1) + 1.0\\n        # print(\\\"Experience:\\\", experience)\\n        # Compare the mismatch in experience to rho\\n        delta = experience - utility_mean\\n        # print(\\\"Delta:\\\", delta)\\n        if delta <= -1.5:\\n            review = 0\\n        elif delta > -1.5 and delta <= -0.5:\\n            review = 1\\n        elif delta > -0.5 and delta <= 0.5:\\n            review = 2\\n        elif delta > 0.5 and delta <= 1.5:\\n            review = 3\\n        else:\\n            review = 4\\n\\n        # print(\\\"Generated:\\\", review)\\n\\n        # Return the review only if mismatch is higher than rho\\n        # We also make it slightly more likely for a customer to leave a review if the rating is positive\\n        # than if it is negative\\n        if np.random.random() <= tendency_to_rate:\\n            return review\\n        elif (\\n            delta < 0\\n            and torch.abs(delta) >= rho[0]\\n            and review <= 2\\n            and np.random.random() <= 0.6\\n        ):\\n            return review\\n        elif delta < 0 and torch.abs(delta) >= rho[0] and review > 2:\\n            return review\\n        elif (\\n            delta >= 0\\n            and torch.abs(delta) >= rho[1]\\n            and review <= 2\\n            and np.random.random() <= 0.6\\n        ):\\n            return review\\n        elif delta >= 0 and torch.abs(delta) >= rho[1] and review > 2:\\n            return review\\n        else:\\n            return None\";\n",
       "                var nbb_formatted_code = \"# The function that simulates 1 visitor's journey (which may or may not end in review generation)\\n\\n\\ndef visitor_journey(sim_revs, rho):\\n    # print(\\\"==========A New Visitor===========\\\")\\n    # Convolve the current simulated review distribution with the prior to get the posterior of reviews\\n    post_revs_conc_params = sim_revs + rev_prior\\n    # print(\\\"Posterior:\\\", post_revs_conc_params)\\n\\n    # Add some reviews to one of the bins to add noise to this posterior\\n    # This \\\"noisy\\\" posterior is the utility distribution\\n    # add_revs_num = np.random.randint(low=5, high=50)\\n    # add_revs_bin = np.random.randint(low=0, high=4)\\n    # utility_conc_params = post_revs_conc_params.clone().detach()\\n    # utility_conc_params[add_revs_bin] += add_revs_num\\n\\n    # Just make a single draw from the posterior Dirichlet dist of reviews to get the utility distribution\\n    utility_dist = torch.distributions.Dirichlet(post_revs_conc_params).sample()\\n    # print(\\\"Utility dist:\\\", utility_dist)\\n\\n    # Customer buys if mean of the utility distribution is >= prior mean\\n    # Also, first customer always buys and reviews\\n    # Reviews if experience is different from expectation\\n    prior_mean = torch.sum(rev_prior * torch.arange(1, 6)) / rev_prior.sum()\\n    # utility_mean = (\\n    #    torch.sum(utility_conc_params * torch.arange(1, 6)) / utility_conc_params.sum()\\n    # )\\n    utility_mean = torch.sum(utility_dist * torch.arange(1, 6))\\n    # print(\\\"Utility mean:\\\", utility_mean)\\n\\n    # If there are no existing reviews, the customer always buys\\n    if utility_mean >= prior_mean or torch.sum(sim_revs) == 0:\\n        # print(\\\"Bought\\\")\\n        # Draw an experience from the user's utility distribution\\n        # experience_dist = torch.distributions.Dirichlet(utility_conc_params).sample()\\n        # experience = torch.multinomial(experience_dist, 1) + 1.0\\n        experience = torch.multinomial(utility_dist, 1) + 1.0\\n        # print(\\\"Experience:\\\", experience)\\n        # Compare the mismatch in experience to rho\\n        delta = experience - utility_mean\\n        # print(\\\"Delta:\\\", delta)\\n        if delta <= -1.5:\\n            review = 0\\n        elif delta > -1.5 and delta <= -0.5:\\n            review = 1\\n        elif delta > -0.5 and delta <= 0.5:\\n            review = 2\\n        elif delta > 0.5 and delta <= 1.5:\\n            review = 3\\n        else:\\n            review = 4\\n\\n        # print(\\\"Generated:\\\", review)\\n\\n        # Return the review only if mismatch is higher than rho\\n        # We also make it slightly more likely for a customer to leave a review if the rating is positive\\n        # than if it is negative\\n        if np.random.random() <= tendency_to_rate:\\n            return review\\n        elif (\\n            delta < 0\\n            and torch.abs(delta) >= rho[0]\\n            and review <= 2\\n            and np.random.random() <= 0.6\\n        ):\\n            return review\\n        elif delta < 0 and torch.abs(delta) >= rho[0] and review > 2:\\n            return review\\n        elif (\\n            delta >= 0\\n            and torch.abs(delta) >= rho[1]\\n            and review <= 2\\n            and np.random.random() <= 0.6\\n        ):\\n            return review\\n        elif delta >= 0 and torch.abs(delta) >= rho[1] and review > 2:\\n            return review\\n        else:\\n            return None\";\n",
       "                var nbb_cells = Jupyter.notebook.get_cells();\n",
       "                for (var i = 0; i < nbb_cells.length; ++i) {\n",
       "                    if (nbb_cells[i].input_prompt_number == nbb_cell_id) {\n",
       "                        if (nbb_cells[i].get_text() == nbb_unformatted_code) {\n",
       "                             nbb_cells[i].set_text(nbb_formatted_code);\n",
       "                        }\n",
       "                        break;\n",
       "                    }\n",
       "                }\n",
       "            }, 500);\n",
       "            "
      ],
      "text/plain": [
       "<IPython.core.display.Javascript object>"
      ]
     },
     "metadata": {},
     "output_type": "display_data"
    }
   ],
   "source": [
    "# The function that simulates 1 visitor's journey (which may or may not end in review generation)\n",
    "\n",
    "\n",
    "def visitor_journey(sim_revs, rho):\n",
    "    # print(\"==========A New Visitor===========\")\n",
    "    # Convolve the current simulated review distribution with the prior to get the posterior of reviews\n",
    "    post_revs_conc_params = sim_revs + rev_prior\n",
    "    # print(\"Posterior:\", post_revs_conc_params)\n",
    "\n",
    "    # Add some reviews to one of the bins to add noise to this posterior\n",
    "    # This \"noisy\" posterior is the utility distribution\n",
    "    # add_revs_num = np.random.randint(low=5, high=50)\n",
    "    # add_revs_bin = np.random.randint(low=0, high=4)\n",
    "    # utility_conc_params = post_revs_conc_params.clone().detach()\n",
    "    # utility_conc_params[add_revs_bin] += add_revs_num\n",
    "\n",
    "    # Just make a single draw from the posterior Dirichlet dist of reviews to get the utility distribution\n",
    "    utility_dist = torch.distributions.Dirichlet(post_revs_conc_params).sample()\n",
    "    # print(\"Utility dist:\", utility_dist)\n",
    "\n",
    "    # Customer buys if mean of the utility distribution is >= prior mean\n",
    "    # Also, first customer always buys and reviews\n",
    "    # Reviews if experience is different from expectation\n",
    "    prior_mean = torch.sum(rev_prior * torch.arange(1, 6)) / rev_prior.sum()\n",
    "    # utility_mean = (\n",
    "    #    torch.sum(utility_conc_params * torch.arange(1, 6)) / utility_conc_params.sum()\n",
    "    # )\n",
    "    utility_mean = torch.sum(utility_dist * torch.arange(1, 6))\n",
    "    # print(\"Utility mean:\", utility_mean)\n",
    "\n",
    "    # If there are no existing reviews, the customer always buys\n",
    "    if utility_mean >= prior_mean or torch.sum(sim_revs) == 0:\n",
    "        # print(\"Bought\")\n",
    "        # Draw an experience from the user's utility distribution\n",
    "        # experience_dist = torch.distributions.Dirichlet(utility_conc_params).sample()\n",
    "        # experience = torch.multinomial(experience_dist, 1) + 1.0\n",
    "        experience = torch.multinomial(utility_dist, 1) + 1.0\n",
    "        # print(\"Experience:\", experience)\n",
    "        # Compare the mismatch in experience to rho\n",
    "        delta = experience - utility_mean\n",
    "        # print(\"Delta:\", delta)\n",
    "        if delta <= -1.5:\n",
    "            review = 0\n",
    "        elif delta > -1.5 and delta <= -0.5:\n",
    "            review = 1\n",
    "        elif delta > -0.5 and delta <= 0.5:\n",
    "            review = 2\n",
    "        elif delta > 0.5 and delta <= 1.5:\n",
    "            review = 3\n",
    "        else:\n",
    "            review = 4\n",
    "\n",
    "        # print(\"Generated:\", review)\n",
    "\n",
    "        # Return the review only if mismatch is higher than rho\n",
    "        # We also make it slightly more likely for a customer to leave a review if the rating is positive\n",
    "        # than if it is negative\n",
    "        if np.random.random() <= tendency_to_rate:\n",
    "            return review\n",
    "        elif (\n",
    "            delta < 0\n",
    "            and torch.abs(delta) >= rho[0]\n",
    "            and review <= 2\n",
    "            and np.random.random() <= 0.6\n",
    "        ):\n",
    "            return review\n",
    "        elif delta < 0 and torch.abs(delta) >= rho[0] and review > 2:\n",
    "            return review\n",
    "        elif (\n",
    "            delta >= 0\n",
    "            and torch.abs(delta) >= rho[1]\n",
    "            and review <= 2\n",
    "            and np.random.random() <= 0.6\n",
    "        ):\n",
    "            return review\n",
    "        elif delta >= 0 and torch.abs(delta) >= rho[1] and review > 2:\n",
    "            return review\n",
    "        else:\n",
    "            return None"
   ]
  },
  {
   "cell_type": "code",
   "execution_count": 24,
   "metadata": {},
   "outputs": [
    {
     "data": {
      "application/javascript": [
       "\n",
       "            setTimeout(function() {\n",
       "                var nbb_cell_id = 24;\n",
       "                var nbb_unformatted_code = \"# This runs the model by:\\n# Picking a number of reviews that needs to be generated\\n# and simulating visitors either till that number or a max number of visitors has been reached\\ndef model(rho):\\n    # Total number of reviews we want in this simulation\\n    revs_num = np.random.randint(low=20, high=1000)\\n    # Absolute total number of visitors - if we hit this number but haven't gotten revs_num reviews\\n    # we will stop with whatever reviews we have at that point\\n    total_visitors = revs_num * 30\\n    # Simulated distribution of reviews\\n    sim_revs = torch.zeros(5)\\n\\n    for visitor in range(total_visitors):\\n        index = visitor_journey(sim_revs, rho)\\n        if index is not None:\\n            sim_revs[index] += 1\\n        if torch.sum(sim_revs) >= revs_num:\\n            break\\n    return sim_revs\\n\\n\\n#    return (\\n#        sim_revs,\\n#        100 * torch.sum(sim_revs) / visitor,\\n#        visitor == total_visitors - 1,\\n#        torch.sum(sim_revs),\\n#        revs_num,\\n#        visitor,\\n#    )\";\n",
       "                var nbb_formatted_code = \"# This runs the model by:\\n# Picking a number of reviews that needs to be generated\\n# and simulating visitors either till that number or a max number of visitors has been reached\\ndef model(rho):\\n    # Total number of reviews we want in this simulation\\n    revs_num = np.random.randint(low=20, high=1000)\\n    # Absolute total number of visitors - if we hit this number but haven't gotten revs_num reviews\\n    # we will stop with whatever reviews we have at that point\\n    total_visitors = revs_num * 30\\n    # Simulated distribution of reviews\\n    sim_revs = torch.zeros(5)\\n\\n    for visitor in range(total_visitors):\\n        index = visitor_journey(sim_revs, rho)\\n        if index is not None:\\n            sim_revs[index] += 1\\n        if torch.sum(sim_revs) >= revs_num:\\n            break\\n    return sim_revs\\n\\n\\n#    return (\\n#        sim_revs,\\n#        100 * torch.sum(sim_revs) / visitor,\\n#        visitor == total_visitors - 1,\\n#        torch.sum(sim_revs),\\n#        revs_num,\\n#        visitor,\\n#    )\";\n",
       "                var nbb_cells = Jupyter.notebook.get_cells();\n",
       "                for (var i = 0; i < nbb_cells.length; ++i) {\n",
       "                    if (nbb_cells[i].input_prompt_number == nbb_cell_id) {\n",
       "                        if (nbb_cells[i].get_text() == nbb_unformatted_code) {\n",
       "                             nbb_cells[i].set_text(nbb_formatted_code);\n",
       "                        }\n",
       "                        break;\n",
       "                    }\n",
       "                }\n",
       "            }, 500);\n",
       "            "
      ],
      "text/plain": [
       "<IPython.core.display.Javascript object>"
      ]
     },
     "metadata": {},
     "output_type": "display_data"
    }
   ],
   "source": [
    "# This runs the model by:\n",
    "# Picking a number of reviews that needs to be generated\n",
    "# and simulating visitors either till that number or a max number of visitors has been reached\n",
    "def model(rho):\n",
    "    # Total number of reviews we want in this simulation\n",
    "    revs_num = np.random.randint(low=20, high=1000)\n",
    "    # Absolute total number of visitors - if we hit this number but haven't gotten revs_num reviews\n",
    "    # we will stop with whatever reviews we have at that point\n",
    "    total_visitors = revs_num * 30\n",
    "    # Simulated distribution of reviews\n",
    "    sim_revs = torch.zeros(5)\n",
    "\n",
    "    for visitor in range(total_visitors):\n",
    "        index = visitor_journey(sim_revs, rho)\n",
    "        if index is not None:\n",
    "            sim_revs[index] += 1\n",
    "        if torch.sum(sim_revs) >= revs_num:\n",
    "            break\n",
    "    return sim_revs\n",
    "\n",
    "\n",
    "#    return (\n",
    "#        sim_revs,\n",
    "#        100 * torch.sum(sim_revs) / visitor,\n",
    "#        visitor == total_visitors - 1,\n",
    "#        torch.sum(sim_revs),\n",
    "#        revs_num,\n",
    "#        visitor,\n",
    "#    )"
   ]
  },
  {
   "cell_type": "code",
   "execution_count": 25,
   "metadata": {},
   "outputs": [
    {
     "data": {
      "text/plain": [
       "tensor([ 53.,  13.,   5., 176.,  39.])"
      ]
     },
     "execution_count": 25,
     "metadata": {},
     "output_type": "execute_result"
    },
    {
     "data": {
      "application/javascript": [
       "\n",
       "            setTimeout(function() {\n",
       "                var nbb_cell_id = 25;\n",
       "                var nbb_unformatted_code = \"model(torch.tensor([1.0, 0.5]))\";\n",
       "                var nbb_formatted_code = \"model(torch.tensor([1.0, 0.5]))\";\n",
       "                var nbb_cells = Jupyter.notebook.get_cells();\n",
       "                for (var i = 0; i < nbb_cells.length; ++i) {\n",
       "                    if (nbb_cells[i].input_prompt_number == nbb_cell_id) {\n",
       "                        if (nbb_cells[i].get_text() == nbb_unformatted_code) {\n",
       "                             nbb_cells[i].set_text(nbb_formatted_code);\n",
       "                        }\n",
       "                        break;\n",
       "                    }\n",
       "                }\n",
       "            }, 500);\n",
       "            "
      ],
      "text/plain": [
       "<IPython.core.display.Javascript object>"
      ]
     },
     "metadata": {},
     "output_type": "display_data"
    }
   ],
   "source": [
    "model(torch.tensor([1.0, 0.5]))"
   ]
  },
  {
   "cell_type": "code",
   "execution_count": 26,
   "metadata": {},
   "outputs": [
    {
     "data": {
      "text/plain": [
       "tensor([10.,  8., 16., 16.,  5.])"
      ]
     },
     "execution_count": 26,
     "metadata": {},
     "output_type": "execute_result"
    },
    {
     "data": {
      "application/javascript": [
       "\n",
       "            setTimeout(function() {\n",
       "                var nbb_cell_id = 26;\n",
       "                var nbb_unformatted_code = \"model(torch.tensor([2.6, 3.5]))\";\n",
       "                var nbb_formatted_code = \"model(torch.tensor([2.6, 3.5]))\";\n",
       "                var nbb_cells = Jupyter.notebook.get_cells();\n",
       "                for (var i = 0; i < nbb_cells.length; ++i) {\n",
       "                    if (nbb_cells[i].input_prompt_number == nbb_cell_id) {\n",
       "                        if (nbb_cells[i].get_text() == nbb_unformatted_code) {\n",
       "                             nbb_cells[i].set_text(nbb_formatted_code);\n",
       "                        }\n",
       "                        break;\n",
       "                    }\n",
       "                }\n",
       "            }, 500);\n",
       "            "
      ],
      "text/plain": [
       "<IPython.core.display.Javascript object>"
      ]
     },
     "metadata": {},
     "output_type": "display_data"
    }
   ],
   "source": [
    "model(torch.tensor([2.6, 3.5]))"
   ]
  },
  {
   "cell_type": "code",
   "execution_count": 27,
   "metadata": {},
   "outputs": [
    {
     "data": {
      "text/plain": [
       "tensor([ 14.,  78.,  38., 150.,  28.])"
      ]
     },
     "execution_count": 27,
     "metadata": {},
     "output_type": "execute_result"
    },
    {
     "data": {
      "application/javascript": [
       "\n",
       "            setTimeout(function() {\n",
       "                var nbb_cell_id = 27;\n",
       "                var nbb_unformatted_code = \"model(torch.tensor([0.1, 0.7]))\";\n",
       "                var nbb_formatted_code = \"model(torch.tensor([0.1, 0.7]))\";\n",
       "                var nbb_cells = Jupyter.notebook.get_cells();\n",
       "                for (var i = 0; i < nbb_cells.length; ++i) {\n",
       "                    if (nbb_cells[i].input_prompt_number == nbb_cell_id) {\n",
       "                        if (nbb_cells[i].get_text() == nbb_unformatted_code) {\n",
       "                             nbb_cells[i].set_text(nbb_formatted_code);\n",
       "                        }\n",
       "                        break;\n",
       "                    }\n",
       "                }\n",
       "            }, 500);\n",
       "            "
      ],
      "text/plain": [
       "<IPython.core.display.Javascript object>"
      ]
     },
     "metadata": {},
     "output_type": "display_data"
    }
   ],
   "source": [
    "model(torch.tensor([0.1, 0.7]))"
   ]
  },
  {
   "cell_type": "code",
   "execution_count": 28,
   "metadata": {},
   "outputs": [
    {
     "data": {
      "application/vnd.jupyter.widget-view+json": {
       "model_id": "c13416ba5f9742758930e5def753d975",
       "version_major": 2,
       "version_minor": 0
      },
      "text/plain": [
       "HBox(children=(HTML(value='Running 15000 simulations in 15000 batches.'), FloatProgress(value=0.0, max=15000.0…"
      ]
     },
     "metadata": {},
     "output_type": "display_data"
    },
    {
     "name": "stdout",
     "output_type": "stream",
     "text": [
      "\n",
      "Neural network successfully converged after 142 epochs.\n"
     ]
    },
    {
     "data": {
      "application/javascript": [
       "\n",
       "            setTimeout(function() {\n",
       "                var nbb_cell_id = 28;\n",
       "                var nbb_unformatted_code = \"posterior = infer(model, prior, method=\\\"SNPE\\\", num_simulations=15000, num_workers=16)\";\n",
       "                var nbb_formatted_code = \"posterior = infer(model, prior, method=\\\"SNPE\\\", num_simulations=15000, num_workers=16)\";\n",
       "                var nbb_cells = Jupyter.notebook.get_cells();\n",
       "                for (var i = 0; i < nbb_cells.length; ++i) {\n",
       "                    if (nbb_cells[i].input_prompt_number == nbb_cell_id) {\n",
       "                        if (nbb_cells[i].get_text() == nbb_unformatted_code) {\n",
       "                             nbb_cells[i].set_text(nbb_formatted_code);\n",
       "                        }\n",
       "                        break;\n",
       "                    }\n",
       "                }\n",
       "            }, 500);\n",
       "            "
      ],
      "text/plain": [
       "<IPython.core.display.Javascript object>"
      ]
     },
     "metadata": {},
     "output_type": "display_data"
    }
   ],
   "source": [
    "posterior = infer(model, prior, method=\"SNPE\", num_simulations=15000, num_workers=16)"
   ]
  },
  {
   "cell_type": "code",
   "execution_count": 29,
   "metadata": {},
   "outputs": [
    {
     "data": {
      "application/javascript": [
       "\n",
       "            setTimeout(function() {\n",
       "                var nbb_cell_id = 29;\n",
       "                var nbb_unformatted_code = \"# Pickle the posterior\\nimport pickle\\n\\nwith open(\\\"sbi_posterior_double_rho.pkl\\\", \\\"wb\\\") as f:\\n    pickle.dump(posterior, f)\";\n",
       "                var nbb_formatted_code = \"# Pickle the posterior\\nimport pickle\\n\\nwith open(\\\"sbi_posterior_double_rho.pkl\\\", \\\"wb\\\") as f:\\n    pickle.dump(posterior, f)\";\n",
       "                var nbb_cells = Jupyter.notebook.get_cells();\n",
       "                for (var i = 0; i < nbb_cells.length; ++i) {\n",
       "                    if (nbb_cells[i].input_prompt_number == nbb_cell_id) {\n",
       "                        if (nbb_cells[i].get_text() == nbb_unformatted_code) {\n",
       "                             nbb_cells[i].set_text(nbb_formatted_code);\n",
       "                        }\n",
       "                        break;\n",
       "                    }\n",
       "                }\n",
       "            }, 500);\n",
       "            "
      ],
      "text/plain": [
       "<IPython.core.display.Javascript object>"
      ]
     },
     "metadata": {},
     "output_type": "display_data"
    }
   ],
   "source": [
    "# Pickle the posterior\n",
    "import pickle\n",
    "\n",
    "with open(\"sbi_posterior_double_rho.pkl\", \"wb\") as f:\n",
    "    pickle.dump(posterior, f)"
   ]
  },
  {
   "cell_type": "markdown",
   "metadata": {},
   "source": [
    "**$\\rho$ for J shaped review distribution**"
   ]
  },
  {
   "cell_type": "code",
   "execution_count": 30,
   "metadata": {},
   "outputs": [
    {
     "data": {
      "application/vnd.jupyter.widget-view+json": {
       "model_id": "db2c1b7805144c6f8e2dec175b0244f5",
       "version_major": 2,
       "version_minor": 0
      },
      "text/plain": [
       "HBox(children=(HTML(value='Drawing 10000 posterior samples'), FloatProgress(value=0.0, max=10000.0), HTML(valu…"
      ]
     },
     "metadata": {},
     "output_type": "display_data"
    },
    {
     "name": "stdout",
     "output_type": "stream",
     "text": [
      "\n"
     ]
    },
    {
     "data": {
      "application/javascript": [
       "\n",
       "            setTimeout(function() {\n",
       "                var nbb_cell_id = 30;\n",
       "                var nbb_unformatted_code = \"posterior_samples = posterior.sample((10000,), x=torch.tensor([15, 20, 30, 100, 600]))\";\n",
       "                var nbb_formatted_code = \"posterior_samples = posterior.sample((10000,), x=torch.tensor([15, 20, 30, 100, 600]))\";\n",
       "                var nbb_cells = Jupyter.notebook.get_cells();\n",
       "                for (var i = 0; i < nbb_cells.length; ++i) {\n",
       "                    if (nbb_cells[i].input_prompt_number == nbb_cell_id) {\n",
       "                        if (nbb_cells[i].get_text() == nbb_unformatted_code) {\n",
       "                             nbb_cells[i].set_text(nbb_formatted_code);\n",
       "                        }\n",
       "                        break;\n",
       "                    }\n",
       "                }\n",
       "            }, 500);\n",
       "            "
      ],
      "text/plain": [
       "<IPython.core.display.Javascript object>"
      ]
     },
     "metadata": {},
     "output_type": "display_data"
    }
   ],
   "source": [
    "posterior_samples = posterior.sample((10000,), x=torch.tensor([15, 20, 30, 100, 600]))"
   ]
  },
  {
   "cell_type": "code",
   "execution_count": 31,
   "metadata": {},
   "outputs": [
    {
     "data": {
      "image/png": "[encoded data removed]",
      "text/plain": [
       "<Figure size 360x360 with 4 Axes>"
      ]
     },
     "metadata": {
      "needs_background": "light"
     },
     "output_type": "display_data"
    },
    {
     "data": {
      "application/javascript": [
       "\n",
       "            setTimeout(function() {\n",
       "                var nbb_cell_id = 31;\n",
       "                var nbb_unformatted_code = \"_ = utils.pairplot(posterior_samples, fig_size=(5,5))\";\n",
       "                var nbb_formatted_code = \"_ = utils.pairplot(posterior_samples, fig_size=(5, 5))\";\n",
       "                var nbb_cells = Jupyter.notebook.get_cells();\n",
       "                for (var i = 0; i < nbb_cells.length; ++i) {\n",
       "                    if (nbb_cells[i].input_prompt_number == nbb_cell_id) {\n",
       "                        if (nbb_cells[i].get_text() == nbb_unformatted_code) {\n",
       "                             nbb_cells[i].set_text(nbb_formatted_code);\n",
       "                        }\n",
       "                        break;\n",
       "                    }\n",
       "                }\n",
       "            }, 500);\n",
       "            "
      ],
      "text/plain": [
       "<IPython.core.display.Javascript object>"
      ]
     },
     "metadata": {},
     "output_type": "display_data"
    }
   ],
   "source": [
    "_ = utils.pairplot(posterior_samples, fig_size=(5,5))"
   ]
  },
  {
   "cell_type": "markdown",
   "metadata": {},
   "source": [
    "**$\\rho$ for U shaped review distribution**"
   ]
  },
  {
   "cell_type": "code",
   "execution_count": 32,
   "metadata": {},
   "outputs": [
    {
     "data": {
      "application/vnd.jupyter.widget-view+json": {
       "model_id": "13009e05de4845b0af351dc8dda975b8",
       "version_major": 2,
       "version_minor": 0
      },
      "text/plain": [
       "HBox(children=(HTML(value='Drawing 10000 posterior samples'), FloatProgress(value=0.0, max=10000.0), HTML(valu…"
      ]
     },
     "metadata": {},
     "output_type": "display_data"
    },
    {
     "name": "stdout",
     "output_type": "stream",
     "text": [
      "\n"
     ]
    },
    {
     "data": {
      "application/javascript": [
       "\n",
       "            setTimeout(function() {\n",
       "                var nbb_cell_id = 32;\n",
       "                var nbb_unformatted_code = \"posterior_samples = posterior.sample((10000,), x=torch.tensor([180, 20, 30, 50, 600]))\";\n",
       "                var nbb_formatted_code = \"posterior_samples = posterior.sample((10000,), x=torch.tensor([180, 20, 30, 50, 600]))\";\n",
       "                var nbb_cells = Jupyter.notebook.get_cells();\n",
       "                for (var i = 0; i < nbb_cells.length; ++i) {\n",
       "                    if (nbb_cells[i].input_prompt_number == nbb_cell_id) {\n",
       "                        if (nbb_cells[i].get_text() == nbb_unformatted_code) {\n",
       "                             nbb_cells[i].set_text(nbb_formatted_code);\n",
       "                        }\n",
       "                        break;\n",
       "                    }\n",
       "                }\n",
       "            }, 500);\n",
       "            "
      ],
      "text/plain": [
       "<IPython.core.display.Javascript object>"
      ]
     },
     "metadata": {},
     "output_type": "display_data"
    }
   ],
   "source": [
    "posterior_samples = posterior.sample((10000,), x=torch.tensor([180, 20, 30, 50, 600]))"
   ]
  },
  {
   "cell_type": "code",
   "execution_count": 33,
   "metadata": {},
   "outputs": [
    {
     "data": {
      "image/png": "[encoded data removed]",
      "text/plain": [
       "<Figure size 360x360 with 4 Axes>"
      ]
     },
     "metadata": {
      "needs_background": "light"
     },
     "output_type": "display_data"
    },
    {
     "data": {
      "application/javascript": [
       "\n",
       "            setTimeout(function() {\n",
       "                var nbb_cell_id = 33;\n",
       "                var nbb_unformatted_code = \"_ = utils.pairplot(posterior_samples, fig_size=(5,5))\";\n",
       "                var nbb_formatted_code = \"_ = utils.pairplot(posterior_samples, fig_size=(5, 5))\";\n",
       "                var nbb_cells = Jupyter.notebook.get_cells();\n",
       "                for (var i = 0; i < nbb_cells.length; ++i) {\n",
       "                    if (nbb_cells[i].input_prompt_number == nbb_cell_id) {\n",
       "                        if (nbb_cells[i].get_text() == nbb_unformatted_code) {\n",
       "                             nbb_cells[i].set_text(nbb_formatted_code);\n",
       "                        }\n",
       "                        break;\n",
       "                    }\n",
       "                }\n",
       "            }, 500);\n",
       "            "
      ],
      "text/plain": [
       "<IPython.core.display.Javascript object>"
      ]
     },
     "metadata": {},
     "output_type": "display_data"
    }
   ],
   "source": [
    "_ = utils.pairplot(posterior_samples, fig_size=(5, 5))"
   ]
  },
  {
   "cell_type": "markdown",
   "metadata": {},
   "source": [
    "**$\\rho$ for Gaussian review distribution**"
   ]
  },
  {
   "cell_type": "code",
   "execution_count": 34,
   "metadata": {},
   "outputs": [
    {
     "data": {
      "application/vnd.jupyter.widget-view+json": {
       "model_id": "070a07c223fd4d46b000a0f911acfd42",
       "version_major": 2,
       "version_minor": 0
      },
      "text/plain": [
       "HBox(children=(HTML(value='Drawing 10000 posterior samples'), FloatProgress(value=0.0, max=10000.0), HTML(valu…"
      ]
     },
     "metadata": {},
     "output_type": "display_data"
    },
    {
     "name": "stdout",
     "output_type": "stream",
     "text": [
      "\n"
     ]
    },
    {
     "data": {
      "application/javascript": [
       "\n",
       "            setTimeout(function() {\n",
       "                var nbb_cell_id = 34;\n",
       "                var nbb_unformatted_code = \"posterior_samples = posterior.sample((10000,), x=torch.tensor([20, 50, 100, 50, 20]))\";\n",
       "                var nbb_formatted_code = \"posterior_samples = posterior.sample((10000,), x=torch.tensor([20, 50, 100, 50, 20]))\";\n",
       "                var nbb_cells = Jupyter.notebook.get_cells();\n",
       "                for (var i = 0; i < nbb_cells.length; ++i) {\n",
       "                    if (nbb_cells[i].input_prompt_number == nbb_cell_id) {\n",
       "                        if (nbb_cells[i].get_text() == nbb_unformatted_code) {\n",
       "                             nbb_cells[i].set_text(nbb_formatted_code);\n",
       "                        }\n",
       "                        break;\n",
       "                    }\n",
       "                }\n",
       "            }, 500);\n",
       "            "
      ],
      "text/plain": [
       "<IPython.core.display.Javascript object>"
      ]
     },
     "metadata": {},
     "output_type": "display_data"
    }
   ],
   "source": [
    "posterior_samples = posterior.sample((10000,), x=torch.tensor([20, 50, 100, 50, 20]))"
   ]
  },
  {
   "cell_type": "code",
   "execution_count": 35,
   "metadata": {},
   "outputs": [
    {
     "data": {
      "image/png": "[encoded data removed]",
      "text/plain": [
       "<Figure size 360x360 with 4 Axes>"
      ]
     },
     "metadata": {
      "needs_background": "light"
     },
     "output_type": "display_data"
    },
    {
     "data": {
      "application/javascript": [
       "\n",
       "            setTimeout(function() {\n",
       "                var nbb_cell_id = 35;\n",
       "                var nbb_unformatted_code = \"_ = utils.pairplot(posterior_samples, fig_size=(5,5))\";\n",
       "                var nbb_formatted_code = \"_ = utils.pairplot(posterior_samples, fig_size=(5, 5))\";\n",
       "                var nbb_cells = Jupyter.notebook.get_cells();\n",
       "                for (var i = 0; i < nbb_cells.length; ++i) {\n",
       "                    if (nbb_cells[i].input_prompt_number == nbb_cell_id) {\n",
       "                        if (nbb_cells[i].get_text() == nbb_unformatted_code) {\n",
       "                             nbb_cells[i].set_text(nbb_formatted_code);\n",
       "                        }\n",
       "                        break;\n",
       "                    }\n",
       "                }\n",
       "            }, 500);\n",
       "            "
      ],
      "text/plain": [
       "<IPython.core.display.Javascript object>"
      ]
     },
     "metadata": {},
     "output_type": "display_data"
    }
   ],
   "source": [
    "_ = utils.pairplot(posterior_samples, fig_size=(5, 5))"
   ]
  },
  {
   "cell_type": "markdown",
   "metadata": {},
   "source": [
    "**$\\rho$ for review distribution shifted towards +ive but not peaked at 3**"
   ]
  },
  {
   "cell_type": "code",
   "execution_count": 36,
   "metadata": {},
   "outputs": [
    {
     "data": {
      "application/vnd.jupyter.widget-view+json": {
       "model_id": "84650a433e3c4b2385301e662c32a242",
       "version_major": 2,
       "version_minor": 0
      },
      "text/plain": [
       "HBox(children=(HTML(value='Drawing 10000 posterior samples'), FloatProgress(value=0.0, max=10000.0), HTML(valu…"
      ]
     },
     "metadata": {},
     "output_type": "display_data"
    },
    {
     "name": "stdout",
     "output_type": "stream",
     "text": [
      "\n"
     ]
    },
    {
     "data": {
      "application/javascript": [
       "\n",
       "            setTimeout(function() {\n",
       "                var nbb_cell_id = 36;\n",
       "                var nbb_unformatted_code = \"posterior_samples = posterior.sample((10000,), x=torch.tensor([20, 50, 100, 200, 40]))\";\n",
       "                var nbb_formatted_code = \"posterior_samples = posterior.sample((10000,), x=torch.tensor([20, 50, 100, 200, 40]))\";\n",
       "                var nbb_cells = Jupyter.notebook.get_cells();\n",
       "                for (var i = 0; i < nbb_cells.length; ++i) {\n",
       "                    if (nbb_cells[i].input_prompt_number == nbb_cell_id) {\n",
       "                        if (nbb_cells[i].get_text() == nbb_unformatted_code) {\n",
       "                             nbb_cells[i].set_text(nbb_formatted_code);\n",
       "                        }\n",
       "                        break;\n",
       "                    }\n",
       "                }\n",
       "            }, 500);\n",
       "            "
      ],
      "text/plain": [
       "<IPython.core.display.Javascript object>"
      ]
     },
     "metadata": {},
     "output_type": "display_data"
    }
   ],
   "source": [
    "posterior_samples = posterior.sample((10000,), x=torch.tensor([20, 50, 100, 200, 40]))"
   ]
  },
  {
   "cell_type": "code",
   "execution_count": 37,
   "metadata": {},
   "outputs": [
    {
     "data": {
      "image/png": "[encoded data removed]",
      "text/plain": [
       "<Figure size 360x360 with 4 Axes>"
      ]
     },
     "metadata": {
      "needs_background": "light"
     },
     "output_type": "display_data"
    },
    {
     "data": {
      "application/javascript": [
       "\n",
       "            setTimeout(function() {\n",
       "                var nbb_cell_id = 37;\n",
       "                var nbb_unformatted_code = \"_ = utils.pairplot(posterior_samples, fig_size=(5,5))\";\n",
       "                var nbb_formatted_code = \"_ = utils.pairplot(posterior_samples, fig_size=(5, 5))\";\n",
       "                var nbb_cells = Jupyter.notebook.get_cells();\n",
       "                for (var i = 0; i < nbb_cells.length; ++i) {\n",
       "                    if (nbb_cells[i].input_prompt_number == nbb_cell_id) {\n",
       "                        if (nbb_cells[i].get_text() == nbb_unformatted_code) {\n",
       "                             nbb_cells[i].set_text(nbb_formatted_code);\n",
       "                        }\n",
       "                        break;\n",
       "                    }\n",
       "                }\n",
       "            }, 500);\n",
       "            "
      ],
      "text/plain": [
       "<IPython.core.display.Javascript object>"
      ]
     },
     "metadata": {},
     "output_type": "display_data"
    }
   ],
   "source": [
    "_ = utils.pairplot(posterior_samples, fig_size=(5,5))"
   ]
  },
  {
   "cell_type": "markdown",
   "metadata": {},
   "source": [
    "# Using the trained network to infer the posterior on real products"
   ]
  },
  {
   "cell_type": "code",
   "execution_count": 38,
   "metadata": {},
   "outputs": [
    {
     "data": {
      "application/javascript": [
       "\n",
       "            setTimeout(function() {\n",
       "                var nbb_cell_id = 38;\n",
       "                var nbb_unformatted_code = \"import pickle\\n\\nwith open(\\\"sbi_posterior_double_rho.pkl\\\", \\\"rb\\\") as f:\\n    posterior = pickle.load(f)\";\n",
       "                var nbb_formatted_code = \"import pickle\\n\\nwith open(\\\"sbi_posterior_double_rho.pkl\\\", \\\"rb\\\") as f:\\n    posterior = pickle.load(f)\";\n",
       "                var nbb_cells = Jupyter.notebook.get_cells();\n",
       "                for (var i = 0; i < nbb_cells.length; ++i) {\n",
       "                    if (nbb_cells[i].input_prompt_number == nbb_cell_id) {\n",
       "                        if (nbb_cells[i].get_text() == nbb_unformatted_code) {\n",
       "                             nbb_cells[i].set_text(nbb_formatted_code);\n",
       "                        }\n",
       "                        break;\n",
       "                    }\n",
       "                }\n",
       "            }, 500);\n",
       "            "
      ],
      "text/plain": [
       "<IPython.core.display.Javascript object>"
      ]
     },
     "metadata": {},
     "output_type": "display_data"
    }
   ],
   "source": [
    "import pickle\n",
    "\n",
    "with open(\"sbi_posterior_double_rho.pkl\", \"rb\") as f:\n",
    "    posterior = pickle.load(f)"
   ]
  },
  {
   "cell_type": "code",
   "execution_count": 39,
   "metadata": {},
   "outputs": [
    {
     "data": {
      "application/javascript": [
       "\n",
       "            setTimeout(function() {\n",
       "                var nbb_cell_id = 39;\n",
       "                var nbb_unformatted_code = \"import pandas as pd\";\n",
       "                var nbb_formatted_code = \"import pandas as pd\";\n",
       "                var nbb_cells = Jupyter.notebook.get_cells();\n",
       "                for (var i = 0; i < nbb_cells.length; ++i) {\n",
       "                    if (nbb_cells[i].input_prompt_number == nbb_cell_id) {\n",
       "                        if (nbb_cells[i].get_text() == nbb_unformatted_code) {\n",
       "                             nbb_cells[i].set_text(nbb_formatted_code);\n",
       "                        }\n",
       "                        break;\n",
       "                    }\n",
       "                }\n",
       "            }, 500);\n",
       "            "
      ],
      "text/plain": [
       "<IPython.core.display.Javascript object>"
      ]
     },
     "metadata": {},
     "output_type": "display_data"
    }
   ],
   "source": [
    "import pandas as pd"
   ]
  },
  {
   "cell_type": "code",
   "execution_count": 40,
   "metadata": {},
   "outputs": [
    {
     "data": {
      "application/javascript": [
       "\n",
       "            setTimeout(function() {\n",
       "                var nbb_cell_id = 40;\n",
       "                var nbb_unformatted_code = \"# Load up the data\\nratings = pd.read_csv(\\\"rating_snpe/rating_hist_speakers_snpe.txt\\\", sep=\\\"\\\\t\\\")\\nfeatures = pd.read_csv(\\\"rating_snpe/prod_price_brand_snpe.txt\\\", sep=\\\"\\\\t\\\")\";\n",
       "                var nbb_formatted_code = \"# Load up the data\\nratings = pd.read_csv(\\\"rating_snpe/rating_hist_speakers_snpe.txt\\\", sep=\\\"\\\\t\\\")\\nfeatures = pd.read_csv(\\\"rating_snpe/prod_price_brand_snpe.txt\\\", sep=\\\"\\\\t\\\")\";\n",
       "                var nbb_cells = Jupyter.notebook.get_cells();\n",
       "                for (var i = 0; i < nbb_cells.length; ++i) {\n",
       "                    if (nbb_cells[i].input_prompt_number == nbb_cell_id) {\n",
       "                        if (nbb_cells[i].get_text() == nbb_unformatted_code) {\n",
       "                             nbb_cells[i].set_text(nbb_formatted_code);\n",
       "                        }\n",
       "                        break;\n",
       "                    }\n",
       "                }\n",
       "            }, 500);\n",
       "            "
      ],
      "text/plain": [
       "<IPython.core.display.Javascript object>"
      ]
     },
     "metadata": {},
     "output_type": "display_data"
    }
   ],
   "source": [
    "# Load up the data\n",
    "ratings = pd.read_csv(\"rating_snpe/rating_hist_speakers_snpe.txt\", sep=\"\\t\")\n",
    "features = pd.read_csv(\"rating_snpe/prod_price_brand_snpe.txt\", sep=\"\\t\")"
   ]
  },
  {
   "cell_type": "code",
   "execution_count": 41,
   "metadata": {},
   "outputs": [
    {
     "data": {
      "text/html": [
       "<div>\n",
       "<style scoped>\n",
       "    .dataframe tbody tr th:only-of-type {\n",
       "        vertical-align: middle;\n",
       "    }\n",
       "\n",
       "    .dataframe tbody tr th {\n",
       "        vertical-align: top;\n",
       "    }\n",
       "\n",
       "    .dataframe thead th {\n",
       "        text-align: right;\n",
       "    }\n",
       "</style>\n",
       "<table border=\"1\" class=\"dataframe\">\n",
       "  <thead>\n",
       "    <tr style=\"text-align: right;\">\n",
       "      <th></th>\n",
       "      <th>asin</th>\n",
       "      <th>1</th>\n",
       "      <th>2</th>\n",
       "      <th>3</th>\n",
       "      <th>4</th>\n",
       "      <th>5</th>\n",
       "    </tr>\n",
       "  </thead>\n",
       "  <tbody>\n",
       "    <tr>\n",
       "      <th>954</th>\n",
       "      <td>B00JRTMOGS</td>\n",
       "      <td>82</td>\n",
       "      <td>27</td>\n",
       "      <td>17</td>\n",
       "      <td>20</td>\n",
       "      <td>76</td>\n",
       "    </tr>\n",
       "    <tr>\n",
       "      <th>955</th>\n",
       "      <td>B00JST4TLA</td>\n",
       "      <td>9</td>\n",
       "      <td>3</td>\n",
       "      <td>6</td>\n",
       "      <td>2</td>\n",
       "      <td>13</td>\n",
       "    </tr>\n",
       "    <tr>\n",
       "      <th>956</th>\n",
       "      <td>B00JST4VHW</td>\n",
       "      <td>60</td>\n",
       "      <td>58</td>\n",
       "      <td>48</td>\n",
       "      <td>117</td>\n",
       "      <td>385</td>\n",
       "    </tr>\n",
       "    <tr>\n",
       "      <th>957</th>\n",
       "      <td>B00JWV1M3W</td>\n",
       "      <td>9</td>\n",
       "      <td>6</td>\n",
       "      <td>2</td>\n",
       "      <td>8</td>\n",
       "      <td>18</td>\n",
       "    </tr>\n",
       "    <tr>\n",
       "      <th>958</th>\n",
       "      <td>B00L26YDA4</td>\n",
       "      <td>42</td>\n",
       "      <td>42</td>\n",
       "      <td>41</td>\n",
       "      <td>47</td>\n",
       "      <td>94</td>\n",
       "    </tr>\n",
       "  </tbody>\n",
       "</table>\n",
       "</div>"
      ],
      "text/plain": [
       "           asin   1   2   3    4    5\n",
       "954  B00JRTMOGS  82  27  17   20   76\n",
       "955  B00JST4TLA   9   3   6    2   13\n",
       "956  B00JST4VHW  60  58  48  117  385\n",
       "957  B00JWV1M3W   9   6   2    8   18\n",
       "958  B00L26YDA4  42  42  41   47   94"
      ]
     },
     "execution_count": 41,
     "metadata": {},
     "output_type": "execute_result"
    },
    {
     "data": {
      "application/javascript": [
       "\n",
       "            setTimeout(function() {\n",
       "                var nbb_cell_id = 41;\n",
       "                var nbb_unformatted_code = \"ratings.tail()\";\n",
       "                var nbb_formatted_code = \"ratings.tail()\";\n",
       "                var nbb_cells = Jupyter.notebook.get_cells();\n",
       "                for (var i = 0; i < nbb_cells.length; ++i) {\n",
       "                    if (nbb_cells[i].input_prompt_number == nbb_cell_id) {\n",
       "                        if (nbb_cells[i].get_text() == nbb_unformatted_code) {\n",
       "                             nbb_cells[i].set_text(nbb_formatted_code);\n",
       "                        }\n",
       "                        break;\n",
       "                    }\n",
       "                }\n",
       "            }, 500);\n",
       "            "
      ],
      "text/plain": [
       "<IPython.core.display.Javascript object>"
      ]
     },
     "metadata": {},
     "output_type": "display_data"
    }
   ],
   "source": [
    "ratings.tail()"
   ]
  },
  {
   "cell_type": "code",
   "execution_count": 42,
   "metadata": {},
   "outputs": [
    {
     "data": {
      "text/html": [
       "<div>\n",
       "<style scoped>\n",
       "    .dataframe tbody tr th:only-of-type {\n",
       "        vertical-align: middle;\n",
       "    }\n",
       "\n",
       "    .dataframe tbody tr th {\n",
       "        vertical-align: top;\n",
       "    }\n",
       "\n",
       "    .dataframe thead th {\n",
       "        text-align: right;\n",
       "    }\n",
       "</style>\n",
       "<table border=\"1\" class=\"dataframe\">\n",
       "  <thead>\n",
       "    <tr style=\"text-align: right;\">\n",
       "      <th></th>\n",
       "      <th>asin</th>\n",
       "      <th>val</th>\n",
       "      <th>productGroup</th>\n",
       "      <th>brand</th>\n",
       "    </tr>\n",
       "  </thead>\n",
       "  <tbody>\n",
       "    <tr>\n",
       "      <th>0</th>\n",
       "      <td>B00000K2YR</td>\n",
       "      <td>77.860</td>\n",
       "      <td>Speakers</td>\n",
       "      <td>Midland</td>\n",
       "    </tr>\n",
       "    <tr>\n",
       "      <th>1</th>\n",
       "      <td>B00001P4XA</td>\n",
       "      <td>17.530</td>\n",
       "      <td>Speakers</td>\n",
       "      <td>Koss</td>\n",
       "    </tr>\n",
       "    <tr>\n",
       "      <th>2</th>\n",
       "      <td>B00001P4XH</td>\n",
       "      <td>9.010</td>\n",
       "      <td>Speakers</td>\n",
       "      <td>Koss</td>\n",
       "    </tr>\n",
       "    <tr>\n",
       "      <th>3</th>\n",
       "      <td>B00001P4ZH</td>\n",
       "      <td>39.355</td>\n",
       "      <td>Speakers</td>\n",
       "      <td>Koss</td>\n",
       "    </tr>\n",
       "    <tr>\n",
       "      <th>4</th>\n",
       "      <td>B00001P505</td>\n",
       "      <td>22.955</td>\n",
       "      <td>Speakers</td>\n",
       "      <td>Koss</td>\n",
       "    </tr>\n",
       "  </tbody>\n",
       "</table>\n",
       "</div>"
      ],
      "text/plain": [
       "         asin     val productGroup    brand\n",
       "0  B00000K2YR  77.860     Speakers  Midland\n",
       "1  B00001P4XA  17.530     Speakers     Koss\n",
       "2  B00001P4XH   9.010     Speakers     Koss\n",
       "3  B00001P4ZH  39.355     Speakers     Koss\n",
       "4  B00001P505  22.955     Speakers     Koss"
      ]
     },
     "execution_count": 42,
     "metadata": {},
     "output_type": "execute_result"
    },
    {
     "data": {
      "application/javascript": [
       "\n",
       "            setTimeout(function() {\n",
       "                var nbb_cell_id = 42;\n",
       "                var nbb_unformatted_code = \"features.head()\";\n",
       "                var nbb_formatted_code = \"features.head()\";\n",
       "                var nbb_cells = Jupyter.notebook.get_cells();\n",
       "                for (var i = 0; i < nbb_cells.length; ++i) {\n",
       "                    if (nbb_cells[i].input_prompt_number == nbb_cell_id) {\n",
       "                        if (nbb_cells[i].get_text() == nbb_unformatted_code) {\n",
       "                             nbb_cells[i].set_text(nbb_formatted_code);\n",
       "                        }\n",
       "                        break;\n",
       "                    }\n",
       "                }\n",
       "            }, 500);\n",
       "            "
      ],
      "text/plain": [
       "<IPython.core.display.Javascript object>"
      ]
     },
     "metadata": {},
     "output_type": "display_data"
    }
   ],
   "source": [
    "features.head()"
   ]
  },
  {
   "cell_type": "code",
   "execution_count": 43,
   "metadata": {},
   "outputs": [
    {
     "data": {
      "text/plain": [
       "True"
      ]
     },
     "execution_count": 43,
     "metadata": {},
     "output_type": "execute_result"
    },
    {
     "data": {
      "application/javascript": [
       "\n",
       "            setTimeout(function() {\n",
       "                var nbb_cell_id = 43;\n",
       "                var nbb_unformatted_code = \"len(ratings) == len(features)\";\n",
       "                var nbb_formatted_code = \"len(ratings) == len(features)\";\n",
       "                var nbb_cells = Jupyter.notebook.get_cells();\n",
       "                for (var i = 0; i < nbb_cells.length; ++i) {\n",
       "                    if (nbb_cells[i].input_prompt_number == nbb_cell_id) {\n",
       "                        if (nbb_cells[i].get_text() == nbb_unformatted_code) {\n",
       "                             nbb_cells[i].set_text(nbb_formatted_code);\n",
       "                        }\n",
       "                        break;\n",
       "                    }\n",
       "                }\n",
       "            }, 500);\n",
       "            "
      ],
      "text/plain": [
       "<IPython.core.display.Javascript object>"
      ]
     },
     "metadata": {},
     "output_type": "display_data"
    }
   ],
   "source": [
    "len(ratings) == len(features)"
   ]
  },
  {
   "cell_type": "code",
   "execution_count": 44,
   "metadata": {},
   "outputs": [
    {
     "data": {
      "application/javascript": [
       "\n",
       "            setTimeout(function() {\n",
       "                var nbb_cell_id = 44;\n",
       "                var nbb_unformatted_code = \"features[\\\"mean_rho\\\"] = np.nan\\nfeatures[\\\"sd_rho\\\"] = np.nan\";\n",
       "                var nbb_formatted_code = \"features[\\\"mean_rho\\\"] = np.nan\\nfeatures[\\\"sd_rho\\\"] = np.nan\";\n",
       "                var nbb_cells = Jupyter.notebook.get_cells();\n",
       "                for (var i = 0; i < nbb_cells.length; ++i) {\n",
       "                    if (nbb_cells[i].input_prompt_number == nbb_cell_id) {\n",
       "                        if (nbb_cells[i].get_text() == nbb_unformatted_code) {\n",
       "                             nbb_cells[i].set_text(nbb_formatted_code);\n",
       "                        }\n",
       "                        break;\n",
       "                    }\n",
       "                }\n",
       "            }, 500);\n",
       "            "
      ],
      "text/plain": [
       "<IPython.core.display.Javascript object>"
      ]
     },
     "metadata": {},
     "output_type": "display_data"
    }
   ],
   "source": [
    "features[\"mean_rho\"] = np.nan\n",
    "features[\"sd_rho\"] = np.nan"
   ]
  },
  {
   "cell_type": "code",
   "execution_count": 1,
   "metadata": {},
   "outputs": [],
   "source": [
    "# Now run through the products, get the posterior over rho for each of them, and save\n",
    "# the mean and sd of that posterior in the right row in the features DF\n",
    "#for row in range(len(ratings)):\n",
    "#    obs_ratings = np.array(ratings.iloc[row, 1:], dtype=np.float64)\n",
    "#    posterior_samples = posterior.sample((10000,), x=torch.tensor(obs_ratings)).numpy()\n",
    "#    posterior_mean = np.mean(posterior_samples)\n",
    "#    posterior_sd = np.std(posterior_samples)\n",
    "#    feature_df_index = np.where(features[\"asin\"] == ratings.iloc[row, 0])[0][0]\n",
    "#    features.iloc[feature_df_index, 4] = posterior_mean\n",
    "#    features.iloc[feature_df_index, 5] = posterior_sd"
   ]
  },
  {
   "cell_type": "code",
   "execution_count": 52,
   "metadata": {},
   "outputs": [
    {
     "data": {
      "text/html": [
       "<div>\n",
       "<style scoped>\n",
       "    .dataframe tbody tr th:only-of-type {\n",
       "        vertical-align: middle;\n",
       "    }\n",
       "\n",
       "    .dataframe tbody tr th {\n",
       "        vertical-align: top;\n",
       "    }\n",
       "\n",
       "    .dataframe thead th {\n",
       "        text-align: right;\n",
       "    }\n",
       "</style>\n",
       "<table border=\"1\" class=\"dataframe\">\n",
       "  <thead>\n",
       "    <tr style=\"text-align: right;\">\n",
       "      <th></th>\n",
       "      <th>asin</th>\n",
       "      <th>val</th>\n",
       "      <th>productGroup</th>\n",
       "      <th>brand</th>\n",
       "      <th>mean_rho</th>\n",
       "      <th>sd_rho</th>\n",
       "    </tr>\n",
       "  </thead>\n",
       "  <tbody>\n",
       "    <tr>\n",
       "      <th>0</th>\n",
       "      <td>B00000K2YR</td>\n",
       "      <td>77.860</td>\n",
       "      <td>Speakers</td>\n",
       "      <td>Midland</td>\n",
       "      <td>1.259208</td>\n",
       "      <td>0.168150</td>\n",
       "    </tr>\n",
       "    <tr>\n",
       "      <th>1</th>\n",
       "      <td>B00001P4XA</td>\n",
       "      <td>17.530</td>\n",
       "      <td>Speakers</td>\n",
       "      <td>Koss</td>\n",
       "      <td>1.167548</td>\n",
       "      <td>0.155284</td>\n",
       "    </tr>\n",
       "    <tr>\n",
       "      <th>2</th>\n",
       "      <td>B00001P4XH</td>\n",
       "      <td>9.010</td>\n",
       "      <td>Speakers</td>\n",
       "      <td>Koss</td>\n",
       "      <td>1.422566</td>\n",
       "      <td>0.160284</td>\n",
       "    </tr>\n",
       "    <tr>\n",
       "      <th>3</th>\n",
       "      <td>B00001P4ZH</td>\n",
       "      <td>39.355</td>\n",
       "      <td>Speakers</td>\n",
       "      <td>Koss</td>\n",
       "      <td>1.496117</td>\n",
       "      <td>0.151946</td>\n",
       "    </tr>\n",
       "    <tr>\n",
       "      <th>4</th>\n",
       "      <td>B00001P505</td>\n",
       "      <td>22.955</td>\n",
       "      <td>Speakers</td>\n",
       "      <td>Koss</td>\n",
       "      <td>1.252120</td>\n",
       "      <td>0.182817</td>\n",
       "    </tr>\n",
       "  </tbody>\n",
       "</table>\n",
       "</div>"
      ],
      "text/plain": [
       "         asin     val productGroup    brand  mean_rho    sd_rho\n",
       "0  B00000K2YR  77.860     Speakers  Midland  1.259208  0.168150\n",
       "1  B00001P4XA  17.530     Speakers     Koss  1.167548  0.155284\n",
       "2  B00001P4XH   9.010     Speakers     Koss  1.422566  0.160284\n",
       "3  B00001P4ZH  39.355     Speakers     Koss  1.496117  0.151946\n",
       "4  B00001P505  22.955     Speakers     Koss  1.252120  0.182817"
      ]
     },
     "execution_count": 52,
     "metadata": {},
     "output_type": "execute_result"
    },
    {
     "data": {
      "application/javascript": [
       "\n",
       "            setTimeout(function() {\n",
       "                var nbb_cell_id = 52;\n",
       "                var nbb_unformatted_code = \"features.head()\";\n",
       "                var nbb_formatted_code = \"features.head()\";\n",
       "                var nbb_cells = Jupyter.notebook.get_cells();\n",
       "                for (var i = 0; i < nbb_cells.length; ++i) {\n",
       "                    if (nbb_cells[i].input_prompt_number == nbb_cell_id) {\n",
       "                        if (nbb_cells[i].get_text() == nbb_unformatted_code) {\n",
       "                             nbb_cells[i].set_text(nbb_formatted_code);\n",
       "                        }\n",
       "                        break;\n",
       "                    }\n",
       "                }\n",
       "            }, 500);\n",
       "            "
      ],
      "text/plain": [
       "<IPython.core.display.Javascript object>"
      ]
     },
     "metadata": {},
     "output_type": "display_data"
    }
   ],
   "source": [
    "features.head()"
   ]
  },
  {
   "cell_type": "code",
   "execution_count": 60,
   "metadata": {},
   "outputs": [
    {
     "data": {
      "text/plain": [
       "<AxesSubplot:>"
      ]
     },
     "execution_count": 60,
     "metadata": {},
     "output_type": "execute_result"
    },
    {
     "data": {
      "image/png": "[encoded data removed]",
      "text/plain": [
       "<Figure size 432x288 with 1 Axes>"
      ]
     },
     "metadata": {
      "needs_background": "light"
     },
     "output_type": "display_data"
    },
    {
     "data": {
      "application/javascript": [
       "\n",
       "            setTimeout(function() {\n",
       "                var nbb_cell_id = 60;\n",
       "                var nbb_unformatted_code = \"features.val.hist(bins=30)\";\n",
       "                var nbb_formatted_code = \"features.val.hist(bins=30)\";\n",
       "                var nbb_cells = Jupyter.notebook.get_cells();\n",
       "                for (var i = 0; i < nbb_cells.length; ++i) {\n",
       "                    if (nbb_cells[i].input_prompt_number == nbb_cell_id) {\n",
       "                        if (nbb_cells[i].get_text() == nbb_unformatted_code) {\n",
       "                             nbb_cells[i].set_text(nbb_formatted_code);\n",
       "                        }\n",
       "                        break;\n",
       "                    }\n",
       "                }\n",
       "            }, 500);\n",
       "            "
      ],
      "text/plain": [
       "<IPython.core.display.Javascript object>"
      ]
     },
     "metadata": {},
     "output_type": "display_data"
    }
   ],
   "source": [
    "features.val.hist(bins=30)"
   ]
  },
  {
   "cell_type": "code",
   "execution_count": 61,
   "metadata": {},
   "outputs": [
    {
     "data": {
      "application/javascript": [
       "\n",
       "            setTimeout(function() {\n",
       "                var nbb_cell_id = 61;\n",
       "                var nbb_unformatted_code = \"# Remove the very high priced products\\nnormal_features = features.loc[features[\\\"val\\\"] <= 300, :]\";\n",
       "                var nbb_formatted_code = \"# Remove the very high priced products\\nnormal_features = features.loc[features[\\\"val\\\"] <= 300, :]\";\n",
       "                var nbb_cells = Jupyter.notebook.get_cells();\n",
       "                for (var i = 0; i < nbb_cells.length; ++i) {\n",
       "                    if (nbb_cells[i].input_prompt_number == nbb_cell_id) {\n",
       "                        if (nbb_cells[i].get_text() == nbb_unformatted_code) {\n",
       "                             nbb_cells[i].set_text(nbb_formatted_code);\n",
       "                        }\n",
       "                        break;\n",
       "                    }\n",
       "                }\n",
       "            }, 500);\n",
       "            "
      ],
      "text/plain": [
       "<IPython.core.display.Javascript object>"
      ]
     },
     "metadata": {},
     "output_type": "display_data"
    }
   ],
   "source": [
    "# Remove the very high priced products\n",
    "normal_features = features.loc[features[\"val\"] <= 300, :]"
   ]
  },
  {
   "cell_type": "code",
   "execution_count": 62,
   "metadata": {},
   "outputs": [
    {
     "data": {
      "text/plain": [
       "<AxesSubplot:>"
      ]
     },
     "execution_count": 62,
     "metadata": {},
     "output_type": "execute_result"
    },
    {
     "data": {
      "image/png": "[encoded data removed]",
      "text/plain": [
       "<Figure size 432x288 with 1 Axes>"
      ]
     },
     "metadata": {
      "needs_background": "light"
     },
     "output_type": "display_data"
    },
    {
     "data": {
      "application/javascript": [
       "\n",
       "            setTimeout(function() {\n",
       "                var nbb_cell_id = 62;\n",
       "                var nbb_unformatted_code = \"normal_features.mean_rho.hist(bins=30)\";\n",
       "                var nbb_formatted_code = \"normal_features.mean_rho.hist(bins=30)\";\n",
       "                var nbb_cells = Jupyter.notebook.get_cells();\n",
       "                for (var i = 0; i < nbb_cells.length; ++i) {\n",
       "                    if (nbb_cells[i].input_prompt_number == nbb_cell_id) {\n",
       "                        if (nbb_cells[i].get_text() == nbb_unformatted_code) {\n",
       "                             nbb_cells[i].set_text(nbb_formatted_code);\n",
       "                        }\n",
       "                        break;\n",
       "                    }\n",
       "                }\n",
       "            }, 500);\n",
       "            "
      ],
      "text/plain": [
       "<IPython.core.display.Javascript object>"
      ]
     },
     "metadata": {},
     "output_type": "display_data"
    }
   ],
   "source": [
    "normal_features.mean_rho.hist(bins=30)"
   ]
  },
  {
   "cell_type": "code",
   "execution_count": 66,
   "metadata": {},
   "outputs": [
    {
     "data": {
      "text/plain": [
       "<AxesSubplot:>"
      ]
     },
     "execution_count": 66,
     "metadata": {},
     "output_type": "execute_result"
    },
    {
     "data": {
      "image/png": "[encoded data removed]",
      "text/plain": [
       "<Figure size 432x288 with 1 Axes>"
      ]
     },
     "metadata": {
      "needs_background": "light"
     },
     "output_type": "display_data"
    },
    {
     "data": {
      "application/javascript": [
       "\n",
       "            setTimeout(function() {\n",
       "                var nbb_cell_id = 66;\n",
       "                var nbb_unformatted_code = \"normal_features.sd_rho.hist(bins=30)\";\n",
       "                var nbb_formatted_code = \"normal_features.sd_rho.hist(bins=30)\";\n",
       "                var nbb_cells = Jupyter.notebook.get_cells();\n",
       "                for (var i = 0; i < nbb_cells.length; ++i) {\n",
       "                    if (nbb_cells[i].input_prompt_number == nbb_cell_id) {\n",
       "                        if (nbb_cells[i].get_text() == nbb_unformatted_code) {\n",
       "                             nbb_cells[i].set_text(nbb_formatted_code);\n",
       "                        }\n",
       "                        break;\n",
       "                    }\n",
       "                }\n",
       "            }, 500);\n",
       "            "
      ],
      "text/plain": [
       "<IPython.core.display.Javascript object>"
      ]
     },
     "metadata": {},
     "output_type": "display_data"
    }
   ],
   "source": [
    "normal_features.sd_rho.hist(bins=30)"
   ]
  },
  {
   "cell_type": "code",
   "execution_count": 63,
   "metadata": {},
   "outputs": [
    {
     "data": {
      "text/plain": [
       "0.02861004383915438"
      ]
     },
     "execution_count": 63,
     "metadata": {},
     "output_type": "execute_result"
    },
    {
     "data": {
      "application/javascript": [
       "\n",
       "            setTimeout(function() {\n",
       "                var nbb_cell_id = 63;\n",
       "                var nbb_unformatted_code = \"normal_features.mean_rho.corr(normal_features.val)\";\n",
       "                var nbb_formatted_code = \"normal_features.mean_rho.corr(normal_features.val)\";\n",
       "                var nbb_cells = Jupyter.notebook.get_cells();\n",
       "                for (var i = 0; i < nbb_cells.length; ++i) {\n",
       "                    if (nbb_cells[i].input_prompt_number == nbb_cell_id) {\n",
       "                        if (nbb_cells[i].get_text() == nbb_unformatted_code) {\n",
       "                             nbb_cells[i].set_text(nbb_formatted_code);\n",
       "                        }\n",
       "                        break;\n",
       "                    }\n",
       "                }\n",
       "            }, 500);\n",
       "            "
      ],
      "text/plain": [
       "<IPython.core.display.Javascript object>"
      ]
     },
     "metadata": {},
     "output_type": "display_data"
    }
   ],
   "source": [
    "normal_features.mean_rho.corr(normal_features.val)"
   ]
  },
  {
   "cell_type": "code",
   "execution_count": 64,
   "metadata": {},
   "outputs": [
    {
     "data": {
      "text/plain": [
       "<matplotlib.collections.PathCollection at 0x7f47905e55d0>"
      ]
     },
     "execution_count": 64,
     "metadata": {},
     "output_type": "execute_result"
    },
    {
     "data": {
      "image/png": "[encoded data removed]",
      "text/plain": [
       "<Figure size 432x288 with 1 Axes>"
      ]
     },
     "metadata": {
      "needs_background": "light"
     },
     "output_type": "display_data"
    },
    {
     "data": {
      "application/javascript": [
       "\n",
       "            setTimeout(function() {\n",
       "                var nbb_cell_id = 64;\n",
       "                var nbb_unformatted_code = \"plt.scatter(normal_features.val, normal_features.mean_rho, s=0.2)\";\n",
       "                var nbb_formatted_code = \"plt.scatter(normal_features.val, normal_features.mean_rho, s=0.2)\";\n",
       "                var nbb_cells = Jupyter.notebook.get_cells();\n",
       "                for (var i = 0; i < nbb_cells.length; ++i) {\n",
       "                    if (nbb_cells[i].input_prompt_number == nbb_cell_id) {\n",
       "                        if (nbb_cells[i].get_text() == nbb_unformatted_code) {\n",
       "                             nbb_cells[i].set_text(nbb_formatted_code);\n",
       "                        }\n",
       "                        break;\n",
       "                    }\n",
       "                }\n",
       "            }, 500);\n",
       "            "
      ],
      "text/plain": [
       "<IPython.core.display.Javascript object>"
      ]
     },
     "metadata": {},
     "output_type": "display_data"
    }
   ],
   "source": [
    "plt.scatter(normal_features.val, normal_features.mean_rho, s=0.2)"
   ]
  },
  {
   "cell_type": "code",
   "execution_count": 65,
   "metadata": {},
   "outputs": [
    {
     "data": {
      "text/plain": [
       "<matplotlib.collections.PathCollection at 0x7f4790559e10>"
      ]
     },
     "execution_count": 65,
     "metadata": {},
     "output_type": "execute_result"
    },
    {
     "data": {
      "image/png": "[encoded data removed]",
      "text/plain": [
       "<Figure size 432x288 with 1 Axes>"
      ]
     },
     "metadata": {
      "needs_background": "light"
     },
     "output_type": "display_data"
    },
    {
     "data": {
      "application/javascript": [
       "\n",
       "            setTimeout(function() {\n",
       "                var nbb_cell_id = 65;\n",
       "                var nbb_unformatted_code = \"plt.scatter(normal_features.val, normal_features.sd_rho, s=0.2)\";\n",
       "                var nbb_formatted_code = \"plt.scatter(normal_features.val, normal_features.sd_rho, s=0.2)\";\n",
       "                var nbb_cells = Jupyter.notebook.get_cells();\n",
       "                for (var i = 0; i < nbb_cells.length; ++i) {\n",
       "                    if (nbb_cells[i].input_prompt_number == nbb_cell_id) {\n",
       "                        if (nbb_cells[i].get_text() == nbb_unformatted_code) {\n",
       "                             nbb_cells[i].set_text(nbb_formatted_code);\n",
       "                        }\n",
       "                        break;\n",
       "                    }\n",
       "                }\n",
       "            }, 500);\n",
       "            "
      ],
      "text/plain": [
       "<IPython.core.display.Javascript object>"
      ]
     },
     "metadata": {},
     "output_type": "display_data"
    }
   ],
   "source": [
    "plt.scatter(normal_features.val, normal_features.sd_rho, s=0.2)"
   ]
  },
  {
   "cell_type": "code",
   "execution_count": 67,
   "metadata": {},
   "outputs": [
    {
     "data": {
      "text/plain": [
       "-0.029341040944801857"
      ]
     },
     "execution_count": 67,
     "metadata": {},
     "output_type": "execute_result"
    },
    {
     "data": {
      "application/javascript": [
       "\n",
       "            setTimeout(function() {\n",
       "                var nbb_cell_id = 67;\n",
       "                var nbb_unformatted_code = \"normal_features.sd_rho.corr(normal_features.val)\";\n",
       "                var nbb_formatted_code = \"normal_features.sd_rho.corr(normal_features.val)\";\n",
       "                var nbb_cells = Jupyter.notebook.get_cells();\n",
       "                for (var i = 0; i < nbb_cells.length; ++i) {\n",
       "                    if (nbb_cells[i].input_prompt_number == nbb_cell_id) {\n",
       "                        if (nbb_cells[i].get_text() == nbb_unformatted_code) {\n",
       "                             nbb_cells[i].set_text(nbb_formatted_code);\n",
       "                        }\n",
       "                        break;\n",
       "                    }\n",
       "                }\n",
       "            }, 500);\n",
       "            "
      ],
      "text/plain": [
       "<IPython.core.display.Javascript object>"
      ]
     },
     "metadata": {},
     "output_type": "display_data"
    }
   ],
   "source": [
    "normal_features.sd_rho.corr(normal_features.val)"
   ]
  },
  {
   "cell_type": "code",
   "execution_count": 70,
   "metadata": {},
   "outputs": [
    {
     "data": {
      "text/plain": [
       "<matplotlib.collections.PathCollection at 0x7f47902e3e50>"
      ]
     },
     "execution_count": 70,
     "metadata": {},
     "output_type": "execute_result"
    },
    {
     "data": {
      "image/png": "[encoded data removed]",
      "text/plain": [
       "<Figure size 432x288 with 1 Axes>"
      ]
     },
     "metadata": {
      "needs_background": "light"
     },
     "output_type": "display_data"
    },
    {
     "data": {
      "application/javascript": [
       "\n",
       "            setTimeout(function() {\n",
       "                var nbb_cell_id = 70;\n",
       "                var nbb_unformatted_code = \"plt.scatter(np.log(features.val), features.mean_rho, s=0.2)\";\n",
       "                var nbb_formatted_code = \"plt.scatter(np.log(features.val), features.mean_rho, s=0.2)\";\n",
       "                var nbb_cells = Jupyter.notebook.get_cells();\n",
       "                for (var i = 0; i < nbb_cells.length; ++i) {\n",
       "                    if (nbb_cells[i].input_prompt_number == nbb_cell_id) {\n",
       "                        if (nbb_cells[i].get_text() == nbb_unformatted_code) {\n",
       "                             nbb_cells[i].set_text(nbb_formatted_code);\n",
       "                        }\n",
       "                        break;\n",
       "                    }\n",
       "                }\n",
       "            }, 500);\n",
       "            "
      ],
      "text/plain": [
       "<IPython.core.display.Javascript object>"
      ]
     },
     "metadata": {},
     "output_type": "display_data"
    }
   ],
   "source": [
    "plt.scatter(np.log(features.val), features.mean_rho, s=0.2)"
   ]
  },
  {
   "cell_type": "code",
   "execution_count": 71,
   "metadata": {},
   "outputs": [
    {
     "data": {
      "text/plain": [
       "0.007132198021683755"
      ]
     },
     "execution_count": 71,
     "metadata": {},
     "output_type": "execute_result"
    },
    {
     "data": {
      "application/javascript": [
       "\n",
       "            setTimeout(function() {\n",
       "                var nbb_cell_id = 71;\n",
       "                var nbb_unformatted_code = \"features.mean_rho.corr(np.log(features.val))\";\n",
       "                var nbb_formatted_code = \"features.mean_rho.corr(np.log(features.val))\";\n",
       "                var nbb_cells = Jupyter.notebook.get_cells();\n",
       "                for (var i = 0; i < nbb_cells.length; ++i) {\n",
       "                    if (nbb_cells[i].input_prompt_number == nbb_cell_id) {\n",
       "                        if (nbb_cells[i].get_text() == nbb_unformatted_code) {\n",
       "                             nbb_cells[i].set_text(nbb_formatted_code);\n",
       "                        }\n",
       "                        break;\n",
       "                    }\n",
       "                }\n",
       "            }, 500);\n",
       "            "
      ],
      "text/plain": [
       "<IPython.core.display.Javascript object>"
      ]
     },
     "metadata": {},
     "output_type": "display_data"
    }
   ],
   "source": [
    "features.mean_rho.corr(np.log(features.val))"
   ]
  },
  {
   "cell_type": "markdown",
   "metadata": {},
   "source": [
    "# Tests"
   ]
  },
  {
   "cell_type": "code",
   "execution_count": 11,
   "metadata": {},
   "outputs": [
    {
     "data": {
      "application/javascript": [
       "\n",
       "            setTimeout(function() {\n",
       "                var nbb_cell_id = 11;\n",
       "                var nbb_unformatted_code = \"sim_revs = torch.zeros(5)\";\n",
       "                var nbb_formatted_code = \"sim_revs = torch.zeros(5)\";\n",
       "                var nbb_cells = Jupyter.notebook.get_cells();\n",
       "                for (var i = 0; i < nbb_cells.length; ++i) {\n",
       "                    if (nbb_cells[i].input_prompt_number == nbb_cell_id) {\n",
       "                        if (nbb_cells[i].get_text() == nbb_unformatted_code) {\n",
       "                             nbb_cells[i].set_text(nbb_formatted_code);\n",
       "                        }\n",
       "                        break;\n",
       "                    }\n",
       "                }\n",
       "            }, 500);\n",
       "            "
      ],
      "text/plain": [
       "<IPython.core.display.Javascript object>"
      ]
     },
     "metadata": {},
     "output_type": "display_data"
    }
   ],
   "source": [
    "sim_revs = torch.zeros(5)"
   ]
  },
  {
   "cell_type": "code",
   "execution_count": 12,
   "metadata": {},
   "outputs": [
    {
     "data": {
      "text/plain": [
       "tensor([2., 2., 2., 2., 2.])"
      ]
     },
     "execution_count": 12,
     "metadata": {},
     "output_type": "execute_result"
    },
    {
     "data": {
      "application/javascript": [
       "\n",
       "            setTimeout(function() {\n",
       "                var nbb_cell_id = 12;\n",
       "                var nbb_unformatted_code = \"post_revs_conc_params = sim_revs + rev_prior\\npost_revs_conc_params\";\n",
       "                var nbb_formatted_code = \"post_revs_conc_params = sim_revs + rev_prior\\npost_revs_conc_params\";\n",
       "                var nbb_cells = Jupyter.notebook.get_cells();\n",
       "                for (var i = 0; i < nbb_cells.length; ++i) {\n",
       "                    if (nbb_cells[i].input_prompt_number == nbb_cell_id) {\n",
       "                        if (nbb_cells[i].get_text() == nbb_unformatted_code) {\n",
       "                             nbb_cells[i].set_text(nbb_formatted_code);\n",
       "                        }\n",
       "                        break;\n",
       "                    }\n",
       "                }\n",
       "            }, 500);\n",
       "            "
      ],
      "text/plain": [
       "<IPython.core.display.Javascript object>"
      ]
     },
     "metadata": {},
     "output_type": "display_data"
    }
   ],
   "source": [
    "post_revs_conc_params = sim_revs + rev_prior\n",
    "post_revs_conc_params"
   ]
  },
  {
   "cell_type": "code",
   "execution_count": 270,
   "metadata": {},
   "outputs": [
    {
     "data": {
      "text/plain": [
       "tensor([0.3523, 0.2338, 0.1141, 0.0728, 0.2270])"
      ]
     },
     "execution_count": 270,
     "metadata": {},
     "output_type": "execute_result"
    },
    {
     "data": {
      "application/javascript": [
       "\n",
       "            setTimeout(function() {\n",
       "                var nbb_cell_id = 270;\n",
       "                var nbb_unformatted_code = \"utility_dist = torch.distributions.Dirichlet(post_revs_conc_params).sample()\\nutility_dist\";\n",
       "                var nbb_formatted_code = \"utility_dist = torch.distributions.Dirichlet(post_revs_conc_params).sample()\\nutility_dist\";\n",
       "                var nbb_cells = Jupyter.notebook.get_cells();\n",
       "                for (var i = 0; i < nbb_cells.length; ++i) {\n",
       "                    if (nbb_cells[i].input_prompt_number == nbb_cell_id) {\n",
       "                        if (nbb_cells[i].get_text() == nbb_unformatted_code) {\n",
       "                             nbb_cells[i].set_text(nbb_formatted_code);\n",
       "                        }\n",
       "                        break;\n",
       "                    }\n",
       "                }\n",
       "            }, 500);\n",
       "            "
      ],
      "text/plain": [
       "<IPython.core.display.Javascript object>"
      ]
     },
     "metadata": {},
     "output_type": "display_data"
    }
   ],
   "source": [
    "utility_dist = torch.distributions.Dirichlet(post_revs_conc_params).sample()\n",
    "utility_dist"
   ]
  },
  {
   "cell_type": "code",
   "execution_count": 271,
   "metadata": {},
   "outputs": [
    {
     "data": {
      "text/plain": [
       "tensor(3.)"
      ]
     },
     "execution_count": 271,
     "metadata": {},
     "output_type": "execute_result"
    },
    {
     "data": {
      "application/javascript": [
       "\n",
       "            setTimeout(function() {\n",
       "                var nbb_cell_id = 271;\n",
       "                var nbb_unformatted_code = \"prior_mean = torch.sum(rev_prior * torch.arange(1, 6)) / rev_prior.sum()\\nprior_mean\";\n",
       "                var nbb_formatted_code = \"prior_mean = torch.sum(rev_prior * torch.arange(1, 6)) / rev_prior.sum()\\nprior_mean\";\n",
       "                var nbb_cells = Jupyter.notebook.get_cells();\n",
       "                for (var i = 0; i < nbb_cells.length; ++i) {\n",
       "                    if (nbb_cells[i].input_prompt_number == nbb_cell_id) {\n",
       "                        if (nbb_cells[i].get_text() == nbb_unformatted_code) {\n",
       "                             nbb_cells[i].set_text(nbb_formatted_code);\n",
       "                        }\n",
       "                        break;\n",
       "                    }\n",
       "                }\n",
       "            }, 500);\n",
       "            "
      ],
      "text/plain": [
       "<IPython.core.display.Javascript object>"
      ]
     },
     "metadata": {},
     "output_type": "display_data"
    }
   ],
   "source": [
    "prior_mean = torch.sum(rev_prior * torch.arange(1, 6)) / rev_prior.sum()\n",
    "prior_mean"
   ]
  },
  {
   "cell_type": "code",
   "execution_count": 272,
   "metadata": {},
   "outputs": [
    {
     "data": {
      "text/plain": [
       "tensor(2.5884)"
      ]
     },
     "execution_count": 272,
     "metadata": {},
     "output_type": "execute_result"
    },
    {
     "data": {
      "application/javascript": [
       "\n",
       "            setTimeout(function() {\n",
       "                var nbb_cell_id = 272;\n",
       "                var nbb_unformatted_code = \"utility_mean = torch.sum(utility_dist * torch.arange(1, 6))\\nutility_mean\";\n",
       "                var nbb_formatted_code = \"utility_mean = torch.sum(utility_dist * torch.arange(1, 6))\\nutility_mean\";\n",
       "                var nbb_cells = Jupyter.notebook.get_cells();\n",
       "                for (var i = 0; i < nbb_cells.length; ++i) {\n",
       "                    if (nbb_cells[i].input_prompt_number == nbb_cell_id) {\n",
       "                        if (nbb_cells[i].get_text() == nbb_unformatted_code) {\n",
       "                             nbb_cells[i].set_text(nbb_formatted_code);\n",
       "                        }\n",
       "                        break;\n",
       "                    }\n",
       "                }\n",
       "            }, 500);\n",
       "            "
      ],
      "text/plain": [
       "<IPython.core.display.Javascript object>"
      ]
     },
     "metadata": {},
     "output_type": "display_data"
    }
   ],
   "source": [
    "utility_mean = torch.sum(utility_dist * torch.arange(1, 6))\n",
    "utility_mean"
   ]
  },
  {
   "cell_type": "code",
   "execution_count": 273,
   "metadata": {},
   "outputs": [
    {
     "data": {
      "text/plain": [
       "tensor([1.])"
      ]
     },
     "execution_count": 273,
     "metadata": {},
     "output_type": "execute_result"
    },
    {
     "data": {
      "application/javascript": [
       "\n",
       "            setTimeout(function() {\n",
       "                var nbb_cell_id = 273;\n",
       "                var nbb_unformatted_code = \"experience = torch.multinomial(utility_dist, 1) + 1.0\\nexperience\";\n",
       "                var nbb_formatted_code = \"experience = torch.multinomial(utility_dist, 1) + 1.0\\nexperience\";\n",
       "                var nbb_cells = Jupyter.notebook.get_cells();\n",
       "                for (var i = 0; i < nbb_cells.length; ++i) {\n",
       "                    if (nbb_cells[i].input_prompt_number == nbb_cell_id) {\n",
       "                        if (nbb_cells[i].get_text() == nbb_unformatted_code) {\n",
       "                             nbb_cells[i].set_text(nbb_formatted_code);\n",
       "                        }\n",
       "                        break;\n",
       "                    }\n",
       "                }\n",
       "            }, 500);\n",
       "            "
      ],
      "text/plain": [
       "<IPython.core.display.Javascript object>"
      ]
     },
     "metadata": {},
     "output_type": "display_data"
    }
   ],
   "source": [
    "experience = torch.multinomial(utility_dist, 1) + 1.0\n",
    "experience"
   ]
  },
  {
   "cell_type": "code",
   "execution_count": 274,
   "metadata": {},
   "outputs": [
    {
     "data": {
      "text/plain": [
       "tensor([-1.5884])"
      ]
     },
     "execution_count": 274,
     "metadata": {},
     "output_type": "execute_result"
    },
    {
     "data": {
      "application/javascript": [
       "\n",
       "            setTimeout(function() {\n",
       "                var nbb_cell_id = 274;\n",
       "                var nbb_unformatted_code = \"delta = experience - utility_mean\\ndelta\";\n",
       "                var nbb_formatted_code = \"delta = experience - utility_mean\\ndelta\";\n",
       "                var nbb_cells = Jupyter.notebook.get_cells();\n",
       "                for (var i = 0; i < nbb_cells.length; ++i) {\n",
       "                    if (nbb_cells[i].input_prompt_number == nbb_cell_id) {\n",
       "                        if (nbb_cells[i].get_text() == nbb_unformatted_code) {\n",
       "                             nbb_cells[i].set_text(nbb_formatted_code);\n",
       "                        }\n",
       "                        break;\n",
       "                    }\n",
       "                }\n",
       "            }, 500);\n",
       "            "
      ],
      "text/plain": [
       "<IPython.core.display.Javascript object>"
      ]
     },
     "metadata": {},
     "output_type": "display_data"
    }
   ],
   "source": [
    "delta = experience - utility_mean\n",
    "delta"
   ]
  },
  {
   "cell_type": "code",
   "execution_count": 277,
   "metadata": {},
   "outputs": [
    {
     "data": {
      "text/plain": [
       "0"
      ]
     },
     "execution_count": 277,
     "metadata": {},
     "output_type": "execute_result"
    },
    {
     "data": {
      "application/javascript": [
       "\n",
       "            setTimeout(function() {\n",
       "                var nbb_cell_id = 277;\n",
       "                var nbb_unformatted_code = \"delta = experience - utility_mean\\nif delta <= -1.5:\\n    review = 0\\nelif delta >= -1.5 and delta <= -0.5:\\n    review = 1\\nelif delta >= -0.5 and delta <= 0.5:\\n    review = 2\\nelif delta >= 0.5 and delta <= 1.5:\\n    review = 3\\nelse:\\n    review = 4\\n\\nreview\";\n",
       "                var nbb_formatted_code = \"delta = experience - utility_mean\\nif delta <= -1.5:\\n    review = 0\\nelif delta >= -1.5 and delta <= -0.5:\\n    review = 1\\nelif delta >= -0.5 and delta <= 0.5:\\n    review = 2\\nelif delta >= 0.5 and delta <= 1.5:\\n    review = 3\\nelse:\\n    review = 4\\n\\nreview\";\n",
       "                var nbb_cells = Jupyter.notebook.get_cells();\n",
       "                for (var i = 0; i < nbb_cells.length; ++i) {\n",
       "                    if (nbb_cells[i].input_prompt_number == nbb_cell_id) {\n",
       "                        if (nbb_cells[i].get_text() == nbb_unformatted_code) {\n",
       "                             nbb_cells[i].set_text(nbb_formatted_code);\n",
       "                        }\n",
       "                        break;\n",
       "                    }\n",
       "                }\n",
       "            }, 500);\n",
       "            "
      ],
      "text/plain": [
       "<IPython.core.display.Javascript object>"
      ]
     },
     "metadata": {},
     "output_type": "display_data"
    }
   ],
   "source": [
    "delta = experience - utility_mean\n",
    "if delta <= -1.5:\n",
    "    review = 0\n",
    "elif delta >= -1.5 and delta <= -0.5:\n",
    "    review = 1\n",
    "elif delta >= -0.5 and delta <= 0.5:\n",
    "    review = 2\n",
    "elif delta >= 0.5 and delta <= 1.5:\n",
    "    review = 3\n",
    "else:\n",
    "    review = 4\n",
    "\n",
    "review"
   ]
  },
  {
   "cell_type": "code",
   "execution_count": 124,
   "metadata": {},
   "outputs": [
    {
     "data": {
      "text/plain": [
       "True"
      ]
     },
     "execution_count": 124,
     "metadata": {},
     "output_type": "execute_result"
    },
    {
     "data": {
      "application/javascript": [
       "\n",
       "            setTimeout(function() {\n",
       "                var nbb_cell_id = 124;\n",
       "                var nbb_unformatted_code = \"torch.abs(delta) < torch.tensor([4.0]) and (1 < 2)\";\n",
       "                var nbb_formatted_code = \"torch.abs(delta) < torch.tensor([4.0]) and (1 < 2)\";\n",
       "                var nbb_cells = Jupyter.notebook.get_cells();\n",
       "                for (var i = 0; i < nbb_cells.length; ++i) {\n",
       "                    if (nbb_cells[i].input_prompt_number == nbb_cell_id) {\n",
       "                        if (nbb_cells[i].get_text() == nbb_unformatted_code) {\n",
       "                             nbb_cells[i].set_text(nbb_formatted_code);\n",
       "                        }\n",
       "                        break;\n",
       "                    }\n",
       "                }\n",
       "            }, 500);\n",
       "            "
      ],
      "text/plain": [
       "<IPython.core.display.Javascript object>"
      ]
     },
     "metadata": {},
     "output_type": "display_data"
    }
   ],
   "source": [
    "torch.abs(delta) < torch.tensor([4.0]) and (1 < 2)"
   ]
  },
  {
   "cell_type": "code",
   "execution_count": 276,
   "metadata": {},
   "outputs": [
    {
     "data": {
      "text/plain": [
       "tensor([False])"
      ]
     },
     "execution_count": 276,
     "metadata": {},
     "output_type": "execute_result"
    },
    {
     "data": {
      "application/javascript": [
       "\n",
       "            setTimeout(function() {\n",
       "                var nbb_cell_id = 276;\n",
       "                var nbb_unformatted_code = \"torch.abs(delta) >= torch.tensor([2.0])\";\n",
       "                var nbb_formatted_code = \"torch.abs(delta) >= torch.tensor([2.0])\";\n",
       "                var nbb_cells = Jupyter.notebook.get_cells();\n",
       "                for (var i = 0; i < nbb_cells.length; ++i) {\n",
       "                    if (nbb_cells[i].input_prompt_number == nbb_cell_id) {\n",
       "                        if (nbb_cells[i].get_text() == nbb_unformatted_code) {\n",
       "                             nbb_cells[i].set_text(nbb_formatted_code);\n",
       "                        }\n",
       "                        break;\n",
       "                    }\n",
       "                }\n",
       "            }, 500);\n",
       "            "
      ],
      "text/plain": [
       "<IPython.core.display.Javascript object>"
      ]
     },
     "metadata": {},
     "output_type": "display_data"
    }
   ],
   "source": [
    "torch.abs(delta) >= torch.tensor([2.0])"
   ]
  },
  {
   "cell_type": "code",
   "execution_count": null,
   "metadata": {},
   "outputs": [],
   "source": []
  },
  {
   "cell_type": "code",
   "execution_count": null,
   "metadata": {},
   "outputs": [],
   "source": []
  },
  {
   "cell_type": "code",
   "execution_count": 2,
   "metadata": {},
   "outputs": [],
   "source": [
    "#sim_revs = torch.zeros(5)\n",
    "#for i in range(100):\n",
    "#    index = visitor_journey(sim_revs, torch.tensor([3.0]))\n",
    "#    print(\"Returned: \", index)\n",
    "#    if index is not None:\n",
    "#        sim_revs[index] += 1"
   ]
  },
  {
   "cell_type": "code",
   "execution_count": 18,
   "metadata": {},
   "outputs": [
    {
     "data": {
      "application/javascript": [
       "\n",
       "            setTimeout(function() {\n",
       "                var nbb_cell_id = 18;\n",
       "                var nbb_unformatted_code = \"data = model(torch.tensor([2.0]))\";\n",
       "                var nbb_formatted_code = \"data = model(torch.tensor([2.0]))\";\n",
       "                var nbb_cells = Jupyter.notebook.get_cells();\n",
       "                for (var i = 0; i < nbb_cells.length; ++i) {\n",
       "                    if (nbb_cells[i].input_prompt_number == nbb_cell_id) {\n",
       "                        if (nbb_cells[i].get_text() == nbb_unformatted_code) {\n",
       "                             nbb_cells[i].set_text(nbb_formatted_code);\n",
       "                        }\n",
       "                        break;\n",
       "                    }\n",
       "                }\n",
       "            }, 500);\n",
       "            "
      ],
      "text/plain": [
       "<IPython.core.display.Javascript object>"
      ]
     },
     "metadata": {},
     "output_type": "display_data"
    }
   ],
   "source": [
    "data = model(torch.tensor([2.0]))"
   ]
  },
  {
   "cell_type": "code",
   "execution_count": 19,
   "metadata": {},
   "outputs": [
    {
     "data": {
      "text/plain": [
       "tensor([22.,  2.,  3.,  2.,  6.])"
      ]
     },
     "execution_count": 19,
     "metadata": {},
     "output_type": "execute_result"
    },
    {
     "data": {
      "application/javascript": [
       "\n",
       "            setTimeout(function() {\n",
       "                var nbb_cell_id = 19;\n",
       "                var nbb_unformatted_code = \"data\";\n",
       "                var nbb_formatted_code = \"data\";\n",
       "                var nbb_cells = Jupyter.notebook.get_cells();\n",
       "                for (var i = 0; i < nbb_cells.length; ++i) {\n",
       "                    if (nbb_cells[i].input_prompt_number == nbb_cell_id) {\n",
       "                        if (nbb_cells[i].get_text() == nbb_unformatted_code) {\n",
       "                             nbb_cells[i].set_text(nbb_formatted_code);\n",
       "                        }\n",
       "                        break;\n",
       "                    }\n",
       "                }\n",
       "            }, 500);\n",
       "            "
      ],
      "text/plain": [
       "<IPython.core.display.Javascript object>"
      ]
     },
     "metadata": {},
     "output_type": "display_data"
    }
   ],
   "source": [
    "data"
   ]
  },
  {
   "cell_type": "code",
   "execution_count": 24,
   "metadata": {},
   "outputs": [
    {
     "data": {
      "application/vnd.jupyter.widget-view+json": {
       "model_id": "6b96d2c64cd44242b7c3cb948666a0de",
       "version_major": 2,
       "version_minor": 0
      },
      "text/plain": [
       "HBox(children=(HTML(value='Drawing 10000 posterior samples'), FloatProgress(value=0.0, max=10000.0), HTML(valu…"
      ]
     },
     "metadata": {},
     "output_type": "display_data"
    },
    {
     "name": "stdout",
     "output_type": "stream",
     "text": [
      "\n"
     ]
    },
    {
     "data": {
      "application/javascript": [
       "\n",
       "            setTimeout(function() {\n",
       "                var nbb_cell_id = 24;\n",
       "                var nbb_unformatted_code = \"posterior_samples = posterior.sample((10000,), x=data * 10)\";\n",
       "                var nbb_formatted_code = \"posterior_samples = posterior.sample((10000,), x=data * 10)\";\n",
       "                var nbb_cells = Jupyter.notebook.get_cells();\n",
       "                for (var i = 0; i < nbb_cells.length; ++i) {\n",
       "                    if (nbb_cells[i].input_prompt_number == nbb_cell_id) {\n",
       "                        if (nbb_cells[i].get_text() == nbb_unformatted_code) {\n",
       "                             nbb_cells[i].set_text(nbb_formatted_code);\n",
       "                        }\n",
       "                        break;\n",
       "                    }\n",
       "                }\n",
       "            }, 500);\n",
       "            "
      ],
      "text/plain": [
       "<IPython.core.display.Javascript object>"
      ]
     },
     "metadata": {},
     "output_type": "display_data"
    }
   ],
   "source": [
    "posterior_samples = posterior.sample((10000,), x=data * 10)"
   ]
  },
  {
   "cell_type": "code",
   "execution_count": 25,
   "metadata": {},
   "outputs": [
    {
     "data": {
      "image/png": "[encoded data removed]",
      "text/plain": [
       "<Figure size 360x360 with 1 Axes>"
      ]
     },
     "metadata": {
      "needs_background": "light"
     },
     "output_type": "display_data"
    },
    {
     "data": {
      "application/javascript": [
       "\n",
       "            setTimeout(function() {\n",
       "                var nbb_cell_id = 25;\n",
       "                var nbb_unformatted_code = \"_ = utils.pairplot(posterior_samples, fig_size=(5, 5))\";\n",
       "                var nbb_formatted_code = \"_ = utils.pairplot(posterior_samples, fig_size=(5, 5))\";\n",
       "                var nbb_cells = Jupyter.notebook.get_cells();\n",
       "                for (var i = 0; i < nbb_cells.length; ++i) {\n",
       "                    if (nbb_cells[i].input_prompt_number == nbb_cell_id) {\n",
       "                        if (nbb_cells[i].get_text() == nbb_unformatted_code) {\n",
       "                             nbb_cells[i].set_text(nbb_formatted_code);\n",
       "                        }\n",
       "                        break;\n",
       "                    }\n",
       "                }\n",
       "            }, 500);\n",
       "            "
      ],
      "text/plain": [
       "<IPython.core.display.Javascript object>"
      ]
     },
     "metadata": {},
     "output_type": "display_data"
    }
   ],
   "source": [
    "_ = utils.pairplot(posterior_samples, fig_size=(5, 5))"
   ]
  },
  {
   "cell_type": "code",
   "execution_count": 26,
   "metadata": {},
   "outputs": [
    {
     "data": {
      "text/plain": [
       "tensor([2200.,  200.,  300.,  200.,  600.])"
      ]
     },
     "execution_count": 26,
     "metadata": {},
     "output_type": "execute_result"
    },
    {
     "data": {
      "application/javascript": [
       "\n",
       "            setTimeout(function() {\n",
       "                var nbb_cell_id = 26;\n",
       "                var nbb_unformatted_code = \"data * 100\";\n",
       "                var nbb_formatted_code = \"data * 100\";\n",
       "                var nbb_cells = Jupyter.notebook.get_cells();\n",
       "                for (var i = 0; i < nbb_cells.length; ++i) {\n",
       "                    if (nbb_cells[i].input_prompt_number == nbb_cell_id) {\n",
       "                        if (nbb_cells[i].get_text() == nbb_unformatted_code) {\n",
       "                             nbb_cells[i].set_text(nbb_formatted_code);\n",
       "                        }\n",
       "                        break;\n",
       "                    }\n",
       "                }\n",
       "            }, 500);\n",
       "            "
      ],
      "text/plain": [
       "<IPython.core.display.Javascript object>"
      ]
     },
     "metadata": {},
     "output_type": "display_data"
    }
   ],
   "source": [
    "data * 100"
   ]
  },
  {
   "cell_type": "markdown",
   "metadata": {},
   "source": [
    "# Future steps"
   ]
  },
  {
   "cell_type": "markdown",
   "metadata": {},
   "source": [
    "1. Correlate the obtained $\\rho$ with price and brand (for now - may add other features like text embeddings in the future)\n",
    "2. Incorporate time series information (through a CNN if $\\rho$ equal over time, through RNN if we assume $\\rho$ to vary)\n",
    "3. Can add weights as parameters in the GM to tease apart competing explanations (e.g conformity, BM vs motivation), can also add other product features and infer weights directly in the model (vs separate regression)"
   ]
  },
  {
   "cell_type": "code",
   "execution_count": null,
   "metadata": {},
   "outputs": [],
   "source": []
  }
 ],
 "metadata": {
  "kernelspec": {
   "display_name": "Python 3",
   "language": "python",
   "name": "python3"
  },
  "language_info": {
   "codemirror_mode": {
    "name": "ipython",
    "version": 3
   },
   "file_extension": ".py",
   "mimetype": "text/x-python",
   "name": "python",
   "nbconvert_exporter": "python",
   "pygments_lexer": "ipython3",
   "version": "3.7.4"
  }
 },
 "nbformat": 4,
 "nbformat_minor": 4
}
