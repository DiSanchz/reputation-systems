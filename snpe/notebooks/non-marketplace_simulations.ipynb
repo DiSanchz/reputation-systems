{
 "cells": [
  {
   "cell_type": "markdown",
   "id": "c2b16772",
   "metadata": {},
   "source": [
    "# Non-marketplace simulations"
   ]
  },
  {
   "cell_type": "markdown",
   "id": "98992575",
   "metadata": {},
   "source": [
    "### A. Introduction"
   ]
  },
  {
   "cell_type": "markdown",
   "id": "c95e1d8b",
   "metadata": {},
   "source": [
    "In this notebook you will see how to run the four classes of non-marketplace simulations. The factor that differentiates these simulations is the number of Rho and Herding parameters considered in each of them. At this point it might be useful to formulate a brief reminder about the nature of the aforementioned parameters:\n",
    "\n",
    "- __Rho (ρ)__: Represents the cost of posting a rating measured in terms of the difference between the expected product experience and the actual product experience. The higher Rho is, the higher the difference between the expected and the actual experience will have to be for the user to leave a review about the product. \n",
    "\n",
    "\n",
    "\n",
    "- __Herding parameter__: A product-specific measurement of the probability of exhibiting herding behavior (i.e. be influenced by previous users' reviews at the time of posting a review). The higher that the herding parameter is, the more likely it is that the review of a user will be influenced by all previously posted reviews.\n",
    "\n",
    "\n",
    "As mentioned, there are four different classes of non-marketplace simulations of increasing complexity defined by the number of Rho and herding parameters considered.\n",
    "\n",
    "1. __Single Rho Simulation__: It is represented by the SingleRhoSimulator class. This configuration considers the inclussion of a unique value for the rho paramter that is prevalent whether the actual product exprience was better or worse than expected. This implies that the cost of rating is the same irrespective of the sentiment behind such rating.  \n",
    "\n",
    "\n",
    "2. __Double Rho Simulation__: It is represented by the DoubleRhoSimulator class, which is a child class of the single SingleRhoSImulator. This kind of simulation allows for the existence of two different rho parameters. One of these will apply for the cases when the the difference between the actual and the expected product experience is positive (denoted as ρ+) while the other applies in those cases where such difference is negative (denoted as ρ-). This kind of simulation allows you to consider different costs for leaving a review depending on the sentiment (positive/negative) behind it.\n",
    "\n",
    "\n",
    "3. __Herding Simulation__: It is represented by the HerdingSimulator class, which is a child class of the DoubleRhoSimulation class. It adds a herding parameter to the Double Rho Simulation. Now in case that a given user decides to leave a review, (i.e. the difference between the actual and the expected product experience is larger than corresponding rho parameter) it will be subject to a given probability of exhibiting herding behaviour while doing so.\n",
    "\n",
    "\n",
    "4. __Double Herding Simulation__: It is represented by the DoubleHerdingSimulator class which is a child of the HerdingSimulatorClass. A second product-specific herding parameter is included. One of the herding parameters will apply when the visitor's intended rating is above a given metric of choice (the mode and the mean are contemplated) of the previously existing rating, while the other applies when the intended rating is below such metric. \n",
    "\n",
    "If you want to see more in detail these different simulator classes you can visit the \"simulator_class.py\" file located in \"snpe/snpe/simulations/\" inside the repo, where you will find the code behind these classes.\n"
   ]
  },
  {
   "cell_type": "markdown",
   "id": "8610b120",
   "metadata": {},
   "source": [
    "### B. Preparing the simulation"
   ]
  },
  {
   "cell_type": "markdown",
   "id": "ef87e2b1",
   "metadata": {},
   "source": [
    "After having reviewed the differences between the four contemplated classes of non-marketplace simulations, lets execute the following cell containing the relevant imports to make them posible alongside other related settings."
   ]
  },
  {
   "cell_type": "code",
   "execution_count": 1,
   "id": "cfa8509a",
   "metadata": {},
   "outputs": [
    {
     "data": {
      "application/javascript": [
       "\n",
       "            setTimeout(function() {\n",
       "                var nbb_cell_id = 1;\n",
       "                var nbb_unformatted_code = \"# Cell 1\\n%load_ext autoreload\\n%autoreload 2\\n\\n# Cell 2\\n### Just a formatting related plugin\\n%load_ext nb_black\\n\\n# Cell 3\\n%matplotlib inline\\nimport matplotlib.pyplot as plt\\n\\n# Cell 4\\nimport sys\\n\\nsys.path.append(\\\"../\\\")\\n\\n# Cell 5\\nimport multiprocessing as mp\\n\\nfrom collections import deque\\nfrom pathlib import Path\\nfrom typing import Dict, Optional\\n\\nimport arviz\\n\\nimport numpy as np\\nimport pandas as pd\\nimport pyreadr\\nimport sbi\\nimport sbi.utils as sbi_utils\\nimport seaborn as sns\\nimport statsmodels.formula.api as smf\\nimport torch\\n\\nfrom joblib import Parallel, delayed\\nfrom matplotlib.lines import Line2D\\nfrom scipy.stats import ttest_ind\\nfrom snpe.inference import inference_class\\nfrom snpe.simulations import simulator_class\\nfrom snpe.utils.statistics import review_histogram_correlation\\nfrom snpe.utils.tqdm_utils import tqdm_joblib\\nfrom tqdm import tqdm\\n\\n### Set plotting parameters\\nsns.set(style=\\\"white\\\", context=\\\"talk\\\", font_scale=2.5)\\nsns.set_color_codes(palette=\\\"colorblind\\\")\\nsns.set_style(\\\"ticks\\\", {\\\"axes.linewidth\\\": 2.0})\\n\\n# Cell 6\\nARTIFACT_PATH = Path(\\\"../../../\\\")\";\n",
       "                var nbb_formatted_code = \"# Cell 1\\n%load_ext autoreload\\n%autoreload 2\\n\\n# Cell 2\\n### Just a formatting related plugin\\n%load_ext nb_black\\n\\n# Cell 3\\n%matplotlib inline\\nimport matplotlib.pyplot as plt\\n\\n# Cell 4\\nimport sys\\n\\nsys.path.append(\\\"../\\\")\\n\\n# Cell 5\\nimport multiprocessing as mp\\n\\nfrom collections import deque\\nfrom pathlib import Path\\nfrom typing import Dict, Optional\\n\\nimport arviz\\n\\nimport numpy as np\\nimport pandas as pd\\nimport pyreadr\\nimport sbi\\nimport sbi.utils as sbi_utils\\nimport seaborn as sns\\nimport statsmodels.formula.api as smf\\nimport torch\\n\\nfrom joblib import Parallel, delayed\\nfrom matplotlib.lines import Line2D\\nfrom scipy.stats import ttest_ind\\nfrom snpe.inference import inference_class\\nfrom snpe.simulations import simulator_class\\nfrom snpe.utils.statistics import review_histogram_correlation\\nfrom snpe.utils.tqdm_utils import tqdm_joblib\\nfrom tqdm import tqdm\\n\\n### Set plotting parameters\\nsns.set(style=\\\"white\\\", context=\\\"talk\\\", font_scale=2.5)\\nsns.set_color_codes(palette=\\\"colorblind\\\")\\nsns.set_style(\\\"ticks\\\", {\\\"axes.linewidth\\\": 2.0})\\n\\n# Cell 6\\nARTIFACT_PATH = Path(\\\"../../../\\\")\";\n",
       "                var nbb_cells = Jupyter.notebook.get_cells();\n",
       "                for (var i = 0; i < nbb_cells.length; ++i) {\n",
       "                    if (nbb_cells[i].input_prompt_number == nbb_cell_id) {\n",
       "                        if (nbb_cells[i].get_text() == nbb_unformatted_code) {\n",
       "                             nbb_cells[i].set_text(nbb_formatted_code);\n",
       "                        }\n",
       "                        break;\n",
       "                    }\n",
       "                }\n",
       "            }, 500);\n",
       "            "
      ],
      "text/plain": [
       "<IPython.core.display.Javascript object>"
      ]
     },
     "metadata": {},
     "output_type": "display_data"
    }
   ],
   "source": [
    "\n",
    "%load_ext autoreload\n",
    "%autoreload 2\n",
    "\n",
    "### Just a formatting related plugin\n",
    "%load_ext nb_black\n",
    "\n",
    "%matplotlib inline\n",
    "import matplotlib.pyplot as plt\n",
    "\n",
    "import sys\n",
    "\n",
    "sys.path.append(\"../\")\n",
    "\n",
    "import multiprocessing as mp\n",
    "\n",
    "from collections import deque\n",
    "from pathlib import Path\n",
    "from typing import Dict, Optional\n",
    "\n",
    "import arviz\n",
    "\n",
    "import numpy as np\n",
    "import pandas as pd\n",
    "import pyreadr\n",
    "import sbi\n",
    "import sbi.utils as sbi_utils\n",
    "import seaborn as sns\n",
    "import statsmodels.formula.api as smf\n",
    "import torch\n",
    "\n",
    "from joblib import Parallel, delayed\n",
    "from matplotlib.lines import Line2D\n",
    "from scipy.stats import ttest_ind\n",
    "from snpe.inference import inference_class\n",
    "from snpe.simulations import simulator_class\n",
    "from snpe.utils.statistics import review_histogram_correlation\n",
    "from snpe.utils.tqdm_utils import tqdm_joblib\n",
    "from tqdm import tqdm\n",
    "\n",
    "### Set plotting parameters\n",
    "sns.set(style=\"white\", context=\"talk\", font_scale=2.5)\n",
    "sns.set_color_codes(palette=\"colorblind\")\n",
    "sns.set_style(\"ticks\", {\"axes.linewidth\": 2.0})"
   ]
  },
  {
   "cell_type": "markdown",
   "id": "18adf9ca",
   "metadata": {},
   "source": [
    "In the cell below the path where the output of the simulation will be stored is defined, modify it to match your storage prefferences."
   ]
  },
  {
   "cell_type": "code",
   "execution_count": null,
   "id": "1086598b",
   "metadata": {},
   "outputs": [],
   "source": [
    "ARTIFACT_PATH = Path(\"../../../\")"
   ]
  },
  {
   "cell_type": "markdown",
   "id": "3a22b86a",
   "metadata": {},
   "source": [
    "Another option to adjust is the number of CPUs involved in the simulation. The cell below adjusts it to employ all the CPUs available."
   ]
  },
  {
   "cell_type": "code",
   "execution_count": 18,
   "id": "1fc65061",
   "metadata": {},
   "outputs": [
    {
     "name": "stdout",
     "output_type": "stream",
     "text": [
      "The number of available CPUs is: 8\n",
      "The number of CPUs to be employed will be 8\n"
     ]
    },
    {
     "data": {
      "application/javascript": [
       "\n",
       "            setTimeout(function() {\n",
       "                var nbb_cell_id = 18;\n",
       "                var nbb_unformatted_code = \"print(f\\\"The number of available CPUs is: {mp.cpu_count()}\\\")\\ntorch.set_num_threads(mp.cpu_count())\\nprint(f\\\"The number of CPUs to be employed will be {torch.get_num_threads()}\\\")\";\n",
       "                var nbb_formatted_code = \"print(f\\\"The number of available CPUs is: {mp.cpu_count()}\\\")\\ntorch.set_num_threads(mp.cpu_count())\\nprint(f\\\"The number of CPUs to be employed will be {torch.get_num_threads()}\\\")\";\n",
       "                var nbb_cells = Jupyter.notebook.get_cells();\n",
       "                for (var i = 0; i < nbb_cells.length; ++i) {\n",
       "                    if (nbb_cells[i].input_prompt_number == nbb_cell_id) {\n",
       "                        if (nbb_cells[i].get_text() == nbb_unformatted_code) {\n",
       "                             nbb_cells[i].set_text(nbb_formatted_code);\n",
       "                        }\n",
       "                        break;\n",
       "                    }\n",
       "                }\n",
       "            }, 500);\n",
       "            "
      ],
      "text/plain": [
       "<IPython.core.display.Javascript object>"
      ]
     },
     "metadata": {},
     "output_type": "display_data"
    }
   ],
   "source": [
    "print(f\"The number of available CPUs is: {mp.cpu_count()}\")\n",
    "torch.set_num_threads(mp.cpu_count())\n",
    "print(f\"The number of CPUs to be employed will be {torch.get_num_threads()}\")"
   ]
  },
  {
   "cell_type": "markdown",
   "id": "d74645eb",
   "metadata": {},
   "source": [
    "### C. The simulation and its arguments"
   ]
  },
  {
   "cell_type": "markdown",
   "id": "c6ea6abe",
   "metadata": {},
   "source": [
    "The generate and save function defined below, as you will see, is in charge of calling the desired simulator class and deliver the necessary arguments to run the simulation once we have provided them. Lets briefly review which are these arguments involved in the simulation.\n",
    "\n",
    "- __num_simulations__: Number of customers (Integer) to simulate. Each one is equivalent to the entire journey of a consumer consisting on:\n",
    "    1. Reviewing the prior reviews of a product and forming an expectation of the product\n",
    "    2. Purchase and experience the product\n",
    "    3. Decide whether to leave a rating or not based on the difference between the expected experience and the actual experience. If the result of the decision is positive the consumer will continue to points 4 and 5, otherwise the simulation ends here.\n",
    "    4. \"Decide\" whether to exhibit herding behavior in its rating in case it is being posted.\n",
    "    5. Post the rating.\n",
    "    \n",
    "\n",
    "- __review_prior__: Set of initial ratings of the product that are pre-loaded before the simulation starts, taking the shape of an array of five integer values. By default this is set as an array os five 1s. This implies that by the time the first consumer of the simulation reviews the product 5 prior reviews will be observed, each of them assigned to one of the five values composing the rating scale [1 - 5]. \n",
    "\n",
    "\n",
    "- __tendency_to_rate__: Underliying tendency to rate for all consumers taking float values in the interval [0,1]. In other words, this is the proportion of consumers that will post a rating regardless of the value of the rho parameter(s) and the difference between their actual and expected product experience. If set at the default value of 0.05, 5% of all consumers will post a rating independently of the other factors at play in the simulation.\n",
    "\n",
    "\n",
    "- __simulation_type__: Type of simulation output to produce between timeseries and histogram. Accepts the strings \"timeseries\" and \"histogram\" as inputs.\n",
    "\n",
    "\n",
    "- __previous_rating_measure__: Measure of previous ratings that will be taken as reference when experiencing herding behavior. It can be either the mean, the mode or the latest review posted. For example, if a consumer leaves a rating being subject to herding and this parameter is set as mode, it will herd towards the mode of all previous reviews. This argument is specific of the Herding and Double herding simulations and takes the strings \"mode\", \"mean\" and \"latest\" as valid inputs.\n",
    "\n",
    "\n",
    "- __min_reviews_for_herding__: Minimum number of pre-existing reviews for a consumer to be able to be subject to herding behavior. It has to be an integer value larger than 0. This argument is specific of the Herding and Double herding simulations.\n",
    "\n",
    "\n",
    "- __herding_differentiating_measure__: Measure of the already posted ratings to be considered as threshold around which the different herding parameters will apply. This measure can be the mean or the mode of the previous ratings. In case this parameter is set as \"mean\" one herding parameter will apply if the consumer's intended rating is above the mean while a different one will do if it is below. This argument is specific of the Double herding simulation and takes the strings \"mode\" and \"mean\" as valid inputs.\n",
    "\n",
    "\n",
    "- __simulation_class__:  Simulation class to run between the four existing ones. It takes any of the strings described below as a valid input:  \n",
    "\n",
    "    - \"singlerho\" for Single rho simulation\n",
    "    - \"doublerho\" for Double rho simulation\n",
    "    - \"herding\" for Herding simulation\n",
    "    - \"doubleherding\" for  Double herding simulation"
   ]
  },
  {
   "cell_type": "code",
   "execution_count": 12,
   "id": "f8b8630b",
   "metadata": {},
   "outputs": [
    {
     "data": {
      "application/javascript": [
       "\n",
       "            setTimeout(function() {\n",
       "                var nbb_cell_id = 12;\n",
       "                var nbb_unformatted_code = \"def generate_and_save_simulations(\\n    num_simulations: int,\\n    review_prior: np.array,\\n    tendency_to_rate: float,\\n    simulation_type: str,\\n    previous_rating_measure: str,\\n    min_reviews_for_herding: int,\\n    herding_differentiating_measure: str,\\n    simulation_class: int,\\n) -> None:\\n    assert simulation_class in [\\n        \\\"singlerho\\\",\\n        \\\"doublerho\\\",\\n        \\\"herding\\\",\\n        \\\"doubleherding\\\",] ,\\\" Can only use singlerho/doublerho/herding/doubleherding as simulation classes, please enter a valid class.\\\"\\n    params = {\\n        \\\"review_prior\\\": review_prior,\\n        \\\"tendency_to_rate\\\": tendency_to_rate,\\n        \\\"simulation_type\\\": simulation_type,\\n        \\\"previous_rating_measure\\\": previous_rating_measure,\\n    }\\n\\n    params_double = params.copy()\\n    params_herding = params.copy()\\n    params_herding.update(\\n        {\\n            \\\"previous_rating_measure\\\": previous_rating_measure,\\n            \\\"min_reviews_for_herding\\\": min_reviews_for_herding,\\n        }\\n    )\\n\\n    params_double_herding = params_herding.copy()\\n    params_double_herding.update(\\n        {\\\"herding_differentiating_measure\\\": herding_differentiating_measure}\\n    )\\n\\n    simulation_classes = {\\n        \\\"singlerho\\\": simulator_class.SingleRhoSimulator(params),\\n        \\\"doublerho\\\": simulator_class.DoubleRhoSimulator(params_double),\\n        \\\"herding\\\": simulator_class.HerdingSimulator(params_herding),\\n        \\\"doubleherding\\\": simulator_class.DoubleHerdingSimulator(params_double_herding),\\n    }\\n\\n    simulator = simulation_classes.get(simulation_class)\\n    print(\\\"Simulation type\\\" + str(simulation_classes.get(simulation_class)))\\n    simulator.simulate(num_simulations=num_simulations)\\n    simulator.save_simulations(ARTIFACT_PATH)\";\n",
       "                var nbb_formatted_code = \"def generate_and_save_simulations(\\n    num_simulations: int,\\n    review_prior: np.array,\\n    tendency_to_rate: float,\\n    simulation_type: str,\\n    previous_rating_measure: str,\\n    min_reviews_for_herding: int,\\n    herding_differentiating_measure: str,\\n    simulation_class: int,\\n) -> None:\\n    assert simulation_class in [\\n        \\\"singlerho\\\",\\n        \\\"doublerho\\\",\\n        \\\"herding\\\",\\n        \\\"doubleherding\\\",\\n    ], \\\" Can only use singlerho/doublerho/herding/doubleherding as simulation classes, please enter a valid class.\\\"\\n    params = {\\n        \\\"review_prior\\\": review_prior,\\n        \\\"tendency_to_rate\\\": tendency_to_rate,\\n        \\\"simulation_type\\\": simulation_type,\\n        \\\"previous_rating_measure\\\": previous_rating_measure,\\n    }\\n\\n    params_double = params.copy()\\n    params_herding = params.copy()\\n    params_herding.update(\\n        {\\n            \\\"previous_rating_measure\\\": previous_rating_measure,\\n            \\\"min_reviews_for_herding\\\": min_reviews_for_herding,\\n        }\\n    )\\n\\n    params_double_herding = params_herding.copy()\\n    params_double_herding.update(\\n        {\\\"herding_differentiating_measure\\\": herding_differentiating_measure}\\n    )\\n\\n    simulation_classes = {\\n        \\\"singlerho\\\": simulator_class.SingleRhoSimulator(params),\\n        \\\"doublerho\\\": simulator_class.DoubleRhoSimulator(params_double),\\n        \\\"herding\\\": simulator_class.HerdingSimulator(params_herding),\\n        \\\"doubleherding\\\": simulator_class.DoubleHerdingSimulator(params_double_herding),\\n    }\\n\\n    simulator = simulation_classes.get(simulation_class)\\n    print(\\\"Simulation type\\\" + str(simulation_classes.get(simulation_class)))\\n    simulator.simulate(num_simulations=num_simulations)\\n    simulator.save_simulations(ARTIFACT_PATH)\";\n",
       "                var nbb_cells = Jupyter.notebook.get_cells();\n",
       "                for (var i = 0; i < nbb_cells.length; ++i) {\n",
       "                    if (nbb_cells[i].input_prompt_number == nbb_cell_id) {\n",
       "                        if (nbb_cells[i].get_text() == nbb_unformatted_code) {\n",
       "                             nbb_cells[i].set_text(nbb_formatted_code);\n",
       "                        }\n",
       "                        break;\n",
       "                    }\n",
       "                }\n",
       "            }, 500);\n",
       "            "
      ],
      "text/plain": [
       "<IPython.core.display.Javascript object>"
      ]
     },
     "metadata": {},
     "output_type": "display_data"
    }
   ],
   "source": [
    "def generate_and_save_simulations(\n",
    "    num_simulations: int,\n",
    "    review_prior: np.array,\n",
    "    tendency_to_rate: float,\n",
    "    simulation_type: str,\n",
    "    previous_rating_measure: str,\n",
    "    min_reviews_for_herding: int,\n",
    "    herding_differentiating_measure: str,\n",
    "    simulation_class: int,\n",
    ") -> None:\n",
    "    assert simulation_class in [\n",
    "        \"singlerho\",\n",
    "        \"doublerho\",\n",
    "        \"herding\",\n",
    "        \"doubleherding\",\n",
    "    ], \" Can only use singlerho/doublerho/herding/doubleherding as simulation classes, please enter a valid class.\"\n",
    "    params = {\n",
    "        \"review_prior\": review_prior,\n",
    "        \"tendency_to_rate\": tendency_to_rate,\n",
    "        \"simulation_type\": simulation_type,\n",
    "        \"previous_rating_measure\": previous_rating_measure,\n",
    "    }\n",
    "\n",
    "    params_double = params.copy()\n",
    "    params_herding = params.copy()\n",
    "    params_herding.update(\n",
    "        {\n",
    "            \"previous_rating_measure\": previous_rating_measure,\n",
    "            \"min_reviews_for_herding\": min_reviews_for_herding,\n",
    "        }\n",
    "    )\n",
    "\n",
    "    params_double_herding = params_herding.copy()\n",
    "    params_double_herding.update(\n",
    "        {\"herding_differentiating_measure\": herding_differentiating_measure}\n",
    "    )\n",
    "\n",
    "    simulation_classes = {\n",
    "        \"singlerho\": simulator_class.SingleRhoSimulator(params),\n",
    "        \"doublerho\": simulator_class.DoubleRhoSimulator(params_double),\n",
    "        \"herding\": simulator_class.HerdingSimulator(params_herding),\n",
    "        \"doubleherding\": simulator_class.DoubleHerdingSimulator(params_double_herding),\n",
    "    }\n",
    "\n",
    "    simulator = simulation_classes.get(simulation_class)\n",
    "    print(\"Simulation type\" + str(simulation_classes.get(simulation_class)))\n",
    "    simulator.simulate(num_simulations=num_simulations)\n",
    "    simulator.save_simulations(ARTIFACT_PATH)"
   ]
  },
  {
   "cell_type": "markdown",
   "id": "e680cde0",
   "metadata": {},
   "source": [
    "### D. Running the simulation"
   ]
  },
  {
   "cell_type": "markdown",
   "id": "6df62b31",
   "metadata": {},
   "source": [
    "Finally we can run the simulation by calling the \"generate_and_save\" function providing the desired parameters. In the example below a Double herding simulation of the timeseries type is carried out for ten consumers. Five ratings (one for each rating value) are pre-loaded, the tendency to rate is set at 5%, the mode (of all previous ratings) is taken as the reference metric for herding while the threshold for the doubleherding is determined by the mean (of al previous ratings). Lastly, 5 is the minimum number of previous reviews required for herding. (Given that we are already providing 5 ratings to begin with, herding will be possible from the start of the simulation). "
   ]
  },
  {
   "cell_type": "code",
   "execution_count": 15,
   "id": "759d6525",
   "metadata": {
    "scrolled": true
   },
   "outputs": [
    {
     "name": "stdout",
     "output_type": "stream",
     "text": [
      "Simulation type<snpe.simulations.simulator_class.SingleRhoSimulator object at 0x7fe8b98cc4c0>\n"
     ]
    },
    {
     "name": "stderr",
     "output_type": "stream",
     "text": [
      "Simulations: 100% 1/1 [00:10<00:00, 10.93s/it]\n"
     ]
    },
    {
     "data": {
      "application/javascript": [
       "\n",
       "            setTimeout(function() {\n",
       "                var nbb_cell_id = 15;\n",
       "                var nbb_unformatted_code = \"# Simulate\\ngenerate_and_save_simulations(1, np.ones(5), 0.05, \\\"timeseries\\\", \\\"mode\\\", 5, \\\"mean\\\", \\\"singlerho\\\")\";\n",
       "                var nbb_formatted_code = \"# Simulate\\ngenerate_and_save_simulations(\\n    1, np.ones(5), 0.05, \\\"timeseries\\\", \\\"mode\\\", 5, \\\"mean\\\", \\\"singlerho\\\"\\n)\";\n",
       "                var nbb_cells = Jupyter.notebook.get_cells();\n",
       "                for (var i = 0; i < nbb_cells.length; ++i) {\n",
       "                    if (nbb_cells[i].input_prompt_number == nbb_cell_id) {\n",
       "                        if (nbb_cells[i].get_text() == nbb_unformatted_code) {\n",
       "                             nbb_cells[i].set_text(nbb_formatted_code);\n",
       "                        }\n",
       "                        break;\n",
       "                    }\n",
       "                }\n",
       "            }, 500);\n",
       "            "
      ],
      "text/plain": [
       "<IPython.core.display.Javascript object>"
      ]
     },
     "metadata": {},
     "output_type": "display_data"
    }
   ],
   "source": [
    "generate_and_save_simulations(10, np.ones(5), 0.05, \"timeseries\", \"mode\", 5, \"mean\", \"doubleherding\")"
   ]
  }
 ],
 "metadata": {
  "kernelspec": {
   "display_name": "Python 3 (ipykernel)",
   "language": "python",
   "name": "python3"
  },
  "language_info": {
   "codemirror_mode": {
    "name": "ipython",
    "version": 3
   },
   "file_extension": ".py",
   "mimetype": "text/x-python",
   "name": "python",
   "nbconvert_exporter": "python",
   "pygments_lexer": "ipython3",
   "version": "3.9.12"
  }
 },
 "nbformat": 4,
 "nbformat_minor": 5
}
