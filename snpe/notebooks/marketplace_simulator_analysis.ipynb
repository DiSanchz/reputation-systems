{
 "cells": [
  {
   "cell_type": "raw",
   "id": "51d00e1a",
   "metadata": {},
   "source": []
  },
  {
   "cell_type": "markdown",
   "id": "96879790",
   "metadata": {},
   "source": [
    "# This notebook is for use on cloud services where interactive use of matplotlib is hard. A script similar to this notebook is in in: snpe/marketplace_simulator_analysis.py"
   ]
  },
  {
   "cell_type": "code",
   "execution_count": 1,
   "id": "d2095d65",
   "metadata": {},
   "outputs": [],
   "source": [
    "%load_ext autoreload\n",
    "%autoreload 2"
   ]
  },
  {
   "cell_type": "code",
   "execution_count": 2,
   "id": "14912a32",
   "metadata": {},
   "outputs": [
    {
     "data": {
      "application/javascript": [
       "\n",
       "            setTimeout(function() {\n",
       "                var nbb_cell_id = 2;\n",
       "                var nbb_unformatted_code = \"# Just a formatting related plugin\\n%load_ext nb_black\";\n",
       "                var nbb_formatted_code = \"# Just a formatting related plugin\\n%load_ext nb_black\";\n",
       "                var nbb_cells = Jupyter.notebook.get_cells();\n",
       "                for (var i = 0; i < nbb_cells.length; ++i) {\n",
       "                    if (nbb_cells[i].input_prompt_number == nbb_cell_id) {\n",
       "                        if (nbb_cells[i].get_text() == nbb_unformatted_code) {\n",
       "                             nbb_cells[i].set_text(nbb_formatted_code);\n",
       "                        }\n",
       "                        break;\n",
       "                    }\n",
       "                }\n",
       "            }, 500);\n",
       "            "
      ],
      "text/plain": [
       "<IPython.core.display.Javascript object>"
      ]
     },
     "metadata": {},
     "output_type": "display_data"
    }
   ],
   "source": [
    "# Just a formatting related plugin\n",
    "%load_ext nb_black"
   ]
  },
  {
   "cell_type": "code",
   "execution_count": 3,
   "id": "93ff67e7",
   "metadata": {},
   "outputs": [
    {
     "data": {
      "application/javascript": [
       "\n",
       "            setTimeout(function() {\n",
       "                var nbb_cell_id = 3;\n",
       "                var nbb_unformatted_code = \"%matplotlib inline\\nimport matplotlib.pyplot as plt\";\n",
       "                var nbb_formatted_code = \"%matplotlib inline\\nimport matplotlib.pyplot as plt\";\n",
       "                var nbb_cells = Jupyter.notebook.get_cells();\n",
       "                for (var i = 0; i < nbb_cells.length; ++i) {\n",
       "                    if (nbb_cells[i].input_prompt_number == nbb_cell_id) {\n",
       "                        if (nbb_cells[i].get_text() == nbb_unformatted_code) {\n",
       "                             nbb_cells[i].set_text(nbb_formatted_code);\n",
       "                        }\n",
       "                        break;\n",
       "                    }\n",
       "                }\n",
       "            }, 500);\n",
       "            "
      ],
      "text/plain": [
       "<IPython.core.display.Javascript object>"
      ]
     },
     "metadata": {},
     "output_type": "display_data"
    }
   ],
   "source": [
    "%matplotlib inline\n",
    "import matplotlib.pyplot as plt"
   ]
  },
  {
   "cell_type": "code",
   "execution_count": 4,
   "id": "6c45ecfb",
   "metadata": {},
   "outputs": [
    {
     "data": {
      "application/javascript": [
       "\n",
       "            setTimeout(function() {\n",
       "                var nbb_cell_id = 4;\n",
       "                var nbb_unformatted_code = \"import sys\\n\\nsys.path.append(\\\"../\\\")\";\n",
       "                var nbb_formatted_code = \"import sys\\n\\nsys.path.append(\\\"../\\\")\";\n",
       "                var nbb_cells = Jupyter.notebook.get_cells();\n",
       "                for (var i = 0; i < nbb_cells.length; ++i) {\n",
       "                    if (nbb_cells[i].input_prompt_number == nbb_cell_id) {\n",
       "                        if (nbb_cells[i].get_text() == nbb_unformatted_code) {\n",
       "                             nbb_cells[i].set_text(nbb_formatted_code);\n",
       "                        }\n",
       "                        break;\n",
       "                    }\n",
       "                }\n",
       "            }, 500);\n",
       "            "
      ],
      "text/plain": [
       "<IPython.core.display.Javascript object>"
      ]
     },
     "metadata": {},
     "output_type": "display_data"
    }
   ],
   "source": [
    "import sys\n",
    "\n",
    "sys.path.append(\"../\")"
   ]
  },
  {
   "cell_type": "code",
   "execution_count": 5,
   "id": "6a5b57e5",
   "metadata": {},
   "outputs": [
    {
     "data": {
      "application/javascript": [
       "\n",
       "            setTimeout(function() {\n",
       "                var nbb_cell_id = 5;\n",
       "                var nbb_unformatted_code = \"import multiprocessing as mp\\n\\nfrom collections import deque\\nfrom pathlib import Path\\nfrom typing import Dict, Optional\\n\\nimport arviz\\n\\nimport numpy as np\\nimport pandas as pd\\nimport pyreadr\\nimport sbi\\nimport sbi.utils as sbi_utils\\nimport seaborn as sns\\nimport statsmodels.formula.api as smf\\nimport torch\\n\\nfrom joblib import Parallel, delayed\\nfrom matplotlib.lines import Line2D\\nfrom scipy.stats import ttest_ind\\nfrom snpe.inference import inference_class\\nfrom snpe.simulations import simulator_class\\nfrom snpe.utils.statistics import review_histogram_correlation\\nfrom snpe.utils.tqdm_utils import tqdm_joblib\\nfrom tqdm import tqdm\\n\\n# Set plotting parameters\\nsns.set(style=\\\"white\\\", context=\\\"talk\\\", font_scale=2.5)\\nsns.set_color_codes(palette=\\\"colorblind\\\")\\nsns.set_style(\\\"ticks\\\", {\\\"axes.linewidth\\\": 2.0})\";\n",
       "                var nbb_formatted_code = \"import multiprocessing as mp\\n\\nfrom collections import deque\\nfrom pathlib import Path\\nfrom typing import Dict, Optional\\n\\nimport arviz\\n\\nimport numpy as np\\nimport pandas as pd\\nimport pyreadr\\nimport sbi\\nimport sbi.utils as sbi_utils\\nimport seaborn as sns\\nimport statsmodels.formula.api as smf\\nimport torch\\n\\nfrom joblib import Parallel, delayed\\nfrom matplotlib.lines import Line2D\\nfrom scipy.stats import ttest_ind\\nfrom snpe.inference import inference_class\\nfrom snpe.simulations import simulator_class\\nfrom snpe.utils.statistics import review_histogram_correlation\\nfrom snpe.utils.tqdm_utils import tqdm_joblib\\nfrom tqdm import tqdm\\n\\n# Set plotting parameters\\nsns.set(style=\\\"white\\\", context=\\\"talk\\\", font_scale=2.5)\\nsns.set_color_codes(palette=\\\"colorblind\\\")\\nsns.set_style(\\\"ticks\\\", {\\\"axes.linewidth\\\": 2.0})\";\n",
       "                var nbb_cells = Jupyter.notebook.get_cells();\n",
       "                for (var i = 0; i < nbb_cells.length; ++i) {\n",
       "                    if (nbb_cells[i].input_prompt_number == nbb_cell_id) {\n",
       "                        if (nbb_cells[i].get_text() == nbb_unformatted_code) {\n",
       "                             nbb_cells[i].set_text(nbb_formatted_code);\n",
       "                        }\n",
       "                        break;\n",
       "                    }\n",
       "                }\n",
       "            }, 500);\n",
       "            "
      ],
      "text/plain": [
       "<IPython.core.display.Javascript object>"
      ]
     },
     "metadata": {},
     "output_type": "display_data"
    }
   ],
   "source": [
    "import multiprocessing as mp\n",
    "\n",
    "from collections import deque\n",
    "from pathlib import Path\n",
    "from typing import Dict, Optional\n",
    "\n",
    "import arviz\n",
    "\n",
    "import numpy as np\n",
    "import pandas as pd\n",
    "import pyreadr\n",
    "import sbi\n",
    "import sbi.utils as sbi_utils\n",
    "import seaborn as sns\n",
    "import statsmodels.formula.api as smf\n",
    "import torch\n",
    "\n",
    "from joblib import Parallel, delayed\n",
    "from matplotlib.lines import Line2D\n",
    "from scipy.stats import ttest_ind\n",
    "from snpe.inference import inference_class\n",
    "from snpe.simulations import simulator_class\n",
    "from snpe.utils.statistics import review_histogram_correlation\n",
    "from snpe.utils.tqdm_utils import tqdm_joblib\n",
    "from tqdm import tqdm\n",
    "\n",
    "# Set plotting parameters\n",
    "sns.set(style=\"white\", context=\"talk\", font_scale=2.5)\n",
    "sns.set_color_codes(palette=\"colorblind\")\n",
    "sns.set_style(\"ticks\", {\"axes.linewidth\": 2.0})"
   ]
  },
  {
   "cell_type": "code",
   "execution_count": 6,
   "id": "cd004dff",
   "metadata": {},
   "outputs": [
    {
     "data": {
      "application/javascript": [
       "\n",
       "            setTimeout(function() {\n",
       "                var nbb_cell_id = 6;\n",
       "                var nbb_unformatted_code = \"ARTIFACT_PATH = Path(\\\"../../../gcs_mount/artifacts/marketplace\\\")\";\n",
       "                var nbb_formatted_code = \"ARTIFACT_PATH = Path(\\\"../../../gcs_mount/artifacts/marketplace\\\")\";\n",
       "                var nbb_cells = Jupyter.notebook.get_cells();\n",
       "                for (var i = 0; i < nbb_cells.length; ++i) {\n",
       "                    if (nbb_cells[i].input_prompt_number == nbb_cell_id) {\n",
       "                        if (nbb_cells[i].get_text() == nbb_unformatted_code) {\n",
       "                             nbb_cells[i].set_text(nbb_formatted_code);\n",
       "                        }\n",
       "                        break;\n",
       "                    }\n",
       "                }\n",
       "            }, 500);\n",
       "            "
      ],
      "text/plain": [
       "<IPython.core.display.Javascript object>"
      ]
     },
     "metadata": {},
     "output_type": "display_data"
    }
   ],
   "source": [
    "ARTIFACT_PATH = Path(\"../../../gcs_mount/artifacts/marketplace\")"
   ]
  },
  {
   "cell_type": "markdown",
   "id": "9573d550",
   "metadata": {},
   "source": [
    "# Functions"
   ]
  },
  {
   "cell_type": "code",
   "execution_count": 7,
   "id": "28e1af35",
   "metadata": {},
   "outputs": [
    {
     "data": {
      "application/javascript": [
       "\n",
       "            setTimeout(function() {\n",
       "                var nbb_cell_id = 7;\n",
       "                var nbb_unformatted_code = \"def generate_and_save_simulations(\\n    num_simulations: int,\\n    review_prior: np.array,\\n    tendency_to_rate: float,\\n    simulation_type: str,\\n    previous_rating_measure: str,\\n    min_reviews_for_herding: int,\\n    herding_differentiating_measure: str\\n) -> None:\\n    params = {\\n        \\\"review_prior\\\": review_prior,\\n        \\\"tendency_to_rate\\\": tendency_to_rate,\\n        \\\"simulation_type\\\": simulation_type,\\n        \\\"previous_rating_measure\\\": previous_rating_measure,\\n        \\\"min_reviews_for_herding\\\": min_reviews_for_herding,\\n        \\\"herding_differentiating_measure\\\": herding_differentiating_measure\\n    }\\n    simulator = simulator_class.DoubleHerdingSimulator(params)\\n    simulator.simulate(num_simulations=num_simulations)\\n    simulator.save_simulations(ARTIFACT_PATH)\";\n",
       "                var nbb_formatted_code = \"def generate_and_save_simulations(\\n    num_simulations: int,\\n    review_prior: np.array,\\n    tendency_to_rate: float,\\n    simulation_type: str,\\n    previous_rating_measure: str,\\n    min_reviews_for_herding: int,\\n    herding_differentiating_measure: str,\\n) -> None:\\n    params = {\\n        \\\"review_prior\\\": review_prior,\\n        \\\"tendency_to_rate\\\": tendency_to_rate,\\n        \\\"simulation_type\\\": simulation_type,\\n        \\\"previous_rating_measure\\\": previous_rating_measure,\\n        \\\"min_reviews_for_herding\\\": min_reviews_for_herding,\\n        \\\"herding_differentiating_measure\\\": herding_differentiating_measure,\\n    }\\n    simulator = simulator_class.DoubleHerdingSimulator(params)\\n    simulator.simulate(num_simulations=num_simulations)\\n    simulator.save_simulations(ARTIFACT_PATH)\";\n",
       "                var nbb_cells = Jupyter.notebook.get_cells();\n",
       "                for (var i = 0; i < nbb_cells.length; ++i) {\n",
       "                    if (nbb_cells[i].input_prompt_number == nbb_cell_id) {\n",
       "                        if (nbb_cells[i].get_text() == nbb_unformatted_code) {\n",
       "                             nbb_cells[i].set_text(nbb_formatted_code);\n",
       "                        }\n",
       "                        break;\n",
       "                    }\n",
       "                }\n",
       "            }, 500);\n",
       "            "
      ],
      "text/plain": [
       "<IPython.core.display.Javascript object>"
      ]
     },
     "metadata": {},
     "output_type": "display_data"
    }
   ],
   "source": [
    "def generate_and_save_simulations(\n",
    "    num_simulations: int,\n",
    "    review_prior: np.array,\n",
    "    tendency_to_rate: float,\n",
    "    simulation_type: str,\n",
    "    previous_rating_measure: str,\n",
    "    min_reviews_for_herding: int,\n",
    "    herding_differentiating_measure: str,\n",
    ") -> None:\n",
    "    params = {\n",
    "        \"review_prior\": review_prior,\n",
    "        \"tendency_to_rate\": tendency_to_rate,\n",
    "        \"simulation_type\": simulation_type,\n",
    "        \"previous_rating_measure\": previous_rating_measure,\n",
    "        \"min_reviews_for_herding\": min_reviews_for_herding,\n",
    "        \"herding_differentiating_measure\": herding_differentiating_measure,\n",
    "    }\n",
    "    simulator = simulator_class.DoubleHerdingSimulator(params)\n",
    "    simulator.simulate(num_simulations=num_simulations)\n",
    "    simulator.save_simulations(ARTIFACT_PATH)"
   ]
  },
  {
   "cell_type": "code",
   "execution_count": 15,
   "id": "36374aba",
   "metadata": {},
   "outputs": [
    {
     "data": {
      "application/javascript": [
       "\n",
       "            setTimeout(function() {\n",
       "                var nbb_cell_id = 15;\n",
       "                var nbb_unformatted_code = \"def infer_and_save_posterior(\\n    device: str, simulator_type: str, simulation_type: str, params: Dict\\n) -> None:\\n    parameter_prior = sbi_utils.BoxUniform(\\n        low=torch.tensor([0.0, 0.0, 0.0]).type(torch.FloatTensor),\\n        high=torch.tensor([4.0, 4.0, 1.0]).type(torch.FloatTensor),\\n        device=device\\n    )\\n    inferrer = inference_class.TimeSeriesInference(\\n        parameter_prior=parameter_prior, device=device\\n    )\\n    inferrer.load_simulator(\\n        dirname=ARTIFACT_PATH,\\n        simulator_type=simulator_type,\\n        simulation_type=simulation_type,\\n    )\\n    batch_size = params.pop(\\\"batch_size\\\")\\n    learning_rate = params.pop(\\\"learning_rate\\\")\\n    hidden_features = params.pop(\\\"hidden_features\\\")\\n    num_transforms = params.pop(\\\"num_transforms\\\")\\n    inferrer.infer_snpe_posterior(\\n        embedding_net_conf=params,\\n        batch_size=batch_size,\\n        learning_rate=learning_rate,\\n        hidden_features=hidden_features,\\n        num_transforms=num_transforms,\\n    )\\n    inferrer.save_inference(ARTIFACT_PATH)\";\n",
       "                var nbb_formatted_code = \"def infer_and_save_posterior(\\n    device: str, simulator_type: str, simulation_type: str, params: Dict\\n) -> None:\\n    parameter_prior = sbi_utils.BoxUniform(\\n        low=torch.tensor([0.0, 0.0, 0.0]).type(torch.FloatTensor),\\n        high=torch.tensor([4.0, 4.0, 1.0]).type(torch.FloatTensor),\\n        device=device,\\n    )\\n    inferrer = inference_class.TimeSeriesInference(\\n        parameter_prior=parameter_prior, device=device\\n    )\\n    inferrer.load_simulator(\\n        dirname=ARTIFACT_PATH,\\n        simulator_type=simulator_type,\\n        simulation_type=simulation_type,\\n    )\\n    batch_size = params.pop(\\\"batch_size\\\")\\n    learning_rate = params.pop(\\\"learning_rate\\\")\\n    hidden_features = params.pop(\\\"hidden_features\\\")\\n    num_transforms = params.pop(\\\"num_transforms\\\")\\n    inferrer.infer_snpe_posterior(\\n        embedding_net_conf=params,\\n        batch_size=batch_size,\\n        learning_rate=learning_rate,\\n        hidden_features=hidden_features,\\n        num_transforms=num_transforms,\\n    )\\n    inferrer.save_inference(ARTIFACT_PATH)\";\n",
       "                var nbb_cells = Jupyter.notebook.get_cells();\n",
       "                for (var i = 0; i < nbb_cells.length; ++i) {\n",
       "                    if (nbb_cells[i].input_prompt_number == nbb_cell_id) {\n",
       "                        if (nbb_cells[i].get_text() == nbb_unformatted_code) {\n",
       "                             nbb_cells[i].set_text(nbb_formatted_code);\n",
       "                        }\n",
       "                        break;\n",
       "                    }\n",
       "                }\n",
       "            }, 500);\n",
       "            "
      ],
      "text/plain": [
       "<IPython.core.display.Javascript object>"
      ]
     },
     "metadata": {},
     "output_type": "display_data"
    }
   ],
   "source": [
    "def infer_and_save_posterior(\n",
    "    device: str, simulator_type: str, simulation_type: str, params: Dict\n",
    ") -> None:\n",
    "    parameter_prior = sbi_utils.BoxUniform(\n",
    "        low=torch.tensor([0.0, 0.0, 0.0]).type(torch.FloatTensor),\n",
    "        high=torch.tensor([4.0, 4.0, 1.0]).type(torch.FloatTensor),\n",
    "        device=device,\n",
    "    )\n",
    "    inferrer = inference_class.TimeSeriesInference(\n",
    "        parameter_prior=parameter_prior, device=device\n",
    "    )\n",
    "    inferrer.load_simulator(\n",
    "        dirname=ARTIFACT_PATH,\n",
    "        simulator_type=simulator_type,\n",
    "        simulation_type=simulation_type,\n",
    "    )\n",
    "    batch_size = params.pop(\"batch_size\")\n",
    "    learning_rate = params.pop(\"learning_rate\")\n",
    "    hidden_features = params.pop(\"hidden_features\")\n",
    "    num_transforms = params.pop(\"num_transforms\")\n",
    "    inferrer.infer_snpe_posterior(\n",
    "        embedding_net_conf=params,\n",
    "        batch_size=batch_size,\n",
    "        learning_rate=learning_rate,\n",
    "        hidden_features=hidden_features,\n",
    "        num_transforms=num_transforms,\n",
    "    )\n",
    "    inferrer.save_inference(ARTIFACT_PATH)"
   ]
  },
  {
   "cell_type": "code",
   "execution_count": null,
   "id": "528a78b2",
   "metadata": {},
   "outputs": [],
   "source": []
  },
  {
   "cell_type": "code",
   "execution_count": null,
   "id": "3d028cdc",
   "metadata": {},
   "outputs": [],
   "source": []
  },
  {
   "cell_type": "markdown",
   "id": "c7c94a14",
   "metadata": {},
   "source": [
    "# Actual code to run the functions above"
   ]
  },
  {
   "cell_type": "code",
   "execution_count": 8,
   "id": "59f5405e",
   "metadata": {},
   "outputs": [
    {
     "data": {
      "text/plain": [
       "16"
      ]
     },
     "execution_count": 8,
     "metadata": {},
     "output_type": "execute_result"
    },
    {
     "data": {
      "application/javascript": [
       "\n",
       "            setTimeout(function() {\n",
       "                var nbb_cell_id = 8;\n",
       "                var nbb_unformatted_code = \"torch.set_num_threads(mp.cpu_count())\\ntorch.get_num_threads()\";\n",
       "                var nbb_formatted_code = \"torch.set_num_threads(mp.cpu_count())\\ntorch.get_num_threads()\";\n",
       "                var nbb_cells = Jupyter.notebook.get_cells();\n",
       "                for (var i = 0; i < nbb_cells.length; ++i) {\n",
       "                    if (nbb_cells[i].input_prompt_number == nbb_cell_id) {\n",
       "                        if (nbb_cells[i].get_text() == nbb_unformatted_code) {\n",
       "                             nbb_cells[i].set_text(nbb_formatted_code);\n",
       "                        }\n",
       "                        break;\n",
       "                    }\n",
       "                }\n",
       "            }, 500);\n",
       "            "
      ],
      "text/plain": [
       "<IPython.core.display.Javascript object>"
      ]
     },
     "metadata": {},
     "output_type": "display_data"
    }
   ],
   "source": [
    "torch.set_num_threads(mp.cpu_count())\n",
    "torch.get_num_threads()"
   ]
  },
  {
   "cell_type": "code",
   "execution_count": 16,
   "id": "dd1108c8",
   "metadata": {},
   "outputs": [
    {
     "data": {
      "application/javascript": [
       "\n",
       "            setTimeout(function() {\n",
       "                var nbb_cell_id = 16;\n",
       "                var nbb_unformatted_code = \"inference_params = {\\n    \\\"batch_size\\\": 128,\\n    \\\"learning_rate\\\": 1.9e-4,\\n    \\\"hidden_features\\\": 35,\\n    \\\"num_transforms\\\": 5,\\n    \\\"num_conv_layers\\\": 2,\\n    \\\"num_channels\\\": 10,\\n    \\\"conv_kernel_size\\\": 5,\\n    \\\"maxpool_kernel_size\\\": 9,\\n    \\\"num_dense_layers\\\": 1,\\n}\";\n",
       "                var nbb_formatted_code = \"inference_params = {\\n    \\\"batch_size\\\": 128,\\n    \\\"learning_rate\\\": 1.9e-4,\\n    \\\"hidden_features\\\": 35,\\n    \\\"num_transforms\\\": 5,\\n    \\\"num_conv_layers\\\": 2,\\n    \\\"num_channels\\\": 10,\\n    \\\"conv_kernel_size\\\": 5,\\n    \\\"maxpool_kernel_size\\\": 9,\\n    \\\"num_dense_layers\\\": 1,\\n}\";\n",
       "                var nbb_cells = Jupyter.notebook.get_cells();\n",
       "                for (var i = 0; i < nbb_cells.length; ++i) {\n",
       "                    if (nbb_cells[i].input_prompt_number == nbb_cell_id) {\n",
       "                        if (nbb_cells[i].get_text() == nbb_unformatted_code) {\n",
       "                             nbb_cells[i].set_text(nbb_formatted_code);\n",
       "                        }\n",
       "                        break;\n",
       "                    }\n",
       "                }\n",
       "            }, 500);\n",
       "            "
      ],
      "text/plain": [
       "<IPython.core.display.Javascript object>"
      ]
     },
     "metadata": {},
     "output_type": "display_data"
    }
   ],
   "source": [
    "inference_params = {\n",
    "    \"batch_size\": 128,\n",
    "    \"learning_rate\": 1.9e-4,\n",
    "    \"hidden_features\": 35,\n",
    "    \"num_transforms\": 5,\n",
    "    \"num_conv_layers\": 2,\n",
    "    \"num_channels\": 10,\n",
    "    \"conv_kernel_size\": 5,\n",
    "    \"maxpool_kernel_size\": 9,\n",
    "    \"num_dense_layers\": 1,\n",
    "}"
   ]
  },
  {
   "cell_type": "code",
   "execution_count": 17,
   "id": "9a001f49",
   "metadata": {},
   "outputs": [
    {
     "name": "stdout",
     "output_type": "stream",
     "text": [
      "Embedding net created: \n",
      " Sequential(\n",
      "  (0): Conv1d(5, 10, kernel_size=(5,), stride=(1,), padding=(2,))\n",
      "  (1): LeakyReLU(negative_slope=0.01)\n",
      "  (2): Conv1d(10, 10, kernel_size=(5,), stride=(1,), padding=(4,), dilation=(2,))\n",
      "  (3): MaxPool1d(kernel_size=9, stride=9, padding=0, dilation=1, ceil_mode=False)\n",
      "  (4): Flatten(start_dim=1, end_dim=-1)\n",
      "  (5): LeakyReLU(negative_slope=0.01)\n",
      "  (6): Linear(in_features=740, out_features=32, bias=True)\n",
      ")\n"
     ]
    },
    {
     "name": "stderr",
     "output_type": "stream",
     "text": [
      "/opt/conda/lib/python3.7/site-packages/sbi/utils/user_input_checks.py:684: UserWarning: Data x has device 'cpu' different from the training_device 'cuda:0', moving x to the training_device 'cuda:0'.\n",
      "  f\"Data x has device '{x.device}' \"\n",
      "/opt/conda/lib/python3.7/site-packages/sbi/utils/user_input_checks.py:692: UserWarning: Parameters theta has device 'cpu' different from the training_device 'cuda:0', moving theta to the training_device 'cuda:0'.\n",
      "  f\"Parameters theta has device '{theta.device}' \"\n",
      "/opt/conda/lib/python3.7/site-packages/sbi/utils/user_input_checks.py:428: UserWarning: Mismatch between the device of the data fed to the embedding_net and the device of the embedding_net's weights. Fed data has device 'cuda:0' vs embedding_net weights have device 'cpu'. Automatically switching the embedding_net's device to 'cuda:0', which could otherwise be done manually using the line `embedding_net.to('cuda:0')`.\n",
      "  \"Mismatch between the device of the data fed \"\n"
     ]
    },
    {
     "name": "stdout",
     "output_type": "stream",
     "text": [
      " Neural network successfully converged after 234 epochs.\n",
      "        -------------------------\n",
      "        ||||| ROUND 1 STATS |||||:\n",
      "        -------------------------\n",
      "        Epochs trained: 234\n",
      "        Best validation performance: 1.0422\n",
      "        -------------------------\n",
      "        \n"
     ]
    },
    {
     "data": {
      "application/javascript": [
       "\n",
       "            setTimeout(function() {\n",
       "                var nbb_cell_id = 17;\n",
       "                var nbb_unformatted_code = \"infer_and_save_posterior(\\\"cuda\\\", \\\"marketplace\\\", \\\"timeseries\\\", inference_params)\";\n",
       "                var nbb_formatted_code = \"infer_and_save_posterior(\\\"cuda\\\", \\\"marketplace\\\", \\\"timeseries\\\", inference_params)\";\n",
       "                var nbb_cells = Jupyter.notebook.get_cells();\n",
       "                for (var i = 0; i < nbb_cells.length; ++i) {\n",
       "                    if (nbb_cells[i].input_prompt_number == nbb_cell_id) {\n",
       "                        if (nbb_cells[i].get_text() == nbb_unformatted_code) {\n",
       "                             nbb_cells[i].set_text(nbb_formatted_code);\n",
       "                        }\n",
       "                        break;\n",
       "                    }\n",
       "                }\n",
       "            }, 500);\n",
       "            "
      ],
      "text/plain": [
       "<IPython.core.display.Javascript object>"
      ]
     },
     "metadata": {},
     "output_type": "display_data"
    }
   ],
   "source": [
    "infer_and_save_posterior(\"cuda\", \"marketplace\", \"timeseries\", inference_params)"
   ]
  },
  {
   "cell_type": "code",
   "execution_count": null,
   "id": "b7266277",
   "metadata": {},
   "outputs": [],
   "source": []
  }
 ],
 "metadata": {
  "kernelspec": {
   "display_name": "Python 3 (ipykernel)",
   "language": "python",
   "name": "python3"
  },
  "language_info": {
   "codemirror_mode": {
    "name": "ipython",
    "version": 3
   },
   "file_extension": ".py",
   "mimetype": "text/x-python",
   "name": "python",
   "nbconvert_exporter": "python",
   "pygments_lexer": "ipython3",
   "version": "3.7.12"
  }
 },
 "nbformat": 4,
 "nbformat_minor": 5
}
