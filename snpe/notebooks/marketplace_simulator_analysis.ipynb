{
 "cells": [
  {
   "cell_type": "raw",
   "id": "51d00e1a",
   "metadata": {},
   "source": []
  },
  {
   "cell_type": "markdown",
   "id": "96879790",
   "metadata": {},
   "source": [
    "# This notebook is for use on cloud services where interactive use of matplotlib is hard. A script similar to this notebook is in in: snpe/marketplace_simulator_analysis.py"
   ]
  },
  {
   "cell_type": "code",
   "execution_count": 1,
   "id": "d2095d65",
   "metadata": {},
   "outputs": [],
   "source": [
    "%load_ext autoreload\n",
    "%autoreload 2"
   ]
  },
  {
   "cell_type": "code",
   "execution_count": 2,
   "id": "14912a32",
   "metadata": {},
   "outputs": [
    {
     "data": {
      "application/javascript": [
       "\n",
       "            setTimeout(function() {\n",
       "                var nbb_cell_id = 2;\n",
       "                var nbb_unformatted_code = \"# Just a formatting related plugin\\n%load_ext nb_black\";\n",
       "                var nbb_formatted_code = \"# Just a formatting related plugin\\n%load_ext nb_black\";\n",
       "                var nbb_cells = Jupyter.notebook.get_cells();\n",
       "                for (var i = 0; i < nbb_cells.length; ++i) {\n",
       "                    if (nbb_cells[i].input_prompt_number == nbb_cell_id) {\n",
       "                        if (nbb_cells[i].get_text() == nbb_unformatted_code) {\n",
       "                             nbb_cells[i].set_text(nbb_formatted_code);\n",
       "                        }\n",
       "                        break;\n",
       "                    }\n",
       "                }\n",
       "            }, 500);\n",
       "            "
      ],
      "text/plain": [
       "<IPython.core.display.Javascript object>"
      ]
     },
     "metadata": {},
     "output_type": "display_data"
    }
   ],
   "source": [
    "# Just a formatting related plugin\n",
    "%load_ext nb_black"
   ]
  },
  {
   "cell_type": "code",
   "execution_count": 3,
   "id": "93ff67e7",
   "metadata": {},
   "outputs": [
    {
     "data": {
      "application/javascript": [
       "\n",
       "            setTimeout(function() {\n",
       "                var nbb_cell_id = 3;\n",
       "                var nbb_unformatted_code = \"%matplotlib inline\\nimport matplotlib.pyplot as plt\";\n",
       "                var nbb_formatted_code = \"%matplotlib inline\\nimport matplotlib.pyplot as plt\";\n",
       "                var nbb_cells = Jupyter.notebook.get_cells();\n",
       "                for (var i = 0; i < nbb_cells.length; ++i) {\n",
       "                    if (nbb_cells[i].input_prompt_number == nbb_cell_id) {\n",
       "                        if (nbb_cells[i].get_text() == nbb_unformatted_code) {\n",
       "                             nbb_cells[i].set_text(nbb_formatted_code);\n",
       "                        }\n",
       "                        break;\n",
       "                    }\n",
       "                }\n",
       "            }, 500);\n",
       "            "
      ],
      "text/plain": [
       "<IPython.core.display.Javascript object>"
      ]
     },
     "metadata": {},
     "output_type": "display_data"
    }
   ],
   "source": [
    "%matplotlib inline\n",
    "import matplotlib.pyplot as plt"
   ]
  },
  {
   "cell_type": "code",
   "execution_count": 4,
   "id": "6c45ecfb",
   "metadata": {},
   "outputs": [
    {
     "data": {
      "application/javascript": [
       "\n",
       "            setTimeout(function() {\n",
       "                var nbb_cell_id = 4;\n",
       "                var nbb_unformatted_code = \"import sys\\n\\nsys.path.append(\\\"../\\\")\";\n",
       "                var nbb_formatted_code = \"import sys\\n\\nsys.path.append(\\\"../\\\")\";\n",
       "                var nbb_cells = Jupyter.notebook.get_cells();\n",
       "                for (var i = 0; i < nbb_cells.length; ++i) {\n",
       "                    if (nbb_cells[i].input_prompt_number == nbb_cell_id) {\n",
       "                        if (nbb_cells[i].get_text() == nbb_unformatted_code) {\n",
       "                             nbb_cells[i].set_text(nbb_formatted_code);\n",
       "                        }\n",
       "                        break;\n",
       "                    }\n",
       "                }\n",
       "            }, 500);\n",
       "            "
      ],
      "text/plain": [
       "<IPython.core.display.Javascript object>"
      ]
     },
     "metadata": {},
     "output_type": "display_data"
    }
   ],
   "source": [
    "import sys\n",
    "\n",
    "sys.path.append(\"../\")"
   ]
  },
  {
   "cell_type": "code",
   "execution_count": 5,
   "id": "6a5b57e5",
   "metadata": {},
   "outputs": [
    {
     "data": {
      "application/javascript": [
       "\n",
       "            setTimeout(function() {\n",
       "                var nbb_cell_id = 5;\n",
       "                var nbb_unformatted_code = \"import multiprocessing as mp\\n\\nfrom collections import deque\\nfrom pathlib import Path\\nfrom typing import Dict, Optional\\n\\nimport arviz\\nimport pickle\\n\\nimport numpy as np\\nimport pandas as pd\\nimport pyreadr\\nimport sbi\\nimport sbi.utils as sbi_utils\\nimport seaborn as sns\\nimport statsmodels.formula.api as smf\\nimport torch\\n\\nfrom joblib import Parallel, delayed\\nfrom matplotlib.lines import Line2D\\nfrom scipy.stats import ttest_ind\\nfrom snpe.inference import inference_class\\nfrom snpe.simulations import simulator_class, marketplace_simulator_class\\nfrom snpe.utils.statistics import review_histogram_correlation\\nfrom snpe.utils.tqdm_utils import tqdm_joblib\\nfrom tqdm import tqdm\\n\\n# Set plotting parameters\\nsns.set(style=\\\"white\\\", context=\\\"talk\\\", font_scale=2.5)\\nsns.set_color_codes(palette=\\\"colorblind\\\")\\nsns.set_style(\\\"ticks\\\", {\\\"axes.linewidth\\\": 2.0})\";\n",
       "                var nbb_formatted_code = \"import multiprocessing as mp\\n\\nfrom collections import deque\\nfrom pathlib import Path\\nfrom typing import Dict, Optional\\n\\nimport arviz\\nimport pickle\\n\\nimport numpy as np\\nimport pandas as pd\\nimport pyreadr\\nimport sbi\\nimport sbi.utils as sbi_utils\\nimport seaborn as sns\\nimport statsmodels.formula.api as smf\\nimport torch\\n\\nfrom joblib import Parallel, delayed\\nfrom matplotlib.lines import Line2D\\nfrom scipy.stats import ttest_ind\\nfrom snpe.inference import inference_class\\nfrom snpe.simulations import simulator_class, marketplace_simulator_class\\nfrom snpe.utils.statistics import review_histogram_correlation\\nfrom snpe.utils.tqdm_utils import tqdm_joblib\\nfrom tqdm import tqdm\\n\\n# Set plotting parameters\\nsns.set(style=\\\"white\\\", context=\\\"talk\\\", font_scale=2.5)\\nsns.set_color_codes(palette=\\\"colorblind\\\")\\nsns.set_style(\\\"ticks\\\", {\\\"axes.linewidth\\\": 2.0})\";\n",
       "                var nbb_cells = Jupyter.notebook.get_cells();\n",
       "                for (var i = 0; i < nbb_cells.length; ++i) {\n",
       "                    if (nbb_cells[i].input_prompt_number == nbb_cell_id) {\n",
       "                        if (nbb_cells[i].get_text() == nbb_unformatted_code) {\n",
       "                             nbb_cells[i].set_text(nbb_formatted_code);\n",
       "                        }\n",
       "                        break;\n",
       "                    }\n",
       "                }\n",
       "            }, 500);\n",
       "            "
      ],
      "text/plain": [
       "<IPython.core.display.Javascript object>"
      ]
     },
     "metadata": {},
     "output_type": "display_data"
    }
   ],
   "source": [
    "import multiprocessing as mp\n",
    "\n",
    "from collections import deque\n",
    "from pathlib import Path\n",
    "from typing import Dict, Optional\n",
    "\n",
    "import arviz\n",
    "import pickle\n",
    "\n",
    "import numpy as np\n",
    "import pandas as pd\n",
    "import pyreadr\n",
    "import sbi\n",
    "import sbi.utils as sbi_utils\n",
    "import seaborn as sns\n",
    "import statsmodels.formula.api as smf\n",
    "import torch\n",
    "\n",
    "from joblib import Parallel, delayed\n",
    "from matplotlib.lines import Line2D\n",
    "from scipy.stats import ttest_ind\n",
    "from snpe.inference import inference_class\n",
    "from snpe.simulations import simulator_class, marketplace_simulator_class\n",
    "from snpe.utils.statistics import review_histogram_correlation\n",
    "from snpe.utils.tqdm_utils import tqdm_joblib\n",
    "from tqdm import tqdm\n",
    "\n",
    "# Set plotting parameters\n",
    "sns.set(style=\"white\", context=\"talk\", font_scale=2.5)\n",
    "sns.set_color_codes(palette=\"colorblind\")\n",
    "sns.set_style(\"ticks\", {\"axes.linewidth\": 2.0})"
   ]
  },
  {
   "cell_type": "code",
   "execution_count": 6,
   "id": "cd004dff",
   "metadata": {},
   "outputs": [
    {
     "data": {
      "application/javascript": [
       "\n",
       "            setTimeout(function() {\n",
       "                var nbb_cell_id = 6;\n",
       "                var nbb_unformatted_code = \"# ARTIFACT_PATH = Path(\\\"../../../gcs_mount/artifacts/marketplace\\\")\\nARTIFACT_PATH = Path(\\\"/data/reputation-systems/snpe/artifacts/marketplace\\\")\";\n",
       "                var nbb_formatted_code = \"# ARTIFACT_PATH = Path(\\\"../../../gcs_mount/artifacts/marketplace\\\")\\nARTIFACT_PATH = Path(\\\"/data/reputation-systems/snpe/artifacts/marketplace\\\")\";\n",
       "                var nbb_cells = Jupyter.notebook.get_cells();\n",
       "                for (var i = 0; i < nbb_cells.length; ++i) {\n",
       "                    if (nbb_cells[i].input_prompt_number == nbb_cell_id) {\n",
       "                        if (nbb_cells[i].get_text() == nbb_unformatted_code) {\n",
       "                             nbb_cells[i].set_text(nbb_formatted_code);\n",
       "                        }\n",
       "                        break;\n",
       "                    }\n",
       "                }\n",
       "            }, 500);\n",
       "            "
      ],
      "text/plain": [
       "<IPython.core.display.Javascript object>"
      ]
     },
     "metadata": {},
     "output_type": "display_data"
    }
   ],
   "source": [
    "# ARTIFACT_PATH = Path(\"../../../gcs_mount/artifacts/marketplace\")\n",
    "ARTIFACT_PATH = Path(\"/data/reputation-systems/snpe/artifacts/marketplace\")"
   ]
  },
  {
   "cell_type": "markdown",
   "id": "9573d550",
   "metadata": {},
   "source": [
    "# Functions"
   ]
  },
  {
   "cell_type": "code",
   "execution_count": 7,
   "id": "28e1af35",
   "metadata": {},
   "outputs": [
    {
     "data": {
      "application/javascript": [
       "\n",
       "            setTimeout(function() {\n",
       "                var nbb_cell_id = 7;\n",
       "                var nbb_unformatted_code = \"def generate_and_save_simulations(\\n    num_simulations: int,\\n    review_prior: np.array,\\n    tendency_to_rate: float,\\n    simulation_type: str,\\n    previous_rating_measure: str,\\n    min_reviews_for_herding: int,\\n    herding_differentiating_measure: str,\\n) -> None:\\n    params = {\\n        \\\"review_prior\\\": review_prior,\\n        \\\"tendency_to_rate\\\": tendency_to_rate,\\n        \\\"simulation_type\\\": simulation_type,\\n        \\\"previous_rating_measure\\\": previous_rating_measure,\\n        \\\"min_reviews_for_herding\\\": min_reviews_for_herding,\\n        \\\"herding_differentiating_measure\\\": herding_differentiating_measure,\\n    }\\n    simulator = simulator_class.DoubleHerdingSimulator(params)\\n    simulator.simulate(num_simulations=num_simulations)\\n    simulator.save_simulations(ARTIFACT_PATH)\";\n",
       "                var nbb_formatted_code = \"def generate_and_save_simulations(\\n    num_simulations: int,\\n    review_prior: np.array,\\n    tendency_to_rate: float,\\n    simulation_type: str,\\n    previous_rating_measure: str,\\n    min_reviews_for_herding: int,\\n    herding_differentiating_measure: str,\\n) -> None:\\n    params = {\\n        \\\"review_prior\\\": review_prior,\\n        \\\"tendency_to_rate\\\": tendency_to_rate,\\n        \\\"simulation_type\\\": simulation_type,\\n        \\\"previous_rating_measure\\\": previous_rating_measure,\\n        \\\"min_reviews_for_herding\\\": min_reviews_for_herding,\\n        \\\"herding_differentiating_measure\\\": herding_differentiating_measure,\\n    }\\n    simulator = simulator_class.DoubleHerdingSimulator(params)\\n    simulator.simulate(num_simulations=num_simulations)\\n    simulator.save_simulations(ARTIFACT_PATH)\";\n",
       "                var nbb_cells = Jupyter.notebook.get_cells();\n",
       "                for (var i = 0; i < nbb_cells.length; ++i) {\n",
       "                    if (nbb_cells[i].input_prompt_number == nbb_cell_id) {\n",
       "                        if (nbb_cells[i].get_text() == nbb_unformatted_code) {\n",
       "                             nbb_cells[i].set_text(nbb_formatted_code);\n",
       "                        }\n",
       "                        break;\n",
       "                    }\n",
       "                }\n",
       "            }, 500);\n",
       "            "
      ],
      "text/plain": [
       "<IPython.core.display.Javascript object>"
      ]
     },
     "metadata": {},
     "output_type": "display_data"
    }
   ],
   "source": [
    "def generate_and_save_simulations(\n",
    "    num_simulations: int,\n",
    "    review_prior: np.ndarray,\n",
    "    tendency_to_rate: float,\n",
    "    simulation_type: str,\n",
    "    previous_rating_measure: str,\n",
    "    min_reviews_for_herding: int,\n",
    "    herding_differentiating_measure: str,\n",
    ") -> None:\n",
    "    params = {\n",
    "        \"review_prior\": review_prior,\n",
    "        \"tendency_to_rate\": tendency_to_rate,\n",
    "        \"simulation_type\": simulation_type,\n",
    "        \"previous_rating_measure\": previous_rating_measure,\n",
    "        \"min_reviews_for_herding\": min_reviews_for_herding,\n",
    "        \"herding_differentiating_measure\": herding_differentiating_measure,\n",
    "    }\n",
    "    simulator = simulator_class.DoubleHerdingSimulator(params)\n",
    "    simulator.simulate(num_simulations=num_simulations)\n",
    "    simulator.save_simulations(ARTIFACT_PATH)"
   ]
  },
  {
   "cell_type": "code",
   "execution_count": 8,
   "id": "36374aba",
   "metadata": {},
   "outputs": [
    {
     "data": {
      "application/javascript": [
       "\n",
       "            setTimeout(function() {\n",
       "                var nbb_cell_id = 8;\n",
       "                var nbb_unformatted_code = \"def infer_and_save_posterior(\\n    device: str, simulator_type: str, simulation_type: str, params: Dict\\n) -> None:\\n    parameter_prior = sbi_utils.BoxUniform(\\n        low=torch.tensor([0.0, 0.0, 0.0]).type(torch.FloatTensor),\\n        high=torch.tensor([4.0, 4.0, 1.0]).type(torch.FloatTensor),\\n        device=device,\\n    )\\n    inferrer = inference_class.TimeSeriesInference(\\n        parameter_prior=parameter_prior, device=device\\n    )\\n    inferrer.load_simulator(\\n        dirname=ARTIFACT_PATH,\\n        simulator_type=simulator_type,\\n        simulation_type=simulation_type,\\n    )\\n    batch_size = params.pop(\\\"batch_size\\\")\\n    learning_rate = params.pop(\\\"learning_rate\\\")\\n    hidden_features = params.pop(\\\"hidden_features\\\")\\n    num_transforms = params.pop(\\\"num_transforms\\\")\\n    inferrer.infer_snpe_posterior(\\n        embedding_net_conf=params,\\n        batch_size=batch_size,\\n        learning_rate=learning_rate,\\n        hidden_features=hidden_features,\\n        num_transforms=num_transforms,\\n    )\\n    inferrer.save_inference(ARTIFACT_PATH)\";\n",
       "                var nbb_formatted_code = \"def infer_and_save_posterior(\\n    device: str, simulator_type: str, simulation_type: str, params: Dict\\n) -> None:\\n    parameter_prior = sbi_utils.BoxUniform(\\n        low=torch.tensor([0.0, 0.0, 0.0]).type(torch.FloatTensor),\\n        high=torch.tensor([4.0, 4.0, 1.0]).type(torch.FloatTensor),\\n        device=device,\\n    )\\n    inferrer = inference_class.TimeSeriesInference(\\n        parameter_prior=parameter_prior, device=device\\n    )\\n    inferrer.load_simulator(\\n        dirname=ARTIFACT_PATH,\\n        simulator_type=simulator_type,\\n        simulation_type=simulation_type,\\n    )\\n    batch_size = params.pop(\\\"batch_size\\\")\\n    learning_rate = params.pop(\\\"learning_rate\\\")\\n    hidden_features = params.pop(\\\"hidden_features\\\")\\n    num_transforms = params.pop(\\\"num_transforms\\\")\\n    inferrer.infer_snpe_posterior(\\n        embedding_net_conf=params,\\n        batch_size=batch_size,\\n        learning_rate=learning_rate,\\n        hidden_features=hidden_features,\\n        num_transforms=num_transforms,\\n    )\\n    inferrer.save_inference(ARTIFACT_PATH)\";\n",
       "                var nbb_cells = Jupyter.notebook.get_cells();\n",
       "                for (var i = 0; i < nbb_cells.length; ++i) {\n",
       "                    if (nbb_cells[i].input_prompt_number == nbb_cell_id) {\n",
       "                        if (nbb_cells[i].get_text() == nbb_unformatted_code) {\n",
       "                             nbb_cells[i].set_text(nbb_formatted_code);\n",
       "                        }\n",
       "                        break;\n",
       "                    }\n",
       "                }\n",
       "            }, 500);\n",
       "            "
      ],
      "text/plain": [
       "<IPython.core.display.Javascript object>"
      ]
     },
     "metadata": {},
     "output_type": "display_data"
    }
   ],
   "source": [
    "def infer_and_save_posterior(\n",
    "    device: str, simulator_type: str, simulation_type: str, params: Dict\n",
    ") -> None:\n",
    "    parameter_prior = sbi_utils.BoxUniform(\n",
    "        low=torch.tensor([0.0, 0.0, 0.0]).type(torch.FloatTensor),\n",
    "        high=torch.tensor([4.0, 4.0, 1.0]).type(torch.FloatTensor),\n",
    "        device=device,\n",
    "    )\n",
    "    inferrer = inference_class.TimeSeriesInference(\n",
    "        parameter_prior=parameter_prior, device=device\n",
    "    )\n",
    "    inferrer.load_simulator(\n",
    "        dirname=ARTIFACT_PATH,\n",
    "        simulator_type=simulator_type,\n",
    "        simulation_type=simulation_type,\n",
    "    )\n",
    "    batch_size = params.pop(\"batch_size\")\n",
    "    learning_rate = params.pop(\"learning_rate\")\n",
    "    hidden_features = params.pop(\"hidden_features\")\n",
    "    num_transforms = params.pop(\"num_transforms\")\n",
    "    inferrer.infer_snpe_posterior(\n",
    "        embedding_net_conf=params,\n",
    "        batch_size=batch_size,\n",
    "        learning_rate=learning_rate,\n",
    "        hidden_features=hidden_features,\n",
    "        num_transforms=num_transforms,\n",
    "    )\n",
    "    inferrer.save_inference(ARTIFACT_PATH)"
   ]
  },
  {
   "cell_type": "code",
   "execution_count": 7,
   "id": "528a78b2",
   "metadata": {},
   "outputs": [
    {
     "data": {
      "application/javascript": [
       "\n",
       "            setTimeout(function() {\n",
       "                var nbb_cell_id = 7;\n",
       "                var nbb_unformatted_code = \"def sample_posterior_with_observed(\\n    device: str,\\n    observations: np.array,\\n    num_samples: int,\\n    simulator_type: str,\\n    simulation_type: str,\\n) -> np.ndarray:\\n    # The parameter prior doesn't matter here as it will be overridden by that of the loaded inference object\\n    parameter_prior = sbi.utils.BoxUniform(\\n        low=torch.tensor([0.0, 0.0, 0.0]).type(torch.FloatTensor),\\n        high=torch.tensor([4.0, 4.0, 1.0]).type(torch.FloatTensor),\\n        device=device,\\n    )\\n    inferrer = inference_class.TimeSeriesInference(\\n        parameter_prior=parameter_prior, device=device\\n    )\\n    inferrer.load_simulator(\\n        dirname=ARTIFACT_PATH,\\n        simulator_type=simulator_type,\\n        simulation_type=simulation_type,\\n    )\\n    inferrer.load_inference(dirname=ARTIFACT_PATH)\\n    posterior_samples = inferrer.get_posterior_samples(\\n        observations, num_samples=num_samples\\n    )\\n    return posterior_samples\";\n",
       "                var nbb_formatted_code = \"def sample_posterior_with_observed(\\n    device: str,\\n    observations: np.array,\\n    num_samples: int,\\n    simulator_type: str,\\n    simulation_type: str,\\n) -> np.ndarray:\\n    # The parameter prior doesn't matter here as it will be overridden by that of the loaded inference object\\n    parameter_prior = sbi.utils.BoxUniform(\\n        low=torch.tensor([0.0, 0.0, 0.0]).type(torch.FloatTensor),\\n        high=torch.tensor([4.0, 4.0, 1.0]).type(torch.FloatTensor),\\n        device=device,\\n    )\\n    inferrer = inference_class.TimeSeriesInference(\\n        parameter_prior=parameter_prior, device=device\\n    )\\n    inferrer.load_simulator(\\n        dirname=ARTIFACT_PATH,\\n        simulator_type=simulator_type,\\n        simulation_type=simulation_type,\\n    )\\n    inferrer.load_inference(dirname=ARTIFACT_PATH)\\n    posterior_samples = inferrer.get_posterior_samples(\\n        observations, num_samples=num_samples\\n    )\\n    return posterior_samples\";\n",
       "                var nbb_cells = Jupyter.notebook.get_cells();\n",
       "                for (var i = 0; i < nbb_cells.length; ++i) {\n",
       "                    if (nbb_cells[i].input_prompt_number == nbb_cell_id) {\n",
       "                        if (nbb_cells[i].get_text() == nbb_unformatted_code) {\n",
       "                             nbb_cells[i].set_text(nbb_formatted_code);\n",
       "                        }\n",
       "                        break;\n",
       "                    }\n",
       "                }\n",
       "            }, 500);\n",
       "            "
      ],
      "text/plain": [
       "<IPython.core.display.Javascript object>"
      ]
     },
     "metadata": {},
     "output_type": "display_data"
    }
   ],
   "source": [
    "def sample_posterior_with_observed(\n",
    "    device: str,\n",
    "    observations: np.array,\n",
    "    num_samples: int,\n",
    "    simulator_type: str,\n",
    "    simulation_type: str,\n",
    ") -> np.ndarray:\n",
    "    # The parameter prior doesn't matter here as it will be overridden by that of the loaded inference object\n",
    "    parameter_prior = sbi.utils.BoxUniform(\n",
    "        low=torch.tensor([0.0, 0.0, 0.0]).type(torch.FloatTensor),\n",
    "        high=torch.tensor([4.0, 4.0, 1.0]).type(torch.FloatTensor),\n",
    "        device=device,\n",
    "    )\n",
    "    inferrer = inference_class.TimeSeriesInference(\n",
    "        parameter_prior=parameter_prior, device=device\n",
    "    )\n",
    "    inferrer.load_simulator(\n",
    "        dirname=ARTIFACT_PATH,\n",
    "        simulator_type=simulator_type,\n",
    "        simulation_type=simulation_type,\n",
    "    )\n",
    "    inferrer.load_inference(dirname=ARTIFACT_PATH)\n",
    "    posterior_samples = inferrer.get_posterior_samples(\n",
    "        observations, num_samples=num_samples\n",
    "    )\n",
    "    return posterior_samples"
   ]
  },
  {
   "cell_type": "code",
   "execution_count": 8,
   "id": "9b01fbd2",
   "metadata": {},
   "outputs": [
    {
     "data": {
      "application/javascript": [
       "\n",
       "            setTimeout(function() {\n",
       "                var nbb_cell_id = 8;\n",
       "                var nbb_unformatted_code = \"def plot_mean_posteriors_for_products(posterior_samples: np.ndarray) -> None:\\n    fig, ax = plt.subplots(1, 2, squeeze=False)\\n    ax[0, 0].hist(\\n        np.mean(posterior_samples[:, :, 0], axis=0),\\n        color=sns.xkcd_rgb[\\\"cerulean\\\"],\\n        alpha=0.5,\\n        bins=10,\\n        label=r\\\"$\\\\rho_{-}$\\\",\\n    )\\n    ax[0, 0].hist(\\n        np.mean(posterior_samples[:, :, 1], axis=0),\\n        color=sns.xkcd_rgb[\\\"dark orange\\\"],\\n        alpha=0.5,\\n        bins=10,\\n        label=r\\\"$\\\\rho_{+}$\\\",\\n    )\\n    ax[0, 1].hist(\\n        np.mean(posterior_samples[:, :, 2], axis=0),\\n        color=sns.xkcd_rgb[\\\"black\\\"],\\n        alpha=0.5,\\n        bins=10,\\n        label=r\\\"$h_p$\\\",\\n    )\\n    ax[0, 0].legend(fontsize=20)\\n    ax[0, 1].legend(fontsize=20)\\n    ax[0, 0].set_xticks([0, 1, 2, 3, 4])\\n    ax[0, 1].set_xticks([0, 0.5, 1])\\n    ax[0, 0].tick_params(axis=\\\"both\\\", labelsize=23)\\n    ax[0, 1].tick_params(axis=\\\"both\\\", labelsize=23)\\n    # add a big axis, hide frame\\n    fig.add_subplot(111, frameon=False)\\n    # hide tick and tick label of the big axis\\n    plt.tick_params(labelcolor=\\\"none\\\", top=False, bottom=False, left=False, right=False)\\n    # plt.xlabel(r\\\"$\\\\rho_{-}, \\\\rho_{+}$\\\")\\n    plt.ylabel(\\n        f\\\"Number of products (Total = {posterior_samples.shape[1]})\\\", fontsize=28\\n    )\\n    fig.savefig(ARTIFACT_PATH / \\\"mean_posteriors.png\\\", bbox_inches=\\\"tight\\\")\";\n",
       "                var nbb_formatted_code = \"def plot_mean_posteriors_for_products(posterior_samples: np.ndarray) -> None:\\n    fig, ax = plt.subplots(1, 2, squeeze=False)\\n    ax[0, 0].hist(\\n        np.mean(posterior_samples[:, :, 0], axis=0),\\n        color=sns.xkcd_rgb[\\\"cerulean\\\"],\\n        alpha=0.5,\\n        bins=10,\\n        label=r\\\"$\\\\rho_{-}$\\\",\\n    )\\n    ax[0, 0].hist(\\n        np.mean(posterior_samples[:, :, 1], axis=0),\\n        color=sns.xkcd_rgb[\\\"dark orange\\\"],\\n        alpha=0.5,\\n        bins=10,\\n        label=r\\\"$\\\\rho_{+}$\\\",\\n    )\\n    ax[0, 1].hist(\\n        np.mean(posterior_samples[:, :, 2], axis=0),\\n        color=sns.xkcd_rgb[\\\"black\\\"],\\n        alpha=0.5,\\n        bins=10,\\n        label=r\\\"$h_p$\\\",\\n    )\\n    ax[0, 0].legend(fontsize=20)\\n    ax[0, 1].legend(fontsize=20)\\n    ax[0, 0].set_xticks([0, 1, 2, 3, 4])\\n    ax[0, 1].set_xticks([0, 0.5, 1])\\n    ax[0, 0].tick_params(axis=\\\"both\\\", labelsize=23)\\n    ax[0, 1].tick_params(axis=\\\"both\\\", labelsize=23)\\n    # add a big axis, hide frame\\n    fig.add_subplot(111, frameon=False)\\n    # hide tick and tick label of the big axis\\n    plt.tick_params(labelcolor=\\\"none\\\", top=False, bottom=False, left=False, right=False)\\n    # plt.xlabel(r\\\"$\\\\rho_{-}, \\\\rho_{+}$\\\")\\n    plt.ylabel(\\n        f\\\"Number of products (Total = {posterior_samples.shape[1]})\\\", fontsize=28\\n    )\\n    fig.savefig(ARTIFACT_PATH / \\\"mean_posteriors.png\\\", bbox_inches=\\\"tight\\\")\";\n",
       "                var nbb_cells = Jupyter.notebook.get_cells();\n",
       "                for (var i = 0; i < nbb_cells.length; ++i) {\n",
       "                    if (nbb_cells[i].input_prompt_number == nbb_cell_id) {\n",
       "                        if (nbb_cells[i].get_text() == nbb_unformatted_code) {\n",
       "                             nbb_cells[i].set_text(nbb_formatted_code);\n",
       "                        }\n",
       "                        break;\n",
       "                    }\n",
       "                }\n",
       "            }, 500);\n",
       "            "
      ],
      "text/plain": [
       "<IPython.core.display.Javascript object>"
      ]
     },
     "metadata": {},
     "output_type": "display_data"
    }
   ],
   "source": [
    "def plot_mean_posteriors_for_products(posterior_samples: np.ndarray) -> None:\n",
    "    fig, ax = plt.subplots(1, 2, squeeze=False)\n",
    "    ax[0, 0].hist(\n",
    "        np.mean(posterior_samples[:, :, 0], axis=0),\n",
    "        color=sns.xkcd_rgb[\"cerulean\"],\n",
    "        alpha=0.5,\n",
    "        bins=10,\n",
    "        label=r\"$\\rho_{-}$\",\n",
    "    )\n",
    "    ax[0, 0].hist(\n",
    "        np.mean(posterior_samples[:, :, 1], axis=0),\n",
    "        color=sns.xkcd_rgb[\"dark orange\"],\n",
    "        alpha=0.5,\n",
    "        bins=10,\n",
    "        label=r\"$\\rho_{+}$\",\n",
    "    )\n",
    "    ax[0, 1].hist(\n",
    "        np.mean(posterior_samples[:, :, 2], axis=0),\n",
    "        color=sns.xkcd_rgb[\"black\"],\n",
    "        alpha=0.5,\n",
    "        bins=10,\n",
    "        label=r\"$h_p$\",\n",
    "    )\n",
    "    ax[0, 0].legend(fontsize=20)\n",
    "    ax[0, 1].legend(fontsize=20)\n",
    "    ax[0, 0].set_xticks([0, 1, 2, 3, 4])\n",
    "    ax[0, 1].set_xticks([0, 0.5, 1])\n",
    "    ax[0, 0].tick_params(axis=\"both\", labelsize=23)\n",
    "    ax[0, 1].tick_params(axis=\"both\", labelsize=23)\n",
    "    # add a big axis, hide frame\n",
    "    fig.add_subplot(111, frameon=False)\n",
    "    # hide tick and tick label of the big axis\n",
    "    plt.tick_params(labelcolor=\"none\", top=False, bottom=False, left=False, right=False)\n",
    "    # plt.xlabel(r\"$\\rho_{-}, \\rho_{+}$\")\n",
    "    plt.ylabel(\n",
    "        f\"Number of products (Total = {posterior_samples.shape[1]})\", fontsize=28\n",
    "    )\n",
    "    fig.savefig(ARTIFACT_PATH / \"mean_posteriors.png\", bbox_inches=\"tight\")"
   ]
  },
  {
   "cell_type": "code",
   "execution_count": 28,
   "id": "598b9a61",
   "metadata": {},
   "outputs": [
    {
     "data": {
      "application/javascript": [
       "\n",
       "            setTimeout(function() {\n",
       "                var nbb_cell_id = 28;\n",
       "                var nbb_unformatted_code = \"# In marketplace simulations, we cannot just supply a set of rho params, then simulate and infer on these simulations\\n# to test if the inference can recover the initially provided params\\n# So we instead sample from the posterior of a separate set of marketplace simulations not used in training and see\\n# if parameters are recovered on this new set\\ndef sample_posterior_on_simulations(\\n    device: str,\\n    num_samples: int,\\n    simulator_type: str,\\n    simulation_type: str,\\n    max_inference_length: int,\\n) -> np.ndarray:\\n    # We load the larger simulation (over 64 marketplaces) as the separate simulation for the inference to be tested on\\n    params = {\\n        \\\"review_prior\\\": np.ones(5),\\n        \\\"tendency_to_rate\\\": 0.05,\\n        \\\"simulation_type\\\": simulation_type,\\n        \\\"previous_rating_measure\\\": \\\"mode\\\",\\n        \\\"min_reviews_for_herding\\\": 5,\\n        \\\"num_products\\\": 1400,\\n        # \\\"num_products\\\": 100,\\n        \\\"num_total_marketplace_reviews\\\": 300_000,\\n        # \\\"num_total_marketplace_reviews\\\": 5_000,\\n        \\\"consideration_set_size\\\": 5,\\n    }\\n    simulator = marketplace_simulator_class.MarketplaceSimulator(params)\\n    simulator.load_simulator(ARTIFACT_PATH / \\\"large_simulation\\\")\\n    # We pick all simulations from a single marketplace as the observations on which we wish to obtain\\n    # posterior samples\\n    # These are the observations for the posterior sampling function defined above\\n    observations = simulator.simulations[0]\\n    # Also pick the simulation parameters corresponding to these simulations\\n    simulation_params = simulator.simulation_parameters.copy()\\n    simulation_params[\\\"rho\\\"] = simulation_params[\\\"rho\\\"][:len(observations), :]\\n    simulation_params[\\\"h_p\\\"] = simulation_params[\\\"h_p\\\"][:len(observations)]\\n    # Cut the observations to the max length seen during SNPE training\\n    observations = np.array(\\n        [obs[:max_inference_length, :] for obs in observations], dtype=\\\"object\\\"\\n    )\\n    posterior_samples = sample_posterior_with_observed(\\n        device, observations, num_samples, simulator_type, simulation_type\\n    )\\n    return posterior_samples, simulation_params\";\n",
       "                var nbb_formatted_code = \"# In marketplace simulations, we cannot just supply a set of rho params, then simulate and infer on these simulations\\n# to test if the inference can recover the initially provided params\\n# So we instead sample from the posterior of a separate set of marketplace simulations not used in training and see\\n# if parameters are recovered on this new set\\ndef sample_posterior_on_simulations(\\n    device: str,\\n    num_samples: int,\\n    simulator_type: str,\\n    simulation_type: str,\\n    max_inference_length: int,\\n) -> np.ndarray:\\n    # We load the larger simulation (over 64 marketplaces) as the separate simulation for the inference to be tested on\\n    params = {\\n        \\\"review_prior\\\": np.ones(5),\\n        \\\"tendency_to_rate\\\": 0.05,\\n        \\\"simulation_type\\\": simulation_type,\\n        \\\"previous_rating_measure\\\": \\\"mode\\\",\\n        \\\"min_reviews_for_herding\\\": 5,\\n        \\\"num_products\\\": 1400,\\n        # \\\"num_products\\\": 100,\\n        \\\"num_total_marketplace_reviews\\\": 300_000,\\n        # \\\"num_total_marketplace_reviews\\\": 5_000,\\n        \\\"consideration_set_size\\\": 5,\\n    }\\n    simulator = marketplace_simulator_class.MarketplaceSimulator(params)\\n    simulator.load_simulator(ARTIFACT_PATH / \\\"large_simulation\\\")\\n    # We pick all simulations from a single marketplace as the observations on which we wish to obtain\\n    # posterior samples\\n    # These are the observations for the posterior sampling function defined above\\n    observations = simulator.simulations[0]\\n    # Also pick the simulation parameters corresponding to these simulations\\n    simulation_params = simulator.simulation_parameters.copy()\\n    simulation_params[\\\"rho\\\"] = simulation_params[\\\"rho\\\"][: len(observations), :]\\n    simulation_params[\\\"h_p\\\"] = simulation_params[\\\"h_p\\\"][: len(observations)]\\n    # Cut the observations to the max length seen during SNPE training\\n    observations = np.array(\\n        [obs[:max_inference_length, :] for obs in observations], dtype=\\\"object\\\"\\n    )\\n    posterior_samples = sample_posterior_with_observed(\\n        device, observations, num_samples, simulator_type, simulation_type\\n    )\\n    return posterior_samples, simulation_params\";\n",
       "                var nbb_cells = Jupyter.notebook.get_cells();\n",
       "                for (var i = 0; i < nbb_cells.length; ++i) {\n",
       "                    if (nbb_cells[i].input_prompt_number == nbb_cell_id) {\n",
       "                        if (nbb_cells[i].get_text() == nbb_unformatted_code) {\n",
       "                             nbb_cells[i].set_text(nbb_formatted_code);\n",
       "                        }\n",
       "                        break;\n",
       "                    }\n",
       "                }\n",
       "            }, 500);\n",
       "            "
      ],
      "text/plain": [
       "<IPython.core.display.Javascript object>"
      ]
     },
     "metadata": {},
     "output_type": "display_data"
    }
   ],
   "source": [
    "# In marketplace simulations, we cannot just supply a set of rho params, then simulate and infer on these simulations\n",
    "# to test if the inference can recover the initially provided params\n",
    "# So we instead sample from the posterior of a separate set of marketplace simulations not used in training and see\n",
    "# if parameters are recovered on this new set\n",
    "def sample_posterior_on_simulations(\n",
    "    device: str,\n",
    "    num_samples: int,\n",
    "    simulator_type: str,\n",
    "    simulation_type: str,\n",
    "    max_inference_length: int,\n",
    ") -> np.ndarray:\n",
    "    # We load the larger simulation (over 64 marketplaces) as the separate simulation for the inference to be tested on\n",
    "    params = {\n",
    "        \"review_prior\": np.ones(5),\n",
    "        \"tendency_to_rate\": 0.05,\n",
    "        \"simulation_type\": simulation_type,\n",
    "        \"previous_rating_measure\": \"mode\",\n",
    "        \"min_reviews_for_herding\": 5,\n",
    "        \"num_products\": 1400,\n",
    "        # \"num_products\": 100,\n",
    "        \"num_total_marketplace_reviews\": 300_000,\n",
    "        # \"num_total_marketplace_reviews\": 5_000,\n",
    "        \"consideration_set_size\": 5,\n",
    "    }\n",
    "    simulator = marketplace_simulator_class.MarketplaceSimulator(params)\n",
    "    simulator.load_simulator(ARTIFACT_PATH / \"large_simulation\")\n",
    "    # We pick all simulations from a single marketplace as the observations on which we wish to obtain\n",
    "    # posterior samples\n",
    "    # These are the observations for the posterior sampling function defined above\n",
    "    observations = simulator.simulations[0]\n",
    "    # Also pick the simulation parameters corresponding to these simulations\n",
    "    simulation_params = simulator.simulation_parameters.copy()\n",
    "    simulation_params[\"rho\"] = simulation_params[\"rho\"][: len(observations), :]\n",
    "    simulation_params[\"h_p\"] = simulation_params[\"h_p\"][: len(observations)]\n",
    "    # Cut the observations to the max length seen during SNPE training\n",
    "    observations = np.array(\n",
    "        [obs[:max_inference_length, :] for obs in observations], dtype=\"object\"\n",
    "    )\n",
    "    posterior_samples = sample_posterior_with_observed(\n",
    "        device, observations, num_samples, simulator_type, simulation_type\n",
    "    )\n",
    "    return posterior_samples, simulation_params"
   ]
  },
  {
   "cell_type": "code",
   "execution_count": null,
   "id": "474c7807",
   "metadata": {},
   "outputs": [],
   "source": []
  },
  {
   "cell_type": "code",
   "execution_count": null,
   "id": "3842065e",
   "metadata": {},
   "outputs": [],
   "source": []
  },
  {
   "cell_type": "code",
   "execution_count": null,
   "id": "de7ed42d",
   "metadata": {},
   "outputs": [],
   "source": []
  },
  {
   "cell_type": "markdown",
   "id": "c7c94a14",
   "metadata": {},
   "source": [
    "# Actual code to run the functions above"
   ]
  },
  {
   "cell_type": "code",
   "execution_count": 9,
   "id": "59f5405e",
   "metadata": {},
   "outputs": [
    {
     "data": {
      "text/plain": [
       "16"
      ]
     },
     "execution_count": 9,
     "metadata": {},
     "output_type": "execute_result"
    },
    {
     "data": {
      "application/javascript": [
       "\n",
       "            setTimeout(function() {\n",
       "                var nbb_cell_id = 9;\n",
       "                var nbb_unformatted_code = \"torch.set_num_threads(mp.cpu_count())\\ntorch.get_num_threads()\";\n",
       "                var nbb_formatted_code = \"torch.set_num_threads(mp.cpu_count())\\ntorch.get_num_threads()\";\n",
       "                var nbb_cells = Jupyter.notebook.get_cells();\n",
       "                for (var i = 0; i < nbb_cells.length; ++i) {\n",
       "                    if (nbb_cells[i].input_prompt_number == nbb_cell_id) {\n",
       "                        if (nbb_cells[i].get_text() == nbb_unformatted_code) {\n",
       "                             nbb_cells[i].set_text(nbb_formatted_code);\n",
       "                        }\n",
       "                        break;\n",
       "                    }\n",
       "                }\n",
       "            }, 500);\n",
       "            "
      ],
      "text/plain": [
       "<IPython.core.display.Javascript object>"
      ]
     },
     "metadata": {},
     "output_type": "display_data"
    }
   ],
   "source": [
    "torch.set_num_threads(mp.cpu_count())\n",
    "torch.get_num_threads()"
   ]
  },
  {
   "cell_type": "code",
   "execution_count": 16,
   "id": "dd1108c8",
   "metadata": {},
   "outputs": [
    {
     "data": {
      "application/javascript": [
       "\n",
       "            setTimeout(function() {\n",
       "                var nbb_cell_id = 16;\n",
       "                var nbb_unformatted_code = \"inference_params = {\\n    \\\"batch_size\\\": 128,\\n    \\\"learning_rate\\\": 1.9e-4,\\n    \\\"hidden_features\\\": 35,\\n    \\\"num_transforms\\\": 5,\\n    \\\"num_conv_layers\\\": 2,\\n    \\\"num_channels\\\": 10,\\n    \\\"conv_kernel_size\\\": 5,\\n    \\\"maxpool_kernel_size\\\": 9,\\n    \\\"num_dense_layers\\\": 1,\\n}\";\n",
       "                var nbb_formatted_code = \"inference_params = {\\n    \\\"batch_size\\\": 128,\\n    \\\"learning_rate\\\": 1.9e-4,\\n    \\\"hidden_features\\\": 35,\\n    \\\"num_transforms\\\": 5,\\n    \\\"num_conv_layers\\\": 2,\\n    \\\"num_channels\\\": 10,\\n    \\\"conv_kernel_size\\\": 5,\\n    \\\"maxpool_kernel_size\\\": 9,\\n    \\\"num_dense_layers\\\": 1,\\n}\";\n",
       "                var nbb_cells = Jupyter.notebook.get_cells();\n",
       "                for (var i = 0; i < nbb_cells.length; ++i) {\n",
       "                    if (nbb_cells[i].input_prompt_number == nbb_cell_id) {\n",
       "                        if (nbb_cells[i].get_text() == nbb_unformatted_code) {\n",
       "                             nbb_cells[i].set_text(nbb_formatted_code);\n",
       "                        }\n",
       "                        break;\n",
       "                    }\n",
       "                }\n",
       "            }, 500);\n",
       "            "
      ],
      "text/plain": [
       "<IPython.core.display.Javascript object>"
      ]
     },
     "metadata": {},
     "output_type": "display_data"
    }
   ],
   "source": [
    "inference_params = {\n",
    "    \"batch_size\": 128,\n",
    "    \"learning_rate\": 1.9e-4,\n",
    "    \"hidden_features\": 35,\n",
    "    \"num_transforms\": 5,\n",
    "    \"num_conv_layers\": 2,\n",
    "    \"num_channels\": 10,\n",
    "    \"conv_kernel_size\": 5,\n",
    "    \"maxpool_kernel_size\": 9,\n",
    "    \"num_dense_layers\": 1,\n",
    "}"
   ]
  },
  {
   "cell_type": "code",
   "execution_count": 17,
   "id": "9a001f49",
   "metadata": {},
   "outputs": [
    {
     "name": "stdout",
     "output_type": "stream",
     "text": [
      "Embedding net created: \n",
      " Sequential(\n",
      "  (0): Conv1d(5, 10, kernel_size=(5,), stride=(1,), padding=(2,))\n",
      "  (1): LeakyReLU(negative_slope=0.01)\n",
      "  (2): Conv1d(10, 10, kernel_size=(5,), stride=(1,), padding=(4,), dilation=(2,))\n",
      "  (3): MaxPool1d(kernel_size=9, stride=9, padding=0, dilation=1, ceil_mode=False)\n",
      "  (4): Flatten(start_dim=1, end_dim=-1)\n",
      "  (5): LeakyReLU(negative_slope=0.01)\n",
      "  (6): Linear(in_features=740, out_features=32, bias=True)\n",
      ")\n"
     ]
    },
    {
     "name": "stderr",
     "output_type": "stream",
     "text": [
      "/opt/conda/lib/python3.7/site-packages/sbi/utils/user_input_checks.py:684: UserWarning: Data x has device 'cpu' different from the training_device 'cuda:0', moving x to the training_device 'cuda:0'.\n",
      "  f\"Data x has device '{x.device}' \"\n",
      "/opt/conda/lib/python3.7/site-packages/sbi/utils/user_input_checks.py:692: UserWarning: Parameters theta has device 'cpu' different from the training_device 'cuda:0', moving theta to the training_device 'cuda:0'.\n",
      "  f\"Parameters theta has device '{theta.device}' \"\n",
      "/opt/conda/lib/python3.7/site-packages/sbi/utils/user_input_checks.py:428: UserWarning: Mismatch between the device of the data fed to the embedding_net and the device of the embedding_net's weights. Fed data has device 'cuda:0' vs embedding_net weights have device 'cpu'. Automatically switching the embedding_net's device to 'cuda:0', which could otherwise be done manually using the line `embedding_net.to('cuda:0')`.\n",
      "  \"Mismatch between the device of the data fed \"\n"
     ]
    },
    {
     "name": "stdout",
     "output_type": "stream",
     "text": [
      " Neural network successfully converged after 234 epochs.\n",
      "        -------------------------\n",
      "        ||||| ROUND 1 STATS |||||:\n",
      "        -------------------------\n",
      "        Epochs trained: 234\n",
      "        Best validation performance: 1.0422\n",
      "        -------------------------\n",
      "        \n"
     ]
    },
    {
     "data": {
      "application/javascript": [
       "\n",
       "            setTimeout(function() {\n",
       "                var nbb_cell_id = 17;\n",
       "                var nbb_unformatted_code = \"infer_and_save_posterior(\\\"cuda\\\", \\\"marketplace\\\", \\\"timeseries\\\", inference_params)\";\n",
       "                var nbb_formatted_code = \"infer_and_save_posterior(\\\"cuda\\\", \\\"marketplace\\\", \\\"timeseries\\\", inference_params)\";\n",
       "                var nbb_cells = Jupyter.notebook.get_cells();\n",
       "                for (var i = 0; i < nbb_cells.length; ++i) {\n",
       "                    if (nbb_cells[i].input_prompt_number == nbb_cell_id) {\n",
       "                        if (nbb_cells[i].get_text() == nbb_unformatted_code) {\n",
       "                             nbb_cells[i].set_text(nbb_formatted_code);\n",
       "                        }\n",
       "                        break;\n",
       "                    }\n",
       "                }\n",
       "            }, 500);\n",
       "            "
      ],
      "text/plain": [
       "<IPython.core.display.Javascript object>"
      ]
     },
     "metadata": {},
     "output_type": "display_data"
    }
   ],
   "source": [
    "infer_and_save_posterior(\"cuda\", \"marketplace\", \"timeseries\", inference_params)"
   ]
  },
  {
   "cell_type": "code",
   "execution_count": 30,
   "id": "38085283",
   "metadata": {},
   "outputs": [
    {
     "data": {
      "application/javascript": [
       "\n",
       "            setTimeout(function() {\n",
       "                var nbb_cell_id = 30;\n",
       "                var nbb_unformatted_code = \"posterior_simulations, simulation_parameters = sample_posterior_on_simulations(\\n    \\\"cuda\\\", 10_000, \\\"marketplace\\\", \\\"timeseries\\\", 673\\n)\";\n",
       "                var nbb_formatted_code = \"posterior_simulations, simulation_parameters = sample_posterior_on_simulations(\\n    \\\"cuda\\\", 10_000, \\\"marketplace\\\", \\\"timeseries\\\", 673\\n)\";\n",
       "                var nbb_cells = Jupyter.notebook.get_cells();\n",
       "                for (var i = 0; i < nbb_cells.length; ++i) {\n",
       "                    if (nbb_cells[i].input_prompt_number == nbb_cell_id) {\n",
       "                        if (nbb_cells[i].get_text() == nbb_unformatted_code) {\n",
       "                             nbb_cells[i].set_text(nbb_formatted_code);\n",
       "                        }\n",
       "                        break;\n",
       "                    }\n",
       "                }\n",
       "            }, 500);\n",
       "            "
      ],
      "text/plain": [
       "<IPython.core.display.Javascript object>"
      ]
     },
     "metadata": {},
     "output_type": "display_data"
    }
   ],
   "source": [
    "posterior_simulations, simulation_parameters = sample_posterior_on_simulations(\n",
    "    \"cuda\", 10_000, \"marketplace\", \"timeseries\", 673\n",
    ")"
   ]
  },
  {
   "cell_type": "code",
   "execution_count": 31,
   "id": "b13fcc0a",
   "metadata": {},
   "outputs": [
    {
     "data": {
      "text/plain": [
       "(10000, 1400, 3)"
      ]
     },
     "execution_count": 31,
     "metadata": {},
     "output_type": "execute_result"
    },
    {
     "data": {
      "application/javascript": [
       "\n",
       "            setTimeout(function() {\n",
       "                var nbb_cell_id = 31;\n",
       "                var nbb_unformatted_code = \"posterior_simulations.shape\";\n",
       "                var nbb_formatted_code = \"posterior_simulations.shape\";\n",
       "                var nbb_cells = Jupyter.notebook.get_cells();\n",
       "                for (var i = 0; i < nbb_cells.length; ++i) {\n",
       "                    if (nbb_cells[i].input_prompt_number == nbb_cell_id) {\n",
       "                        if (nbb_cells[i].get_text() == nbb_unformatted_code) {\n",
       "                             nbb_cells[i].set_text(nbb_formatted_code);\n",
       "                        }\n",
       "                        break;\n",
       "                    }\n",
       "                }\n",
       "            }, 500);\n",
       "            "
      ],
      "text/plain": [
       "<IPython.core.display.Javascript object>"
      ]
     },
     "metadata": {},
     "output_type": "display_data"
    }
   ],
   "source": [
    "posterior_simulations.shape"
   ]
  },
  {
   "cell_type": "code",
   "execution_count": 33,
   "id": "f428e4ce",
   "metadata": {},
   "outputs": [
    {
     "data": {
      "text/plain": [
       "(1400, 2)"
      ]
     },
     "execution_count": 33,
     "metadata": {},
     "output_type": "execute_result"
    },
    {
     "data": {
      "application/javascript": [
       "\n",
       "            setTimeout(function() {\n",
       "                var nbb_cell_id = 33;\n",
       "                var nbb_unformatted_code = \"simulation_parameters[\\\"rho\\\"].shape\";\n",
       "                var nbb_formatted_code = \"simulation_parameters[\\\"rho\\\"].shape\";\n",
       "                var nbb_cells = Jupyter.notebook.get_cells();\n",
       "                for (var i = 0; i < nbb_cells.length; ++i) {\n",
       "                    if (nbb_cells[i].input_prompt_number == nbb_cell_id) {\n",
       "                        if (nbb_cells[i].get_text() == nbb_unformatted_code) {\n",
       "                             nbb_cells[i].set_text(nbb_formatted_code);\n",
       "                        }\n",
       "                        break;\n",
       "                    }\n",
       "                }\n",
       "            }, 500);\n",
       "            "
      ],
      "text/plain": [
       "<IPython.core.display.Javascript object>"
      ]
     },
     "metadata": {},
     "output_type": "display_data"
    }
   ],
   "source": [
    "simulation_parameters[\"rho\"].shape"
   ]
  },
  {
   "cell_type": "code",
   "execution_count": 40,
   "id": "c348c647",
   "metadata": {},
   "outputs": [
    {
     "data": {
      "application/javascript": [
       "\n",
       "            setTimeout(function() {\n",
       "                var nbb_cell_id = 40;\n",
       "                var nbb_unformatted_code = \"save_dict = {\\n    \\\"posterior_simulations\\\": posterior_simulations,\\n    \\\"simulation_parameters\\\": simulation_parameters,\\n}\";\n",
       "                var nbb_formatted_code = \"save_dict = {\\n    \\\"posterior_simulations\\\": posterior_simulations,\\n    \\\"simulation_parameters\\\": simulation_parameters,\\n}\";\n",
       "                var nbb_cells = Jupyter.notebook.get_cells();\n",
       "                for (var i = 0; i < nbb_cells.length; ++i) {\n",
       "                    if (nbb_cells[i].input_prompt_number == nbb_cell_id) {\n",
       "                        if (nbb_cells[i].get_text() == nbb_unformatted_code) {\n",
       "                             nbb_cells[i].set_text(nbb_formatted_code);\n",
       "                        }\n",
       "                        break;\n",
       "                    }\n",
       "                }\n",
       "            }, 500);\n",
       "            "
      ],
      "text/plain": [
       "<IPython.core.display.Javascript object>"
      ]
     },
     "metadata": {},
     "output_type": "display_data"
    }
   ],
   "source": [
    "save_dict = {\n",
    "    \"posterior_simulations\": posterior_simulations,\n",
    "    \"simulation_parameters\": simulation_parameters,\n",
    "}"
   ]
  },
  {
   "cell_type": "code",
   "execution_count": 41,
   "id": "8291b29e",
   "metadata": {},
   "outputs": [
    {
     "data": {
      "application/javascript": [
       "\n",
       "            setTimeout(function() {\n",
       "                var nbb_cell_id = 41;\n",
       "                var nbb_unformatted_code = \"with open(ARTIFACT_PATH / \\\"posterior_inference_on_simulations.pkl\\\", \\\"wb\\\") as f:\\n    pickle.dump(save_dict, f)\";\n",
       "                var nbb_formatted_code = \"with open(ARTIFACT_PATH / \\\"posterior_inference_on_simulations.pkl\\\", \\\"wb\\\") as f:\\n    pickle.dump(save_dict, f)\";\n",
       "                var nbb_cells = Jupyter.notebook.get_cells();\n",
       "                for (var i = 0; i < nbb_cells.length; ++i) {\n",
       "                    if (nbb_cells[i].input_prompt_number == nbb_cell_id) {\n",
       "                        if (nbb_cells[i].get_text() == nbb_unformatted_code) {\n",
       "                             nbb_cells[i].set_text(nbb_formatted_code);\n",
       "                        }\n",
       "                        break;\n",
       "                    }\n",
       "                }\n",
       "            }, 500);\n",
       "            "
      ],
      "text/plain": [
       "<IPython.core.display.Javascript object>"
      ]
     },
     "metadata": {},
     "output_type": "display_data"
    }
   ],
   "source": [
    "with open(ARTIFACT_PATH / \"posterior_inference_on_simulations.pkl\", \"wb\") as f:\n",
    "    pickle.dump(save_dict, f)"
   ]
  },
  {
   "cell_type": "code",
   "execution_count": null,
   "id": "6b41d9c7",
   "metadata": {},
   "outputs": [],
   "source": []
  },
  {
   "cell_type": "code",
   "execution_count": null,
   "id": "fb62a4ca",
   "metadata": {},
   "outputs": [],
   "source": []
  },
  {
   "cell_type": "markdown",
   "id": "991605ac",
   "metadata": {},
   "source": [
    "# Working with the observed data"
   ]
  },
  {
   "cell_type": "code",
   "execution_count": 10,
   "id": "ad754950",
   "metadata": {},
   "outputs": [
    {
     "data": {
      "text/html": [
       "<div>\n",
       "<style scoped>\n",
       "    .dataframe tbody tr th:only-of-type {\n",
       "        vertical-align: middle;\n",
       "    }\n",
       "\n",
       "    .dataframe tbody tr th {\n",
       "        vertical-align: top;\n",
       "    }\n",
       "\n",
       "    .dataframe thead th {\n",
       "        text-align: right;\n",
       "    }\n",
       "</style>\n",
       "<table border=\"1\" class=\"dataframe\">\n",
       "  <thead>\n",
       "    <tr style=\"text-align: right;\">\n",
       "      <th></th>\n",
       "      <th>asin</th>\n",
       "      <th>overall</th>\n",
       "      <th>ReviewId</th>\n",
       "      <th>unixReviewTime</th>\n",
       "      <th>rootcategoryid</th>\n",
       "    </tr>\n",
       "  </thead>\n",
       "  <tbody>\n",
       "    <tr>\n",
       "      <th>0</th>\n",
       "      <td>670155</td>\n",
       "      <td>4</td>\n",
       "      <td>3480905</td>\n",
       "      <td>2009-02-10</td>\n",
       "      <td>33005908</td>\n",
       "    </tr>\n",
       "    <tr>\n",
       "      <th>1</th>\n",
       "      <td>670155</td>\n",
       "      <td>3</td>\n",
       "      <td>3535864</td>\n",
       "      <td>2009-02-24</td>\n",
       "      <td>33005908</td>\n",
       "    </tr>\n",
       "    <tr>\n",
       "      <th>2</th>\n",
       "      <td>670155</td>\n",
       "      <td>5</td>\n",
       "      <td>3539112</td>\n",
       "      <td>2009-02-24</td>\n",
       "      <td>33005908</td>\n",
       "    </tr>\n",
       "    <tr>\n",
       "      <th>3</th>\n",
       "      <td>670155</td>\n",
       "      <td>4</td>\n",
       "      <td>3539514</td>\n",
       "      <td>2009-02-25</td>\n",
       "      <td>33005908</td>\n",
       "    </tr>\n",
       "    <tr>\n",
       "      <th>4</th>\n",
       "      <td>670155</td>\n",
       "      <td>1</td>\n",
       "      <td>3556157</td>\n",
       "      <td>2009-03-05</td>\n",
       "      <td>33005908</td>\n",
       "    </tr>\n",
       "  </tbody>\n",
       "</table>\n",
       "</div>"
      ],
      "text/plain": [
       "     asin  overall  ReviewId unixReviewTime  rootcategoryid\n",
       "0  670155        4   3480905     2009-02-10        33005908\n",
       "1  670155        3   3535864     2009-02-24        33005908\n",
       "2  670155        5   3539112     2009-02-24        33005908\n",
       "3  670155        4   3539514     2009-02-25        33005908\n",
       "4  670155        1   3556157     2009-03-05        33005908"
      ]
     },
     "execution_count": 10,
     "metadata": {},
     "output_type": "execute_result"
    },
    {
     "data": {
      "application/javascript": [
       "\n",
       "            setTimeout(function() {\n",
       "                var nbb_cell_id = 10;\n",
       "                var nbb_unformatted_code = \"# reviews = pyreadr.read_r(\\n#    \\\"/data/Dropbox/SNPE/all_data/reviews_bazaarvoice_main_vars.Rds\\\"\\n# )\\n# reviews = pyreadr.read_r(ARTIFACT_PATH / \\\"reviews_bazaarvoice_main_vars.Rds\\\")\\nreviews = pyreadr.read_r(\\n    Path(\\\"../../../gcs_mount/artifacts/marketplace/\\\")\\n    / \\\"reviews_bazaarvoice_main_vars.Rds\\\"\\n)\\nreviews = reviews[None]\\nreviews.head()\";\n",
       "                var nbb_formatted_code = \"# reviews = pyreadr.read_r(\\n#    \\\"/data/Dropbox/SNPE/all_data/reviews_bazaarvoice_main_vars.Rds\\\"\\n# )\\n# reviews = pyreadr.read_r(ARTIFACT_PATH / \\\"reviews_bazaarvoice_main_vars.Rds\\\")\\nreviews = pyreadr.read_r(\\n    Path(\\\"../../../gcs_mount/artifacts/marketplace/\\\")\\n    / \\\"reviews_bazaarvoice_main_vars.Rds\\\"\\n)\\nreviews = reviews[None]\\nreviews.head()\";\n",
       "                var nbb_cells = Jupyter.notebook.get_cells();\n",
       "                for (var i = 0; i < nbb_cells.length; ++i) {\n",
       "                    if (nbb_cells[i].input_prompt_number == nbb_cell_id) {\n",
       "                        if (nbb_cells[i].get_text() == nbb_unformatted_code) {\n",
       "                             nbb_cells[i].set_text(nbb_formatted_code);\n",
       "                        }\n",
       "                        break;\n",
       "                    }\n",
       "                }\n",
       "            }, 500);\n",
       "            "
      ],
      "text/plain": [
       "<IPython.core.display.Javascript object>"
      ]
     },
     "metadata": {},
     "output_type": "display_data"
    }
   ],
   "source": [
    "# reviews = pyreadr.read_r(\n",
    "#    \"/data/Dropbox/SNPE/all_data/reviews_bazaarvoice_main_vars.Rds\"\n",
    "# )\n",
    "# reviews = pyreadr.read_r(ARTIFACT_PATH / \"reviews_bazaarvoice_main_vars.Rds\")\n",
    "reviews = pyreadr.read_r(\n",
    "    Path(\"../../../gcs_mount/artifacts/marketplace/\")\n",
    "    / \"reviews_bazaarvoice_main_vars.Rds\"\n",
    ")\n",
    "reviews = reviews[None]\n",
    "reviews.head()"
   ]
  },
  {
   "cell_type": "code",
   "execution_count": 11,
   "id": "513aa7ab",
   "metadata": {},
   "outputs": [
    {
     "data": {
      "application/javascript": [
       "\n",
       "            setTimeout(function() {\n",
       "                var nbb_cell_id = 11;\n",
       "                var nbb_unformatted_code = \"pd.testing.assert_frame_equal(reviews, reviews.sort_values([\\\"asin\\\", \\\"unixReviewTime\\\"]))\";\n",
       "                var nbb_formatted_code = \"pd.testing.assert_frame_equal(reviews, reviews.sort_values([\\\"asin\\\", \\\"unixReviewTime\\\"]))\";\n",
       "                var nbb_cells = Jupyter.notebook.get_cells();\n",
       "                for (var i = 0; i < nbb_cells.length; ++i) {\n",
       "                    if (nbb_cells[i].input_prompt_number == nbb_cell_id) {\n",
       "                        if (nbb_cells[i].get_text() == nbb_unformatted_code) {\n",
       "                             nbb_cells[i].set_text(nbb_formatted_code);\n",
       "                        }\n",
       "                        break;\n",
       "                    }\n",
       "                }\n",
       "            }, 500);\n",
       "            "
      ],
      "text/plain": [
       "<IPython.core.display.Javascript object>"
      ]
     },
     "metadata": {},
     "output_type": "display_data"
    }
   ],
   "source": [
    "pd.testing.assert_frame_equal(reviews, reviews.sort_values([\"asin\", \"unixReviewTime\"]))"
   ]
  },
  {
   "cell_type": "code",
   "execution_count": 12,
   "id": "06236636",
   "metadata": {},
   "outputs": [
    {
     "data": {
      "text/plain": [
       "1293"
      ]
     },
     "execution_count": 12,
     "metadata": {},
     "output_type": "execute_result"
    },
    {
     "data": {
      "application/javascript": [
       "\n",
       "            setTimeout(function() {\n",
       "                var nbb_cell_id = 12;\n",
       "                var nbb_unformatted_code = \"reviews.asin.value_counts().max()\";\n",
       "                var nbb_formatted_code = \"reviews.asin.value_counts().max()\";\n",
       "                var nbb_cells = Jupyter.notebook.get_cells();\n",
       "                for (var i = 0; i < nbb_cells.length; ++i) {\n",
       "                    if (nbb_cells[i].input_prompt_number == nbb_cell_id) {\n",
       "                        if (nbb_cells[i].get_text() == nbb_unformatted_code) {\n",
       "                             nbb_cells[i].set_text(nbb_formatted_code);\n",
       "                        }\n",
       "                        break;\n",
       "                    }\n",
       "                }\n",
       "            }, 500);\n",
       "            "
      ],
      "text/plain": [
       "<IPython.core.display.Javascript object>"
      ]
     },
     "metadata": {},
     "output_type": "display_data"
    }
   ],
   "source": [
    "reviews.asin.value_counts().max()"
   ]
  },
  {
   "cell_type": "code",
   "execution_count": 13,
   "id": "47c4e894",
   "metadata": {},
   "outputs": [
    {
     "data": {
      "text/plain": [
       "(1406,)"
      ]
     },
     "execution_count": 13,
     "metadata": {},
     "output_type": "execute_result"
    },
    {
     "data": {
      "application/javascript": [
       "\n",
       "            setTimeout(function() {\n",
       "                var nbb_cell_id = 13;\n",
       "                var nbb_unformatted_code = \"reviews.asin.unique().shape\";\n",
       "                var nbb_formatted_code = \"reviews.asin.unique().shape\";\n",
       "                var nbb_cells = Jupyter.notebook.get_cells();\n",
       "                for (var i = 0; i < nbb_cells.length; ++i) {\n",
       "                    if (nbb_cells[i].input_prompt_number == nbb_cell_id) {\n",
       "                        if (nbb_cells[i].get_text() == nbb_unformatted_code) {\n",
       "                             nbb_cells[i].set_text(nbb_formatted_code);\n",
       "                        }\n",
       "                        break;\n",
       "                    }\n",
       "                }\n",
       "            }, 500);\n",
       "            "
      ],
      "text/plain": [
       "<IPython.core.display.Javascript object>"
      ]
     },
     "metadata": {},
     "output_type": "display_data"
    }
   ],
   "source": [
    "reviews.asin.unique().shape"
   ]
  },
  {
   "cell_type": "code",
   "execution_count": 14,
   "id": "d7749342",
   "metadata": {},
   "outputs": [
    {
     "data": {
      "application/javascript": [
       "\n",
       "            setTimeout(function() {\n",
       "                var nbb_cell_id = 14;\n",
       "                var nbb_unformatted_code = \"# Pull out the ratings from the timeseries DF and convert them into a format\\n# that can be fed into the inference engine\\ntimeseries_data = []\\nfor product in reviews.asin.unique():\\n    # We were cutting off at 5001 reviews earlier when we could control the number of reviews per product in the sims\\n    # But now, we put the max len of the deque a little higher than the number of reviews\\n    # for the most reviewed product (around 1300)\\n    timeseries = deque([np.ones(5)], maxlen=673)\\n    ratings = np.array(reviews.loc[reviews.asin == product, \\\"overall\\\"])\\n    ratings = ratings[:673]\\n    for rating in ratings:\\n        current_histogram = timeseries[-1].copy()\\n        current_histogram[int(rating - 1)] += 1\\n        timeseries.append(current_histogram)\\n    timeseries_data.append(np.array(timeseries))\\ntimeseries_data = np.array(timeseries_data, dtype=\\\"object\\\")\";\n",
       "                var nbb_formatted_code = \"# Pull out the ratings from the timeseries DF and convert them into a format\\n# that can be fed into the inference engine\\ntimeseries_data = []\\nfor product in reviews.asin.unique():\\n    # We were cutting off at 5001 reviews earlier when we could control the number of reviews per product in the sims\\n    # But now, we put the max len of the deque a little higher than the number of reviews\\n    # for the most reviewed product (around 1300)\\n    timeseries = deque([np.ones(5)], maxlen=673)\\n    ratings = np.array(reviews.loc[reviews.asin == product, \\\"overall\\\"])\\n    ratings = ratings[:673]\\n    for rating in ratings:\\n        current_histogram = timeseries[-1].copy()\\n        current_histogram[int(rating - 1)] += 1\\n        timeseries.append(current_histogram)\\n    timeseries_data.append(np.array(timeseries))\\ntimeseries_data = np.array(timeseries_data, dtype=\\\"object\\\")\";\n",
       "                var nbb_cells = Jupyter.notebook.get_cells();\n",
       "                for (var i = 0; i < nbb_cells.length; ++i) {\n",
       "                    if (nbb_cells[i].input_prompt_number == nbb_cell_id) {\n",
       "                        if (nbb_cells[i].get_text() == nbb_unformatted_code) {\n",
       "                             nbb_cells[i].set_text(nbb_formatted_code);\n",
       "                        }\n",
       "                        break;\n",
       "                    }\n",
       "                }\n",
       "            }, 500);\n",
       "            "
      ],
      "text/plain": [
       "<IPython.core.display.Javascript object>"
      ]
     },
     "metadata": {},
     "output_type": "display_data"
    }
   ],
   "source": [
    "# Pull out the ratings from the timeseries DF and convert them into a format\n",
    "# that can be fed into the inference engine\n",
    "timeseries_data = []\n",
    "for product in reviews.asin.unique():\n",
    "    # We were cutting off at 5001 reviews earlier when we could control the number of reviews per product in the sims\n",
    "    # But now, we put the max len of the deque a little higher than the number of reviews\n",
    "    # for the most reviewed product (around 1300)\n",
    "    timeseries = deque([np.ones(5)], maxlen=673)\n",
    "    ratings = np.array(reviews.loc[reviews.asin == product, \"overall\"])\n",
    "    ratings = ratings[:673]\n",
    "    for rating in ratings:\n",
    "        current_histogram = timeseries[-1].copy()\n",
    "        current_histogram[int(rating - 1)] += 1\n",
    "        timeseries.append(current_histogram)\n",
    "    timeseries_data.append(np.array(timeseries))\n",
    "timeseries_data = np.array(timeseries_data, dtype=\"object\")"
   ]
  },
  {
   "cell_type": "code",
   "execution_count": 15,
   "id": "fd22904a",
   "metadata": {},
   "outputs": [
    {
     "data": {
      "text/plain": [
       "(1406,)"
      ]
     },
     "execution_count": 15,
     "metadata": {},
     "output_type": "execute_result"
    },
    {
     "data": {
      "application/javascript": [
       "\n",
       "            setTimeout(function() {\n",
       "                var nbb_cell_id = 15;\n",
       "                var nbb_unformatted_code = \"timeseries_data.shape\";\n",
       "                var nbb_formatted_code = \"timeseries_data.shape\";\n",
       "                var nbb_cells = Jupyter.notebook.get_cells();\n",
       "                for (var i = 0; i < nbb_cells.length; ++i) {\n",
       "                    if (nbb_cells[i].input_prompt_number == nbb_cell_id) {\n",
       "                        if (nbb_cells[i].get_text() == nbb_unformatted_code) {\n",
       "                             nbb_cells[i].set_text(nbb_formatted_code);\n",
       "                        }\n",
       "                        break;\n",
       "                    }\n",
       "                }\n",
       "            }, 500);\n",
       "            "
      ],
      "text/plain": [
       "<IPython.core.display.Javascript object>"
      ]
     },
     "metadata": {},
     "output_type": "display_data"
    }
   ],
   "source": [
    "timeseries_data.shape"
   ]
  },
  {
   "cell_type": "code",
   "execution_count": 16,
   "id": "a8ca54e1",
   "metadata": {},
   "outputs": [
    {
     "data": {
      "text/plain": [
       "array([[ 1.,  1.,  1.,  1.,  1.],\n",
       "       [ 1.,  1.,  1.,  1.,  2.],\n",
       "       [ 1.,  1.,  1.,  1.,  3.],\n",
       "       [ 1.,  1.,  1.,  1.,  4.],\n",
       "       [ 1.,  2.,  1.,  1.,  4.],\n",
       "       [ 1.,  3.,  1.,  1.,  4.],\n",
       "       [ 1.,  3.,  1.,  1.,  5.],\n",
       "       [ 1.,  3.,  1.,  1.,  6.],\n",
       "       [ 1.,  3.,  1.,  2.,  6.],\n",
       "       [ 1.,  3.,  1.,  2.,  7.],\n",
       "       [ 1.,  3.,  1.,  2.,  8.],\n",
       "       [ 1.,  3.,  1.,  2.,  9.],\n",
       "       [ 1.,  3.,  1.,  2., 10.],\n",
       "       [ 1.,  3.,  1.,  2., 11.],\n",
       "       [ 1.,  3.,  1.,  2., 12.],\n",
       "       [ 1.,  3.,  1.,  3., 12.],\n",
       "       [ 1.,  3.,  1.,  3., 13.],\n",
       "       [ 1.,  3.,  2.,  3., 13.],\n",
       "       [ 1.,  3.,  2.,  3., 14.],\n",
       "       [ 1.,  3.,  2.,  3., 15.],\n",
       "       [ 1.,  3.,  2.,  4., 15.],\n",
       "       [ 1.,  3.,  2.,  4., 16.],\n",
       "       [ 1.,  3.,  2.,  4., 17.],\n",
       "       [ 2.,  3.,  2.,  4., 17.],\n",
       "       [ 2.,  3.,  2.,  5., 17.],\n",
       "       [ 2.,  3.,  2.,  6., 17.],\n",
       "       [ 2.,  3.,  2.,  6., 18.],\n",
       "       [ 2.,  3.,  2.,  7., 18.],\n",
       "       [ 2.,  3.,  2.,  7., 19.],\n",
       "       [ 2.,  4.,  2.,  7., 19.],\n",
       "       [ 2.,  4.,  2.,  7., 20.],\n",
       "       [ 2.,  4.,  2.,  7., 21.],\n",
       "       [ 2.,  4.,  2.,  7., 22.],\n",
       "       [ 2.,  4.,  2.,  8., 22.],\n",
       "       [ 2.,  4.,  2.,  8., 23.],\n",
       "       [ 2.,  4.,  2.,  8., 24.],\n",
       "       [ 2.,  4.,  2.,  8., 25.],\n",
       "       [ 2.,  4.,  2.,  9., 25.],\n",
       "       [ 2.,  4.,  2.,  9., 26.],\n",
       "       [ 2.,  4.,  2.,  9., 27.],\n",
       "       [ 2.,  4.,  2.,  9., 28.],\n",
       "       [ 3.,  4.,  2.,  9., 28.],\n",
       "       [ 3.,  4.,  2.,  9., 29.],\n",
       "       [ 4.,  4.,  2.,  9., 29.],\n",
       "       [ 4.,  4.,  2.,  9., 30.],\n",
       "       [ 4.,  5.,  2.,  9., 30.],\n",
       "       [ 4.,  5.,  2.,  9., 31.],\n",
       "       [ 4.,  5.,  2.,  9., 32.],\n",
       "       [ 4.,  5.,  2., 10., 32.],\n",
       "       [ 4.,  5.,  2., 11., 32.],\n",
       "       [ 4.,  5.,  2., 11., 33.],\n",
       "       [ 4.,  5.,  2., 11., 34.],\n",
       "       [ 4.,  5.,  2., 12., 34.],\n",
       "       [ 4.,  5.,  2., 12., 35.],\n",
       "       [ 4.,  5.,  2., 12., 36.],\n",
       "       [ 4.,  5.,  2., 13., 36.],\n",
       "       [ 4.,  5.,  2., 13., 37.],\n",
       "       [ 4.,  5.,  2., 13., 38.],\n",
       "       [ 4.,  5.,  2., 13., 39.],\n",
       "       [ 4.,  5.,  2., 13., 40.],\n",
       "       [ 4.,  5.,  3., 13., 40.],\n",
       "       [ 4.,  5.,  3., 13., 41.],\n",
       "       [ 4.,  5.,  3., 13., 42.],\n",
       "       [ 4.,  5.,  3., 13., 43.],\n",
       "       [ 4.,  5.,  3., 14., 43.],\n",
       "       [ 5.,  5.,  3., 14., 43.],\n",
       "       [ 5.,  5.,  3., 14., 44.],\n",
       "       [ 5.,  5.,  3., 14., 45.],\n",
       "       [ 5.,  5.,  3., 15., 45.],\n",
       "       [ 5.,  5.,  3., 15., 46.],\n",
       "       [ 5.,  5.,  3., 16., 46.],\n",
       "       [ 5.,  6.,  3., 16., 46.],\n",
       "       [ 5.,  6.,  3., 17., 46.],\n",
       "       [ 5.,  6.,  3., 17., 47.]])"
      ]
     },
     "execution_count": 16,
     "metadata": {},
     "output_type": "execute_result"
    },
    {
     "data": {
      "application/javascript": [
       "\n",
       "            setTimeout(function() {\n",
       "                var nbb_cell_id = 16;\n",
       "                var nbb_unformatted_code = \"timeseries_data[10]\";\n",
       "                var nbb_formatted_code = \"timeseries_data[10]\";\n",
       "                var nbb_cells = Jupyter.notebook.get_cells();\n",
       "                for (var i = 0; i < nbb_cells.length; ++i) {\n",
       "                    if (nbb_cells[i].input_prompt_number == nbb_cell_id) {\n",
       "                        if (nbb_cells[i].get_text() == nbb_unformatted_code) {\n",
       "                             nbb_cells[i].set_text(nbb_formatted_code);\n",
       "                        }\n",
       "                        break;\n",
       "                    }\n",
       "                }\n",
       "            }, 500);\n",
       "            "
      ],
      "text/plain": [
       "<IPython.core.display.Javascript object>"
      ]
     },
     "metadata": {},
     "output_type": "display_data"
    }
   ],
   "source": [
    "timeseries_data[10]"
   ]
  },
  {
   "cell_type": "code",
   "execution_count": 17,
   "id": "94051a49",
   "metadata": {},
   "outputs": [
    {
     "name": "stderr",
     "output_type": "stream",
     "text": [
      "/opt/conda/lib/python3.7/site-packages/sbi/utils/torchutils.py:28: UserWarning: GPU was selected as a device for training the neural network. Note that we expect **no** significant speed ups in training for the default architectures we provide. Using the GPU will be effective only for large neural networks with operations that are fast on the GPU, e.g., for a CNN or RNN `embedding_net`.\n",
      "  \"GPU was selected as a device for training the neural network. \"\n"
     ]
    },
    {
     "data": {
      "application/javascript": [
       "\n",
       "            setTimeout(function() {\n",
       "                var nbb_cell_id = 17;\n",
       "                var nbb_unformatted_code = \"posterior_samples = sample_posterior_with_observed(\\n    \\\"cuda\\\", timeseries_data, 10_000, \\\"marketplace\\\", \\\"timeseries\\\"\\n)\";\n",
       "                var nbb_formatted_code = \"posterior_samples = sample_posterior_with_observed(\\n    \\\"cuda\\\", timeseries_data, 10_000, \\\"marketplace\\\", \\\"timeseries\\\"\\n)\";\n",
       "                var nbb_cells = Jupyter.notebook.get_cells();\n",
       "                for (var i = 0; i < nbb_cells.length; ++i) {\n",
       "                    if (nbb_cells[i].input_prompt_number == nbb_cell_id) {\n",
       "                        if (nbb_cells[i].get_text() == nbb_unformatted_code) {\n",
       "                             nbb_cells[i].set_text(nbb_formatted_code);\n",
       "                        }\n",
       "                        break;\n",
       "                    }\n",
       "                }\n",
       "            }, 500);\n",
       "            "
      ],
      "text/plain": [
       "<IPython.core.display.Javascript object>"
      ]
     },
     "metadata": {},
     "output_type": "display_data"
    }
   ],
   "source": [
    "posterior_samples = sample_posterior_with_observed(\n",
    "    \"cuda\", timeseries_data, 10_000, \"marketplace\", \"timeseries\"\n",
    ")"
   ]
  },
  {
   "cell_type": "code",
   "execution_count": 18,
   "id": "d4f3a604",
   "metadata": {},
   "outputs": [
    {
     "data": {
      "text/plain": [
       "(array([  2.,   0.,   1.,   2.,   2.,   1.,   0.,   2.,   2.,   3.,   3.,\n",
       "          2.,   2.,   1.,   0.,   5., 113., 330., 374.,  73.,  30.,  30.,\n",
       "         26.,  25.,  20.,  22.,   9.,  19.,  13.,  30.,  17.,   8.,  10.,\n",
       "         12.,  17.,   8.,   9.,   9.,   9.,   9.,  10.,   9.,  18.,  12.,\n",
       "         14.,  26.,   9.,  23.,  32.,   3.]),\n",
       " array([0.13319318, 0.20103309, 0.26887301, 0.33671293, 0.40455284,\n",
       "        0.47239276, 0.54023268, 0.60807259, 0.67591251, 0.74375243,\n",
       "        0.81159234, 0.87943226, 0.94727218, 1.01511209, 1.08295201,\n",
       "        1.15079193, 1.21863184, 1.28647176, 1.35431168, 1.42215159,\n",
       "        1.48999151, 1.55783143, 1.62567134, 1.69351126, 1.76135118,\n",
       "        1.82919109, 1.89703101, 1.96487092, 2.03271084, 2.10055076,\n",
       "        2.16839067, 2.23623059, 2.30407051, 2.37191042, 2.43975034,\n",
       "        2.50759026, 2.57543017, 2.64327009, 2.71111001, 2.77894992,\n",
       "        2.84678984, 2.91462976, 2.98246967, 3.05030959, 3.11814951,\n",
       "        3.18598942, 3.25382934, 3.32166926, 3.38950917, 3.45734909,\n",
       "        3.525189  ]),\n",
       " <BarContainer object of 50 artists>)"
      ]
     },
     "execution_count": 18,
     "metadata": {},
     "output_type": "execute_result"
    },
    {
     "data": {
      "image/png": "[encoded data removed]",
      "text/plain": [
       "<Figure size 432x288 with 1 Axes>"
      ]
     },
     "metadata": {},
     "output_type": "display_data"
    },
    {
     "data": {
      "application/javascript": [
       "\n",
       "            setTimeout(function() {\n",
       "                var nbb_cell_id = 18;\n",
       "                var nbb_unformatted_code = \"plt.hist(np.mean(posterior_samples[:, :, 0], axis=0), alpha=0.5, bins=50)\\nplt.hist(np.mean(posterior_samples[:, :, 1], axis=0), alpha=0.5, bins=50)\";\n",
       "                var nbb_formatted_code = \"plt.hist(np.mean(posterior_samples[:, :, 0], axis=0), alpha=0.5, bins=50)\\nplt.hist(np.mean(posterior_samples[:, :, 1], axis=0), alpha=0.5, bins=50)\";\n",
       "                var nbb_cells = Jupyter.notebook.get_cells();\n",
       "                for (var i = 0; i < nbb_cells.length; ++i) {\n",
       "                    if (nbb_cells[i].input_prompt_number == nbb_cell_id) {\n",
       "                        if (nbb_cells[i].get_text() == nbb_unformatted_code) {\n",
       "                             nbb_cells[i].set_text(nbb_formatted_code);\n",
       "                        }\n",
       "                        break;\n",
       "                    }\n",
       "                }\n",
       "            }, 500);\n",
       "            "
      ],
      "text/plain": [
       "<IPython.core.display.Javascript object>"
      ]
     },
     "metadata": {},
     "output_type": "display_data"
    }
   ],
   "source": [
    "plt.hist(np.mean(posterior_samples[:, :, 0], axis=0), alpha=0.5, bins=50)\n",
    "plt.hist(np.mean(posterior_samples[:, :, 1], axis=0), alpha=0.5, bins=50)"
   ]
  },
  {
   "cell_type": "code",
   "execution_count": 19,
   "id": "d6d796a0",
   "metadata": {},
   "outputs": [
    {
     "data": {
      "text/plain": [
       "(array([  2.,   1.,   3.,  19., 139., 263., 286., 269., 140.,  48.,  24.,\n",
       "         36.,  17.,  16.,  14.,  11.,  17.,   6.,   7.,   5.,  12.,   9.,\n",
       "          1.,   3.,   5.,   0.,   1.,   5.,   6.,   3.,   3.,   5.,   2.,\n",
       "          0.,   4.,  10.,   5.,   1.,   2.,   1.,   1.,   0.,   0.,   0.,\n",
       "          0.,   0.,   0.,   1.,   2.,   1.]),\n",
       " array([0.01632377, 0.02974917, 0.04317456, 0.05659995, 0.07002535,\n",
       "        0.08345074, 0.09687613, 0.11030152, 0.12372692, 0.13715231,\n",
       "        0.1505777 , 0.1640031 , 0.17742849, 0.19085388, 0.20427927,\n",
       "        0.21770467, 0.23113006, 0.24455545, 0.25798085, 0.27140624,\n",
       "        0.28483163, 0.29825703, 0.31168242, 0.32510781, 0.3385332 ,\n",
       "        0.3519586 , 0.36538399, 0.37880938, 0.39223478, 0.40566017,\n",
       "        0.41908556, 0.43251095, 0.44593635, 0.45936174, 0.47278713,\n",
       "        0.48621253, 0.49963792, 0.51306331, 0.5264887 , 0.5399141 ,\n",
       "        0.55333949, 0.56676488, 0.58019028, 0.59361567, 0.60704106,\n",
       "        0.62046645, 0.63389185, 0.64731724, 0.66074263, 0.67416803,\n",
       "        0.68759342]),\n",
       " <BarContainer object of 50 artists>)"
      ]
     },
     "execution_count": 19,
     "metadata": {},
     "output_type": "execute_result"
    },
    {
     "data": {
      "image/png": "[encoded data removed]",
      "text/plain": [
       "<Figure size 432x288 with 1 Axes>"
      ]
     },
     "metadata": {},
     "output_type": "display_data"
    },
    {
     "data": {
      "application/javascript": [
       "\n",
       "            setTimeout(function() {\n",
       "                var nbb_cell_id = 19;\n",
       "                var nbb_unformatted_code = \"plt.hist(np.mean(posterior_samples[:, :, 2], axis=0), alpha=0.5, bins=50)\";\n",
       "                var nbb_formatted_code = \"plt.hist(np.mean(posterior_samples[:, :, 2], axis=0), alpha=0.5, bins=50)\";\n",
       "                var nbb_cells = Jupyter.notebook.get_cells();\n",
       "                for (var i = 0; i < nbb_cells.length; ++i) {\n",
       "                    if (nbb_cells[i].input_prompt_number == nbb_cell_id) {\n",
       "                        if (nbb_cells[i].get_text() == nbb_unformatted_code) {\n",
       "                             nbb_cells[i].set_text(nbb_formatted_code);\n",
       "                        }\n",
       "                        break;\n",
       "                    }\n",
       "                }\n",
       "            }, 500);\n",
       "            "
      ],
      "text/plain": [
       "<IPython.core.display.Javascript object>"
      ]
     },
     "metadata": {},
     "output_type": "display_data"
    }
   ],
   "source": [
    "plt.hist(np.mean(posterior_samples[:, :, 2], axis=0), alpha=0.5, bins=50)"
   ]
  },
  {
   "cell_type": "code",
   "execution_count": 20,
   "id": "166e7beb",
   "metadata": {},
   "outputs": [
    {
     "data": {
      "text/plain": [
       "(10000, 1406, 3)"
      ]
     },
     "execution_count": 20,
     "metadata": {},
     "output_type": "execute_result"
    },
    {
     "data": {
      "application/javascript": [
       "\n",
       "            setTimeout(function() {\n",
       "                var nbb_cell_id = 20;\n",
       "                var nbb_unformatted_code = \"posterior_samples.shape\";\n",
       "                var nbb_formatted_code = \"posterior_samples.shape\";\n",
       "                var nbb_cells = Jupyter.notebook.get_cells();\n",
       "                for (var i = 0; i < nbb_cells.length; ++i) {\n",
       "                    if (nbb_cells[i].input_prompt_number == nbb_cell_id) {\n",
       "                        if (nbb_cells[i].get_text() == nbb_unformatted_code) {\n",
       "                             nbb_cells[i].set_text(nbb_formatted_code);\n",
       "                        }\n",
       "                        break;\n",
       "                    }\n",
       "                }\n",
       "            }, 500);\n",
       "            "
      ],
      "text/plain": [
       "<IPython.core.display.Javascript object>"
      ]
     },
     "metadata": {},
     "output_type": "display_data"
    }
   ],
   "source": [
    "posterior_samples.shape"
   ]
  },
  {
   "cell_type": "code",
   "execution_count": 21,
   "id": "4bace4a9",
   "metadata": {},
   "outputs": [
    {
     "data": {
      "application/javascript": [
       "\n",
       "            setTimeout(function() {\n",
       "                var nbb_cell_id = 21;\n",
       "                var nbb_unformatted_code = \"np.save(ARTIFACT_PATH / \\\"posterior_samples_bazaarvoice.npy\\\", posterior_samples)\";\n",
       "                var nbb_formatted_code = \"np.save(ARTIFACT_PATH / \\\"posterior_samples_bazaarvoice.npy\\\", posterior_samples)\";\n",
       "                var nbb_cells = Jupyter.notebook.get_cells();\n",
       "                for (var i = 0; i < nbb_cells.length; ++i) {\n",
       "                    if (nbb_cells[i].input_prompt_number == nbb_cell_id) {\n",
       "                        if (nbb_cells[i].get_text() == nbb_unformatted_code) {\n",
       "                             nbb_cells[i].set_text(nbb_formatted_code);\n",
       "                        }\n",
       "                        break;\n",
       "                    }\n",
       "                }\n",
       "            }, 500);\n",
       "            "
      ],
      "text/plain": [
       "<IPython.core.display.Javascript object>"
      ]
     },
     "metadata": {},
     "output_type": "display_data"
    }
   ],
   "source": [
    "np.save(ARTIFACT_PATH / \"posterior_samples_bazaarvoice.npy\", posterior_samples)"
   ]
  },
  {
   "cell_type": "code",
   "execution_count": null,
   "id": "08ab0d21",
   "metadata": {},
   "outputs": [],
   "source": []
  },
  {
   "cell_type": "code",
   "execution_count": null,
   "id": "bb526683",
   "metadata": {},
   "outputs": [],
   "source": []
  },
  {
   "cell_type": "markdown",
   "id": "d475064b",
   "metadata": {},
   "source": [
    "# Use the inferred posterior samples to conduct simulations"
   ]
  },
  {
   "cell_type": "code",
   "execution_count": 7,
   "id": "0929a1eb",
   "metadata": {},
   "outputs": [
    {
     "data": {
      "text/plain": [
       "(10000, 1406, 3)"
      ]
     },
     "execution_count": 7,
     "metadata": {},
     "output_type": "execute_result"
    },
    {
     "data": {
      "application/javascript": [
       "\n",
       "            setTimeout(function() {\n",
       "                var nbb_cell_id = 7;\n",
       "                var nbb_unformatted_code = \"posterior_samples = np.load(ARTIFACT_PATH / \\\"posterior_samples_bazaarvoice.npy\\\")\\nposterior_samples.shape\";\n",
       "                var nbb_formatted_code = \"posterior_samples = np.load(ARTIFACT_PATH / \\\"posterior_samples_bazaarvoice.npy\\\")\\nposterior_samples.shape\";\n",
       "                var nbb_cells = Jupyter.notebook.get_cells();\n",
       "                for (var i = 0; i < nbb_cells.length; ++i) {\n",
       "                    if (nbb_cells[i].input_prompt_number == nbb_cell_id) {\n",
       "                        if (nbb_cells[i].get_text() == nbb_unformatted_code) {\n",
       "                             nbb_cells[i].set_text(nbb_formatted_code);\n",
       "                        }\n",
       "                        break;\n",
       "                    }\n",
       "                }\n",
       "            }, 500);\n",
       "            "
      ],
      "text/plain": [
       "<IPython.core.display.Javascript object>"
      ]
     },
     "metadata": {},
     "output_type": "display_data"
    }
   ],
   "source": [
    "posterior_samples = np.load(ARTIFACT_PATH / \"posterior_samples_bazaarvoice.npy\")\n",
    "posterior_samples.shape"
   ]
  },
  {
   "cell_type": "code",
   "execution_count": 9,
   "id": "b677aa16",
   "metadata": {},
   "outputs": [
    {
     "data": {
      "text/plain": [
       "(array([  2.,   0.,   1.,   2.,   2.,   1.,   0.,   2.,   2.,   3.,   3.,\n",
       "          2.,   2.,   1.,   0.,   5., 113., 330., 374.,  73.,  30.,  30.,\n",
       "         26.,  25.,  20.,  22.,   9.,  19.,  13.,  30.,  17.,   8.,  10.,\n",
       "         12.,  17.,   8.,   9.,   9.,   9.,   9.,  10.,   9.,  18.,  12.,\n",
       "         14.,  26.,   9.,  23.,  32.,   3.]),\n",
       " array([0.13319318, 0.20103309, 0.26887301, 0.33671293, 0.40455284,\n",
       "        0.47239276, 0.54023268, 0.60807259, 0.67591251, 0.74375243,\n",
       "        0.81159234, 0.87943226, 0.94727218, 1.01511209, 1.08295201,\n",
       "        1.15079193, 1.21863184, 1.28647176, 1.35431168, 1.42215159,\n",
       "        1.48999151, 1.55783143, 1.62567134, 1.69351126, 1.76135118,\n",
       "        1.82919109, 1.89703101, 1.96487092, 2.03271084, 2.10055076,\n",
       "        2.16839067, 2.23623059, 2.30407051, 2.37191042, 2.43975034,\n",
       "        2.50759026, 2.57543017, 2.64327009, 2.71111001, 2.77894992,\n",
       "        2.84678984, 2.91462976, 2.98246967, 3.05030959, 3.11814951,\n",
       "        3.18598942, 3.25382934, 3.32166926, 3.38950917, 3.45734909,\n",
       "        3.525189  ]),\n",
       " <BarContainer object of 50 artists>)"
      ]
     },
     "execution_count": 9,
     "metadata": {},
     "output_type": "execute_result"
    },
    {
     "data": {
      "image/png": "[encoded data removed]",
      "text/plain": [
       "<Figure size 432x288 with 1 Axes>"
      ]
     },
     "metadata": {},
     "output_type": "display_data"
    },
    {
     "data": {
      "application/javascript": [
       "\n",
       "            setTimeout(function() {\n",
       "                var nbb_cell_id = 9;\n",
       "                var nbb_unformatted_code = \"plt.hist(np.mean(posterior_samples[:, :, 0], axis=0), alpha=0.5, bins=50)\\nplt.hist(np.mean(posterior_samples[:, :, 1], axis=0), alpha=0.5, bins=50)\";\n",
       "                var nbb_formatted_code = \"plt.hist(np.mean(posterior_samples[:, :, 0], axis=0), alpha=0.5, bins=50)\\nplt.hist(np.mean(posterior_samples[:, :, 1], axis=0), alpha=0.5, bins=50)\";\n",
       "                var nbb_cells = Jupyter.notebook.get_cells();\n",
       "                for (var i = 0; i < nbb_cells.length; ++i) {\n",
       "                    if (nbb_cells[i].input_prompt_number == nbb_cell_id) {\n",
       "                        if (nbb_cells[i].get_text() == nbb_unformatted_code) {\n",
       "                             nbb_cells[i].set_text(nbb_formatted_code);\n",
       "                        }\n",
       "                        break;\n",
       "                    }\n",
       "                }\n",
       "            }, 500);\n",
       "            "
      ],
      "text/plain": [
       "<IPython.core.display.Javascript object>"
      ]
     },
     "metadata": {},
     "output_type": "display_data"
    }
   ],
   "source": [
    "plt.hist(np.mean(posterior_samples[:, :, 0], axis=0), alpha=0.5, bins=50)\n",
    "plt.hist(np.mean(posterior_samples[:, :, 1], axis=0), alpha=0.5, bins=50)"
   ]
  },
  {
   "cell_type": "code",
   "execution_count": 10,
   "id": "ba13c5d0",
   "metadata": {},
   "outputs": [
    {
     "data": {
      "application/javascript": [
       "\n",
       "            setTimeout(function() {\n",
       "                var nbb_cell_id = 10;\n",
       "                var nbb_unformatted_code = \"# Create the dict of simulator parameters\\nsimulator_params = {\\n    \\\"review_prior\\\": np.ones(5),\\n    \\\"tendency_to_rate\\\": 0.05,\\n    \\\"simulation_type\\\": \\\"timeseries\\\",\\n    \\\"previous_rating_measure\\\": \\\"mode\\\",\\n    \\\"min_reviews_for_herding\\\": 5,\\n    \\\"num_products\\\": posterior_samples.shape[1],\\n    # \\\"num_products\\\": 100,\\n    \\\"num_total_marketplace_reviews\\\": 140_000,\\n    # \\\"num_total_marketplace_reviews\\\": 5_000,\\n    \\\"consideration_set_size\\\": 5,\\n}\\nnum_marketplaces = 16\";\n",
       "                var nbb_formatted_code = \"# Create the dict of simulator parameters\\nsimulator_params = {\\n    \\\"review_prior\\\": np.ones(5),\\n    \\\"tendency_to_rate\\\": 0.05,\\n    \\\"simulation_type\\\": \\\"timeseries\\\",\\n    \\\"previous_rating_measure\\\": \\\"mode\\\",\\n    \\\"min_reviews_for_herding\\\": 5,\\n    \\\"num_products\\\": posterior_samples.shape[1],\\n    # \\\"num_products\\\": 100,\\n    \\\"num_total_marketplace_reviews\\\": 140_000,\\n    # \\\"num_total_marketplace_reviews\\\": 5_000,\\n    \\\"consideration_set_size\\\": 5,\\n}\\nnum_marketplaces = 16\";\n",
       "                var nbb_cells = Jupyter.notebook.get_cells();\n",
       "                for (var i = 0; i < nbb_cells.length; ++i) {\n",
       "                    if (nbb_cells[i].input_prompt_number == nbb_cell_id) {\n",
       "                        if (nbb_cells[i].get_text() == nbb_unformatted_code) {\n",
       "                             nbb_cells[i].set_text(nbb_formatted_code);\n",
       "                        }\n",
       "                        break;\n",
       "                    }\n",
       "                }\n",
       "            }, 500);\n",
       "            "
      ],
      "text/plain": [
       "<IPython.core.display.Javascript object>"
      ]
     },
     "metadata": {},
     "output_type": "display_data"
    }
   ],
   "source": [
    "# Create the dict of simulator parameters\n",
    "simulator_params = {\n",
    "    \"review_prior\": np.ones(5),\n",
    "    \"tendency_to_rate\": 0.05,\n",
    "    \"simulation_type\": \"timeseries\",\n",
    "    \"previous_rating_measure\": \"mode\",\n",
    "    \"min_reviews_for_herding\": 5,\n",
    "    \"num_products\": posterior_samples.shape[1],\n",
    "    # \"num_products\": 100,\n",
    "    \"num_total_marketplace_reviews\": 140_000,\n",
    "    # \"num_total_marketplace_reviews\": 5_000,\n",
    "    \"consideration_set_size\": 5,\n",
    "}\n",
    "num_marketplaces = 16"
   ]
  },
  {
   "cell_type": "code",
   "execution_count": 11,
   "id": "8c2e70bd",
   "metadata": {},
   "outputs": [
    {
     "data": {
      "application/javascript": [
       "\n",
       "            setTimeout(function() {\n",
       "                var nbb_cell_id = 11;\n",
       "                var nbb_unformatted_code = \"# Sample from the posteriors to build a simulation parameter dict that we can use to input during simulations\\n# Since the posteriors were already sampled at random from the underlying normalizing flow, we can just\\n# directly use them\\nreshaped_posterior = posterior_samples[:num_marketplaces, :, :].reshape((-1, 3))\\nfor i in range(num_marketplaces):\\n    np.testing.assert_array_equal(\\n        reshaped_posterior[\\n            posterior_samples.shape[1] * i : posterior_samples.shape[1] * (i + 1), :\\n        ],\\n        posterior_samples[i, :, :],\\n    )\\nsimulation_params = {\\\"rho\\\": reshaped_posterior[:, :2], \\\"h_p\\\": reshaped_posterior[:, 2]}\";\n",
       "                var nbb_formatted_code = \"# Sample from the posteriors to build a simulation parameter dict that we can use to input during simulations\\n# Since the posteriors were already sampled at random from the underlying normalizing flow, we can just\\n# directly use them\\nreshaped_posterior = posterior_samples[:num_marketplaces, :, :].reshape((-1, 3))\\nfor i in range(num_marketplaces):\\n    np.testing.assert_array_equal(\\n        reshaped_posterior[\\n            posterior_samples.shape[1] * i : posterior_samples.shape[1] * (i + 1), :\\n        ],\\n        posterior_samples[i, :, :],\\n    )\\nsimulation_params = {\\\"rho\\\": reshaped_posterior[:, :2], \\\"h_p\\\": reshaped_posterior[:, 2]}\";\n",
       "                var nbb_cells = Jupyter.notebook.get_cells();\n",
       "                for (var i = 0; i < nbb_cells.length; ++i) {\n",
       "                    if (nbb_cells[i].input_prompt_number == nbb_cell_id) {\n",
       "                        if (nbb_cells[i].get_text() == nbb_unformatted_code) {\n",
       "                             nbb_cells[i].set_text(nbb_formatted_code);\n",
       "                        }\n",
       "                        break;\n",
       "                    }\n",
       "                }\n",
       "            }, 500);\n",
       "            "
      ],
      "text/plain": [
       "<IPython.core.display.Javascript object>"
      ]
     },
     "metadata": {},
     "output_type": "display_data"
    }
   ],
   "source": [
    "# Sample from the posteriors to build a simulation parameter dict that we can use to input during simulations\n",
    "# Since the posteriors were already sampled at random from the underlying normalizing flow, we can just\n",
    "# directly use them\n",
    "reshaped_posterior = posterior_samples[:num_marketplaces, :, :].reshape((-1, 3))\n",
    "for i in range(num_marketplaces):\n",
    "    np.testing.assert_array_equal(\n",
    "        reshaped_posterior[\n",
    "            posterior_samples.shape[1] * i : posterior_samples.shape[1] * (i + 1), :\n",
    "        ],\n",
    "        posterior_samples[i, :, :],\n",
    "    )\n",
    "simulation_params = {\"rho\": reshaped_posterior[:, :2], \"h_p\": reshaped_posterior[:, 2]}"
   ]
  },
  {
   "cell_type": "code",
   "execution_count": 12,
   "id": "6cff576e",
   "metadata": {},
   "outputs": [
    {
     "data": {
      "application/javascript": [
       "\n",
       "            setTimeout(function() {\n",
       "                var nbb_cell_id = 12;\n",
       "                var nbb_unformatted_code = \"simulator = marketplace_simulator_class.MarketplaceSimulator(simulator_params)\";\n",
       "                var nbb_formatted_code = \"simulator = marketplace_simulator_class.MarketplaceSimulator(simulator_params)\";\n",
       "                var nbb_cells = Jupyter.notebook.get_cells();\n",
       "                for (var i = 0; i < nbb_cells.length; ++i) {\n",
       "                    if (nbb_cells[i].input_prompt_number == nbb_cell_id) {\n",
       "                        if (nbb_cells[i].get_text() == nbb_unformatted_code) {\n",
       "                             nbb_cells[i].set_text(nbb_formatted_code);\n",
       "                        }\n",
       "                        break;\n",
       "                    }\n",
       "                }\n",
       "            }, 500);\n",
       "            "
      ],
      "text/plain": [
       "<IPython.core.display.Javascript object>"
      ]
     },
     "metadata": {},
     "output_type": "display_data"
    }
   ],
   "source": [
    "simulator = marketplace_simulator_class.MarketplaceSimulator(simulator_params)"
   ]
  },
  {
   "cell_type": "code",
   "execution_count": 13,
   "id": "cc2d64e0",
   "metadata": {},
   "outputs": [
    {
     "name": "stdout",
     "output_type": "stream",
     "text": [
      "Loaded product embedding density estimator: \n",
      " GaussianMixture(max_iter=500, n_components=10, n_init=5, random_state=42,\n",
      "                verbose=2, verbose_interval=20)\n",
      "Loaded user embedding density estimator: \n",
      " GaussianMixture(max_iter=500, n_components=10, n_init=5, random_state=42,\n",
      "                verbose=2, verbose_interval=20)\n",
      "\t Device set to cpu, using torch num threads=16\n",
      "Using the dense network: \n",
      " Sequential(\n",
      "  (0): Linear(in_features=100, out_features=256, bias=True)\n",
      "  (1): LeakyReLU(negative_slope=0.01)\n",
      "  (2): Linear(in_features=256, out_features=128, bias=True)\n",
      "  (3): LeakyReLU(negative_slope=0.01)\n",
      "  (4): Linear(in_features=128, out_features=64, bias=True)\n",
      "  (5): LeakyReLU(negative_slope=0.01)\n",
      "  (6): Linear(in_features=64, out_features=5, bias=True)\n",
      ")\n",
      "Loaded embedding -> rating predictor model: \n",
      " RatingPredictorModel(\n",
      "  (net): Sequential(\n",
      "    (0): Linear(in_features=100, out_features=256, bias=True)\n",
      "    (1): LeakyReLU(negative_slope=0.01)\n",
      "    (2): Linear(in_features=256, out_features=128, bias=True)\n",
      "    (3): LeakyReLU(negative_slope=0.01)\n",
      "    (4): Linear(in_features=128, out_features=64, bias=True)\n",
      "    (5): LeakyReLU(negative_slope=0.01)\n",
      "    (6): Linear(in_features=64, out_features=5, bias=True)\n",
      "  )\n",
      ")\n"
     ]
    },
    {
     "data": {
      "application/vnd.jupyter.widget-view+json": {
       "model_id": "8191844a9a69473088441b810aa06ec9",
       "version_major": 2,
       "version_minor": 0
      },
      "text/plain": [
       "Worker 1:   0%|          | 0/140000 [00:00<?, ?it/s]"
      ]
     },
     "metadata": {},
     "output_type": "display_data"
    },
    {
     "data": {
      "application/vnd.jupyter.widget-view+json": {
       "model_id": "5518440d08b848ea82d145d7515c75ef",
       "version_major": 2,
       "version_minor": 0
      },
      "text/plain": [
       "Worker 2:   0%|          | 0/140000 [00:00<?, ?it/s]"
      ]
     },
     "metadata": {},
     "output_type": "display_data"
    },
    {
     "data": {
      "application/vnd.jupyter.widget-view+json": {
       "model_id": "96c7651a1c8b4317a66aba8e177417aa",
       "version_major": 2,
       "version_minor": 0
      },
      "text/plain": [
       "Worker 3:   0%|          | 0/140000 [00:00<?, ?it/s]"
      ]
     },
     "metadata": {},
     "output_type": "display_data"
    },
    {
     "data": {
      "application/vnd.jupyter.widget-view+json": {
       "model_id": "7ea8dbe618f744848e1c2bb5e2ec4ef5",
       "version_major": 2,
       "version_minor": 0
      },
      "text/plain": [
       "Worker 4:   0%|          | 0/140000 [00:00<?, ?it/s]"
      ]
     },
     "metadata": {},
     "output_type": "display_data"
    },
    {
     "data": {
      "application/vnd.jupyter.widget-view+json": {
       "model_id": "ea4aa639ae7f41c9aa44b28a02350576",
       "version_major": 2,
       "version_minor": 0
      },
      "text/plain": [
       "Worker 5:   0%|          | 0/140000 [00:00<?, ?it/s]"
      ]
     },
     "metadata": {},
     "output_type": "display_data"
    },
    {
     "data": {
      "application/vnd.jupyter.widget-view+json": {
       "model_id": "1a35cc508c644799a0ab0955674526ab",
       "version_major": 2,
       "version_minor": 0
      },
      "text/plain": [
       "Worker 6:   0%|          | 0/140000 [00:00<?, ?it/s]"
      ]
     },
     "metadata": {},
     "output_type": "display_data"
    },
    {
     "data": {
      "application/vnd.jupyter.widget-view+json": {
       "model_id": "e31c2f3bb894425484835177d990adfb",
       "version_major": 2,
       "version_minor": 0
      },
      "text/plain": [
       "Worker 7:   0%|          | 0/140000 [00:00<?, ?it/s]"
      ]
     },
     "metadata": {},
     "output_type": "display_data"
    },
    {
     "data": {
      "application/vnd.jupyter.widget-view+json": {
       "model_id": "9f5da8e189f94e9ba9d85c2425888d0d",
       "version_major": 2,
       "version_minor": 0
      },
      "text/plain": [
       "Worker 8:   0%|          | 0/140000 [00:00<?, ?it/s]"
      ]
     },
     "metadata": {},
     "output_type": "display_data"
    },
    {
     "data": {
      "application/vnd.jupyter.widget-view+json": {
       "model_id": "376a1a55be094dc9adfb0c59895f4f75",
       "version_major": 2,
       "version_minor": 0
      },
      "text/plain": [
       "Worker 9:   0%|          | 0/140000 [00:00<?, ?it/s]"
      ]
     },
     "metadata": {},
     "output_type": "display_data"
    },
    {
     "data": {
      "application/vnd.jupyter.widget-view+json": {
       "model_id": "bd172aa6774d42cf9782fecd01c4c796",
       "version_major": 2,
       "version_minor": 0
      },
      "text/plain": [
       "Worker 10:   0%|          | 0/140000 [00:00<?, ?it/s]"
      ]
     },
     "metadata": {},
     "output_type": "display_data"
    },
    {
     "data": {
      "application/vnd.jupyter.widget-view+json": {
       "model_id": "4a05ed63107b45c6addf4325d64f8044",
       "version_major": 2,
       "version_minor": 0
      },
      "text/plain": [
       "Worker 11:   0%|          | 0/140000 [00:00<?, ?it/s]"
      ]
     },
     "metadata": {},
     "output_type": "display_data"
    },
    {
     "data": {
      "application/vnd.jupyter.widget-view+json": {
       "model_id": "ef49247e0c26484292ddfb27dc54aeda",
       "version_major": 2,
       "version_minor": 0
      },
      "text/plain": [
       "Worker 12:   0%|          | 0/140000 [00:00<?, ?it/s]"
      ]
     },
     "metadata": {},
     "output_type": "display_data"
    },
    {
     "data": {
      "application/vnd.jupyter.widget-view+json": {
       "model_id": "dc42bc177a104ea1ae97fff0911466bc",
       "version_major": 2,
       "version_minor": 0
      },
      "text/plain": [
       "Worker 13:   0%|          | 0/140000 [00:00<?, ?it/s]"
      ]
     },
     "metadata": {},
     "output_type": "display_data"
    },
    {
     "data": {
      "application/vnd.jupyter.widget-view+json": {
       "model_id": "1daeb13110cb4e498f0e1e208511d3c6",
       "version_major": 2,
       "version_minor": 0
      },
      "text/plain": [
       "Worker 14:   0%|          | 0/140000 [00:00<?, ?it/s]"
      ]
     },
     "metadata": {},
     "output_type": "display_data"
    },
    {
     "data": {
      "application/vnd.jupyter.widget-view+json": {
       "model_id": "032d59188ac04e979a69261458119c36",
       "version_major": 2,
       "version_minor": 0
      },
      "text/plain": [
       "Worker 15:   0%|          | 0/140000 [00:00<?, ?it/s]"
      ]
     },
     "metadata": {},
     "output_type": "display_data"
    },
    {
     "data": {
      "application/vnd.jupyter.widget-view+json": {
       "model_id": "598ffc9e22fc403fbcdd5e6f650485bd",
       "version_major": 2,
       "version_minor": 0
      },
      "text/plain": [
       "Worker 16:   0%|          | 0/140000 [00:00<?, ?it/s]"
      ]
     },
     "metadata": {},
     "output_type": "display_data"
    },
    {
     "data": {
      "application/javascript": [
       "\n",
       "            setTimeout(function() {\n",
       "                var nbb_cell_id = 13;\n",
       "                var nbb_unformatted_code = \"simulator.simulate(num_simulations=num_marketplaces, simulation_parameters=simulation_params)\";\n",
       "                var nbb_formatted_code = \"simulator.simulate(\\n    num_simulations=num_marketplaces, simulation_parameters=simulation_params\\n)\";\n",
       "                var nbb_cells = Jupyter.notebook.get_cells();\n",
       "                for (var i = 0; i < nbb_cells.length; ++i) {\n",
       "                    if (nbb_cells[i].input_prompt_number == nbb_cell_id) {\n",
       "                        if (nbb_cells[i].get_text() == nbb_unformatted_code) {\n",
       "                             nbb_cells[i].set_text(nbb_formatted_code);\n",
       "                        }\n",
       "                        break;\n",
       "                    }\n",
       "                }\n",
       "            }, 500);\n",
       "            "
      ],
      "text/plain": [
       "<IPython.core.display.Javascript object>"
      ]
     },
     "metadata": {},
     "output_type": "display_data"
    }
   ],
   "source": [
    "simulator.simulate(num_simulations=num_marketplaces, simulation_parameters=simulation_params)"
   ]
  },
  {
   "cell_type": "code",
   "execution_count": 14,
   "id": "55670771",
   "metadata": {},
   "outputs": [
    {
     "data": {
      "text/plain": [
       "16"
      ]
     },
     "execution_count": 14,
     "metadata": {},
     "output_type": "execute_result"
    },
    {
     "data": {
      "application/javascript": [
       "\n",
       "            setTimeout(function() {\n",
       "                var nbb_cell_id = 14;\n",
       "                var nbb_unformatted_code = \"len(simulator.simulations)\";\n",
       "                var nbb_formatted_code = \"len(simulator.simulations)\";\n",
       "                var nbb_cells = Jupyter.notebook.get_cells();\n",
       "                for (var i = 0; i < nbb_cells.length; ++i) {\n",
       "                    if (nbb_cells[i].input_prompt_number == nbb_cell_id) {\n",
       "                        if (nbb_cells[i].get_text() == nbb_unformatted_code) {\n",
       "                             nbb_cells[i].set_text(nbb_formatted_code);\n",
       "                        }\n",
       "                        break;\n",
       "                    }\n",
       "                }\n",
       "            }, 500);\n",
       "            "
      ],
      "text/plain": [
       "<IPython.core.display.Javascript object>"
      ]
     },
     "metadata": {},
     "output_type": "display_data"
    }
   ],
   "source": [
    "len(simulator.simulations)"
   ]
  },
  {
   "cell_type": "code",
   "execution_count": 15,
   "id": "f8bd94b1",
   "metadata": {},
   "outputs": [
    {
     "data": {
      "application/javascript": [
       "\n",
       "            setTimeout(function() {\n",
       "                var nbb_cell_id = 15;\n",
       "                var nbb_unformatted_code = \"simulator.save_simulations(ARTIFACT_PATH / \\\"simulations_from_posterior\\\")\";\n",
       "                var nbb_formatted_code = \"simulator.save_simulations(ARTIFACT_PATH / \\\"simulations_from_posterior\\\")\";\n",
       "                var nbb_cells = Jupyter.notebook.get_cells();\n",
       "                for (var i = 0; i < nbb_cells.length; ++i) {\n",
       "                    if (nbb_cells[i].input_prompt_number == nbb_cell_id) {\n",
       "                        if (nbb_cells[i].get_text() == nbb_unformatted_code) {\n",
       "                             nbb_cells[i].set_text(nbb_formatted_code);\n",
       "                        }\n",
       "                        break;\n",
       "                    }\n",
       "                }\n",
       "            }, 500);\n",
       "            "
      ],
      "text/plain": [
       "<IPython.core.display.Javascript object>"
      ]
     },
     "metadata": {},
     "output_type": "display_data"
    }
   ],
   "source": [
    "simulator.save_simulations(ARTIFACT_PATH / \"simulations_from_posterior\")"
   ]
  },
  {
   "cell_type": "code",
   "execution_count": 16,
   "id": "8b89fbec",
   "metadata": {},
   "outputs": [
    {
     "data": {
      "text/plain": [
       "22496"
      ]
     },
     "execution_count": 16,
     "metadata": {},
     "output_type": "execute_result"
    },
    {
     "data": {
      "application/javascript": [
       "\n",
       "            setTimeout(function() {\n",
       "                var nbb_cell_id = 16;\n",
       "                var nbb_unformatted_code = \"num_reviews = []\\nfor sim in simulator.simulations:\\n    num_reviews += [len(prods) for prods in sim]\\nlen(num_reviews)\";\n",
       "                var nbb_formatted_code = \"num_reviews = []\\nfor sim in simulator.simulations:\\n    num_reviews += [len(prods) for prods in sim]\\nlen(num_reviews)\";\n",
       "                var nbb_cells = Jupyter.notebook.get_cells();\n",
       "                for (var i = 0; i < nbb_cells.length; ++i) {\n",
       "                    if (nbb_cells[i].input_prompt_number == nbb_cell_id) {\n",
       "                        if (nbb_cells[i].get_text() == nbb_unformatted_code) {\n",
       "                             nbb_cells[i].set_text(nbb_formatted_code);\n",
       "                        }\n",
       "                        break;\n",
       "                    }\n",
       "                }\n",
       "            }, 500);\n",
       "            "
      ],
      "text/plain": [
       "<IPython.core.display.Javascript object>"
      ]
     },
     "metadata": {},
     "output_type": "display_data"
    }
   ],
   "source": [
    "num_reviews = []\n",
    "for sim in simulator.simulations:\n",
    "    num_reviews += [len(prods) for prods in sim]\n",
    "len(num_reviews)"
   ]
  },
  {
   "cell_type": "code",
   "execution_count": 17,
   "id": "34794dcf",
   "metadata": {},
   "outputs": [
    {
     "data": {
      "text/plain": [
       "(array([1.4619e+04, 5.4800e+03, 1.6400e+03, 5.5100e+02, 1.4100e+02,\n",
       "        4.4000e+01, 1.2000e+01, 4.0000e+00, 4.0000e+00, 1.0000e+00]),\n",
       " array([  7. , 103.6, 200.2, 296.8, 393.4, 490. , 586.6, 683.2, 779.8,\n",
       "        876.4, 973. ]),\n",
       " <BarContainer object of 10 artists>)"
      ]
     },
     "execution_count": 17,
     "metadata": {},
     "output_type": "execute_result"
    },
    {
     "data": {
      "image/png": "[encoded data removed]",
      "text/plain": [
       "<Figure size 432x288 with 1 Axes>"
      ]
     },
     "metadata": {},
     "output_type": "display_data"
    },
    {
     "data": {
      "application/javascript": [
       "\n",
       "            setTimeout(function() {\n",
       "                var nbb_cell_id = 17;\n",
       "                var nbb_unformatted_code = \"plt.hist(num_reviews)\";\n",
       "                var nbb_formatted_code = \"plt.hist(num_reviews)\";\n",
       "                var nbb_cells = Jupyter.notebook.get_cells();\n",
       "                for (var i = 0; i < nbb_cells.length; ++i) {\n",
       "                    if (nbb_cells[i].input_prompt_number == nbb_cell_id) {\n",
       "                        if (nbb_cells[i].get_text() == nbb_unformatted_code) {\n",
       "                             nbb_cells[i].set_text(nbb_formatted_code);\n",
       "                        }\n",
       "                        break;\n",
       "                    }\n",
       "                }\n",
       "            }, 500);\n",
       "            "
      ],
      "text/plain": [
       "<IPython.core.display.Javascript object>"
      ]
     },
     "metadata": {},
     "output_type": "display_data"
    }
   ],
   "source": [
    "plt.hist(num_reviews)"
   ]
  },
  {
   "cell_type": "code",
   "execution_count": 18,
   "id": "14f2c827",
   "metadata": {},
   "outputs": [
    {
     "data": {
      "text/html": [
       "<div>\n",
       "<style scoped>\n",
       "    .dataframe tbody tr th:only-of-type {\n",
       "        vertical-align: middle;\n",
       "    }\n",
       "\n",
       "    .dataframe tbody tr th {\n",
       "        vertical-align: top;\n",
       "    }\n",
       "\n",
       "    .dataframe thead th {\n",
       "        text-align: right;\n",
       "    }\n",
       "</style>\n",
       "<table border=\"1\" class=\"dataframe\">\n",
       "  <thead>\n",
       "    <tr style=\"text-align: right;\">\n",
       "      <th></th>\n",
       "      <th>num_reviews</th>\n",
       "    </tr>\n",
       "  </thead>\n",
       "  <tbody>\n",
       "    <tr>\n",
       "      <th>count</th>\n",
       "      <td>22496.000000</td>\n",
       "    </tr>\n",
       "    <tr>\n",
       "      <th>mean</th>\n",
       "      <td>100.573257</td>\n",
       "    </tr>\n",
       "    <tr>\n",
       "      <th>std</th>\n",
       "      <td>80.493446</td>\n",
       "    </tr>\n",
       "    <tr>\n",
       "      <th>min</th>\n",
       "      <td>7.000000</td>\n",
       "    </tr>\n",
       "    <tr>\n",
       "      <th>25%</th>\n",
       "      <td>45.000000</td>\n",
       "    </tr>\n",
       "    <tr>\n",
       "      <th>50%</th>\n",
       "      <td>78.000000</td>\n",
       "    </tr>\n",
       "    <tr>\n",
       "      <th>75%</th>\n",
       "      <td>130.000000</td>\n",
       "    </tr>\n",
       "    <tr>\n",
       "      <th>max</th>\n",
       "      <td>973.000000</td>\n",
       "    </tr>\n",
       "  </tbody>\n",
       "</table>\n",
       "</div>"
      ],
      "text/plain": [
       "        num_reviews\n",
       "count  22496.000000\n",
       "mean     100.573257\n",
       "std       80.493446\n",
       "min        7.000000\n",
       "25%       45.000000\n",
       "50%       78.000000\n",
       "75%      130.000000\n",
       "max      973.000000"
      ]
     },
     "execution_count": 18,
     "metadata": {},
     "output_type": "execute_result"
    },
    {
     "data": {
      "application/javascript": [
       "\n",
       "            setTimeout(function() {\n",
       "                var nbb_cell_id = 18;\n",
       "                var nbb_unformatted_code = \"pd.DataFrame({\\\"num_reviews\\\": num_reviews}).describe()\";\n",
       "                var nbb_formatted_code = \"pd.DataFrame({\\\"num_reviews\\\": num_reviews}).describe()\";\n",
       "                var nbb_cells = Jupyter.notebook.get_cells();\n",
       "                for (var i = 0; i < nbb_cells.length; ++i) {\n",
       "                    if (nbb_cells[i].input_prompt_number == nbb_cell_id) {\n",
       "                        if (nbb_cells[i].get_text() == nbb_unformatted_code) {\n",
       "                             nbb_cells[i].set_text(nbb_formatted_code);\n",
       "                        }\n",
       "                        break;\n",
       "                    }\n",
       "                }\n",
       "            }, 500);\n",
       "            "
      ],
      "text/plain": [
       "<IPython.core.display.Javascript object>"
      ]
     },
     "metadata": {},
     "output_type": "display_data"
    }
   ],
   "source": [
    "pd.DataFrame({\"num_reviews\": num_reviews}).describe()"
   ]
  },
  {
   "cell_type": "code",
   "execution_count": 19,
   "id": "ae03ee38",
   "metadata": {},
   "outputs": [
    {
     "data": {
      "application/javascript": [
       "\n",
       "            setTimeout(function() {\n",
       "                var nbb_cell_id = 19;\n",
       "                var nbb_unformatted_code = \"ratings = np.zeros(5)\\nfor sim in simulator.simulations:\\n    for prods in sim:\\n        ratings += prods[-1]\";\n",
       "                var nbb_formatted_code = \"ratings = np.zeros(5)\\nfor sim in simulator.simulations:\\n    for prods in sim:\\n        ratings += prods[-1]\";\n",
       "                var nbb_cells = Jupyter.notebook.get_cells();\n",
       "                for (var i = 0; i < nbb_cells.length; ++i) {\n",
       "                    if (nbb_cells[i].input_prompt_number == nbb_cell_id) {\n",
       "                        if (nbb_cells[i].get_text() == nbb_unformatted_code) {\n",
       "                             nbb_cells[i].set_text(nbb_formatted_code);\n",
       "                        }\n",
       "                        break;\n",
       "                    }\n",
       "                }\n",
       "            }, 500);\n",
       "            "
      ],
      "text/plain": [
       "<IPython.core.display.Javascript object>"
      ]
     },
     "metadata": {},
     "output_type": "display_data"
    }
   ],
   "source": [
    "ratings = np.zeros(5)\n",
    "for sim in simulator.simulations:\n",
    "    for prods in sim:\n",
    "        ratings += prods[-1]"
   ]
  },
  {
   "cell_type": "code",
   "execution_count": 21,
   "id": "181d681f",
   "metadata": {},
   "outputs": [
    {
     "data": {
      "text/plain": [
       "[<matplotlib.lines.Line2D at 0x7f957e4ee040>]"
      ]
     },
     "execution_count": 21,
     "metadata": {},
     "output_type": "execute_result"
    },
    {
     "data": {
      "image/png": "[encoded data removed]",
      "text/plain": [
       "<Figure size 432x288 with 1 Axes>"
      ]
     },
     "metadata": {},
     "output_type": "display_data"
    },
    {
     "data": {
      "application/javascript": [
       "\n",
       "            setTimeout(function() {\n",
       "                var nbb_cell_id = 21;\n",
       "                var nbb_unformatted_code = \"plt.plot(np.arange(5), ratings)\";\n",
       "                var nbb_formatted_code = \"plt.plot(np.arange(5), ratings)\";\n",
       "                var nbb_cells = Jupyter.notebook.get_cells();\n",
       "                for (var i = 0; i < nbb_cells.length; ++i) {\n",
       "                    if (nbb_cells[i].input_prompt_number == nbb_cell_id) {\n",
       "                        if (nbb_cells[i].get_text() == nbb_unformatted_code) {\n",
       "                             nbb_cells[i].set_text(nbb_formatted_code);\n",
       "                        }\n",
       "                        break;\n",
       "                    }\n",
       "                }\n",
       "            }, 500);\n",
       "            "
      ],
      "text/plain": [
       "<IPython.core.display.Javascript object>"
      ]
     },
     "metadata": {},
     "output_type": "display_data"
    }
   ],
   "source": [
    "plt.plot(np.arange(5), ratings)"
   ]
  },
  {
   "cell_type": "code",
   "execution_count": 22,
   "id": "a0192b4f",
   "metadata": {},
   "outputs": [
    {
     "data": {
      "application/javascript": [
       "\n",
       "            setTimeout(function() {\n",
       "                var nbb_cell_id = 22;\n",
       "                var nbb_unformatted_code = \"index = []\\nfor sim in simulator.simulations:\\n    for prods in sim:\\n        diff = np.sum(prods[-1][3:]) - np.sum(prods[-1][:2])\\n        index.append(diff)\";\n",
       "                var nbb_formatted_code = \"index = []\\nfor sim in simulator.simulations:\\n    for prods in sim:\\n        diff = np.sum(prods[-1][3:]) - np.sum(prods[-1][:2])\\n        index.append(diff)\";\n",
       "                var nbb_cells = Jupyter.notebook.get_cells();\n",
       "                for (var i = 0; i < nbb_cells.length; ++i) {\n",
       "                    if (nbb_cells[i].input_prompt_number == nbb_cell_id) {\n",
       "                        if (nbb_cells[i].get_text() == nbb_unformatted_code) {\n",
       "                             nbb_cells[i].set_text(nbb_formatted_code);\n",
       "                        }\n",
       "                        break;\n",
       "                    }\n",
       "                }\n",
       "            }, 500);\n",
       "            "
      ],
      "text/plain": [
       "<IPython.core.display.Javascript object>"
      ]
     },
     "metadata": {},
     "output_type": "display_data"
    }
   ],
   "source": [
    "index = []\n",
    "for sim in simulator.simulations:\n",
    "    for prods in sim:\n",
    "        diff = np.sum(prods[-1][3:]) - np.sum(prods[-1][:2])\n",
    "        index.append(diff)"
   ]
  },
  {
   "cell_type": "code",
   "execution_count": 23,
   "id": "cb2f5491",
   "metadata": {},
   "outputs": [
    {
     "data": {
      "text/plain": [
       "(array([7.0000e+00, 2.0250e+03, 1.3705e+04, 5.0720e+03, 1.3310e+03,\n",
       "        2.7400e+02, 5.4000e+01, 2.3000e+01, 4.0000e+00, 1.0000e+00]),\n",
       " array([-111. ,  -52.8,    5.4,   63.6,  121.8,  180. ,  238.2,  296.4,\n",
       "         354.6,  412.8,  471. ]),\n",
       " <BarContainer object of 10 artists>)"
      ]
     },
     "execution_count": 23,
     "metadata": {},
     "output_type": "execute_result"
    },
    {
     "data": {
      "image/png": "[encoded data removed]",
      "text/plain": [
       "<Figure size 432x288 with 1 Axes>"
      ]
     },
     "metadata": {},
     "output_type": "display_data"
    },
    {
     "data": {
      "application/javascript": [
       "\n",
       "            setTimeout(function() {\n",
       "                var nbb_cell_id = 23;\n",
       "                var nbb_unformatted_code = \"plt.hist(index)\";\n",
       "                var nbb_formatted_code = \"plt.hist(index)\";\n",
       "                var nbb_cells = Jupyter.notebook.get_cells();\n",
       "                for (var i = 0; i < nbb_cells.length; ++i) {\n",
       "                    if (nbb_cells[i].input_prompt_number == nbb_cell_id) {\n",
       "                        if (nbb_cells[i].get_text() == nbb_unformatted_code) {\n",
       "                             nbb_cells[i].set_text(nbb_formatted_code);\n",
       "                        }\n",
       "                        break;\n",
       "                    }\n",
       "                }\n",
       "            }, 500);\n",
       "            "
      ],
      "text/plain": [
       "<IPython.core.display.Javascript object>"
      ]
     },
     "metadata": {},
     "output_type": "display_data"
    }
   ],
   "source": [
    "plt.hist(index)"
   ]
  },
  {
   "cell_type": "code",
   "execution_count": 24,
   "id": "e64cac1a",
   "metadata": {},
   "outputs": [
    {
     "name": "stdout",
     "output_type": "stream",
     "text": [
      "0.9610597439544808\n"
     ]
    },
    {
     "data": {
      "application/javascript": [
       "\n",
       "            setTimeout(function() {\n",
       "                var nbb_cell_id = 24;\n",
       "                var nbb_unformatted_code = \"print(np.mean(np.array(index) >= 0))\";\n",
       "                var nbb_formatted_code = \"print(np.mean(np.array(index) >= 0))\";\n",
       "                var nbb_cells = Jupyter.notebook.get_cells();\n",
       "                for (var i = 0; i < nbb_cells.length; ++i) {\n",
       "                    if (nbb_cells[i].input_prompt_number == nbb_cell_id) {\n",
       "                        if (nbb_cells[i].get_text() == nbb_unformatted_code) {\n",
       "                             nbb_cells[i].set_text(nbb_formatted_code);\n",
       "                        }\n",
       "                        break;\n",
       "                    }\n",
       "                }\n",
       "            }, 500);\n",
       "            "
      ],
      "text/plain": [
       "<IPython.core.display.Javascript object>"
      ]
     },
     "metadata": {},
     "output_type": "display_data"
    }
   ],
   "source": [
    "print(np.mean(np.array(index) >= 0))"
   ]
  },
  {
   "cell_type": "code",
   "execution_count": null,
   "id": "10187247",
   "metadata": {},
   "outputs": [],
   "source": []
  },
  {
   "cell_type": "code",
   "execution_count": null,
   "id": "e3280596",
   "metadata": {},
   "outputs": [],
   "source": []
  },
  {
   "cell_type": "code",
   "execution_count": null,
   "id": "3f21c884",
   "metadata": {},
   "outputs": [],
   "source": []
  },
  {
   "cell_type": "markdown",
   "id": "ff6eb415",
   "metadata": {},
   "source": [
    "# Plotting the posterior samples"
   ]
  },
  {
   "cell_type": "code",
   "execution_count": 7,
   "id": "56fedafc",
   "metadata": {},
   "outputs": [
    {
     "data": {
      "text/plain": [
       "(10000, 1406, 3)"
      ]
     },
     "execution_count": 7,
     "metadata": {},
     "output_type": "execute_result"
    },
    {
     "data": {
      "application/javascript": [
       "\n",
       "            setTimeout(function() {\n",
       "                var nbb_cell_id = 7;\n",
       "                var nbb_unformatted_code = \"posterior_samples = np.load(ARTIFACT_PATH / \\\"posterior_samples_bazaarvoice.npy\\\")\\nposterior_samples.shape\";\n",
       "                var nbb_formatted_code = \"posterior_samples = np.load(ARTIFACT_PATH / \\\"posterior_samples_bazaarvoice.npy\\\")\\nposterior_samples.shape\";\n",
       "                var nbb_cells = Jupyter.notebook.get_cells();\n",
       "                for (var i = 0; i < nbb_cells.length; ++i) {\n",
       "                    if (nbb_cells[i].input_prompt_number == nbb_cell_id) {\n",
       "                        if (nbb_cells[i].get_text() == nbb_unformatted_code) {\n",
       "                             nbb_cells[i].set_text(nbb_formatted_code);\n",
       "                        }\n",
       "                        break;\n",
       "                    }\n",
       "                }\n",
       "            }, 500);\n",
       "            "
      ],
      "text/plain": [
       "<IPython.core.display.Javascript object>"
      ]
     },
     "metadata": {},
     "output_type": "display_data"
    }
   ],
   "source": [
    "posterior_samples = np.load(ARTIFACT_PATH / \"posterior_samples_bazaarvoice.npy\")\n",
    "posterior_samples.shape"
   ]
  },
  {
   "cell_type": "code",
   "execution_count": 10,
   "id": "0fd99544",
   "metadata": {},
   "outputs": [
    {
     "data": {
      "image/png": "[encoded data removed]",
      "text/plain": [
       "<Figure size 432x288 with 3 Axes>"
      ]
     },
     "metadata": {},
     "output_type": "display_data"
    },
    {
     "data": {
      "application/javascript": [
       "\n",
       "            setTimeout(function() {\n",
       "                var nbb_cell_id = 10;\n",
       "                var nbb_unformatted_code = \"plot_mean_posteriors_for_products(posterior_samples)\";\n",
       "                var nbb_formatted_code = \"plot_mean_posteriors_for_products(posterior_samples)\";\n",
       "                var nbb_cells = Jupyter.notebook.get_cells();\n",
       "                for (var i = 0; i < nbb_cells.length; ++i) {\n",
       "                    if (nbb_cells[i].input_prompt_number == nbb_cell_id) {\n",
       "                        if (nbb_cells[i].get_text() == nbb_unformatted_code) {\n",
       "                             nbb_cells[i].set_text(nbb_formatted_code);\n",
       "                        }\n",
       "                        break;\n",
       "                    }\n",
       "                }\n",
       "            }, 500);\n",
       "            "
      ],
      "text/plain": [
       "<IPython.core.display.Javascript object>"
      ]
     },
     "metadata": {},
     "output_type": "display_data"
    }
   ],
   "source": [
    "plot_mean_posteriors_for_products(posterior_samples)"
   ]
  },
  {
   "cell_type": "code",
   "execution_count": 14,
   "id": "de7f8101",
   "metadata": {},
   "outputs": [
    {
     "data": {
      "text/plain": [
       "(array([  4.,  41., 207., 457., 455., 190.,  38.,   4.,   0.,   0.,   0.,\n",
       "          0.,   0.,   0.,   1.,   0.,   0.,   0.,   0.,   0.,   0.,   0.,\n",
       "          0.,   0.,   0.,   0.,   0.,   0.,   0.,   0.,   0.,   0.,   0.,\n",
       "          0.,   0.,   0.,   0.,   0.,   0.,   0.,   0.,   0.,   0.,   0.,\n",
       "          0.,   0.,   0.,   0.,   0.,   0.,   0.,   0.,   0.,   0.,   0.,\n",
       "          0.,   0.,   0.,   0.,   0.,   0.,   0.,   0.,   0.,   0.,   1.,\n",
       "          1.,   1.,   0.,   1.,   0.,   0.,   0.,   0.,   0.,   0.,   0.,\n",
       "          0.,   0.,   0.,   0.,   0.,   0.,   0.,   0.,   0.,   0.,   0.,\n",
       "          0.,   0.,   0.,   0.,   0.,   0.,   0.,   0.,   0.,   0.,   1.,\n",
       "          4.]),\n",
       " array([1.52702405, 1.53518252, 1.54334099, 1.55149946, 1.55965793,\n",
       "        1.56781639, 1.57597486, 1.58413333, 1.5922918 , 1.60045027,\n",
       "        1.60860874, 1.6167672 , 1.62492567, 1.63308414, 1.64124261,\n",
       "        1.64940108, 1.65755955, 1.66571801, 1.67387648, 1.68203495,\n",
       "        1.69019342, 1.69835189, 1.70651036, 1.71466883, 1.72282729,\n",
       "        1.73098576, 1.73914423, 1.7473027 , 1.75546117, 1.76361964,\n",
       "        1.7717781 , 1.77993657, 1.78809504, 1.79625351, 1.80441198,\n",
       "        1.81257045, 1.82072891, 1.82888738, 1.83704585, 1.84520432,\n",
       "        1.85336279, 1.86152126, 1.86967973, 1.87783819, 1.88599666,\n",
       "        1.89415513, 1.9023136 , 1.91047207, 1.91863054, 1.926789  ,\n",
       "        1.93494747, 1.94310594, 1.95126441, 1.95942288, 1.96758135,\n",
       "        1.97573981, 1.98389828, 1.99205675, 2.00021522, 2.00837369,\n",
       "        2.01653216, 2.02469063, 2.03284909, 2.04100756, 2.04916603,\n",
       "        2.0573245 , 2.06548297, 2.07364144, 2.0817999 , 2.08995837,\n",
       "        2.09811684, 2.10627531, 2.11443378, 2.12259225, 2.13075071,\n",
       "        2.13890918, 2.14706765, 2.15522612, 2.16338459, 2.17154306,\n",
       "        2.17970152, 2.18785999, 2.19601846, 2.20417693, 2.2123354 ,\n",
       "        2.22049387, 2.22865234, 2.2368108 , 2.24496927, 2.25312774,\n",
       "        2.26128621, 2.26944468, 2.27760315, 2.28576161, 2.29392008,\n",
       "        2.30207855, 2.31023702, 2.31839549, 2.32655396, 2.33471242,\n",
       "        2.34287089]),\n",
       " <BarContainer object of 100 artists>)"
      ]
     },
     "execution_count": 14,
     "metadata": {},
     "output_type": "execute_result"
    },
    {
     "data": {
      "image/png": "[encoded data removed]",
      "text/plain": [
       "<Figure size 432x288 with 1 Axes>"
      ]
     },
     "metadata": {},
     "output_type": "display_data"
    },
    {
     "data": {
      "application/javascript": [
       "\n",
       "            setTimeout(function() {\n",
       "                var nbb_cell_id = 14;\n",
       "                var nbb_unformatted_code = \"plt.hist(np.mean(posterior_samples[:, :, 0], axis=0), bins=100\\n        )\";\n",
       "                var nbb_formatted_code = \"plt.hist(np.mean(posterior_samples[:, :, 0], axis=0), bins=100)\";\n",
       "                var nbb_cells = Jupyter.notebook.get_cells();\n",
       "                for (var i = 0; i < nbb_cells.length; ++i) {\n",
       "                    if (nbb_cells[i].input_prompt_number == nbb_cell_id) {\n",
       "                        if (nbb_cells[i].get_text() == nbb_unformatted_code) {\n",
       "                             nbb_cells[i].set_text(nbb_formatted_code);\n",
       "                        }\n",
       "                        break;\n",
       "                    }\n",
       "                }\n",
       "            }, 500);\n",
       "            "
      ],
      "text/plain": [
       "<IPython.core.display.Javascript object>"
      ]
     },
     "metadata": {},
     "output_type": "display_data"
    }
   ],
   "source": [
    "plt.hist(np.mean(posterior_samples[:, :, 0], axis=0), bins=100)"
   ]
  },
  {
   "cell_type": "code",
   "execution_count": 13,
   "id": "7efd81e8",
   "metadata": {},
   "outputs": [
    {
     "data": {
      "text/plain": [
       "array([1.54695524, 1.55164593, 1.56308243, ..., 1.55218146, 1.56293319,\n",
       "       1.56575715])"
      ]
     },
     "execution_count": 13,
     "metadata": {},
     "output_type": "execute_result"
    },
    {
     "data": {
      "application/javascript": [
       "\n",
       "            setTimeout(function() {\n",
       "                var nbb_cell_id = 13;\n",
       "                var nbb_unformatted_code = \"np.mean(posterior_samples[:, :, 0], axis=0)\";\n",
       "                var nbb_formatted_code = \"np.mean(posterior_samples[:, :, 0], axis=0)\";\n",
       "                var nbb_cells = Jupyter.notebook.get_cells();\n",
       "                for (var i = 0; i < nbb_cells.length; ++i) {\n",
       "                    if (nbb_cells[i].input_prompt_number == nbb_cell_id) {\n",
       "                        if (nbb_cells[i].get_text() == nbb_unformatted_code) {\n",
       "                             nbb_cells[i].set_text(nbb_formatted_code);\n",
       "                        }\n",
       "                        break;\n",
       "                    }\n",
       "                }\n",
       "            }, 500);\n",
       "            "
      ],
      "text/plain": [
       "<IPython.core.display.Javascript object>"
      ]
     },
     "metadata": {},
     "output_type": "display_data"
    }
   ],
   "source": [
    "np.mean(posterior_samples[:, :, 0], axis=0)"
   ]
  },
  {
   "cell_type": "code",
   "execution_count": 15,
   "id": "115781e0",
   "metadata": {},
   "outputs": [
    {
     "data": {
      "text/plain": [
       "<matplotlib.collections.PathCollection at 0x7f6e1cb81fd0>"
      ]
     },
     "execution_count": 15,
     "metadata": {},
     "output_type": "execute_result"
    },
    {
     "data": {
      "image/png": "[encoded data removed]",
      "text/plain": [
       "<Figure size 432x288 with 1 Axes>"
      ]
     },
     "metadata": {},
     "output_type": "display_data"
    },
    {
     "data": {
      "application/javascript": [
       "\n",
       "            setTimeout(function() {\n",
       "                var nbb_cell_id = 15;\n",
       "                var nbb_unformatted_code = \"plt.scatter(posterior_samples[:, 10, 0], posterior_samples[:, 10, 1], alpha=0.5, s=0.5)\";\n",
       "                var nbb_formatted_code = \"plt.scatter(posterior_samples[:, 10, 0], posterior_samples[:, 10, 1], alpha=0.5, s=0.5)\";\n",
       "                var nbb_cells = Jupyter.notebook.get_cells();\n",
       "                for (var i = 0; i < nbb_cells.length; ++i) {\n",
       "                    if (nbb_cells[i].input_prompt_number == nbb_cell_id) {\n",
       "                        if (nbb_cells[i].get_text() == nbb_unformatted_code) {\n",
       "                             nbb_cells[i].set_text(nbb_formatted_code);\n",
       "                        }\n",
       "                        break;\n",
       "                    }\n",
       "                }\n",
       "            }, 500);\n",
       "            "
      ],
      "text/plain": [
       "<IPython.core.display.Javascript object>"
      ]
     },
     "metadata": {},
     "output_type": "display_data"
    }
   ],
   "source": [
    "plt.scatter(posterior_samples[:, 10, 0], posterior_samples[:, 10, 1], alpha=0.5, s=0.5)"
   ]
  },
  {
   "cell_type": "code",
   "execution_count": 16,
   "id": "66d865a5",
   "metadata": {},
   "outputs": [
    {
     "data": {
      "text/plain": [
       "<matplotlib.collections.PathCollection at 0x7f6e1cb7fc70>"
      ]
     },
     "execution_count": 16,
     "metadata": {},
     "output_type": "execute_result"
    },
    {
     "data": {
      "image/png": "[encoded data removed]",
      "text/plain": [
       "<Figure size 432x288 with 1 Axes>"
      ]
     },
     "metadata": {},
     "output_type": "display_data"
    },
    {
     "data": {
      "application/javascript": [
       "\n",
       "            setTimeout(function() {\n",
       "                var nbb_cell_id = 16;\n",
       "                var nbb_unformatted_code = \"plt.scatter(posterior_samples[:, 1000, 0], posterior_samples[:, 1000, 1], alpha=0.5, s=0.5)\";\n",
       "                var nbb_formatted_code = \"plt.scatter(\\n    posterior_samples[:, 1000, 0], posterior_samples[:, 1000, 1], alpha=0.5, s=0.5\\n)\";\n",
       "                var nbb_cells = Jupyter.notebook.get_cells();\n",
       "                for (var i = 0; i < nbb_cells.length; ++i) {\n",
       "                    if (nbb_cells[i].input_prompt_number == nbb_cell_id) {\n",
       "                        if (nbb_cells[i].get_text() == nbb_unformatted_code) {\n",
       "                             nbb_cells[i].set_text(nbb_formatted_code);\n",
       "                        }\n",
       "                        break;\n",
       "                    }\n",
       "                }\n",
       "            }, 500);\n",
       "            "
      ],
      "text/plain": [
       "<IPython.core.display.Javascript object>"
      ]
     },
     "metadata": {},
     "output_type": "display_data"
    }
   ],
   "source": [
    "plt.scatter(posterior_samples[:, 1000, 0], posterior_samples[:, 1000, 1], alpha=0.5, s=0.5)"
   ]
  },
  {
   "cell_type": "code",
   "execution_count": 19,
   "id": "36a64e99",
   "metadata": {},
   "outputs": [
    {
     "data": {
      "text/plain": [
       "(array([  19.,   39.,   85.,  151.,  306.,  562.,  884., 1331., 1517.,\n",
       "        1555., 1276.,  928.,  587.,  389.,  181.,   93.,   61.,   23.,\n",
       "          10.,    3.]),\n",
       " array([0.00118669, 0.04894638, 0.09670607, 0.14446576, 0.19222545,\n",
       "        0.23998514, 0.28774483, 0.33550452, 0.38326421, 0.4310239 ,\n",
       "        0.47878359, 0.52654328, 0.57430297, 0.62206266, 0.66982235,\n",
       "        0.71758204, 0.76534173, 0.81310142, 0.86086111, 0.9086208 ,\n",
       "        0.95638049]),\n",
       " <BarContainer object of 20 artists>)"
      ]
     },
     "execution_count": 19,
     "metadata": {},
     "output_type": "execute_result"
    },
    {
     "data": {
      "image/png": "[encoded data removed]",
      "text/plain": [
       "<Figure size 432x288 with 1 Axes>"
      ]
     },
     "metadata": {},
     "output_type": "display_data"
    },
    {
     "data": {
      "application/javascript": [
       "\n",
       "            setTimeout(function() {\n",
       "                var nbb_cell_id = 19;\n",
       "                var nbb_unformatted_code = \"plt.hist(posterior_samples[:, 700, 2], bins=20)\";\n",
       "                var nbb_formatted_code = \"plt.hist(posterior_samples[:, 700, 2], bins=20)\";\n",
       "                var nbb_cells = Jupyter.notebook.get_cells();\n",
       "                for (var i = 0; i < nbb_cells.length; ++i) {\n",
       "                    if (nbb_cells[i].input_prompt_number == nbb_cell_id) {\n",
       "                        if (nbb_cells[i].get_text() == nbb_unformatted_code) {\n",
       "                             nbb_cells[i].set_text(nbb_formatted_code);\n",
       "                        }\n",
       "                        break;\n",
       "                    }\n",
       "                }\n",
       "            }, 500);\n",
       "            "
      ],
      "text/plain": [
       "<IPython.core.display.Javascript object>"
      ]
     },
     "metadata": {},
     "output_type": "display_data"
    }
   ],
   "source": [
    "plt.hist(posterior_samples[:, 700, 2], bins=20)"
   ]
  },
  {
   "cell_type": "code",
   "execution_count": 25,
   "id": "3bc4a10e",
   "metadata": {},
   "outputs": [
    {
     "data": {
      "text/plain": [
       "<AxesSubplot:>"
      ]
     },
     "execution_count": 25,
     "metadata": {},
     "output_type": "execute_result"
    },
    {
     "data": {
      "image/png": "[encoded data removed]",
      "text/plain": [
       "<Figure size 432x288 with 1 Axes>"
      ]
     },
     "metadata": {},
     "output_type": "display_data"
    },
    {
     "data": {
      "application/javascript": [
       "\n",
       "            setTimeout(function() {\n",
       "                var nbb_cell_id = 25;\n",
       "                var nbb_unformatted_code = \"reviews.asin.value_counts().hist(bins=50)\";\n",
       "                var nbb_formatted_code = \"reviews.asin.value_counts().hist(bins=50)\";\n",
       "                var nbb_cells = Jupyter.notebook.get_cells();\n",
       "                for (var i = 0; i < nbb_cells.length; ++i) {\n",
       "                    if (nbb_cells[i].input_prompt_number == nbb_cell_id) {\n",
       "                        if (nbb_cells[i].get_text() == nbb_unformatted_code) {\n",
       "                             nbb_cells[i].set_text(nbb_formatted_code);\n",
       "                        }\n",
       "                        break;\n",
       "                    }\n",
       "                }\n",
       "            }, 500);\n",
       "            "
      ],
      "text/plain": [
       "<IPython.core.display.Javascript object>"
      ]
     },
     "metadata": {},
     "output_type": "display_data"
    }
   ],
   "source": [
    "reviews.asin.value_counts().hist(bins=50)"
   ]
  },
  {
   "cell_type": "code",
   "execution_count": 26,
   "id": "b51a2f98",
   "metadata": {},
   "outputs": [
    {
     "data": {
      "text/plain": [
       "count    1406.000000\n",
       "mean       96.212660\n",
       "std       126.677148\n",
       "min         1.000000\n",
       "25%        25.250000\n",
       "50%        51.000000\n",
       "75%       113.000000\n",
       "max      1293.000000\n",
       "Name: asin, dtype: float64"
      ]
     },
     "execution_count": 26,
     "metadata": {},
     "output_type": "execute_result"
    },
    {
     "data": {
      "application/javascript": [
       "\n",
       "            setTimeout(function() {\n",
       "                var nbb_cell_id = 26;\n",
       "                var nbb_unformatted_code = \"reviews.asin.value_counts().describe()\";\n",
       "                var nbb_formatted_code = \"reviews.asin.value_counts().describe()\";\n",
       "                var nbb_cells = Jupyter.notebook.get_cells();\n",
       "                for (var i = 0; i < nbb_cells.length; ++i) {\n",
       "                    if (nbb_cells[i].input_prompt_number == nbb_cell_id) {\n",
       "                        if (nbb_cells[i].get_text() == nbb_unformatted_code) {\n",
       "                             nbb_cells[i].set_text(nbb_formatted_code);\n",
       "                        }\n",
       "                        break;\n",
       "                    }\n",
       "                }\n",
       "            }, 500);\n",
       "            "
      ],
      "text/plain": [
       "<IPython.core.display.Javascript object>"
      ]
     },
     "metadata": {},
     "output_type": "display_data"
    }
   ],
   "source": [
    "reviews.asin.value_counts().describe()"
   ]
  },
  {
   "cell_type": "code",
   "execution_count": 28,
   "id": "fdc585ab",
   "metadata": {},
   "outputs": [
    {
     "data": {
      "application/javascript": [
       "\n",
       "            setTimeout(function() {\n",
       "                var nbb_cell_id = 28;\n",
       "                var nbb_unformatted_code = \"counts = reviews.asin.value_counts().rename_axis(\\\"asin\\\").reset_index(name=\\\"counts\\\") \";\n",
       "                var nbb_formatted_code = \"counts = reviews.asin.value_counts().rename_axis(\\\"asin\\\").reset_index(name=\\\"counts\\\")\";\n",
       "                var nbb_cells = Jupyter.notebook.get_cells();\n",
       "                for (var i = 0; i < nbb_cells.length; ++i) {\n",
       "                    if (nbb_cells[i].input_prompt_number == nbb_cell_id) {\n",
       "                        if (nbb_cells[i].get_text() == nbb_unformatted_code) {\n",
       "                             nbb_cells[i].set_text(nbb_formatted_code);\n",
       "                        }\n",
       "                        break;\n",
       "                    }\n",
       "                }\n",
       "            }, 500);\n",
       "            "
      ],
      "text/plain": [
       "<IPython.core.display.Javascript object>"
      ]
     },
     "metadata": {},
     "output_type": "display_data"
    }
   ],
   "source": [
    "counts = reviews.asin.value_counts().rename_axis(\"asin\").reset_index(name=\"counts\")"
   ]
  },
  {
   "cell_type": "code",
   "execution_count": 29,
   "id": "e893a258",
   "metadata": {},
   "outputs": [
    {
     "data": {
      "text/html": [
       "<div>\n",
       "<style scoped>\n",
       "    .dataframe tbody tr th:only-of-type {\n",
       "        vertical-align: middle;\n",
       "    }\n",
       "\n",
       "    .dataframe tbody tr th {\n",
       "        vertical-align: top;\n",
       "    }\n",
       "\n",
       "    .dataframe thead th {\n",
       "        text-align: right;\n",
       "    }\n",
       "</style>\n",
       "<table border=\"1\" class=\"dataframe\">\n",
       "  <thead>\n",
       "    <tr style=\"text-align: right;\">\n",
       "      <th></th>\n",
       "      <th>asin</th>\n",
       "      <th>counts</th>\n",
       "    </tr>\n",
       "  </thead>\n",
       "  <tbody>\n",
       "    <tr>\n",
       "      <th>0</th>\n",
       "      <td>8505590</td>\n",
       "      <td>1293</td>\n",
       "    </tr>\n",
       "    <tr>\n",
       "      <th>1</th>\n",
       "      <td>4251831</td>\n",
       "      <td>1224</td>\n",
       "    </tr>\n",
       "    <tr>\n",
       "      <th>2</th>\n",
       "      <td>4201386</td>\n",
       "      <td>973</td>\n",
       "    </tr>\n",
       "    <tr>\n",
       "      <th>3</th>\n",
       "      <td>6510154</td>\n",
       "      <td>876</td>\n",
       "    </tr>\n",
       "    <tr>\n",
       "      <th>4</th>\n",
       "      <td>4007573</td>\n",
       "      <td>797</td>\n",
       "    </tr>\n",
       "    <tr>\n",
       "      <th>...</th>\n",
       "      <td>...</td>\n",
       "      <td>...</td>\n",
       "    </tr>\n",
       "    <tr>\n",
       "      <th>1401</th>\n",
       "      <td>9152069</td>\n",
       "      <td>1</td>\n",
       "    </tr>\n",
       "    <tr>\n",
       "      <th>1402</th>\n",
       "      <td>2445546</td>\n",
       "      <td>1</td>\n",
       "    </tr>\n",
       "    <tr>\n",
       "      <th>1403</th>\n",
       "      <td>5190331</td>\n",
       "      <td>1</td>\n",
       "    </tr>\n",
       "    <tr>\n",
       "      <th>1404</th>\n",
       "      <td>5190290</td>\n",
       "      <td>1</td>\n",
       "    </tr>\n",
       "    <tr>\n",
       "      <th>1405</th>\n",
       "      <td>3308857</td>\n",
       "      <td>1</td>\n",
       "    </tr>\n",
       "  </tbody>\n",
       "</table>\n",
       "<p>1406 rows × 2 columns</p>\n",
       "</div>"
      ],
      "text/plain": [
       "         asin  counts\n",
       "0     8505590    1293\n",
       "1     4251831    1224\n",
       "2     4201386     973\n",
       "3     6510154     876\n",
       "4     4007573     797\n",
       "...       ...     ...\n",
       "1401  9152069       1\n",
       "1402  2445546       1\n",
       "1403  5190331       1\n",
       "1404  5190290       1\n",
       "1405  3308857       1\n",
       "\n",
       "[1406 rows x 2 columns]"
      ]
     },
     "execution_count": 29,
     "metadata": {},
     "output_type": "execute_result"
    },
    {
     "data": {
      "application/javascript": [
       "\n",
       "            setTimeout(function() {\n",
       "                var nbb_cell_id = 29;\n",
       "                var nbb_unformatted_code = \"counts\";\n",
       "                var nbb_formatted_code = \"counts\";\n",
       "                var nbb_cells = Jupyter.notebook.get_cells();\n",
       "                for (var i = 0; i < nbb_cells.length; ++i) {\n",
       "                    if (nbb_cells[i].input_prompt_number == nbb_cell_id) {\n",
       "                        if (nbb_cells[i].get_text() == nbb_unformatted_code) {\n",
       "                             nbb_cells[i].set_text(nbb_formatted_code);\n",
       "                        }\n",
       "                        break;\n",
       "                    }\n",
       "                }\n",
       "            }, 500);\n",
       "            "
      ],
      "text/plain": [
       "<IPython.core.display.Javascript object>"
      ]
     },
     "metadata": {},
     "output_type": "display_data"
    }
   ],
   "source": [
    "counts"
   ]
  },
  {
   "cell_type": "code",
   "execution_count": 36,
   "id": "488f7dd1",
   "metadata": {},
   "outputs": [
    {
     "data": {
      "text/plain": [
       "10     5323249\n",
       "11     8407045\n",
       "12     9010390\n",
       "13     8500296\n",
       "14     1270743\n",
       "        ...   \n",
       "390    2816436\n",
       "391    9068775\n",
       "392    4327411\n",
       "393     670155\n",
       "394    1279074\n",
       "Name: asin, Length: 385, dtype: int64"
      ]
     },
     "execution_count": 36,
     "metadata": {},
     "output_type": "execute_result"
    },
    {
     "data": {
      "application/javascript": [
       "\n",
       "            setTimeout(function() {\n",
       "                var nbb_cell_id = 36;\n",
       "                var nbb_unformatted_code = \"counts.asin[(counts.counts < 650) * (counts.counts > 100)]\";\n",
       "                var nbb_formatted_code = \"counts.asin[(counts.counts < 650) * (counts.counts > 100)]\";\n",
       "                var nbb_cells = Jupyter.notebook.get_cells();\n",
       "                for (var i = 0; i < nbb_cells.length; ++i) {\n",
       "                    if (nbb_cells[i].input_prompt_number == nbb_cell_id) {\n",
       "                        if (nbb_cells[i].get_text() == nbb_unformatted_code) {\n",
       "                             nbb_cells[i].set_text(nbb_formatted_code);\n",
       "                        }\n",
       "                        break;\n",
       "                    }\n",
       "                }\n",
       "            }, 500);\n",
       "            "
      ],
      "text/plain": [
       "<IPython.core.display.Javascript object>"
      ]
     },
     "metadata": {},
     "output_type": "display_data"
    }
   ],
   "source": [
    "counts.asin[(counts.counts < 650) * (counts.counts > 100)]"
   ]
  },
  {
   "cell_type": "code",
   "execution_count": 41,
   "id": "35e4bc1f",
   "metadata": {},
   "outputs": [
    {
     "data": {
      "text/plain": [
       "(array([200]),)"
      ]
     },
     "execution_count": 41,
     "metadata": {},
     "output_type": "execute_result"
    },
    {
     "data": {
      "application/javascript": [
       "\n",
       "            setTimeout(function() {\n",
       "                var nbb_cell_id = 41;\n",
       "                var nbb_unformatted_code = \"np.where(reviews.asin.unique() == 1279074)\";\n",
       "                var nbb_formatted_code = \"np.where(reviews.asin.unique() == 1279074)\";\n",
       "                var nbb_cells = Jupyter.notebook.get_cells();\n",
       "                for (var i = 0; i < nbb_cells.length; ++i) {\n",
       "                    if (nbb_cells[i].input_prompt_number == nbb_cell_id) {\n",
       "                        if (nbb_cells[i].get_text() == nbb_unformatted_code) {\n",
       "                             nbb_cells[i].set_text(nbb_formatted_code);\n",
       "                        }\n",
       "                        break;\n",
       "                    }\n",
       "                }\n",
       "            }, 500);\n",
       "            "
      ],
      "text/plain": [
       "<IPython.core.display.Javascript object>"
      ]
     },
     "metadata": {},
     "output_type": "display_data"
    }
   ],
   "source": [
    "np.where(reviews.asin.unique() == 1279074)"
   ]
  },
  {
   "cell_type": "code",
   "execution_count": 43,
   "id": "ab190bec",
   "metadata": {},
   "outputs": [
    {
     "data": {
      "text/plain": [
       "(array([1.000e+00, 1.000e+00, 3.000e+00, 6.000e+00, 3.400e+01, 8.800e+01,\n",
       "        1.740e+02, 3.390e+02, 6.280e+02, 9.290e+02, 1.261e+03, 1.426e+03,\n",
       "        1.515e+03, 1.296e+03, 1.073e+03, 7.190e+02, 3.310e+02, 1.230e+02,\n",
       "        4.100e+01, 1.200e+01]),\n",
       " array([1.00311565, 1.12505956, 1.24700346, 1.36894736, 1.49089127,\n",
       "        1.61283517, 1.73477907, 1.85672297, 1.97866688, 2.10061078,\n",
       "        2.22255468, 2.34449859, 2.46644249, 2.58838639, 2.7103303 ,\n",
       "        2.8322742 , 2.9542181 , 3.076162  , 3.19810591, 3.32004981,\n",
       "        3.44199371]),\n",
       " <BarContainer object of 20 artists>)"
      ]
     },
     "execution_count": 43,
     "metadata": {},
     "output_type": "execute_result"
    },
    {
     "data": {
      "image/png": "[encoded data removed]",
      "text/plain": [
       "<Figure size 432x288 with 1 Axes>"
      ]
     },
     "metadata": {},
     "output_type": "display_data"
    },
    {
     "data": {
      "application/javascript": [
       "\n",
       "            setTimeout(function() {\n",
       "                var nbb_cell_id = 43;\n",
       "                var nbb_unformatted_code = \"plt.hist(posterior_samples[:, 200, 1], bins=20)\";\n",
       "                var nbb_formatted_code = \"plt.hist(posterior_samples[:, 200, 1], bins=20)\";\n",
       "                var nbb_cells = Jupyter.notebook.get_cells();\n",
       "                for (var i = 0; i < nbb_cells.length; ++i) {\n",
       "                    if (nbb_cells[i].input_prompt_number == nbb_cell_id) {\n",
       "                        if (nbb_cells[i].get_text() == nbb_unformatted_code) {\n",
       "                             nbb_cells[i].set_text(nbb_formatted_code);\n",
       "                        }\n",
       "                        break;\n",
       "                    }\n",
       "                }\n",
       "            }, 500);\n",
       "            "
      ],
      "text/plain": [
       "<IPython.core.display.Javascript object>"
      ]
     },
     "metadata": {},
     "output_type": "display_data"
    }
   ],
   "source": [
    "plt.hist(posterior_samples[:, 200, 1], bins=20)"
   ]
  },
  {
   "cell_type": "code",
   "execution_count": 14,
   "id": "cca29bfc",
   "metadata": {},
   "outputs": [
    {
     "data": {
      "text/plain": [
       "array([[ 0.,  0.,  0.,  0.,  0.],\n",
       "       [ 0.,  0.,  0.,  0.,  1.],\n",
       "       [ 0.,  0.,  0.,  0.,  2.],\n",
       "       [ 0.,  0.,  0.,  0.,  3.],\n",
       "       [ 0.,  0.,  0.,  0.,  4.],\n",
       "       [ 0.,  0.,  0.,  0.,  5.],\n",
       "       [ 0.,  0.,  0.,  0.,  6.],\n",
       "       [ 0.,  0.,  0.,  0.,  7.],\n",
       "       [ 0.,  0.,  0.,  0.,  8.],\n",
       "       [ 0.,  0.,  0.,  1.,  8.],\n",
       "       [ 0.,  0.,  0.,  1.,  9.],\n",
       "       [ 0.,  0.,  0.,  1., 10.],\n",
       "       [ 0.,  0.,  0.,  1., 11.],\n",
       "       [ 1.,  0.,  0.,  1., 11.],\n",
       "       [ 1.,  0.,  0.,  1., 12.],\n",
       "       [ 1.,  0.,  0.,  1., 13.],\n",
       "       [ 1.,  0.,  0.,  1., 14.],\n",
       "       [ 1.,  0.,  1.,  1., 14.],\n",
       "       [ 1.,  0.,  1.,  1., 15.],\n",
       "       [ 1.,  0.,  1.,  2., 15.],\n",
       "       [ 1.,  0.,  2.,  2., 15.],\n",
       "       [ 1.,  0.,  2.,  3., 15.],\n",
       "       [ 1.,  0.,  2.,  3., 16.],\n",
       "       [ 1.,  0.,  2.,  3., 17.],\n",
       "       [ 1.,  1.,  2.,  3., 17.],\n",
       "       [ 1.,  1.,  2.,  4., 17.],\n",
       "       [ 1.,  1.,  2.,  4., 18.],\n",
       "       [ 1.,  1.,  2.,  4., 19.],\n",
       "       [ 1.,  1.,  2.,  5., 19.],\n",
       "       [ 1.,  1.,  2.,  5., 20.],\n",
       "       [ 1.,  1.,  2.,  5., 21.],\n",
       "       [ 1.,  1.,  2.,  6., 21.],\n",
       "       [ 1.,  1.,  2.,  7., 21.],\n",
       "       [ 1.,  1.,  2.,  7., 22.],\n",
       "       [ 1.,  1.,  3.,  7., 22.],\n",
       "       [ 1.,  1.,  4.,  7., 22.],\n",
       "       [ 1.,  1.,  4.,  7., 23.],\n",
       "       [ 2.,  1.,  4.,  7., 23.],\n",
       "       [ 2.,  1.,  4.,  7., 24.],\n",
       "       [ 2.,  1.,  4.,  7., 25.],\n",
       "       [ 2.,  1.,  4.,  7., 26.],\n",
       "       [ 2.,  1.,  4.,  7., 27.],\n",
       "       [ 2.,  1.,  4.,  7., 28.],\n",
       "       [ 2.,  1.,  4.,  7., 29.],\n",
       "       [ 2.,  1.,  5.,  7., 29.],\n",
       "       [ 2.,  1.,  5.,  7., 30.]])"
      ]
     },
     "execution_count": 14,
     "metadata": {},
     "output_type": "execute_result"
    },
    {
     "data": {
      "application/javascript": [
       "\n",
       "            setTimeout(function() {\n",
       "                var nbb_cell_id = 14;\n",
       "                var nbb_unformatted_code = \"timeseries_data[1300]\";\n",
       "                var nbb_formatted_code = \"timeseries_data[1300]\";\n",
       "                var nbb_cells = Jupyter.notebook.get_cells();\n",
       "                for (var i = 0; i < nbb_cells.length; ++i) {\n",
       "                    if (nbb_cells[i].input_prompt_number == nbb_cell_id) {\n",
       "                        if (nbb_cells[i].get_text() == nbb_unformatted_code) {\n",
       "                             nbb_cells[i].set_text(nbb_formatted_code);\n",
       "                        }\n",
       "                        break;\n",
       "                    }\n",
       "                }\n",
       "            }, 500);\n",
       "            "
      ],
      "text/plain": [
       "<IPython.core.display.Javascript object>"
      ]
     },
     "metadata": {},
     "output_type": "display_data"
    }
   ],
   "source": [
    "timeseries_data[1300]"
   ]
  },
  {
   "cell_type": "code",
   "execution_count": 10,
   "id": "916cadca",
   "metadata": {},
   "outputs": [
    {
     "name": "stderr",
     "output_type": "stream",
     "text": [
      "/opt/conda/lib/python3.7/site-packages/sbi/utils/torchutils.py:28: UserWarning: GPU was selected as a device for training the neural network. Note that we expect **no** significant speed ups in training for the default architectures we provide. Using the GPU will be effective only for large neural networks with operations that are fast on the GPU, e.g., for a CNN or RNN `embedding_net`.\n",
      "  \"GPU was selected as a device for training the neural network. \"\n"
     ]
    },
    {
     "data": {
      "application/javascript": [
       "\n",
       "            setTimeout(function() {\n",
       "                var nbb_cell_id = 10;\n",
       "                var nbb_unformatted_code = \"device=\\\"cuda\\\"\\nparameter_prior = sbi.utils.BoxUniform(\\n    low=torch.tensor([0.0, 0.0, 0.0]).type(torch.FloatTensor),\\n    high=torch.tensor([4.0, 4.0, 1.0]).type(torch.FloatTensor),\\n    device=device,\\n)\\ninferrer = inference_class.TimeSeriesInference(\\n    parameter_prior=parameter_prior, device=device\\n)\";\n",
       "                var nbb_formatted_code = \"device = \\\"cuda\\\"\\nparameter_prior = sbi.utils.BoxUniform(\\n    low=torch.tensor([0.0, 0.0, 0.0]).type(torch.FloatTensor),\\n    high=torch.tensor([4.0, 4.0, 1.0]).type(torch.FloatTensor),\\n    device=device,\\n)\\ninferrer = inference_class.TimeSeriesInference(\\n    parameter_prior=parameter_prior, device=device\\n)\";\n",
       "                var nbb_cells = Jupyter.notebook.get_cells();\n",
       "                for (var i = 0; i < nbb_cells.length; ++i) {\n",
       "                    if (nbb_cells[i].input_prompt_number == nbb_cell_id) {\n",
       "                        if (nbb_cells[i].get_text() == nbb_unformatted_code) {\n",
       "                             nbb_cells[i].set_text(nbb_formatted_code);\n",
       "                        }\n",
       "                        break;\n",
       "                    }\n",
       "                }\n",
       "            }, 500);\n",
       "            "
      ],
      "text/plain": [
       "<IPython.core.display.Javascript object>"
      ]
     },
     "metadata": {},
     "output_type": "display_data"
    }
   ],
   "source": [
    "device=\"cuda\"\n",
    "parameter_prior = sbi.utils.BoxUniform(\n",
    "    low=torch.tensor([0.0, 0.0, 0.0]).type(torch.FloatTensor),\n",
    "    high=torch.tensor([4.0, 4.0, 1.0]).type(torch.FloatTensor),\n",
    "    device=device,\n",
    ")\n",
    "inferrer = inference_class.TimeSeriesInference(\n",
    "    parameter_prior=parameter_prior, device=device\n",
    ")"
   ]
  },
  {
   "cell_type": "code",
   "execution_count": 12,
   "id": "47314742",
   "metadata": {},
   "outputs": [
    {
     "data": {
      "application/javascript": [
       "\n",
       "            setTimeout(function() {\n",
       "                var nbb_cell_id = 12;\n",
       "                var nbb_unformatted_code = \"inferrer.load_simulator(\\n    dirname=ARTIFACT_PATH,\\n    simulator_type=\\\"marketplace\\\",\\n    simulation_type=\\\"timeseries\\\",\\n)\";\n",
       "                var nbb_formatted_code = \"inferrer.load_simulator(\\n    dirname=ARTIFACT_PATH,\\n    simulator_type=\\\"marketplace\\\",\\n    simulation_type=\\\"timeseries\\\",\\n)\";\n",
       "                var nbb_cells = Jupyter.notebook.get_cells();\n",
       "                for (var i = 0; i < nbb_cells.length; ++i) {\n",
       "                    if (nbb_cells[i].input_prompt_number == nbb_cell_id) {\n",
       "                        if (nbb_cells[i].get_text() == nbb_unformatted_code) {\n",
       "                             nbb_cells[i].set_text(nbb_formatted_code);\n",
       "                        }\n",
       "                        break;\n",
       "                    }\n",
       "                }\n",
       "            }, 500);\n",
       "            "
      ],
      "text/plain": [
       "<IPython.core.display.Javascript object>"
      ]
     },
     "metadata": {},
     "output_type": "display_data"
    }
   ],
   "source": [
    "inferrer.load_simulator(\n",
    "    dirname=ARTIFACT_PATH,\n",
    "    simulator_type=\"marketplace\",\n",
    "    simulation_type=\"timeseries\",\n",
    ")"
   ]
  },
  {
   "cell_type": "code",
   "execution_count": 13,
   "id": "95e07864",
   "metadata": {},
   "outputs": [
    {
     "data": {
      "application/javascript": [
       "\n",
       "            setTimeout(function() {\n",
       "                var nbb_cell_id = 13;\n",
       "                var nbb_unformatted_code = \"inferrer.load_inference(dirname=ARTIFACT_PATH)\";\n",
       "                var nbb_formatted_code = \"inferrer.load_inference(dirname=ARTIFACT_PATH)\";\n",
       "                var nbb_cells = Jupyter.notebook.get_cells();\n",
       "                for (var i = 0; i < nbb_cells.length; ++i) {\n",
       "                    if (nbb_cells[i].input_prompt_number == nbb_cell_id) {\n",
       "                        if (nbb_cells[i].get_text() == nbb_unformatted_code) {\n",
       "                             nbb_cells[i].set_text(nbb_formatted_code);\n",
       "                        }\n",
       "                        break;\n",
       "                    }\n",
       "                }\n",
       "            }, 500);\n",
       "            "
      ],
      "text/plain": [
       "<IPython.core.display.Javascript object>"
      ]
     },
     "metadata": {},
     "output_type": "display_data"
    }
   ],
   "source": [
    "inferrer.load_inference(dirname=ARTIFACT_PATH)"
   ]
  },
  {
   "cell_type": "code",
   "execution_count": 14,
   "id": "d05a3f2e",
   "metadata": {},
   "outputs": [
    {
     "data": {
      "text/plain": [
       "['__class__',\n",
       " '__delattr__',\n",
       " '__dict__',\n",
       " '__dir__',\n",
       " '__doc__',\n",
       " '__eq__',\n",
       " '__format__',\n",
       " '__ge__',\n",
       " '__getattribute__',\n",
       " '__gt__',\n",
       " '__hash__',\n",
       " '__init__',\n",
       " '__init_subclass__',\n",
       " '__le__',\n",
       " '__lt__',\n",
       " '__module__',\n",
       " '__ne__',\n",
       " '__new__',\n",
       " '__reduce__',\n",
       " '__reduce_ex__',\n",
       " '__repr__',\n",
       " '__setattr__',\n",
       " '__sizeof__',\n",
       " '__str__',\n",
       " '__subclasshook__',\n",
       " '__weakref__',\n",
       " 'device',\n",
       " 'get_posterior_samples',\n",
       " 'infer_snpe_posterior',\n",
       " 'load_inference',\n",
       " 'load_simulator',\n",
       " 'padded_simulation_length',\n",
       " 'parameter_prior',\n",
       " 'posterior',\n",
       " 'save_inference',\n",
       " 'simulation_type',\n",
       " 'simulator',\n",
       " 'simulator_type']"
      ]
     },
     "execution_count": 14,
     "metadata": {},
     "output_type": "execute_result"
    },
    {
     "data": {
      "application/javascript": [
       "\n",
       "            setTimeout(function() {\n",
       "                var nbb_cell_id = 14;\n",
       "                var nbb_unformatted_code = \"dir(inferrer)\";\n",
       "                var nbb_formatted_code = \"dir(inferrer)\";\n",
       "                var nbb_cells = Jupyter.notebook.get_cells();\n",
       "                for (var i = 0; i < nbb_cells.length; ++i) {\n",
       "                    if (nbb_cells[i].input_prompt_number == nbb_cell_id) {\n",
       "                        if (nbb_cells[i].get_text() == nbb_unformatted_code) {\n",
       "                             nbb_cells[i].set_text(nbb_formatted_code);\n",
       "                        }\n",
       "                        break;\n",
       "                    }\n",
       "                }\n",
       "            }, 500);\n",
       "            "
      ],
      "text/plain": [
       "<IPython.core.display.Javascript object>"
      ]
     },
     "metadata": {},
     "output_type": "display_data"
    }
   ],
   "source": [
    "dir(inferrer)"
   ]
  },
  {
   "cell_type": "code",
   "execution_count": 16,
   "id": "03dddbac",
   "metadata": {},
   "outputs": [
    {
     "data": {
      "text/plain": [
       "(22400,)"
      ]
     },
     "execution_count": 16,
     "metadata": {},
     "output_type": "execute_result"
    },
    {
     "data": {
      "application/javascript": [
       "\n",
       "            setTimeout(function() {\n",
       "                var nbb_cell_id = 16;\n",
       "                var nbb_unformatted_code = \"inferrer.simulator.simulations.shape\";\n",
       "                var nbb_formatted_code = \"inferrer.simulator.simulations.shape\";\n",
       "                var nbb_cells = Jupyter.notebook.get_cells();\n",
       "                for (var i = 0; i < nbb_cells.length; ++i) {\n",
       "                    if (nbb_cells[i].input_prompt_number == nbb_cell_id) {\n",
       "                        if (nbb_cells[i].get_text() == nbb_unformatted_code) {\n",
       "                             nbb_cells[i].set_text(nbb_formatted_code);\n",
       "                        }\n",
       "                        break;\n",
       "                    }\n",
       "                }\n",
       "            }, 500);\n",
       "            "
      ],
      "text/plain": [
       "<IPython.core.display.Javascript object>"
      ]
     },
     "metadata": {},
     "output_type": "display_data"
    }
   ],
   "source": [
    "inferrer.simulator.simulations.shape"
   ]
  },
  {
   "cell_type": "code",
   "execution_count": 20,
   "id": "d7e63a56",
   "metadata": {},
   "outputs": [
    {
     "data": {
      "text/plain": [
       "array([[ 1.,  1.,  1.,  1.,  1.],\n",
       "       [ 1.,  1.,  1.,  2.,  1.],\n",
       "       [ 2.,  1.,  1.,  2.,  1.],\n",
       "       [ 3.,  1.,  1.,  2.,  1.],\n",
       "       [ 3.,  1.,  1.,  2.,  2.],\n",
       "       [ 3.,  1.,  1.,  2.,  3.],\n",
       "       [ 3.,  1.,  1.,  2.,  4.],\n",
       "       [ 3.,  1.,  2.,  2.,  4.],\n",
       "       [ 4.,  1.,  2.,  2.,  4.],\n",
       "       [ 5.,  1.,  2.,  2.,  4.],\n",
       "       [ 5.,  1.,  2.,  2.,  5.],\n",
       "       [ 6.,  1.,  2.,  2.,  5.],\n",
       "       [ 6.,  1.,  2.,  2.,  6.],\n",
       "       [ 7.,  1.,  2.,  2.,  6.],\n",
       "       [ 7.,  2.,  2.,  2.,  6.],\n",
       "       [ 7.,  2.,  3.,  2.,  6.],\n",
       "       [ 7.,  3.,  3.,  2.,  6.],\n",
       "       [ 8.,  3.,  3.,  2.,  6.],\n",
       "       [ 8.,  3.,  3.,  2.,  7.],\n",
       "       [ 9.,  3.,  3.,  2.,  7.],\n",
       "       [ 9.,  4.,  3.,  2.,  7.],\n",
       "       [ 9.,  4.,  3.,  2.,  8.],\n",
       "       [10.,  4.,  3.,  2.,  8.],\n",
       "       [10.,  5.,  3.,  2.,  8.],\n",
       "       [10.,  5.,  4.,  2.,  8.],\n",
       "       [10.,  5.,  4.,  2.,  9.],\n",
       "       [10.,  6.,  4.,  2.,  9.],\n",
       "       [11.,  6.,  4.,  2.,  9.],\n",
       "       [11.,  7.,  4.,  2.,  9.],\n",
       "       [12.,  7.,  4.,  2.,  9.],\n",
       "       [12.,  7.,  4.,  2., 10.],\n",
       "       [12.,  7.,  4.,  2., 11.],\n",
       "       [12.,  7.,  5.,  2., 11.],\n",
       "       [12.,  7.,  5.,  3., 11.],\n",
       "       [13.,  7.,  5.,  3., 11.],\n",
       "       [14.,  7.,  5.,  3., 11.],\n",
       "       [14.,  7.,  6.,  3., 11.],\n",
       "       [14.,  7.,  7.,  3., 11.],\n",
       "       [15.,  7.,  7.,  3., 11.],\n",
       "       [15.,  7.,  8.,  3., 11.],\n",
       "       [15.,  8.,  8.,  3., 11.],\n",
       "       [15.,  8.,  9.,  3., 11.]])"
      ]
     },
     "execution_count": 20,
     "metadata": {},
     "output_type": "execute_result"
    },
    {
     "data": {
      "application/javascript": [
       "\n",
       "            setTimeout(function() {\n",
       "                var nbb_cell_id = 20;\n",
       "                var nbb_unformatted_code = \"inferrer.simulator.simulations[22000]\";\n",
       "                var nbb_formatted_code = \"inferrer.simulator.simulations[22000]\";\n",
       "                var nbb_cells = Jupyter.notebook.get_cells();\n",
       "                for (var i = 0; i < nbb_cells.length; ++i) {\n",
       "                    if (nbb_cells[i].input_prompt_number == nbb_cell_id) {\n",
       "                        if (nbb_cells[i].get_text() == nbb_unformatted_code) {\n",
       "                             nbb_cells[i].set_text(nbb_formatted_code);\n",
       "                        }\n",
       "                        break;\n",
       "                    }\n",
       "                }\n",
       "            }, 500);\n",
       "            "
      ],
      "text/plain": [
       "<IPython.core.display.Javascript object>"
      ]
     },
     "metadata": {},
     "output_type": "display_data"
    }
   ],
   "source": [
    "inferrer.simulator.simulations[22000]"
   ]
  },
  {
   "cell_type": "code",
   "execution_count": 25,
   "id": "928c7426",
   "metadata": {},
   "outputs": [
    {
     "data": {
      "text/plain": [
       "(array([1.1312e+04, 3.4660e+03, 4.4010e+03, 2.3620e+03, 6.3200e+02,\n",
       "        1.6500e+02, 4.3000e+01, 1.2000e+01, 3.0000e+00, 4.0000e+00]),\n",
       " array([  2. ,  69.1, 136.2, 203.3, 270.4, 337.5, 404.6, 471.7, 538.8,\n",
       "        605.9, 673. ]),\n",
       " <BarContainer object of 10 artists>)"
      ]
     },
     "execution_count": 25,
     "metadata": {},
     "output_type": "execute_result"
    },
    {
     "data": {
      "image/png": "[encoded data removed]",
      "text/plain": [
       "<Figure size 432x288 with 1 Axes>"
      ]
     },
     "metadata": {},
     "output_type": "display_data"
    },
    {
     "data": {
      "application/javascript": [
       "\n",
       "            setTimeout(function() {\n",
       "                var nbb_cell_id = 25;\n",
       "                var nbb_unformatted_code = \"num_reviews = [prod.shape[0] for prod in inferrer.simulator.simulations]\\nplt.hist(num_reviews)\";\n",
       "                var nbb_formatted_code = \"num_reviews = [prod.shape[0] for prod in inferrer.simulator.simulations]\\nplt.hist(num_reviews)\";\n",
       "                var nbb_cells = Jupyter.notebook.get_cells();\n",
       "                for (var i = 0; i < nbb_cells.length; ++i) {\n",
       "                    if (nbb_cells[i].input_prompt_number == nbb_cell_id) {\n",
       "                        if (nbb_cells[i].get_text() == nbb_unformatted_code) {\n",
       "                             nbb_cells[i].set_text(nbb_formatted_code);\n",
       "                        }\n",
       "                        break;\n",
       "                    }\n",
       "                }\n",
       "            }, 500);\n",
       "            "
      ],
      "text/plain": [
       "<IPython.core.display.Javascript object>"
      ]
     },
     "metadata": {},
     "output_type": "display_data"
    }
   ],
   "source": [
    "num_reviews = [prod.shape[0] for prod in inferrer.simulator.simulations]\n",
    "plt.hist(num_reviews)"
   ]
  },
  {
   "cell_type": "code",
   "execution_count": 26,
   "id": "bb89c21c",
   "metadata": {},
   "outputs": [
    {
     "data": {
      "text/plain": [
       "673"
      ]
     },
     "execution_count": 26,
     "metadata": {},
     "output_type": "execute_result"
    },
    {
     "data": {
      "application/javascript": [
       "\n",
       "            setTimeout(function() {\n",
       "                var nbb_cell_id = 26;\n",
       "                var nbb_unformatted_code = \"np.max(num_reviews)\";\n",
       "                var nbb_formatted_code = \"np.max(num_reviews)\";\n",
       "                var nbb_cells = Jupyter.notebook.get_cells();\n",
       "                for (var i = 0; i < nbb_cells.length; ++i) {\n",
       "                    if (nbb_cells[i].input_prompt_number == nbb_cell_id) {\n",
       "                        if (nbb_cells[i].get_text() == nbb_unformatted_code) {\n",
       "                             nbb_cells[i].set_text(nbb_formatted_code);\n",
       "                        }\n",
       "                        break;\n",
       "                    }\n",
       "                }\n",
       "            }, 500);\n",
       "            "
      ],
      "text/plain": [
       "<IPython.core.display.Javascript object>"
      ]
     },
     "metadata": {},
     "output_type": "display_data"
    }
   ],
   "source": [
    "np.max(num_reviews)"
   ]
  },
  {
   "cell_type": "code",
   "execution_count": 27,
   "id": "aee6c3c3",
   "metadata": {},
   "outputs": [
    {
     "data": {
      "application/javascript": [
       "\n",
       "            setTimeout(function() {\n",
       "                var nbb_cell_id = 27;\n",
       "                var nbb_unformatted_code = \"posterior_samples = inferrer.get_posterior_samples(\\n    inferrer.simulator.simulations[:100], num_samples=5_000\\n)\";\n",
       "                var nbb_formatted_code = \"posterior_samples = inferrer.get_posterior_samples(\\n    inferrer.simulator.simulations[:100], num_samples=5_000\\n)\";\n",
       "                var nbb_cells = Jupyter.notebook.get_cells();\n",
       "                for (var i = 0; i < nbb_cells.length; ++i) {\n",
       "                    if (nbb_cells[i].input_prompt_number == nbb_cell_id) {\n",
       "                        if (nbb_cells[i].get_text() == nbb_unformatted_code) {\n",
       "                             nbb_cells[i].set_text(nbb_formatted_code);\n",
       "                        }\n",
       "                        break;\n",
       "                    }\n",
       "                }\n",
       "            }, 500);\n",
       "            "
      ],
      "text/plain": [
       "<IPython.core.display.Javascript object>"
      ]
     },
     "metadata": {},
     "output_type": "display_data"
    }
   ],
   "source": [
    "posterior_samples = inferrer.get_posterior_samples(\n",
    "    inferrer.simulator.simulations[:100], num_samples=5_000\n",
    ")"
   ]
  },
  {
   "cell_type": "code",
   "execution_count": 28,
   "id": "2cce2127",
   "metadata": {},
   "outputs": [
    {
     "data": {
      "text/plain": [
       "(5000, 100, 3)"
      ]
     },
     "execution_count": 28,
     "metadata": {},
     "output_type": "execute_result"
    },
    {
     "data": {
      "application/javascript": [
       "\n",
       "            setTimeout(function() {\n",
       "                var nbb_cell_id = 28;\n",
       "                var nbb_unformatted_code = \"posterior_samples.shape\";\n",
       "                var nbb_formatted_code = \"posterior_samples.shape\";\n",
       "                var nbb_cells = Jupyter.notebook.get_cells();\n",
       "                for (var i = 0; i < nbb_cells.length; ++i) {\n",
       "                    if (nbb_cells[i].input_prompt_number == nbb_cell_id) {\n",
       "                        if (nbb_cells[i].get_text() == nbb_unformatted_code) {\n",
       "                             nbb_cells[i].set_text(nbb_formatted_code);\n",
       "                        }\n",
       "                        break;\n",
       "                    }\n",
       "                }\n",
       "            }, 500);\n",
       "            "
      ],
      "text/plain": [
       "<IPython.core.display.Javascript object>"
      ]
     },
     "metadata": {},
     "output_type": "display_data"
    }
   ],
   "source": [
    "posterior_samples.shape"
   ]
  },
  {
   "cell_type": "code",
   "execution_count": 31,
   "id": "675a03c3",
   "metadata": {},
   "outputs": [
    {
     "data": {
      "text/plain": [
       "(array([1.540e+02, 4.260e+02, 7.830e+02, 1.178e+03, 1.249e+03, 8.050e+02,\n",
       "        3.530e+02, 4.500e+01, 6.000e+00, 1.000e+00]),\n",
       " array([0.00199869, 0.17221977, 0.34244084, 0.51266192, 0.682883  ,\n",
       "        0.85310407, 1.02332515, 1.19354622, 1.3637673 , 1.53398837,\n",
       "        1.70420945]),\n",
       " <BarContainer object of 10 artists>)"
      ]
     },
     "execution_count": 31,
     "metadata": {},
     "output_type": "execute_result"
    },
    {
     "data": {
      "image/png": "[encoded data removed]",
      "text/plain": [
       "<Figure size 432x288 with 1 Axes>"
      ]
     },
     "metadata": {},
     "output_type": "display_data"
    },
    {
     "data": {
      "application/javascript": [
       "\n",
       "            setTimeout(function() {\n",
       "                var nbb_cell_id = 31;\n",
       "                var nbb_unformatted_code = \"plt.hist(posterior_samples[:, 0, 1])\";\n",
       "                var nbb_formatted_code = \"plt.hist(posterior_samples[:, 0, 1])\";\n",
       "                var nbb_cells = Jupyter.notebook.get_cells();\n",
       "                for (var i = 0; i < nbb_cells.length; ++i) {\n",
       "                    if (nbb_cells[i].input_prompt_number == nbb_cell_id) {\n",
       "                        if (nbb_cells[i].get_text() == nbb_unformatted_code) {\n",
       "                             nbb_cells[i].set_text(nbb_formatted_code);\n",
       "                        }\n",
       "                        break;\n",
       "                    }\n",
       "                }\n",
       "            }, 500);\n",
       "            "
      ],
      "text/plain": [
       "<IPython.core.display.Javascript object>"
      ]
     },
     "metadata": {},
     "output_type": "display_data"
    }
   ],
   "source": [
    "plt.hist(posterior_samples[:, 0, 1])"
   ]
  },
  {
   "cell_type": "code",
   "execution_count": 32,
   "id": "21756fbd",
   "metadata": {},
   "outputs": [
    {
     "data": {
      "text/plain": [
       "(100, 3)"
      ]
     },
     "execution_count": 32,
     "metadata": {},
     "output_type": "execute_result"
    },
    {
     "data": {
      "application/javascript": [
       "\n",
       "            setTimeout(function() {\n",
       "                var nbb_cell_id = 32;\n",
       "                var nbb_unformatted_code = \"means = np.mean(posterior_samples, axis=0)\\nmeans.shape\";\n",
       "                var nbb_formatted_code = \"means = np.mean(posterior_samples, axis=0)\\nmeans.shape\";\n",
       "                var nbb_cells = Jupyter.notebook.get_cells();\n",
       "                for (var i = 0; i < nbb_cells.length; ++i) {\n",
       "                    if (nbb_cells[i].input_prompt_number == nbb_cell_id) {\n",
       "                        if (nbb_cells[i].get_text() == nbb_unformatted_code) {\n",
       "                             nbb_cells[i].set_text(nbb_formatted_code);\n",
       "                        }\n",
       "                        break;\n",
       "                    }\n",
       "                }\n",
       "            }, 500);\n",
       "            "
      ],
      "text/plain": [
       "<IPython.core.display.Javascript object>"
      ]
     },
     "metadata": {},
     "output_type": "display_data"
    }
   ],
   "source": [
    "means = np.mean(posterior_samples, axis=0)\n",
    "means.shape"
   ]
  },
  {
   "cell_type": "code",
   "execution_count": 33,
   "id": "4ec1aaeb",
   "metadata": {},
   "outputs": [
    {
     "data": {
      "text/plain": [
       "(array([14., 12.,  4., 13., 10.,  5.,  1.,  3., 15., 23.]),\n",
       " array([0.29141729, 0.60342383, 0.91543037, 1.22743691, 1.53944345,\n",
       "        1.85144999, 2.16345652, 2.47546306, 2.7874696 , 3.09947614,\n",
       "        3.41148268]),\n",
       " <BarContainer object of 10 artists>)"
      ]
     },
     "execution_count": 33,
     "metadata": {},
     "output_type": "execute_result"
    },
    {
     "data": {
      "image/png": "[encoded data removed]",
      "text/plain": [
       "<Figure size 432x288 with 1 Axes>"
      ]
     },
     "metadata": {},
     "output_type": "display_data"
    },
    {
     "data": {
      "application/javascript": [
       "\n",
       "            setTimeout(function() {\n",
       "                var nbb_cell_id = 33;\n",
       "                var nbb_unformatted_code = \"plt.hist(means[:, 0])\";\n",
       "                var nbb_formatted_code = \"plt.hist(means[:, 0])\";\n",
       "                var nbb_cells = Jupyter.notebook.get_cells();\n",
       "                for (var i = 0; i < nbb_cells.length; ++i) {\n",
       "                    if (nbb_cells[i].input_prompt_number == nbb_cell_id) {\n",
       "                        if (nbb_cells[i].get_text() == nbb_unformatted_code) {\n",
       "                             nbb_cells[i].set_text(nbb_formatted_code);\n",
       "                        }\n",
       "                        break;\n",
       "                    }\n",
       "                }\n",
       "            }, 500);\n",
       "            "
      ],
      "text/plain": [
       "<IPython.core.display.Javascript object>"
      ]
     },
     "metadata": {},
     "output_type": "display_data"
    }
   ],
   "source": [
    "plt.hist(means[:, 0])"
   ]
  },
  {
   "cell_type": "code",
   "execution_count": 34,
   "id": "8dc25a9a",
   "metadata": {},
   "outputs": [
    {
     "data": {
      "text/plain": [
       "(array([13., 16.,  7.,  9., 12.,  5.,  6.,  1., 11., 20.]),\n",
       " array([0.12679105, 0.47867961, 0.83056817, 1.18245672, 1.53434528,\n",
       "        1.88623384, 2.2381224 , 2.59001095, 2.94189951, 3.29378807,\n",
       "        3.64567662]),\n",
       " <BarContainer object of 10 artists>)"
      ]
     },
     "execution_count": 34,
     "metadata": {},
     "output_type": "execute_result"
    },
    {
     "data": {
      "image/png": "[encoded data removed]",
      "text/plain": [
       "<Figure size 432x288 with 1 Axes>"
      ]
     },
     "metadata": {},
     "output_type": "display_data"
    },
    {
     "data": {
      "application/javascript": [
       "\n",
       "            setTimeout(function() {\n",
       "                var nbb_cell_id = 34;\n",
       "                var nbb_unformatted_code = \"plt.hist(means[:, 1])\";\n",
       "                var nbb_formatted_code = \"plt.hist(means[:, 1])\";\n",
       "                var nbb_cells = Jupyter.notebook.get_cells();\n",
       "                for (var i = 0; i < nbb_cells.length; ++i) {\n",
       "                    if (nbb_cells[i].input_prompt_number == nbb_cell_id) {\n",
       "                        if (nbb_cells[i].get_text() == nbb_unformatted_code) {\n",
       "                             nbb_cells[i].set_text(nbb_formatted_code);\n",
       "                        }\n",
       "                        break;\n",
       "                    }\n",
       "                }\n",
       "            }, 500);\n",
       "            "
      ],
      "text/plain": [
       "<IPython.core.display.Javascript object>"
      ]
     },
     "metadata": {},
     "output_type": "display_data"
    }
   ],
   "source": [
    "plt.hist(means[:, 1])"
   ]
  },
  {
   "cell_type": "code",
   "execution_count": 35,
   "id": "39eb903a",
   "metadata": {},
   "outputs": [
    {
     "data": {
      "text/plain": [
       "(array([10., 10.,  8.,  9., 10.,  7., 12., 12., 12., 10.]),\n",
       " array([0.02667029, 0.12184837, 0.21702645, 0.31220453, 0.40738261,\n",
       "        0.50256068, 0.59773876, 0.69291684, 0.78809492, 0.883273  ,\n",
       "        0.97845107]),\n",
       " <BarContainer object of 10 artists>)"
      ]
     },
     "execution_count": 35,
     "metadata": {},
     "output_type": "execute_result"
    },
    {
     "data": {
      "image/png": "[encoded data removed]",
      "text/plain": [
       "<Figure size 432x288 with 1 Axes>"
      ]
     },
     "metadata": {},
     "output_type": "display_data"
    },
    {
     "data": {
      "application/javascript": [
       "\n",
       "            setTimeout(function() {\n",
       "                var nbb_cell_id = 35;\n",
       "                var nbb_unformatted_code = \"plt.hist(means[:, 2])\";\n",
       "                var nbb_formatted_code = \"plt.hist(means[:, 2])\";\n",
       "                var nbb_cells = Jupyter.notebook.get_cells();\n",
       "                for (var i = 0; i < nbb_cells.length; ++i) {\n",
       "                    if (nbb_cells[i].input_prompt_number == nbb_cell_id) {\n",
       "                        if (nbb_cells[i].get_text() == nbb_unformatted_code) {\n",
       "                             nbb_cells[i].set_text(nbb_formatted_code);\n",
       "                        }\n",
       "                        break;\n",
       "                    }\n",
       "                }\n",
       "            }, 500);\n",
       "            "
      ],
      "text/plain": [
       "<IPython.core.display.Javascript object>"
      ]
     },
     "metadata": {},
     "output_type": "display_data"
    }
   ],
   "source": [
    "plt.hist(means[:, 2])"
   ]
  },
  {
   "cell_type": "code",
   "execution_count": 36,
   "id": "441bc02c",
   "metadata": {},
   "outputs": [
    {
     "data": {
      "text/plain": [
       "['__class__',\n",
       " '__delattr__',\n",
       " '__dict__',\n",
       " '__dir__',\n",
       " '__doc__',\n",
       " '__eq__',\n",
       " '__format__',\n",
       " '__ge__',\n",
       " '__getattribute__',\n",
       " '__gt__',\n",
       " '__hash__',\n",
       " '__init__',\n",
       " '__init_subclass__',\n",
       " '__le__',\n",
       " '__lt__',\n",
       " '__module__',\n",
       " '__ne__',\n",
       " '__new__',\n",
       " '__reduce__',\n",
       " '__reduce_ex__',\n",
       " '__repr__',\n",
       " '__setattr__',\n",
       " '__sizeof__',\n",
       " '__str__',\n",
       " '__subclasshook__',\n",
       " '__weakref__',\n",
       " 'choose_herding_parameter',\n",
       " 'consideration_set_size',\n",
       " 'convolve_prior_with_existing_reviews',\n",
       " 'decision_to_leave_review',\n",
       " 'generate_simulation_parameters',\n",
       " 'get_actual_experience',\n",
       " 'herding',\n",
       " 'load_embedding_density_estimators',\n",
       " 'load_embedding_rating_predictor',\n",
       " 'load_simulator',\n",
       " 'min_reviews_for_herding',\n",
       " 'mismatch_calculator',\n",
       " 'multinomial_choice',\n",
       " 'num_products',\n",
       " 'num_total_marketplace_reviews',\n",
       " 'params',\n",
       " 'predict_ratings_from_embeddings',\n",
       " 'previous_rating_measure',\n",
       " 'rating_calculator',\n",
       " 'review_prior',\n",
       " 'save_simulations',\n",
       " 'simulate',\n",
       " 'simulate_marketplace',\n",
       " 'simulate_review_histogram',\n",
       " 'simulate_visitor_choice',\n",
       " 'simulate_visitor_journey',\n",
       " 'simulation_parameters',\n",
       " 'simulation_type',\n",
       " 'simulations',\n",
       " 'tendency_to_rate']"
      ]
     },
     "execution_count": 36,
     "metadata": {},
     "output_type": "execute_result"
    },
    {
     "data": {
      "application/javascript": [
       "\n",
       "            setTimeout(function() {\n",
       "                var nbb_cell_id = 36;\n",
       "                var nbb_unformatted_code = \"dir(inferrer.simulator)\";\n",
       "                var nbb_formatted_code = \"dir(inferrer.simulator)\";\n",
       "                var nbb_cells = Jupyter.notebook.get_cells();\n",
       "                for (var i = 0; i < nbb_cells.length; ++i) {\n",
       "                    if (nbb_cells[i].input_prompt_number == nbb_cell_id) {\n",
       "                        if (nbb_cells[i].get_text() == nbb_unformatted_code) {\n",
       "                             nbb_cells[i].set_text(nbb_formatted_code);\n",
       "                        }\n",
       "                        break;\n",
       "                    }\n",
       "                }\n",
       "            }, 500);\n",
       "            "
      ],
      "text/plain": [
       "<IPython.core.display.Javascript object>"
      ]
     },
     "metadata": {},
     "output_type": "display_data"
    }
   ],
   "source": [
    "dir(inferrer.simulator)"
   ]
  },
  {
   "cell_type": "code",
   "execution_count": 39,
   "id": "a20fb315",
   "metadata": {},
   "outputs": [
    {
     "data": {
      "text/plain": [
       "(22400, 2)"
      ]
     },
     "execution_count": 39,
     "metadata": {},
     "output_type": "execute_result"
    },
    {
     "data": {
      "application/javascript": [
       "\n",
       "            setTimeout(function() {\n",
       "                var nbb_cell_id = 39;\n",
       "                var nbb_unformatted_code = \"inferrer.simulator.simulation_parameters[\\\"rho\\\"].shape\";\n",
       "                var nbb_formatted_code = \"inferrer.simulator.simulation_parameters[\\\"rho\\\"].shape\";\n",
       "                var nbb_cells = Jupyter.notebook.get_cells();\n",
       "                for (var i = 0; i < nbb_cells.length; ++i) {\n",
       "                    if (nbb_cells[i].input_prompt_number == nbb_cell_id) {\n",
       "                        if (nbb_cells[i].get_text() == nbb_unformatted_code) {\n",
       "                             nbb_cells[i].set_text(nbb_formatted_code);\n",
       "                        }\n",
       "                        break;\n",
       "                    }\n",
       "                }\n",
       "            }, 500);\n",
       "            "
      ],
      "text/plain": [
       "<IPython.core.display.Javascript object>"
      ]
     },
     "metadata": {},
     "output_type": "display_data"
    }
   ],
   "source": [
    "inferrer.simulator.simulation_parameters[\"rho\"].shape"
   ]
  },
  {
   "cell_type": "code",
   "execution_count": 44,
   "id": "d8a5a40f",
   "metadata": {},
   "outputs": [
    {
     "data": {
      "text/plain": [
       "(array([2253., 2281., 2251., 2228., 2256., 2277., 2205., 2250., 2139.,\n",
       "        2260.]),\n",
       " array([6.98488688e-05, 4.00044719e-01, 8.00019590e-01, 1.19999446e+00,\n",
       "        1.59996933e+00, 1.99994420e+00, 2.39991907e+00, 2.79989394e+00,\n",
       "        3.19986881e+00, 3.59984368e+00, 3.99981855e+00]),\n",
       " <BarContainer object of 10 artists>)"
      ]
     },
     "execution_count": 44,
     "metadata": {},
     "output_type": "execute_result"
    },
    {
     "data": {
      "image/png": "[encoded data removed]",
      "text/plain": [
       "<Figure size 432x288 with 1 Axes>"
      ]
     },
     "metadata": {},
     "output_type": "display_data"
    },
    {
     "data": {
      "application/javascript": [
       "\n",
       "            setTimeout(function() {\n",
       "                var nbb_cell_id = 44;\n",
       "                var nbb_unformatted_code = \"plt.hist(inferrer.simulator.simulation_parameters[\\\"rho\\\"][:, 0])\";\n",
       "                var nbb_formatted_code = \"plt.hist(inferrer.simulator.simulation_parameters[\\\"rho\\\"][:, 0])\";\n",
       "                var nbb_cells = Jupyter.notebook.get_cells();\n",
       "                for (var i = 0; i < nbb_cells.length; ++i) {\n",
       "                    if (nbb_cells[i].input_prompt_number == nbb_cell_id) {\n",
       "                        if (nbb_cells[i].get_text() == nbb_unformatted_code) {\n",
       "                             nbb_cells[i].set_text(nbb_formatted_code);\n",
       "                        }\n",
       "                        break;\n",
       "                    }\n",
       "                }\n",
       "            }, 500);\n",
       "            "
      ],
      "text/plain": [
       "<IPython.core.display.Javascript object>"
      ]
     },
     "metadata": {},
     "output_type": "display_data"
    }
   ],
   "source": [
    "plt.hist(inferrer.simulator.simulation_parameters[\"rho\"][:, 0])"
   ]
  },
  {
   "cell_type": "code",
   "execution_count": 43,
   "id": "759b7e19",
   "metadata": {},
   "outputs": [
    {
     "data": {
      "text/plain": [
       "(array([2228., 2229., 2320., 2245., 2258., 2221., 2241., 2242., 2193.,\n",
       "        2223.]),\n",
       " array([1.94146358e-05, 9.99999814e-02, 1.99980548e-01, 2.99961115e-01,\n",
       "        3.99941682e-01, 4.99922248e-01, 5.99902815e-01, 6.99883382e-01,\n",
       "        7.99863949e-01, 8.99844515e-01, 9.99825082e-01]),\n",
       " <BarContainer object of 10 artists>)"
      ]
     },
     "execution_count": 43,
     "metadata": {},
     "output_type": "execute_result"
    },
    {
     "data": {
      "image/png": "[encoded data removed]",
      "text/plain": [
       "<Figure size 432x288 with 1 Axes>"
      ]
     },
     "metadata": {},
     "output_type": "display_data"
    },
    {
     "data": {
      "application/javascript": [
       "\n",
       "            setTimeout(function() {\n",
       "                var nbb_cell_id = 43;\n",
       "                var nbb_unformatted_code = \"plt.hist(inferrer.simulator.simulation_parameters[\\\"h_p\\\"])\";\n",
       "                var nbb_formatted_code = \"plt.hist(inferrer.simulator.simulation_parameters[\\\"h_p\\\"])\";\n",
       "                var nbb_cells = Jupyter.notebook.get_cells();\n",
       "                for (var i = 0; i < nbb_cells.length; ++i) {\n",
       "                    if (nbb_cells[i].input_prompt_number == nbb_cell_id) {\n",
       "                        if (nbb_cells[i].get_text() == nbb_unformatted_code) {\n",
       "                             nbb_cells[i].set_text(nbb_formatted_code);\n",
       "                        }\n",
       "                        break;\n",
       "                    }\n",
       "                }\n",
       "            }, 500);\n",
       "            "
      ],
      "text/plain": [
       "<IPython.core.display.Javascript object>"
      ]
     },
     "metadata": {},
     "output_type": "display_data"
    }
   ],
   "source": [
    "plt.hist(inferrer.simulator.simulation_parameters[\"h_p\"])"
   ]
  },
  {
   "cell_type": "code",
   "execution_count": 45,
   "id": "5ee18403",
   "metadata": {},
   "outputs": [
    {
     "data": {
      "application/javascript": [
       "\n",
       "            setTimeout(function() {\n",
       "                var nbb_cell_id = 45;\n",
       "                var nbb_unformatted_code = \"diff = []\\nfor i, mean in enumerate(means):\\n    diff.append(np.abs(mean[0] - inferrer.simulator.simulation_parameters[\\\"rho\\\"][i, 0]))\";\n",
       "                var nbb_formatted_code = \"diff = []\\nfor i, mean in enumerate(means):\\n    diff.append(np.abs(mean[0] - inferrer.simulator.simulation_parameters[\\\"rho\\\"][i, 0]))\";\n",
       "                var nbb_cells = Jupyter.notebook.get_cells();\n",
       "                for (var i = 0; i < nbb_cells.length; ++i) {\n",
       "                    if (nbb_cells[i].input_prompt_number == nbb_cell_id) {\n",
       "                        if (nbb_cells[i].get_text() == nbb_unformatted_code) {\n",
       "                             nbb_cells[i].set_text(nbb_formatted_code);\n",
       "                        }\n",
       "                        break;\n",
       "                    }\n",
       "                }\n",
       "            }, 500);\n",
       "            "
      ],
      "text/plain": [
       "<IPython.core.display.Javascript object>"
      ]
     },
     "metadata": {},
     "output_type": "display_data"
    }
   ],
   "source": [
    "diff = []\n",
    "for i, mean in enumerate(means):\n",
    "    diff.append(np.abs(mean[0] - inferrer.simulator.simulation_parameters[\"rho\"][i, 0]))"
   ]
  },
  {
   "cell_type": "code",
   "execution_count": 47,
   "id": "3c219ff8",
   "metadata": {},
   "outputs": [
    {
     "data": {
      "text/plain": [
       "(array([26., 20., 12., 12.,  6., 11.,  3.,  6.,  2.,  2.]),\n",
       " array([0.0035864 , 0.0994632 , 0.19534   , 0.2912168 , 0.38709361,\n",
       "        0.48297041, 0.57884721, 0.67472401, 0.77060082, 0.86647762,\n",
       "        0.96235442]),\n",
       " <BarContainer object of 10 artists>)"
      ]
     },
     "execution_count": 47,
     "metadata": {},
     "output_type": "execute_result"
    },
    {
     "data": {
      "image/png": "[encoded data removed]",
      "text/plain": [
       "<Figure size 432x288 with 1 Axes>"
      ]
     },
     "metadata": {},
     "output_type": "display_data"
    },
    {
     "data": {
      "application/javascript": [
       "\n",
       "            setTimeout(function() {\n",
       "                var nbb_cell_id = 47;\n",
       "                var nbb_unformatted_code = \"plt.hist(diff)\";\n",
       "                var nbb_formatted_code = \"plt.hist(diff)\";\n",
       "                var nbb_cells = Jupyter.notebook.get_cells();\n",
       "                for (var i = 0; i < nbb_cells.length; ++i) {\n",
       "                    if (nbb_cells[i].input_prompt_number == nbb_cell_id) {\n",
       "                        if (nbb_cells[i].get_text() == nbb_unformatted_code) {\n",
       "                             nbb_cells[i].set_text(nbb_formatted_code);\n",
       "                        }\n",
       "                        break;\n",
       "                    }\n",
       "                }\n",
       "            }, 500);\n",
       "            "
      ],
      "text/plain": [
       "<IPython.core.display.Javascript object>"
      ]
     },
     "metadata": {},
     "output_type": "display_data"
    }
   ],
   "source": [
    "plt.hist(diff)"
   ]
  },
  {
   "cell_type": "code",
   "execution_count": 51,
   "id": "557c2057",
   "metadata": {},
   "outputs": [
    {
     "data": {
      "text/plain": [
       "<matplotlib.lines.Line2D at 0x7f76361f54d0>"
      ]
     },
     "execution_count": 51,
     "metadata": {},
     "output_type": "execute_result"
    },
    {
     "data": {
      "image/png": "[encoded data removed]",
      "text/plain": [
       "<Figure size 432x288 with 1 Axes>"
      ]
     },
     "metadata": {},
     "output_type": "display_data"
    },
    {
     "data": {
      "application/javascript": [
       "\n",
       "            setTimeout(function() {\n",
       "                var nbb_cell_id = 51;\n",
       "                var nbb_unformatted_code = \"plt.hist(posterior_samples[:, 45, 2])\\nplt.axvline(x=inferrer.simulator.simulation_parameters[\\\"h_p\\\"][45])\";\n",
       "                var nbb_formatted_code = \"plt.hist(posterior_samples[:, 45, 2])\\nplt.axvline(x=inferrer.simulator.simulation_parameters[\\\"h_p\\\"][45])\";\n",
       "                var nbb_cells = Jupyter.notebook.get_cells();\n",
       "                for (var i = 0; i < nbb_cells.length; ++i) {\n",
       "                    if (nbb_cells[i].input_prompt_number == nbb_cell_id) {\n",
       "                        if (nbb_cells[i].get_text() == nbb_unformatted_code) {\n",
       "                             nbb_cells[i].set_text(nbb_formatted_code);\n",
       "                        }\n",
       "                        break;\n",
       "                    }\n",
       "                }\n",
       "            }, 500);\n",
       "            "
      ],
      "text/plain": [
       "<IPython.core.display.Javascript object>"
      ]
     },
     "metadata": {},
     "output_type": "display_data"
    }
   ],
   "source": [
    "plt.hist(posterior_samples[:, 45, 2])\n",
    "plt.axvline(x=inferrer.simulator.simulation_parameters[\"h_p\"][45])"
   ]
  },
  {
   "cell_type": "code",
   "execution_count": 52,
   "id": "e0033f1a",
   "metadata": {},
   "outputs": [
    {
     "data": {
      "text/plain": [
       "<matplotlib.lines.Line2D at 0x7f76361b8650>"
      ]
     },
     "execution_count": 52,
     "metadata": {},
     "output_type": "execute_result"
    },
    {
     "data": {
      "image/png": "[encoded data removed]",
      "text/plain": [
       "<Figure size 432x288 with 1 Axes>"
      ]
     },
     "metadata": {},
     "output_type": "display_data"
    },
    {
     "data": {
      "application/javascript": [
       "\n",
       "            setTimeout(function() {\n",
       "                var nbb_cell_id = 52;\n",
       "                var nbb_unformatted_code = \"plt.hist(posterior_samples[:, 95, 1])\\nplt.axvline(x=inferrer.simulator.simulation_parameters[\\\"rho\\\"][95, 1])\";\n",
       "                var nbb_formatted_code = \"plt.hist(posterior_samples[:, 95, 1])\\nplt.axvline(x=inferrer.simulator.simulation_parameters[\\\"rho\\\"][95, 1])\";\n",
       "                var nbb_cells = Jupyter.notebook.get_cells();\n",
       "                for (var i = 0; i < nbb_cells.length; ++i) {\n",
       "                    if (nbb_cells[i].input_prompt_number == nbb_cell_id) {\n",
       "                        if (nbb_cells[i].get_text() == nbb_unformatted_code) {\n",
       "                             nbb_cells[i].set_text(nbb_formatted_code);\n",
       "                        }\n",
       "                        break;\n",
       "                    }\n",
       "                }\n",
       "            }, 500);\n",
       "            "
      ],
      "text/plain": [
       "<IPython.core.display.Javascript object>"
      ]
     },
     "metadata": {},
     "output_type": "display_data"
    }
   ],
   "source": [
    "plt.hist(posterior_samples[:, 95, 1])\n",
    "plt.axvline(x=inferrer.simulator.simulation_parameters[\"rho\"][95, 1])"
   ]
  },
  {
   "cell_type": "code",
   "execution_count": null,
   "id": "88f218d8",
   "metadata": {},
   "outputs": [],
   "source": []
  }
 ],
 "metadata": {
  "kernelspec": {
   "display_name": "Python 3 (ipykernel)",
   "language": "python",
   "name": "python3"
  },
  "language_info": {
   "codemirror_mode": {
    "name": "ipython",
    "version": 3
   },
   "file_extension": ".py",
   "mimetype": "text/x-python",
   "name": "python",
   "nbconvert_exporter": "python",
   "pygments_lexer": "ipython3",
   "version": "3.9.7"
  }
 },
 "nbformat": 4,
 "nbformat_minor": 5
}
