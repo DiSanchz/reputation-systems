{
 "cells": [
  {
   "cell_type": "raw",
   "id": "51d00e1a",
   "metadata": {},
   "source": []
  },
  {
   "cell_type": "markdown",
   "id": "96879790",
   "metadata": {},
   "source": [
    "# This notebook is for use on cloud services where interactive use of matplotlib is hard. A script similar to this notebook is in in: snpe/marketplace_simulator_analysis.py"
   ]
  },
  {
   "cell_type": "code",
   "execution_count": 1,
   "id": "d2095d65",
   "metadata": {},
   "outputs": [],
   "source": [
    "%load_ext autoreload\n",
    "%autoreload 2"
   ]
  },
  {
   "cell_type": "code",
   "execution_count": 2,
   "id": "14912a32",
   "metadata": {},
   "outputs": [
    {
     "data": {
      "application/javascript": [
       "\n",
       "            setTimeout(function() {\n",
       "                var nbb_cell_id = 2;\n",
       "                var nbb_unformatted_code = \"# Just a formatting related plugin\\n%load_ext nb_black\";\n",
       "                var nbb_formatted_code = \"# Just a formatting related plugin\\n%load_ext nb_black\";\n",
       "                var nbb_cells = Jupyter.notebook.get_cells();\n",
       "                for (var i = 0; i < nbb_cells.length; ++i) {\n",
       "                    if (nbb_cells[i].input_prompt_number == nbb_cell_id) {\n",
       "                        if (nbb_cells[i].get_text() == nbb_unformatted_code) {\n",
       "                             nbb_cells[i].set_text(nbb_formatted_code);\n",
       "                        }\n",
       "                        break;\n",
       "                    }\n",
       "                }\n",
       "            }, 500);\n",
       "            "
      ],
      "text/plain": [
       "<IPython.core.display.Javascript object>"
      ]
     },
     "metadata": {},
     "output_type": "display_data"
    }
   ],
   "source": [
    "# Just a formatting related plugin\n",
    "%load_ext nb_black"
   ]
  },
  {
   "cell_type": "code",
   "execution_count": 3,
   "id": "93ff67e7",
   "metadata": {},
   "outputs": [
    {
     "data": {
      "application/javascript": [
       "\n",
       "            setTimeout(function() {\n",
       "                var nbb_cell_id = 3;\n",
       "                var nbb_unformatted_code = \"%matplotlib inline\\nimport matplotlib.pyplot as plt\";\n",
       "                var nbb_formatted_code = \"%matplotlib inline\\nimport matplotlib.pyplot as plt\";\n",
       "                var nbb_cells = Jupyter.notebook.get_cells();\n",
       "                for (var i = 0; i < nbb_cells.length; ++i) {\n",
       "                    if (nbb_cells[i].input_prompt_number == nbb_cell_id) {\n",
       "                        if (nbb_cells[i].get_text() == nbb_unformatted_code) {\n",
       "                             nbb_cells[i].set_text(nbb_formatted_code);\n",
       "                        }\n",
       "                        break;\n",
       "                    }\n",
       "                }\n",
       "            }, 500);\n",
       "            "
      ],
      "text/plain": [
       "<IPython.core.display.Javascript object>"
      ]
     },
     "metadata": {},
     "output_type": "display_data"
    }
   ],
   "source": [
    "%matplotlib inline\n",
    "import matplotlib.pyplot as plt"
   ]
  },
  {
   "cell_type": "code",
   "execution_count": 4,
   "id": "6c45ecfb",
   "metadata": {},
   "outputs": [
    {
     "data": {
      "application/javascript": [
       "\n",
       "            setTimeout(function() {\n",
       "                var nbb_cell_id = 4;\n",
       "                var nbb_unformatted_code = \"import sys\\n\\nsys.path.append(\\\"../\\\")\";\n",
       "                var nbb_formatted_code = \"import sys\\n\\nsys.path.append(\\\"../\\\")\";\n",
       "                var nbb_cells = Jupyter.notebook.get_cells();\n",
       "                for (var i = 0; i < nbb_cells.length; ++i) {\n",
       "                    if (nbb_cells[i].input_prompt_number == nbb_cell_id) {\n",
       "                        if (nbb_cells[i].get_text() == nbb_unformatted_code) {\n",
       "                             nbb_cells[i].set_text(nbb_formatted_code);\n",
       "                        }\n",
       "                        break;\n",
       "                    }\n",
       "                }\n",
       "            }, 500);\n",
       "            "
      ],
      "text/plain": [
       "<IPython.core.display.Javascript object>"
      ]
     },
     "metadata": {},
     "output_type": "display_data"
    }
   ],
   "source": [
    "import sys\n",
    "\n",
    "sys.path.append(\"../\")"
   ]
  },
  {
   "cell_type": "code",
   "execution_count": 5,
   "id": "6a5b57e5",
   "metadata": {},
   "outputs": [
    {
     "data": {
      "application/javascript": [
       "\n",
       "            setTimeout(function() {\n",
       "                var nbb_cell_id = 5;\n",
       "                var nbb_unformatted_code = \"import multiprocessing as mp\\n\\nfrom collections import deque\\nfrom pathlib import Path\\nfrom typing import Dict, Optional\\n\\nimport arviz\\n\\nimport numpy as np\\nimport pandas as pd\\nimport pyreadr\\nimport sbi\\nimport sbi.utils as sbi_utils\\nimport seaborn as sns\\nimport statsmodels.formula.api as smf\\nimport torch\\n\\nfrom joblib import Parallel, delayed\\nfrom matplotlib.lines import Line2D\\nfrom scipy.stats import ttest_ind\\nfrom snpe.inference import inference_class\\nfrom snpe.simulations import simulator_class\\nfrom snpe.utils.statistics import review_histogram_correlation\\nfrom snpe.utils.tqdm_utils import tqdm_joblib\\nfrom tqdm import tqdm\\n\\n# Set plotting parameters\\nsns.set(style=\\\"white\\\", context=\\\"talk\\\", font_scale=2.5)\\nsns.set_color_codes(palette=\\\"colorblind\\\")\\nsns.set_style(\\\"ticks\\\", {\\\"axes.linewidth\\\": 2.0})\";\n",
       "                var nbb_formatted_code = \"import multiprocessing as mp\\n\\nfrom collections import deque\\nfrom pathlib import Path\\nfrom typing import Dict, Optional\\n\\nimport arviz\\n\\nimport numpy as np\\nimport pandas as pd\\nimport pyreadr\\nimport sbi\\nimport sbi.utils as sbi_utils\\nimport seaborn as sns\\nimport statsmodels.formula.api as smf\\nimport torch\\n\\nfrom joblib import Parallel, delayed\\nfrom matplotlib.lines import Line2D\\nfrom scipy.stats import ttest_ind\\nfrom snpe.inference import inference_class\\nfrom snpe.simulations import simulator_class\\nfrom snpe.utils.statistics import review_histogram_correlation\\nfrom snpe.utils.tqdm_utils import tqdm_joblib\\nfrom tqdm import tqdm\\n\\n# Set plotting parameters\\nsns.set(style=\\\"white\\\", context=\\\"talk\\\", font_scale=2.5)\\nsns.set_color_codes(palette=\\\"colorblind\\\")\\nsns.set_style(\\\"ticks\\\", {\\\"axes.linewidth\\\": 2.0})\";\n",
       "                var nbb_cells = Jupyter.notebook.get_cells();\n",
       "                for (var i = 0; i < nbb_cells.length; ++i) {\n",
       "                    if (nbb_cells[i].input_prompt_number == nbb_cell_id) {\n",
       "                        if (nbb_cells[i].get_text() == nbb_unformatted_code) {\n",
       "                             nbb_cells[i].set_text(nbb_formatted_code);\n",
       "                        }\n",
       "                        break;\n",
       "                    }\n",
       "                }\n",
       "            }, 500);\n",
       "            "
      ],
      "text/plain": [
       "<IPython.core.display.Javascript object>"
      ]
     },
     "metadata": {},
     "output_type": "display_data"
    }
   ],
   "source": [
    "import multiprocessing as mp\n",
    "\n",
    "from collections import deque\n",
    "from pathlib import Path\n",
    "from typing import Dict, Optional\n",
    "\n",
    "import arviz\n",
    "\n",
    "import numpy as np\n",
    "import pandas as pd\n",
    "import pyreadr\n",
    "import sbi\n",
    "import sbi.utils as sbi_utils\n",
    "import seaborn as sns\n",
    "import statsmodels.formula.api as smf\n",
    "import torch\n",
    "\n",
    "from joblib import Parallel, delayed\n",
    "from matplotlib.lines import Line2D\n",
    "from scipy.stats import ttest_ind\n",
    "from snpe.inference import inference_class\n",
    "from snpe.simulations import simulator_class\n",
    "from snpe.utils.statistics import review_histogram_correlation\n",
    "from snpe.utils.tqdm_utils import tqdm_joblib\n",
    "from tqdm import tqdm\n",
    "\n",
    "# Set plotting parameters\n",
    "sns.set(style=\"white\", context=\"talk\", font_scale=2.5)\n",
    "sns.set_color_codes(palette=\"colorblind\")\n",
    "sns.set_style(\"ticks\", {\"axes.linewidth\": 2.0})"
   ]
  },
  {
   "cell_type": "code",
   "execution_count": 6,
   "id": "cd004dff",
   "metadata": {},
   "outputs": [
    {
     "data": {
      "application/javascript": [
       "\n",
       "            setTimeout(function() {\n",
       "                var nbb_cell_id = 6;\n",
       "                var nbb_unformatted_code = \"# ARTIFACT_PATH = Path(\\\"../../../gcs_mount/artifacts/marketplace\\\")\\nARTIFACT_PATH = Path(\\\"/data/reputation-systems/snpe/artifacts/marketplace\\\")\";\n",
       "                var nbb_formatted_code = \"# ARTIFACT_PATH = Path(\\\"../../../gcs_mount/artifacts/marketplace\\\")\\nARTIFACT_PATH = Path(\\\"/data/reputation-systems/snpe/artifacts/marketplace\\\")\";\n",
       "                var nbb_cells = Jupyter.notebook.get_cells();\n",
       "                for (var i = 0; i < nbb_cells.length; ++i) {\n",
       "                    if (nbb_cells[i].input_prompt_number == nbb_cell_id) {\n",
       "                        if (nbb_cells[i].get_text() == nbb_unformatted_code) {\n",
       "                             nbb_cells[i].set_text(nbb_formatted_code);\n",
       "                        }\n",
       "                        break;\n",
       "                    }\n",
       "                }\n",
       "            }, 500);\n",
       "            "
      ],
      "text/plain": [
       "<IPython.core.display.Javascript object>"
      ]
     },
     "metadata": {},
     "output_type": "display_data"
    }
   ],
   "source": [
    "# ARTIFACT_PATH = Path(\"../../../gcs_mount/artifacts/marketplace\")\n",
    "ARTIFACT_PATH = Path(\"/data/reputation-systems/snpe/artifacts/marketplace\")"
   ]
  },
  {
   "cell_type": "markdown",
   "id": "9573d550",
   "metadata": {},
   "source": [
    "# Functions"
   ]
  },
  {
   "cell_type": "code",
   "execution_count": 7,
   "id": "28e1af35",
   "metadata": {},
   "outputs": [
    {
     "data": {
      "application/javascript": [
       "\n",
       "            setTimeout(function() {\n",
       "                var nbb_cell_id = 7;\n",
       "                var nbb_unformatted_code = \"def generate_and_save_simulations(\\n    num_simulations: int,\\n    review_prior: np.array,\\n    tendency_to_rate: float,\\n    simulation_type: str,\\n    previous_rating_measure: str,\\n    min_reviews_for_herding: int,\\n    herding_differentiating_measure: str,\\n) -> None:\\n    params = {\\n        \\\"review_prior\\\": review_prior,\\n        \\\"tendency_to_rate\\\": tendency_to_rate,\\n        \\\"simulation_type\\\": simulation_type,\\n        \\\"previous_rating_measure\\\": previous_rating_measure,\\n        \\\"min_reviews_for_herding\\\": min_reviews_for_herding,\\n        \\\"herding_differentiating_measure\\\": herding_differentiating_measure,\\n    }\\n    simulator = simulator_class.DoubleHerdingSimulator(params)\\n    simulator.simulate(num_simulations=num_simulations)\\n    simulator.save_simulations(ARTIFACT_PATH)\";\n",
       "                var nbb_formatted_code = \"def generate_and_save_simulations(\\n    num_simulations: int,\\n    review_prior: np.array,\\n    tendency_to_rate: float,\\n    simulation_type: str,\\n    previous_rating_measure: str,\\n    min_reviews_for_herding: int,\\n    herding_differentiating_measure: str,\\n) -> None:\\n    params = {\\n        \\\"review_prior\\\": review_prior,\\n        \\\"tendency_to_rate\\\": tendency_to_rate,\\n        \\\"simulation_type\\\": simulation_type,\\n        \\\"previous_rating_measure\\\": previous_rating_measure,\\n        \\\"min_reviews_for_herding\\\": min_reviews_for_herding,\\n        \\\"herding_differentiating_measure\\\": herding_differentiating_measure,\\n    }\\n    simulator = simulator_class.DoubleHerdingSimulator(params)\\n    simulator.simulate(num_simulations=num_simulations)\\n    simulator.save_simulations(ARTIFACT_PATH)\";\n",
       "                var nbb_cells = Jupyter.notebook.get_cells();\n",
       "                for (var i = 0; i < nbb_cells.length; ++i) {\n",
       "                    if (nbb_cells[i].input_prompt_number == nbb_cell_id) {\n",
       "                        if (nbb_cells[i].get_text() == nbb_unformatted_code) {\n",
       "                             nbb_cells[i].set_text(nbb_formatted_code);\n",
       "                        }\n",
       "                        break;\n",
       "                    }\n",
       "                }\n",
       "            }, 500);\n",
       "            "
      ],
      "text/plain": [
       "<IPython.core.display.Javascript object>"
      ]
     },
     "metadata": {},
     "output_type": "display_data"
    }
   ],
   "source": [
    "def generate_and_save_simulations(\n",
    "    num_simulations: int,\n",
    "    review_prior: np.array,\n",
    "    tendency_to_rate: float,\n",
    "    simulation_type: str,\n",
    "    previous_rating_measure: str,\n",
    "    min_reviews_for_herding: int,\n",
    "    herding_differentiating_measure: str,\n",
    ") -> None:\n",
    "    params = {\n",
    "        \"review_prior\": review_prior,\n",
    "        \"tendency_to_rate\": tendency_to_rate,\n",
    "        \"simulation_type\": simulation_type,\n",
    "        \"previous_rating_measure\": previous_rating_measure,\n",
    "        \"min_reviews_for_herding\": min_reviews_for_herding,\n",
    "        \"herding_differentiating_measure\": herding_differentiating_measure,\n",
    "    }\n",
    "    simulator = simulator_class.DoubleHerdingSimulator(params)\n",
    "    simulator.simulate(num_simulations=num_simulations)\n",
    "    simulator.save_simulations(ARTIFACT_PATH)"
   ]
  },
  {
   "cell_type": "code",
   "execution_count": 8,
   "id": "36374aba",
   "metadata": {},
   "outputs": [
    {
     "data": {
      "application/javascript": [
       "\n",
       "            setTimeout(function() {\n",
       "                var nbb_cell_id = 8;\n",
       "                var nbb_unformatted_code = \"def infer_and_save_posterior(\\n    device: str, simulator_type: str, simulation_type: str, params: Dict\\n) -> None:\\n    parameter_prior = sbi_utils.BoxUniform(\\n        low=torch.tensor([0.0, 0.0, 0.0]).type(torch.FloatTensor),\\n        high=torch.tensor([4.0, 4.0, 1.0]).type(torch.FloatTensor),\\n        device=device,\\n    )\\n    inferrer = inference_class.TimeSeriesInference(\\n        parameter_prior=parameter_prior, device=device\\n    )\\n    inferrer.load_simulator(\\n        dirname=ARTIFACT_PATH,\\n        simulator_type=simulator_type,\\n        simulation_type=simulation_type,\\n    )\\n    batch_size = params.pop(\\\"batch_size\\\")\\n    learning_rate = params.pop(\\\"learning_rate\\\")\\n    hidden_features = params.pop(\\\"hidden_features\\\")\\n    num_transforms = params.pop(\\\"num_transforms\\\")\\n    inferrer.infer_snpe_posterior(\\n        embedding_net_conf=params,\\n        batch_size=batch_size,\\n        learning_rate=learning_rate,\\n        hidden_features=hidden_features,\\n        num_transforms=num_transforms,\\n    )\\n    inferrer.save_inference(ARTIFACT_PATH)\";\n",
       "                var nbb_formatted_code = \"def infer_and_save_posterior(\\n    device: str, simulator_type: str, simulation_type: str, params: Dict\\n) -> None:\\n    parameter_prior = sbi_utils.BoxUniform(\\n        low=torch.tensor([0.0, 0.0, 0.0]).type(torch.FloatTensor),\\n        high=torch.tensor([4.0, 4.0, 1.0]).type(torch.FloatTensor),\\n        device=device,\\n    )\\n    inferrer = inference_class.TimeSeriesInference(\\n        parameter_prior=parameter_prior, device=device\\n    )\\n    inferrer.load_simulator(\\n        dirname=ARTIFACT_PATH,\\n        simulator_type=simulator_type,\\n        simulation_type=simulation_type,\\n    )\\n    batch_size = params.pop(\\\"batch_size\\\")\\n    learning_rate = params.pop(\\\"learning_rate\\\")\\n    hidden_features = params.pop(\\\"hidden_features\\\")\\n    num_transforms = params.pop(\\\"num_transforms\\\")\\n    inferrer.infer_snpe_posterior(\\n        embedding_net_conf=params,\\n        batch_size=batch_size,\\n        learning_rate=learning_rate,\\n        hidden_features=hidden_features,\\n        num_transforms=num_transforms,\\n    )\\n    inferrer.save_inference(ARTIFACT_PATH)\";\n",
       "                var nbb_cells = Jupyter.notebook.get_cells();\n",
       "                for (var i = 0; i < nbb_cells.length; ++i) {\n",
       "                    if (nbb_cells[i].input_prompt_number == nbb_cell_id) {\n",
       "                        if (nbb_cells[i].get_text() == nbb_unformatted_code) {\n",
       "                             nbb_cells[i].set_text(nbb_formatted_code);\n",
       "                        }\n",
       "                        break;\n",
       "                    }\n",
       "                }\n",
       "            }, 500);\n",
       "            "
      ],
      "text/plain": [
       "<IPython.core.display.Javascript object>"
      ]
     },
     "metadata": {},
     "output_type": "display_data"
    }
   ],
   "source": [
    "def infer_and_save_posterior(\n",
    "    device: str, simulator_type: str, simulation_type: str, params: Dict\n",
    ") -> None:\n",
    "    parameter_prior = sbi_utils.BoxUniform(\n",
    "        low=torch.tensor([0.0, 0.0, 0.0]).type(torch.FloatTensor),\n",
    "        high=torch.tensor([4.0, 4.0, 1.0]).type(torch.FloatTensor),\n",
    "        device=device,\n",
    "    )\n",
    "    inferrer = inference_class.TimeSeriesInference(\n",
    "        parameter_prior=parameter_prior, device=device\n",
    "    )\n",
    "    inferrer.load_simulator(\n",
    "        dirname=ARTIFACT_PATH,\n",
    "        simulator_type=simulator_type,\n",
    "        simulation_type=simulation_type,\n",
    "    )\n",
    "    batch_size = params.pop(\"batch_size\")\n",
    "    learning_rate = params.pop(\"learning_rate\")\n",
    "    hidden_features = params.pop(\"hidden_features\")\n",
    "    num_transforms = params.pop(\"num_transforms\")\n",
    "    inferrer.infer_snpe_posterior(\n",
    "        embedding_net_conf=params,\n",
    "        batch_size=batch_size,\n",
    "        learning_rate=learning_rate,\n",
    "        hidden_features=hidden_features,\n",
    "        num_transforms=num_transforms,\n",
    "    )\n",
    "    inferrer.save_inference(ARTIFACT_PATH)"
   ]
  },
  {
   "cell_type": "code",
   "execution_count": 21,
   "id": "528a78b2",
   "metadata": {},
   "outputs": [
    {
     "data": {
      "application/javascript": [
       "\n",
       "            setTimeout(function() {\n",
       "                var nbb_cell_id = 21;\n",
       "                var nbb_unformatted_code = \"def sample_posterior_with_observed(\\n    device: str,\\n    observations: np.array,\\n    num_samples: int,\\n    simulator_type: str,\\n    simulation_type: str,\\n) -> np.array:\\n    # The parameter prior doesn't matter here as it will be overridden by that of the loaded inference object\\n    parameter_prior = sbi.utils.BoxUniform(\\n        low=torch.tensor([0.0, 0.0, 0.0]).type(torch.FloatTensor),\\n        high=torch.tensor([4.0, 4.0, 1.0]).type(torch.FloatTensor),\\n        device=device,\\n    )\\n    inferrer = inference_class.TimeSeriesInference(\\n        parameter_prior=parameter_prior, device=device\\n    )\\n    inferrer.load_simulator(\\n        dirname=ARTIFACT_PATH,\\n        simulator_type=simulator_type,\\n        simulation_type=simulation_type,\\n    )\\n    inferrer.load_inference(dirname=ARTIFACT_PATH)\\n    posterior_samples = inferrer.get_posterior_samples(\\n        observations, num_samples=num_samples\\n    )\\n    return posterior_samples\";\n",
       "                var nbb_formatted_code = \"def sample_posterior_with_observed(\\n    device: str,\\n    observations: np.array,\\n    num_samples: int,\\n    simulator_type: str,\\n    simulation_type: str,\\n) -> np.array:\\n    # The parameter prior doesn't matter here as it will be overridden by that of the loaded inference object\\n    parameter_prior = sbi.utils.BoxUniform(\\n        low=torch.tensor([0.0, 0.0, 0.0]).type(torch.FloatTensor),\\n        high=torch.tensor([4.0, 4.0, 1.0]).type(torch.FloatTensor),\\n        device=device,\\n    )\\n    inferrer = inference_class.TimeSeriesInference(\\n        parameter_prior=parameter_prior, device=device\\n    )\\n    inferrer.load_simulator(\\n        dirname=ARTIFACT_PATH,\\n        simulator_type=simulator_type,\\n        simulation_type=simulation_type,\\n    )\\n    inferrer.load_inference(dirname=ARTIFACT_PATH)\\n    posterior_samples = inferrer.get_posterior_samples(\\n        observations, num_samples=num_samples\\n    )\\n    return posterior_samples\";\n",
       "                var nbb_cells = Jupyter.notebook.get_cells();\n",
       "                for (var i = 0; i < nbb_cells.length; ++i) {\n",
       "                    if (nbb_cells[i].input_prompt_number == nbb_cell_id) {\n",
       "                        if (nbb_cells[i].get_text() == nbb_unformatted_code) {\n",
       "                             nbb_cells[i].set_text(nbb_formatted_code);\n",
       "                        }\n",
       "                        break;\n",
       "                    }\n",
       "                }\n",
       "            }, 500);\n",
       "            "
      ],
      "text/plain": [
       "<IPython.core.display.Javascript object>"
      ]
     },
     "metadata": {},
     "output_type": "display_data"
    }
   ],
   "source": [
    "def sample_posterior_with_observed(\n",
    "    device: str,\n",
    "    observations: np.array,\n",
    "    num_samples: int,\n",
    "    simulator_type: str,\n",
    "    simulation_type: str,\n",
    ") -> np.array:\n",
    "    # The parameter prior doesn't matter here as it will be overridden by that of the loaded inference object\n",
    "    parameter_prior = sbi.utils.BoxUniform(\n",
    "        low=torch.tensor([0.0, 0.0, 0.0]).type(torch.FloatTensor),\n",
    "        high=torch.tensor([4.0, 4.0, 1.0]).type(torch.FloatTensor),\n",
    "        device=device,\n",
    "    )\n",
    "    inferrer = inference_class.TimeSeriesInference(\n",
    "        parameter_prior=parameter_prior, device=device\n",
    "    )\n",
    "    inferrer.load_simulator(\n",
    "        dirname=ARTIFACT_PATH,\n",
    "        simulator_type=simulator_type,\n",
    "        simulation_type=simulation_type,\n",
    "    )\n",
    "    inferrer.load_inference(dirname=ARTIFACT_PATH)\n",
    "    posterior_samples = inferrer.get_posterior_samples(\n",
    "        observations, num_samples=num_samples\n",
    "    )\n",
    "    return posterior_samples"
   ]
  },
  {
   "cell_type": "code",
   "execution_count": 9,
   "id": "9b01fbd2",
   "metadata": {},
   "outputs": [
    {
     "data": {
      "application/javascript": [
       "\n",
       "            setTimeout(function() {\n",
       "                var nbb_cell_id = 9;\n",
       "                var nbb_unformatted_code = \"def plot_mean_posteriors_for_products(posterior_samples: np.ndarray) -> None:\\n    fig, ax = plt.subplots(1, 2, squeeze=False)\\n    ax[0, 0].hist(np.mean(posterior_samples[:, :, 0], axis=0),\\n               color=sns.xkcd_rgb[\\\"cerulean\\\"],\\n               alpha=0.5, bins=10,\\n               label=r\\\"$\\\\rho_{-}$\\\")\\n    ax[0, 0].hist(np.mean(posterior_samples[:, :, 1], axis=0),\\n               color=sns.xkcd_rgb[\\\"dark orange\\\"],\\n               alpha=0.5, bins=10,\\n               label=r\\\"$\\\\rho_{+}$\\\")\\n    ax[0, 1].hist(np.mean(posterior_samples[:, :, 2], axis=0),\\n               color=sns.xkcd_rgb[\\\"black\\\"],\\n               alpha=0.5, bins=10,\\n               label=r\\\"$h_p$\\\")\\n    ax[0, 0].legend(fontsize=20)\\n    ax[0, 1].legend(fontsize=20)\\n    ax[0, 0].set_xticks([0, 1, 2, 3, 4])\\n    ax[0, 1].set_xticks([0, 0.5, 1])\\n    ax[0, 0].tick_params(axis='both', labelsize=23)\\n    ax[0, 1].tick_params(axis='both', labelsize=23)\\n    # add a big axis, hide frame\\n    fig.add_subplot(111, frameon=False)\\n    # hide tick and tick label of the big axis\\n    plt.tick_params(labelcolor=\\\"none\\\", top=False, bottom=False, left=False, right=False)\\n    #plt.xlabel(r\\\"$\\\\rho_{-}, \\\\rho_{+}$\\\")\\n    plt.ylabel(f\\\"Number of products (Total = {posterior_samples.shape[1]})\\\", fontsize=28)\\n    fig.savefig(ARTIFACT_PATH / \\\"mean_posteriors.png\\\", bbox_inches=\\\"tight\\\")\";\n",
       "                var nbb_formatted_code = \"def plot_mean_posteriors_for_products(posterior_samples: np.ndarray) -> None:\\n    fig, ax = plt.subplots(1, 2, squeeze=False)\\n    ax[0, 0].hist(\\n        np.mean(posterior_samples[:, :, 0], axis=0),\\n        color=sns.xkcd_rgb[\\\"cerulean\\\"],\\n        alpha=0.5,\\n        bins=10,\\n        label=r\\\"$\\\\rho_{-}$\\\",\\n    )\\n    ax[0, 0].hist(\\n        np.mean(posterior_samples[:, :, 1], axis=0),\\n        color=sns.xkcd_rgb[\\\"dark orange\\\"],\\n        alpha=0.5,\\n        bins=10,\\n        label=r\\\"$\\\\rho_{+}$\\\",\\n    )\\n    ax[0, 1].hist(\\n        np.mean(posterior_samples[:, :, 2], axis=0),\\n        color=sns.xkcd_rgb[\\\"black\\\"],\\n        alpha=0.5,\\n        bins=10,\\n        label=r\\\"$h_p$\\\",\\n    )\\n    ax[0, 0].legend(fontsize=20)\\n    ax[0, 1].legend(fontsize=20)\\n    ax[0, 0].set_xticks([0, 1, 2, 3, 4])\\n    ax[0, 1].set_xticks([0, 0.5, 1])\\n    ax[0, 0].tick_params(axis=\\\"both\\\", labelsize=23)\\n    ax[0, 1].tick_params(axis=\\\"both\\\", labelsize=23)\\n    # add a big axis, hide frame\\n    fig.add_subplot(111, frameon=False)\\n    # hide tick and tick label of the big axis\\n    plt.tick_params(labelcolor=\\\"none\\\", top=False, bottom=False, left=False, right=False)\\n    # plt.xlabel(r\\\"$\\\\rho_{-}, \\\\rho_{+}$\\\")\\n    plt.ylabel(\\n        f\\\"Number of products (Total = {posterior_samples.shape[1]})\\\", fontsize=28\\n    )\\n    fig.savefig(ARTIFACT_PATH / \\\"mean_posteriors.png\\\", bbox_inches=\\\"tight\\\")\";\n",
       "                var nbb_cells = Jupyter.notebook.get_cells();\n",
       "                for (var i = 0; i < nbb_cells.length; ++i) {\n",
       "                    if (nbb_cells[i].input_prompt_number == nbb_cell_id) {\n",
       "                        if (nbb_cells[i].get_text() == nbb_unformatted_code) {\n",
       "                             nbb_cells[i].set_text(nbb_formatted_code);\n",
       "                        }\n",
       "                        break;\n",
       "                    }\n",
       "                }\n",
       "            }, 500);\n",
       "            "
      ],
      "text/plain": [
       "<IPython.core.display.Javascript object>"
      ]
     },
     "metadata": {},
     "output_type": "display_data"
    }
   ],
   "source": [
    "def plot_mean_posteriors_for_products(posterior_samples: np.ndarray) -> None:\n",
    "    fig, ax = plt.subplots(1, 2, squeeze=False)\n",
    "    ax[0, 0].hist(\n",
    "        np.mean(posterior_samples[:, :, 0], axis=0),\n",
    "        color=sns.xkcd_rgb[\"cerulean\"],\n",
    "        alpha=0.5,\n",
    "        bins=10,\n",
    "        label=r\"$\\rho_{-}$\",\n",
    "    )\n",
    "    ax[0, 0].hist(\n",
    "        np.mean(posterior_samples[:, :, 1], axis=0),\n",
    "        color=sns.xkcd_rgb[\"dark orange\"],\n",
    "        alpha=0.5,\n",
    "        bins=10,\n",
    "        label=r\"$\\rho_{+}$\",\n",
    "    )\n",
    "    ax[0, 1].hist(\n",
    "        np.mean(posterior_samples[:, :, 2], axis=0),\n",
    "        color=sns.xkcd_rgb[\"black\"],\n",
    "        alpha=0.5,\n",
    "        bins=10,\n",
    "        label=r\"$h_p$\",\n",
    "    )\n",
    "    ax[0, 0].legend(fontsize=20)\n",
    "    ax[0, 1].legend(fontsize=20)\n",
    "    ax[0, 0].set_xticks([0, 1, 2, 3, 4])\n",
    "    ax[0, 1].set_xticks([0, 0.5, 1])\n",
    "    ax[0, 0].tick_params(axis=\"both\", labelsize=23)\n",
    "    ax[0, 1].tick_params(axis=\"both\", labelsize=23)\n",
    "    # add a big axis, hide frame\n",
    "    fig.add_subplot(111, frameon=False)\n",
    "    # hide tick and tick label of the big axis\n",
    "    plt.tick_params(labelcolor=\"none\", top=False, bottom=False, left=False, right=False)\n",
    "    # plt.xlabel(r\"$\\rho_{-}, \\rho_{+}$\")\n",
    "    plt.ylabel(\n",
    "        f\"Number of products (Total = {posterior_samples.shape[1]})\", fontsize=28\n",
    "    )\n",
    "    fig.savefig(ARTIFACT_PATH / \"mean_posteriors.png\", bbox_inches=\"tight\")"
   ]
  },
  {
   "cell_type": "code",
   "execution_count": null,
   "id": "598b9a61",
   "metadata": {},
   "outputs": [],
   "source": []
  },
  {
   "cell_type": "code",
   "execution_count": null,
   "id": "8ec8f09b",
   "metadata": {},
   "outputs": [],
   "source": []
  },
  {
   "cell_type": "code",
   "execution_count": null,
   "id": "3d028cdc",
   "metadata": {},
   "outputs": [],
   "source": []
  },
  {
   "cell_type": "markdown",
   "id": "c7c94a14",
   "metadata": {},
   "source": [
    "# Actual code to run the functions above"
   ]
  },
  {
   "cell_type": "code",
   "execution_count": 8,
   "id": "59f5405e",
   "metadata": {},
   "outputs": [
    {
     "data": {
      "text/plain": [
       "16"
      ]
     },
     "execution_count": 8,
     "metadata": {},
     "output_type": "execute_result"
    },
    {
     "data": {
      "application/javascript": [
       "\n",
       "            setTimeout(function() {\n",
       "                var nbb_cell_id = 8;\n",
       "                var nbb_unformatted_code = \"torch.set_num_threads(mp.cpu_count())\\ntorch.get_num_threads()\";\n",
       "                var nbb_formatted_code = \"torch.set_num_threads(mp.cpu_count())\\ntorch.get_num_threads()\";\n",
       "                var nbb_cells = Jupyter.notebook.get_cells();\n",
       "                for (var i = 0; i < nbb_cells.length; ++i) {\n",
       "                    if (nbb_cells[i].input_prompt_number == nbb_cell_id) {\n",
       "                        if (nbb_cells[i].get_text() == nbb_unformatted_code) {\n",
       "                             nbb_cells[i].set_text(nbb_formatted_code);\n",
       "                        }\n",
       "                        break;\n",
       "                    }\n",
       "                }\n",
       "            }, 500);\n",
       "            "
      ],
      "text/plain": [
       "<IPython.core.display.Javascript object>"
      ]
     },
     "metadata": {},
     "output_type": "display_data"
    }
   ],
   "source": [
    "torch.set_num_threads(mp.cpu_count())\n",
    "torch.get_num_threads()"
   ]
  },
  {
   "cell_type": "code",
   "execution_count": 16,
   "id": "dd1108c8",
   "metadata": {},
   "outputs": [
    {
     "data": {
      "application/javascript": [
       "\n",
       "            setTimeout(function() {\n",
       "                var nbb_cell_id = 16;\n",
       "                var nbb_unformatted_code = \"inference_params = {\\n    \\\"batch_size\\\": 128,\\n    \\\"learning_rate\\\": 1.9e-4,\\n    \\\"hidden_features\\\": 35,\\n    \\\"num_transforms\\\": 5,\\n    \\\"num_conv_layers\\\": 2,\\n    \\\"num_channels\\\": 10,\\n    \\\"conv_kernel_size\\\": 5,\\n    \\\"maxpool_kernel_size\\\": 9,\\n    \\\"num_dense_layers\\\": 1,\\n}\";\n",
       "                var nbb_formatted_code = \"inference_params = {\\n    \\\"batch_size\\\": 128,\\n    \\\"learning_rate\\\": 1.9e-4,\\n    \\\"hidden_features\\\": 35,\\n    \\\"num_transforms\\\": 5,\\n    \\\"num_conv_layers\\\": 2,\\n    \\\"num_channels\\\": 10,\\n    \\\"conv_kernel_size\\\": 5,\\n    \\\"maxpool_kernel_size\\\": 9,\\n    \\\"num_dense_layers\\\": 1,\\n}\";\n",
       "                var nbb_cells = Jupyter.notebook.get_cells();\n",
       "                for (var i = 0; i < nbb_cells.length; ++i) {\n",
       "                    if (nbb_cells[i].input_prompt_number == nbb_cell_id) {\n",
       "                        if (nbb_cells[i].get_text() == nbb_unformatted_code) {\n",
       "                             nbb_cells[i].set_text(nbb_formatted_code);\n",
       "                        }\n",
       "                        break;\n",
       "                    }\n",
       "                }\n",
       "            }, 500);\n",
       "            "
      ],
      "text/plain": [
       "<IPython.core.display.Javascript object>"
      ]
     },
     "metadata": {},
     "output_type": "display_data"
    }
   ],
   "source": [
    "inference_params = {\n",
    "    \"batch_size\": 128,\n",
    "    \"learning_rate\": 1.9e-4,\n",
    "    \"hidden_features\": 35,\n",
    "    \"num_transforms\": 5,\n",
    "    \"num_conv_layers\": 2,\n",
    "    \"num_channels\": 10,\n",
    "    \"conv_kernel_size\": 5,\n",
    "    \"maxpool_kernel_size\": 9,\n",
    "    \"num_dense_layers\": 1,\n",
    "}"
   ]
  },
  {
   "cell_type": "code",
   "execution_count": 17,
   "id": "9a001f49",
   "metadata": {},
   "outputs": [
    {
     "name": "stdout",
     "output_type": "stream",
     "text": [
      "Embedding net created: \n",
      " Sequential(\n",
      "  (0): Conv1d(5, 10, kernel_size=(5,), stride=(1,), padding=(2,))\n",
      "  (1): LeakyReLU(negative_slope=0.01)\n",
      "  (2): Conv1d(10, 10, kernel_size=(5,), stride=(1,), padding=(4,), dilation=(2,))\n",
      "  (3): MaxPool1d(kernel_size=9, stride=9, padding=0, dilation=1, ceil_mode=False)\n",
      "  (4): Flatten(start_dim=1, end_dim=-1)\n",
      "  (5): LeakyReLU(negative_slope=0.01)\n",
      "  (6): Linear(in_features=740, out_features=32, bias=True)\n",
      ")\n"
     ]
    },
    {
     "name": "stderr",
     "output_type": "stream",
     "text": [
      "/opt/conda/lib/python3.7/site-packages/sbi/utils/user_input_checks.py:684: UserWarning: Data x has device 'cpu' different from the training_device 'cuda:0', moving x to the training_device 'cuda:0'.\n",
      "  f\"Data x has device '{x.device}' \"\n",
      "/opt/conda/lib/python3.7/site-packages/sbi/utils/user_input_checks.py:692: UserWarning: Parameters theta has device 'cpu' different from the training_device 'cuda:0', moving theta to the training_device 'cuda:0'.\n",
      "  f\"Parameters theta has device '{theta.device}' \"\n",
      "/opt/conda/lib/python3.7/site-packages/sbi/utils/user_input_checks.py:428: UserWarning: Mismatch between the device of the data fed to the embedding_net and the device of the embedding_net's weights. Fed data has device 'cuda:0' vs embedding_net weights have device 'cpu'. Automatically switching the embedding_net's device to 'cuda:0', which could otherwise be done manually using the line `embedding_net.to('cuda:0')`.\n",
      "  \"Mismatch between the device of the data fed \"\n"
     ]
    },
    {
     "name": "stdout",
     "output_type": "stream",
     "text": [
      " Neural network successfully converged after 234 epochs.\n",
      "        -------------------------\n",
      "        ||||| ROUND 1 STATS |||||:\n",
      "        -------------------------\n",
      "        Epochs trained: 234\n",
      "        Best validation performance: 1.0422\n",
      "        -------------------------\n",
      "        \n"
     ]
    },
    {
     "data": {
      "application/javascript": [
       "\n",
       "            setTimeout(function() {\n",
       "                var nbb_cell_id = 17;\n",
       "                var nbb_unformatted_code = \"infer_and_save_posterior(\\\"cuda\\\", \\\"marketplace\\\", \\\"timeseries\\\", inference_params)\";\n",
       "                var nbb_formatted_code = \"infer_and_save_posterior(\\\"cuda\\\", \\\"marketplace\\\", \\\"timeseries\\\", inference_params)\";\n",
       "                var nbb_cells = Jupyter.notebook.get_cells();\n",
       "                for (var i = 0; i < nbb_cells.length; ++i) {\n",
       "                    if (nbb_cells[i].input_prompt_number == nbb_cell_id) {\n",
       "                        if (nbb_cells[i].get_text() == nbb_unformatted_code) {\n",
       "                             nbb_cells[i].set_text(nbb_formatted_code);\n",
       "                        }\n",
       "                        break;\n",
       "                    }\n",
       "                }\n",
       "            }, 500);\n",
       "            "
      ],
      "text/plain": [
       "<IPython.core.display.Javascript object>"
      ]
     },
     "metadata": {},
     "output_type": "display_data"
    }
   ],
   "source": [
    "infer_and_save_posterior(\"cuda\", \"marketplace\", \"timeseries\", inference_params)"
   ]
  },
  {
   "cell_type": "markdown",
   "id": "991605ac",
   "metadata": {},
   "source": [
    "# Working with the observed data"
   ]
  },
  {
   "cell_type": "code",
   "execution_count": 7,
   "id": "ad754950",
   "metadata": {},
   "outputs": [
    {
     "data": {
      "text/html": [
       "<div>\n",
       "<style scoped>\n",
       "    .dataframe tbody tr th:only-of-type {\n",
       "        vertical-align: middle;\n",
       "    }\n",
       "\n",
       "    .dataframe tbody tr th {\n",
       "        vertical-align: top;\n",
       "    }\n",
       "\n",
       "    .dataframe thead th {\n",
       "        text-align: right;\n",
       "    }\n",
       "</style>\n",
       "<table border=\"1\" class=\"dataframe\">\n",
       "  <thead>\n",
       "    <tr style=\"text-align: right;\">\n",
       "      <th></th>\n",
       "      <th>asin</th>\n",
       "      <th>overall</th>\n",
       "      <th>ReviewId</th>\n",
       "      <th>unixReviewTime</th>\n",
       "      <th>rootcategoryid</th>\n",
       "    </tr>\n",
       "  </thead>\n",
       "  <tbody>\n",
       "    <tr>\n",
       "      <th>0</th>\n",
       "      <td>670155</td>\n",
       "      <td>4</td>\n",
       "      <td>3480905</td>\n",
       "      <td>2009-02-10</td>\n",
       "      <td>33005908</td>\n",
       "    </tr>\n",
       "    <tr>\n",
       "      <th>1</th>\n",
       "      <td>670155</td>\n",
       "      <td>3</td>\n",
       "      <td>3535864</td>\n",
       "      <td>2009-02-24</td>\n",
       "      <td>33005908</td>\n",
       "    </tr>\n",
       "    <tr>\n",
       "      <th>2</th>\n",
       "      <td>670155</td>\n",
       "      <td>5</td>\n",
       "      <td>3539112</td>\n",
       "      <td>2009-02-24</td>\n",
       "      <td>33005908</td>\n",
       "    </tr>\n",
       "    <tr>\n",
       "      <th>3</th>\n",
       "      <td>670155</td>\n",
       "      <td>4</td>\n",
       "      <td>3539514</td>\n",
       "      <td>2009-02-25</td>\n",
       "      <td>33005908</td>\n",
       "    </tr>\n",
       "    <tr>\n",
       "      <th>4</th>\n",
       "      <td>670155</td>\n",
       "      <td>1</td>\n",
       "      <td>3556157</td>\n",
       "      <td>2009-03-05</td>\n",
       "      <td>33005908</td>\n",
       "    </tr>\n",
       "  </tbody>\n",
       "</table>\n",
       "</div>"
      ],
      "text/plain": [
       "     asin  overall  ReviewId unixReviewTime  rootcategoryid\n",
       "0  670155        4   3480905     2009-02-10        33005908\n",
       "1  670155        3   3535864     2009-02-24        33005908\n",
       "2  670155        5   3539112     2009-02-24        33005908\n",
       "3  670155        4   3539514     2009-02-25        33005908\n",
       "4  670155        1   3556157     2009-03-05        33005908"
      ]
     },
     "execution_count": 7,
     "metadata": {},
     "output_type": "execute_result"
    },
    {
     "data": {
      "application/javascript": [
       "\n",
       "            setTimeout(function() {\n",
       "                var nbb_cell_id = 7;\n",
       "                var nbb_unformatted_code = \"# reviews = pyreadr.read_r(\\n#    \\\"/data/Dropbox/SNPE/all_data/reviews_bazaarvoice_main_vars.Rds\\\"\\n# )\\nreviews = pyreadr.read_r(ARTIFACT_PATH / \\\"reviews_bazaarvoice_main_vars.Rds\\\")\\nreviews = reviews[None]\\nreviews.head()\";\n",
       "                var nbb_formatted_code = \"# reviews = pyreadr.read_r(\\n#    \\\"/data/Dropbox/SNPE/all_data/reviews_bazaarvoice_main_vars.Rds\\\"\\n# )\\nreviews = pyreadr.read_r(ARTIFACT_PATH / \\\"reviews_bazaarvoice_main_vars.Rds\\\")\\nreviews = reviews[None]\\nreviews.head()\";\n",
       "                var nbb_cells = Jupyter.notebook.get_cells();\n",
       "                for (var i = 0; i < nbb_cells.length; ++i) {\n",
       "                    if (nbb_cells[i].input_prompt_number == nbb_cell_id) {\n",
       "                        if (nbb_cells[i].get_text() == nbb_unformatted_code) {\n",
       "                             nbb_cells[i].set_text(nbb_formatted_code);\n",
       "                        }\n",
       "                        break;\n",
       "                    }\n",
       "                }\n",
       "            }, 500);\n",
       "            "
      ],
      "text/plain": [
       "<IPython.core.display.Javascript object>"
      ]
     },
     "metadata": {},
     "output_type": "display_data"
    }
   ],
   "source": [
    "# reviews = pyreadr.read_r(\n",
    "#    \"/data/Dropbox/SNPE/all_data/reviews_bazaarvoice_main_vars.Rds\"\n",
    "# )\n",
    "reviews = pyreadr.read_r(ARTIFACT_PATH / \"reviews_bazaarvoice_main_vars.Rds\")\n",
    "reviews = reviews[None]\n",
    "reviews.head()"
   ]
  },
  {
   "cell_type": "code",
   "execution_count": 8,
   "id": "513aa7ab",
   "metadata": {},
   "outputs": [
    {
     "data": {
      "application/javascript": [
       "\n",
       "            setTimeout(function() {\n",
       "                var nbb_cell_id = 8;\n",
       "                var nbb_unformatted_code = \"pd.testing.assert_frame_equal(reviews, reviews.sort_values([\\\"asin\\\", \\\"unixReviewTime\\\"]))\";\n",
       "                var nbb_formatted_code = \"pd.testing.assert_frame_equal(reviews, reviews.sort_values([\\\"asin\\\", \\\"unixReviewTime\\\"]))\";\n",
       "                var nbb_cells = Jupyter.notebook.get_cells();\n",
       "                for (var i = 0; i < nbb_cells.length; ++i) {\n",
       "                    if (nbb_cells[i].input_prompt_number == nbb_cell_id) {\n",
       "                        if (nbb_cells[i].get_text() == nbb_unformatted_code) {\n",
       "                             nbb_cells[i].set_text(nbb_formatted_code);\n",
       "                        }\n",
       "                        break;\n",
       "                    }\n",
       "                }\n",
       "            }, 500);\n",
       "            "
      ],
      "text/plain": [
       "<IPython.core.display.Javascript object>"
      ]
     },
     "metadata": {},
     "output_type": "display_data"
    }
   ],
   "source": [
    "pd.testing.assert_frame_equal(reviews, reviews.sort_values([\"asin\", \"unixReviewTime\"]))"
   ]
  },
  {
   "cell_type": "code",
   "execution_count": 9,
   "id": "06236636",
   "metadata": {},
   "outputs": [
    {
     "data": {
      "text/plain": [
       "1293"
      ]
     },
     "execution_count": 9,
     "metadata": {},
     "output_type": "execute_result"
    },
    {
     "data": {
      "application/javascript": [
       "\n",
       "            setTimeout(function() {\n",
       "                var nbb_cell_id = 9;\n",
       "                var nbb_unformatted_code = \"reviews.asin.value_counts().max()\";\n",
       "                var nbb_formatted_code = \"reviews.asin.value_counts().max()\";\n",
       "                var nbb_cells = Jupyter.notebook.get_cells();\n",
       "                for (var i = 0; i < nbb_cells.length; ++i) {\n",
       "                    if (nbb_cells[i].input_prompt_number == nbb_cell_id) {\n",
       "                        if (nbb_cells[i].get_text() == nbb_unformatted_code) {\n",
       "                             nbb_cells[i].set_text(nbb_formatted_code);\n",
       "                        }\n",
       "                        break;\n",
       "                    }\n",
       "                }\n",
       "            }, 500);\n",
       "            "
      ],
      "text/plain": [
       "<IPython.core.display.Javascript object>"
      ]
     },
     "metadata": {},
     "output_type": "display_data"
    }
   ],
   "source": [
    "reviews.asin.value_counts().max()"
   ]
  },
  {
   "cell_type": "code",
   "execution_count": 10,
   "id": "47c4e894",
   "metadata": {},
   "outputs": [
    {
     "data": {
      "text/plain": [
       "(1406,)"
      ]
     },
     "execution_count": 10,
     "metadata": {},
     "output_type": "execute_result"
    },
    {
     "data": {
      "application/javascript": [
       "\n",
       "            setTimeout(function() {\n",
       "                var nbb_cell_id = 10;\n",
       "                var nbb_unformatted_code = \"reviews.asin.unique().shape\";\n",
       "                var nbb_formatted_code = \"reviews.asin.unique().shape\";\n",
       "                var nbb_cells = Jupyter.notebook.get_cells();\n",
       "                for (var i = 0; i < nbb_cells.length; ++i) {\n",
       "                    if (nbb_cells[i].input_prompt_number == nbb_cell_id) {\n",
       "                        if (nbb_cells[i].get_text() == nbb_unformatted_code) {\n",
       "                             nbb_cells[i].set_text(nbb_formatted_code);\n",
       "                        }\n",
       "                        break;\n",
       "                    }\n",
       "                }\n",
       "            }, 500);\n",
       "            "
      ],
      "text/plain": [
       "<IPython.core.display.Javascript object>"
      ]
     },
     "metadata": {},
     "output_type": "display_data"
    }
   ],
   "source": [
    "reviews.asin.unique().shape"
   ]
  },
  {
   "cell_type": "code",
   "execution_count": 11,
   "id": "d7749342",
   "metadata": {},
   "outputs": [
    {
     "data": {
      "application/javascript": [
       "\n",
       "            setTimeout(function() {\n",
       "                var nbb_cell_id = 11;\n",
       "                var nbb_unformatted_code = \"# Pull out the ratings from the timeseries DF and convert them into a format\\n# that can be fed into the inference engine\\ntimeseries_data = []\\nfor product in reviews.asin.unique():\\n    # We were cutting off at 5001 reviews earlier when we could control the number of reviews per product in the sims\\n    # But now, we put the max len of the deque a little higher than the number of reviews\\n    # for the most reviewed product (around 1300)\\n    timeseries = deque([np.zeros(5)], maxlen=673)\\n    ratings = np.array(reviews.loc[reviews.asin == product, \\\"overall\\\"])\\n    ratings = ratings[:673]\\n    for rating in ratings:\\n        current_histogram = timeseries[-1].copy()\\n        current_histogram[int(rating - 1)] += 1\\n        timeseries.append(current_histogram)\\n    timeseries_data.append(np.array(timeseries))\\ntimeseries_data = np.array(timeseries_data, dtype=\\\"object\\\")\";\n",
       "                var nbb_formatted_code = \"# Pull out the ratings from the timeseries DF and convert them into a format\\n# that can be fed into the inference engine\\ntimeseries_data = []\\nfor product in reviews.asin.unique():\\n    # We were cutting off at 5001 reviews earlier when we could control the number of reviews per product in the sims\\n    # But now, we put the max len of the deque a little higher than the number of reviews\\n    # for the most reviewed product (around 1300)\\n    timeseries = deque([np.zeros(5)], maxlen=673)\\n    ratings = np.array(reviews.loc[reviews.asin == product, \\\"overall\\\"])\\n    ratings = ratings[:673]\\n    for rating in ratings:\\n        current_histogram = timeseries[-1].copy()\\n        current_histogram[int(rating - 1)] += 1\\n        timeseries.append(current_histogram)\\n    timeseries_data.append(np.array(timeseries))\\ntimeseries_data = np.array(timeseries_data, dtype=\\\"object\\\")\";\n",
       "                var nbb_cells = Jupyter.notebook.get_cells();\n",
       "                for (var i = 0; i < nbb_cells.length; ++i) {\n",
       "                    if (nbb_cells[i].input_prompt_number == nbb_cell_id) {\n",
       "                        if (nbb_cells[i].get_text() == nbb_unformatted_code) {\n",
       "                             nbb_cells[i].set_text(nbb_formatted_code);\n",
       "                        }\n",
       "                        break;\n",
       "                    }\n",
       "                }\n",
       "            }, 500);\n",
       "            "
      ],
      "text/plain": [
       "<IPython.core.display.Javascript object>"
      ]
     },
     "metadata": {},
     "output_type": "display_data"
    }
   ],
   "source": [
    "# Pull out the ratings from the timeseries DF and convert them into a format\n",
    "# that can be fed into the inference engine\n",
    "timeseries_data = []\n",
    "for product in reviews.asin.unique():\n",
    "    # We were cutting off at 5001 reviews earlier when we could control the number of reviews per product in the sims\n",
    "    # But now, we put the max len of the deque a little higher than the number of reviews\n",
    "    # for the most reviewed product (around 1300)\n",
    "    timeseries = deque([np.zeros(5)], maxlen=673)\n",
    "    ratings = np.array(reviews.loc[reviews.asin == product, \"overall\"])\n",
    "    ratings = ratings[:673]\n",
    "    for rating in ratings:\n",
    "        current_histogram = timeseries[-1].copy()\n",
    "        current_histogram[int(rating - 1)] += 1\n",
    "        timeseries.append(current_histogram)\n",
    "    timeseries_data.append(np.array(timeseries))\n",
    "timeseries_data = np.array(timeseries_data, dtype=\"object\")"
   ]
  },
  {
   "cell_type": "code",
   "execution_count": 31,
   "id": "fd22904a",
   "metadata": {},
   "outputs": [
    {
     "data": {
      "text/plain": [
       "(1406,)"
      ]
     },
     "execution_count": 31,
     "metadata": {},
     "output_type": "execute_result"
    },
    {
     "data": {
      "application/javascript": [
       "\n",
       "            setTimeout(function() {\n",
       "                var nbb_cell_id = 31;\n",
       "                var nbb_unformatted_code = \"timeseries_data.shape\";\n",
       "                var nbb_formatted_code = \"timeseries_data.shape\";\n",
       "                var nbb_cells = Jupyter.notebook.get_cells();\n",
       "                for (var i = 0; i < nbb_cells.length; ++i) {\n",
       "                    if (nbb_cells[i].input_prompt_number == nbb_cell_id) {\n",
       "                        if (nbb_cells[i].get_text() == nbb_unformatted_code) {\n",
       "                             nbb_cells[i].set_text(nbb_formatted_code);\n",
       "                        }\n",
       "                        break;\n",
       "                    }\n",
       "                }\n",
       "            }, 500);\n",
       "            "
      ],
      "text/plain": [
       "<IPython.core.display.Javascript object>"
      ]
     },
     "metadata": {},
     "output_type": "display_data"
    }
   ],
   "source": [
    "timeseries_data.shape"
   ]
  },
  {
   "cell_type": "code",
   "execution_count": 32,
   "id": "94051a49",
   "metadata": {},
   "outputs": [
    {
     "name": "stderr",
     "output_type": "stream",
     "text": [
      "/opt/conda/lib/python3.7/site-packages/sbi/utils/torchutils.py:28: UserWarning: GPU was selected as a device for training the neural network. Note that we expect **no** significant speed ups in training for the default architectures we provide. Using the GPU will be effective only for large neural networks with operations that are fast on the GPU, e.g., for a CNN or RNN `embedding_net`.\n",
      "  \"GPU was selected as a device for training the neural network. \"\n"
     ]
    },
    {
     "data": {
      "application/javascript": [
       "\n",
       "            setTimeout(function() {\n",
       "                var nbb_cell_id = 32;\n",
       "                var nbb_unformatted_code = \"posterior_samples = sample_posterior_with_observed(\\n    \\\"cuda\\\", timeseries_data, 10_000, \\\"marketplace\\\", \\\"timeseries\\\"\\n)\";\n",
       "                var nbb_formatted_code = \"posterior_samples = sample_posterior_with_observed(\\n    \\\"cuda\\\", timeseries_data, 10_000, \\\"marketplace\\\", \\\"timeseries\\\"\\n)\";\n",
       "                var nbb_cells = Jupyter.notebook.get_cells();\n",
       "                for (var i = 0; i < nbb_cells.length; ++i) {\n",
       "                    if (nbb_cells[i].input_prompt_number == nbb_cell_id) {\n",
       "                        if (nbb_cells[i].get_text() == nbb_unformatted_code) {\n",
       "                             nbb_cells[i].set_text(nbb_formatted_code);\n",
       "                        }\n",
       "                        break;\n",
       "                    }\n",
       "                }\n",
       "            }, 500);\n",
       "            "
      ],
      "text/plain": [
       "<IPython.core.display.Javascript object>"
      ]
     },
     "metadata": {},
     "output_type": "display_data"
    }
   ],
   "source": [
    "posterior_samples = sample_posterior_with_observed(\n",
    "    \"cuda\", timeseries_data, 10_000, \"marketplace\", \"timeseries\"\n",
    ")"
   ]
  },
  {
   "cell_type": "code",
   "execution_count": 33,
   "id": "166e7beb",
   "metadata": {},
   "outputs": [
    {
     "data": {
      "text/plain": [
       "(10000, 1406, 3)"
      ]
     },
     "execution_count": 33,
     "metadata": {},
     "output_type": "execute_result"
    },
    {
     "data": {
      "application/javascript": [
       "\n",
       "            setTimeout(function() {\n",
       "                var nbb_cell_id = 33;\n",
       "                var nbb_unformatted_code = \"posterior_samples.shape\";\n",
       "                var nbb_formatted_code = \"posterior_samples.shape\";\n",
       "                var nbb_cells = Jupyter.notebook.get_cells();\n",
       "                for (var i = 0; i < nbb_cells.length; ++i) {\n",
       "                    if (nbb_cells[i].input_prompt_number == nbb_cell_id) {\n",
       "                        if (nbb_cells[i].get_text() == nbb_unformatted_code) {\n",
       "                             nbb_cells[i].set_text(nbb_formatted_code);\n",
       "                        }\n",
       "                        break;\n",
       "                    }\n",
       "                }\n",
       "            }, 500);\n",
       "            "
      ],
      "text/plain": [
       "<IPython.core.display.Javascript object>"
      ]
     },
     "metadata": {},
     "output_type": "display_data"
    }
   ],
   "source": [
    "posterior_samples.shape"
   ]
  },
  {
   "cell_type": "code",
   "execution_count": 35,
   "id": "4bace4a9",
   "metadata": {},
   "outputs": [
    {
     "data": {
      "application/javascript": [
       "\n",
       "            setTimeout(function() {\n",
       "                var nbb_cell_id = 35;\n",
       "                var nbb_unformatted_code = \"np.save(ARTIFACT_PATH / \\\"posterior_samples_bazaarvoice.npy\\\", posterior_samples)\";\n",
       "                var nbb_formatted_code = \"np.save(ARTIFACT_PATH / \\\"posterior_samples_bazaarvoice.npy\\\", posterior_samples)\";\n",
       "                var nbb_cells = Jupyter.notebook.get_cells();\n",
       "                for (var i = 0; i < nbb_cells.length; ++i) {\n",
       "                    if (nbb_cells[i].input_prompt_number == nbb_cell_id) {\n",
       "                        if (nbb_cells[i].get_text() == nbb_unformatted_code) {\n",
       "                             nbb_cells[i].set_text(nbb_formatted_code);\n",
       "                        }\n",
       "                        break;\n",
       "                    }\n",
       "                }\n",
       "            }, 500);\n",
       "            "
      ],
      "text/plain": [
       "<IPython.core.display.Javascript object>"
      ]
     },
     "metadata": {},
     "output_type": "display_data"
    }
   ],
   "source": [
    "np.save(ARTIFACT_PATH / \"posterior_samples_bazaarvoice.npy\", posterior_samples)"
   ]
  },
  {
   "cell_type": "markdown",
   "id": "ff6eb415",
   "metadata": {},
   "source": [
    "# Plotting the posterior samples"
   ]
  },
  {
   "cell_type": "code",
   "execution_count": 7,
   "id": "56fedafc",
   "metadata": {},
   "outputs": [
    {
     "data": {
      "text/plain": [
       "(10000, 1406, 3)"
      ]
     },
     "execution_count": 7,
     "metadata": {},
     "output_type": "execute_result"
    },
    {
     "data": {
      "application/javascript": [
       "\n",
       "            setTimeout(function() {\n",
       "                var nbb_cell_id = 7;\n",
       "                var nbb_unformatted_code = \"posterior_samples = np.load(ARTIFACT_PATH / \\\"posterior_samples_bazaarvoice.npy\\\")\\nposterior_samples.shape\";\n",
       "                var nbb_formatted_code = \"posterior_samples = np.load(ARTIFACT_PATH / \\\"posterior_samples_bazaarvoice.npy\\\")\\nposterior_samples.shape\";\n",
       "                var nbb_cells = Jupyter.notebook.get_cells();\n",
       "                for (var i = 0; i < nbb_cells.length; ++i) {\n",
       "                    if (nbb_cells[i].input_prompt_number == nbb_cell_id) {\n",
       "                        if (nbb_cells[i].get_text() == nbb_unformatted_code) {\n",
       "                             nbb_cells[i].set_text(nbb_formatted_code);\n",
       "                        }\n",
       "                        break;\n",
       "                    }\n",
       "                }\n",
       "            }, 500);\n",
       "            "
      ],
      "text/plain": [
       "<IPython.core.display.Javascript object>"
      ]
     },
     "metadata": {},
     "output_type": "display_data"
    }
   ],
   "source": [
    "posterior_samples = np.load(ARTIFACT_PATH / \"posterior_samples_bazaarvoice.npy\")\n",
    "posterior_samples.shape"
   ]
  },
  {
   "cell_type": "code",
   "execution_count": 10,
   "id": "0fd99544",
   "metadata": {},
   "outputs": [
    {
     "data": {
      "image/png": "[encoded data removed]",
      "text/plain": [
       "<Figure size 432x288 with 3 Axes>"
      ]
     },
     "metadata": {},
     "output_type": "display_data"
    },
    {
     "data": {
      "application/javascript": [
       "\n",
       "            setTimeout(function() {\n",
       "                var nbb_cell_id = 10;\n",
       "                var nbb_unformatted_code = \"plot_mean_posteriors_for_products(posterior_samples)\";\n",
       "                var nbb_formatted_code = \"plot_mean_posteriors_for_products(posterior_samples)\";\n",
       "                var nbb_cells = Jupyter.notebook.get_cells();\n",
       "                for (var i = 0; i < nbb_cells.length; ++i) {\n",
       "                    if (nbb_cells[i].input_prompt_number == nbb_cell_id) {\n",
       "                        if (nbb_cells[i].get_text() == nbb_unformatted_code) {\n",
       "                             nbb_cells[i].set_text(nbb_formatted_code);\n",
       "                        }\n",
       "                        break;\n",
       "                    }\n",
       "                }\n",
       "            }, 500);\n",
       "            "
      ],
      "text/plain": [
       "<IPython.core.display.Javascript object>"
      ]
     },
     "metadata": {},
     "output_type": "display_data"
    }
   ],
   "source": [
    "plot_mean_posteriors_for_products(posterior_samples)"
   ]
  },
  {
   "cell_type": "code",
   "execution_count": 14,
   "id": "de7f8101",
   "metadata": {},
   "outputs": [
    {
     "data": {
      "text/plain": [
       "(array([  4.,  41., 207., 457., 455., 190.,  38.,   4.,   0.,   0.,   0.,\n",
       "          0.,   0.,   0.,   1.,   0.,   0.,   0.,   0.,   0.,   0.,   0.,\n",
       "          0.,   0.,   0.,   0.,   0.,   0.,   0.,   0.,   0.,   0.,   0.,\n",
       "          0.,   0.,   0.,   0.,   0.,   0.,   0.,   0.,   0.,   0.,   0.,\n",
       "          0.,   0.,   0.,   0.,   0.,   0.,   0.,   0.,   0.,   0.,   0.,\n",
       "          0.,   0.,   0.,   0.,   0.,   0.,   0.,   0.,   0.,   0.,   1.,\n",
       "          1.,   1.,   0.,   1.,   0.,   0.,   0.,   0.,   0.,   0.,   0.,\n",
       "          0.,   0.,   0.,   0.,   0.,   0.,   0.,   0.,   0.,   0.,   0.,\n",
       "          0.,   0.,   0.,   0.,   0.,   0.,   0.,   0.,   0.,   0.,   1.,\n",
       "          4.]),\n",
       " array([1.52702405, 1.53518252, 1.54334099, 1.55149946, 1.55965793,\n",
       "        1.56781639, 1.57597486, 1.58413333, 1.5922918 , 1.60045027,\n",
       "        1.60860874, 1.6167672 , 1.62492567, 1.63308414, 1.64124261,\n",
       "        1.64940108, 1.65755955, 1.66571801, 1.67387648, 1.68203495,\n",
       "        1.69019342, 1.69835189, 1.70651036, 1.71466883, 1.72282729,\n",
       "        1.73098576, 1.73914423, 1.7473027 , 1.75546117, 1.76361964,\n",
       "        1.7717781 , 1.77993657, 1.78809504, 1.79625351, 1.80441198,\n",
       "        1.81257045, 1.82072891, 1.82888738, 1.83704585, 1.84520432,\n",
       "        1.85336279, 1.86152126, 1.86967973, 1.87783819, 1.88599666,\n",
       "        1.89415513, 1.9023136 , 1.91047207, 1.91863054, 1.926789  ,\n",
       "        1.93494747, 1.94310594, 1.95126441, 1.95942288, 1.96758135,\n",
       "        1.97573981, 1.98389828, 1.99205675, 2.00021522, 2.00837369,\n",
       "        2.01653216, 2.02469063, 2.03284909, 2.04100756, 2.04916603,\n",
       "        2.0573245 , 2.06548297, 2.07364144, 2.0817999 , 2.08995837,\n",
       "        2.09811684, 2.10627531, 2.11443378, 2.12259225, 2.13075071,\n",
       "        2.13890918, 2.14706765, 2.15522612, 2.16338459, 2.17154306,\n",
       "        2.17970152, 2.18785999, 2.19601846, 2.20417693, 2.2123354 ,\n",
       "        2.22049387, 2.22865234, 2.2368108 , 2.24496927, 2.25312774,\n",
       "        2.26128621, 2.26944468, 2.27760315, 2.28576161, 2.29392008,\n",
       "        2.30207855, 2.31023702, 2.31839549, 2.32655396, 2.33471242,\n",
       "        2.34287089]),\n",
       " <BarContainer object of 100 artists>)"
      ]
     },
     "execution_count": 14,
     "metadata": {},
     "output_type": "execute_result"
    },
    {
     "data": {
      "image/png": "[encoded data removed]",
      "text/plain": [
       "<Figure size 432x288 with 1 Axes>"
      ]
     },
     "metadata": {},
     "output_type": "display_data"
    },
    {
     "data": {
      "application/javascript": [
       "\n",
       "            setTimeout(function() {\n",
       "                var nbb_cell_id = 14;\n",
       "                var nbb_unformatted_code = \"plt.hist(np.mean(posterior_samples[:, :, 0], axis=0), bins=100\\n        )\";\n",
       "                var nbb_formatted_code = \"plt.hist(np.mean(posterior_samples[:, :, 0], axis=0), bins=100)\";\n",
       "                var nbb_cells = Jupyter.notebook.get_cells();\n",
       "                for (var i = 0; i < nbb_cells.length; ++i) {\n",
       "                    if (nbb_cells[i].input_prompt_number == nbb_cell_id) {\n",
       "                        if (nbb_cells[i].get_text() == nbb_unformatted_code) {\n",
       "                             nbb_cells[i].set_text(nbb_formatted_code);\n",
       "                        }\n",
       "                        break;\n",
       "                    }\n",
       "                }\n",
       "            }, 500);\n",
       "            "
      ],
      "text/plain": [
       "<IPython.core.display.Javascript object>"
      ]
     },
     "metadata": {},
     "output_type": "display_data"
    }
   ],
   "source": [
    "plt.hist(np.mean(posterior_samples[:, :, 0], axis=0), bins=100)"
   ]
  },
  {
   "cell_type": "code",
   "execution_count": 13,
   "id": "7efd81e8",
   "metadata": {},
   "outputs": [
    {
     "data": {
      "text/plain": [
       "array([1.54695524, 1.55164593, 1.56308243, ..., 1.55218146, 1.56293319,\n",
       "       1.56575715])"
      ]
     },
     "execution_count": 13,
     "metadata": {},
     "output_type": "execute_result"
    },
    {
     "data": {
      "application/javascript": [
       "\n",
       "            setTimeout(function() {\n",
       "                var nbb_cell_id = 13;\n",
       "                var nbb_unformatted_code = \"np.mean(posterior_samples[:, :, 0], axis=0)\";\n",
       "                var nbb_formatted_code = \"np.mean(posterior_samples[:, :, 0], axis=0)\";\n",
       "                var nbb_cells = Jupyter.notebook.get_cells();\n",
       "                for (var i = 0; i < nbb_cells.length; ++i) {\n",
       "                    if (nbb_cells[i].input_prompt_number == nbb_cell_id) {\n",
       "                        if (nbb_cells[i].get_text() == nbb_unformatted_code) {\n",
       "                             nbb_cells[i].set_text(nbb_formatted_code);\n",
       "                        }\n",
       "                        break;\n",
       "                    }\n",
       "                }\n",
       "            }, 500);\n",
       "            "
      ],
      "text/plain": [
       "<IPython.core.display.Javascript object>"
      ]
     },
     "metadata": {},
     "output_type": "display_data"
    }
   ],
   "source": [
    "np.mean(posterior_samples[:, :, 0], axis=0)"
   ]
  },
  {
   "cell_type": "code",
   "execution_count": 15,
   "id": "115781e0",
   "metadata": {},
   "outputs": [
    {
     "data": {
      "text/plain": [
       "<matplotlib.collections.PathCollection at 0x7f6e1cb81fd0>"
      ]
     },
     "execution_count": 15,
     "metadata": {},
     "output_type": "execute_result"
    },
    {
     "data": {
      "image/png": "[encoded data removed]",
      "text/plain": [
       "<Figure size 432x288 with 1 Axes>"
      ]
     },
     "metadata": {},
     "output_type": "display_data"
    },
    {
     "data": {
      "application/javascript": [
       "\n",
       "            setTimeout(function() {\n",
       "                var nbb_cell_id = 15;\n",
       "                var nbb_unformatted_code = \"plt.scatter(posterior_samples[:, 10, 0], posterior_samples[:, 10, 1], alpha=0.5, s=0.5)\";\n",
       "                var nbb_formatted_code = \"plt.scatter(posterior_samples[:, 10, 0], posterior_samples[:, 10, 1], alpha=0.5, s=0.5)\";\n",
       "                var nbb_cells = Jupyter.notebook.get_cells();\n",
       "                for (var i = 0; i < nbb_cells.length; ++i) {\n",
       "                    if (nbb_cells[i].input_prompt_number == nbb_cell_id) {\n",
       "                        if (nbb_cells[i].get_text() == nbb_unformatted_code) {\n",
       "                             nbb_cells[i].set_text(nbb_formatted_code);\n",
       "                        }\n",
       "                        break;\n",
       "                    }\n",
       "                }\n",
       "            }, 500);\n",
       "            "
      ],
      "text/plain": [
       "<IPython.core.display.Javascript object>"
      ]
     },
     "metadata": {},
     "output_type": "display_data"
    }
   ],
   "source": [
    "plt.scatter(posterior_samples[:, 10, 0], posterior_samples[:, 10, 1], alpha=0.5, s=0.5)"
   ]
  },
  {
   "cell_type": "code",
   "execution_count": 16,
   "id": "66d865a5",
   "metadata": {},
   "outputs": [
    {
     "data": {
      "text/plain": [
       "<matplotlib.collections.PathCollection at 0x7f6e1cb7fc70>"
      ]
     },
     "execution_count": 16,
     "metadata": {},
     "output_type": "execute_result"
    },
    {
     "data": {
      "image/png": "[encoded data removed]",
      "text/plain": [
       "<Figure size 432x288 with 1 Axes>"
      ]
     },
     "metadata": {},
     "output_type": "display_data"
    },
    {
     "data": {
      "application/javascript": [
       "\n",
       "            setTimeout(function() {\n",
       "                var nbb_cell_id = 16;\n",
       "                var nbb_unformatted_code = \"plt.scatter(posterior_samples[:, 1000, 0], posterior_samples[:, 1000, 1], alpha=0.5, s=0.5)\";\n",
       "                var nbb_formatted_code = \"plt.scatter(\\n    posterior_samples[:, 1000, 0], posterior_samples[:, 1000, 1], alpha=0.5, s=0.5\\n)\";\n",
       "                var nbb_cells = Jupyter.notebook.get_cells();\n",
       "                for (var i = 0; i < nbb_cells.length; ++i) {\n",
       "                    if (nbb_cells[i].input_prompt_number == nbb_cell_id) {\n",
       "                        if (nbb_cells[i].get_text() == nbb_unformatted_code) {\n",
       "                             nbb_cells[i].set_text(nbb_formatted_code);\n",
       "                        }\n",
       "                        break;\n",
       "                    }\n",
       "                }\n",
       "            }, 500);\n",
       "            "
      ],
      "text/plain": [
       "<IPython.core.display.Javascript object>"
      ]
     },
     "metadata": {},
     "output_type": "display_data"
    }
   ],
   "source": [
    "plt.scatter(posterior_samples[:, 1000, 0], posterior_samples[:, 1000, 1], alpha=0.5, s=0.5)"
   ]
  },
  {
   "cell_type": "code",
   "execution_count": 19,
   "id": "36a64e99",
   "metadata": {},
   "outputs": [
    {
     "data": {
      "text/plain": [
       "(array([  19.,   39.,   85.,  151.,  306.,  562.,  884., 1331., 1517.,\n",
       "        1555., 1276.,  928.,  587.,  389.,  181.,   93.,   61.,   23.,\n",
       "          10.,    3.]),\n",
       " array([0.00118669, 0.04894638, 0.09670607, 0.14446576, 0.19222545,\n",
       "        0.23998514, 0.28774483, 0.33550452, 0.38326421, 0.4310239 ,\n",
       "        0.47878359, 0.52654328, 0.57430297, 0.62206266, 0.66982235,\n",
       "        0.71758204, 0.76534173, 0.81310142, 0.86086111, 0.9086208 ,\n",
       "        0.95638049]),\n",
       " <BarContainer object of 20 artists>)"
      ]
     },
     "execution_count": 19,
     "metadata": {},
     "output_type": "execute_result"
    },
    {
     "data": {
      "image/png": "[encoded data removed]",
      "text/plain": [
       "<Figure size 432x288 with 1 Axes>"
      ]
     },
     "metadata": {},
     "output_type": "display_data"
    },
    {
     "data": {
      "application/javascript": [
       "\n",
       "            setTimeout(function() {\n",
       "                var nbb_cell_id = 19;\n",
       "                var nbb_unformatted_code = \"plt.hist(posterior_samples[:, 700, 2], bins=20)\";\n",
       "                var nbb_formatted_code = \"plt.hist(posterior_samples[:, 700, 2], bins=20)\";\n",
       "                var nbb_cells = Jupyter.notebook.get_cells();\n",
       "                for (var i = 0; i < nbb_cells.length; ++i) {\n",
       "                    if (nbb_cells[i].input_prompt_number == nbb_cell_id) {\n",
       "                        if (nbb_cells[i].get_text() == nbb_unformatted_code) {\n",
       "                             nbb_cells[i].set_text(nbb_formatted_code);\n",
       "                        }\n",
       "                        break;\n",
       "                    }\n",
       "                }\n",
       "            }, 500);\n",
       "            "
      ],
      "text/plain": [
       "<IPython.core.display.Javascript object>"
      ]
     },
     "metadata": {},
     "output_type": "display_data"
    }
   ],
   "source": [
    "plt.hist(posterior_samples[:, 700, 2], bins=20)"
   ]
  },
  {
   "cell_type": "code",
   "execution_count": 25,
   "id": "3bc4a10e",
   "metadata": {},
   "outputs": [
    {
     "data": {
      "text/plain": [
       "<AxesSubplot:>"
      ]
     },
     "execution_count": 25,
     "metadata": {},
     "output_type": "execute_result"
    },
    {
     "data": {
      "image/png": "[encoded data removed]",
      "text/plain": [
       "<Figure size 432x288 with 1 Axes>"
      ]
     },
     "metadata": {},
     "output_type": "display_data"
    },
    {
     "data": {
      "application/javascript": [
       "\n",
       "            setTimeout(function() {\n",
       "                var nbb_cell_id = 25;\n",
       "                var nbb_unformatted_code = \"reviews.asin.value_counts().hist(bins=50)\";\n",
       "                var nbb_formatted_code = \"reviews.asin.value_counts().hist(bins=50)\";\n",
       "                var nbb_cells = Jupyter.notebook.get_cells();\n",
       "                for (var i = 0; i < nbb_cells.length; ++i) {\n",
       "                    if (nbb_cells[i].input_prompt_number == nbb_cell_id) {\n",
       "                        if (nbb_cells[i].get_text() == nbb_unformatted_code) {\n",
       "                             nbb_cells[i].set_text(nbb_formatted_code);\n",
       "                        }\n",
       "                        break;\n",
       "                    }\n",
       "                }\n",
       "            }, 500);\n",
       "            "
      ],
      "text/plain": [
       "<IPython.core.display.Javascript object>"
      ]
     },
     "metadata": {},
     "output_type": "display_data"
    }
   ],
   "source": [
    "reviews.asin.value_counts().hist(bins=50)"
   ]
  },
  {
   "cell_type": "code",
   "execution_count": 26,
   "id": "b51a2f98",
   "metadata": {},
   "outputs": [
    {
     "data": {
      "text/plain": [
       "count    1406.000000\n",
       "mean       96.212660\n",
       "std       126.677148\n",
       "min         1.000000\n",
       "25%        25.250000\n",
       "50%        51.000000\n",
       "75%       113.000000\n",
       "max      1293.000000\n",
       "Name: asin, dtype: float64"
      ]
     },
     "execution_count": 26,
     "metadata": {},
     "output_type": "execute_result"
    },
    {
     "data": {
      "application/javascript": [
       "\n",
       "            setTimeout(function() {\n",
       "                var nbb_cell_id = 26;\n",
       "                var nbb_unformatted_code = \"reviews.asin.value_counts().describe()\";\n",
       "                var nbb_formatted_code = \"reviews.asin.value_counts().describe()\";\n",
       "                var nbb_cells = Jupyter.notebook.get_cells();\n",
       "                for (var i = 0; i < nbb_cells.length; ++i) {\n",
       "                    if (nbb_cells[i].input_prompt_number == nbb_cell_id) {\n",
       "                        if (nbb_cells[i].get_text() == nbb_unformatted_code) {\n",
       "                             nbb_cells[i].set_text(nbb_formatted_code);\n",
       "                        }\n",
       "                        break;\n",
       "                    }\n",
       "                }\n",
       "            }, 500);\n",
       "            "
      ],
      "text/plain": [
       "<IPython.core.display.Javascript object>"
      ]
     },
     "metadata": {},
     "output_type": "display_data"
    }
   ],
   "source": [
    "reviews.asin.value_counts().describe()"
   ]
  },
  {
   "cell_type": "code",
   "execution_count": 28,
   "id": "fdc585ab",
   "metadata": {},
   "outputs": [
    {
     "data": {
      "application/javascript": [
       "\n",
       "            setTimeout(function() {\n",
       "                var nbb_cell_id = 28;\n",
       "                var nbb_unformatted_code = \"counts = reviews.asin.value_counts().rename_axis(\\\"asin\\\").reset_index(name=\\\"counts\\\") \";\n",
       "                var nbb_formatted_code = \"counts = reviews.asin.value_counts().rename_axis(\\\"asin\\\").reset_index(name=\\\"counts\\\")\";\n",
       "                var nbb_cells = Jupyter.notebook.get_cells();\n",
       "                for (var i = 0; i < nbb_cells.length; ++i) {\n",
       "                    if (nbb_cells[i].input_prompt_number == nbb_cell_id) {\n",
       "                        if (nbb_cells[i].get_text() == nbb_unformatted_code) {\n",
       "                             nbb_cells[i].set_text(nbb_formatted_code);\n",
       "                        }\n",
       "                        break;\n",
       "                    }\n",
       "                }\n",
       "            }, 500);\n",
       "            "
      ],
      "text/plain": [
       "<IPython.core.display.Javascript object>"
      ]
     },
     "metadata": {},
     "output_type": "display_data"
    }
   ],
   "source": [
    "counts = reviews.asin.value_counts().rename_axis(\"asin\").reset_index(name=\"counts\")"
   ]
  },
  {
   "cell_type": "code",
   "execution_count": 29,
   "id": "e893a258",
   "metadata": {},
   "outputs": [
    {
     "data": {
      "text/html": [
       "<div>\n",
       "<style scoped>\n",
       "    .dataframe tbody tr th:only-of-type {\n",
       "        vertical-align: middle;\n",
       "    }\n",
       "\n",
       "    .dataframe tbody tr th {\n",
       "        vertical-align: top;\n",
       "    }\n",
       "\n",
       "    .dataframe thead th {\n",
       "        text-align: right;\n",
       "    }\n",
       "</style>\n",
       "<table border=\"1\" class=\"dataframe\">\n",
       "  <thead>\n",
       "    <tr style=\"text-align: right;\">\n",
       "      <th></th>\n",
       "      <th>asin</th>\n",
       "      <th>counts</th>\n",
       "    </tr>\n",
       "  </thead>\n",
       "  <tbody>\n",
       "    <tr>\n",
       "      <th>0</th>\n",
       "      <td>8505590</td>\n",
       "      <td>1293</td>\n",
       "    </tr>\n",
       "    <tr>\n",
       "      <th>1</th>\n",
       "      <td>4251831</td>\n",
       "      <td>1224</td>\n",
       "    </tr>\n",
       "    <tr>\n",
       "      <th>2</th>\n",
       "      <td>4201386</td>\n",
       "      <td>973</td>\n",
       "    </tr>\n",
       "    <tr>\n",
       "      <th>3</th>\n",
       "      <td>6510154</td>\n",
       "      <td>876</td>\n",
       "    </tr>\n",
       "    <tr>\n",
       "      <th>4</th>\n",
       "      <td>4007573</td>\n",
       "      <td>797</td>\n",
       "    </tr>\n",
       "    <tr>\n",
       "      <th>...</th>\n",
       "      <td>...</td>\n",
       "      <td>...</td>\n",
       "    </tr>\n",
       "    <tr>\n",
       "      <th>1401</th>\n",
       "      <td>9152069</td>\n",
       "      <td>1</td>\n",
       "    </tr>\n",
       "    <tr>\n",
       "      <th>1402</th>\n",
       "      <td>2445546</td>\n",
       "      <td>1</td>\n",
       "    </tr>\n",
       "    <tr>\n",
       "      <th>1403</th>\n",
       "      <td>5190331</td>\n",
       "      <td>1</td>\n",
       "    </tr>\n",
       "    <tr>\n",
       "      <th>1404</th>\n",
       "      <td>5190290</td>\n",
       "      <td>1</td>\n",
       "    </tr>\n",
       "    <tr>\n",
       "      <th>1405</th>\n",
       "      <td>3308857</td>\n",
       "      <td>1</td>\n",
       "    </tr>\n",
       "  </tbody>\n",
       "</table>\n",
       "<p>1406 rows × 2 columns</p>\n",
       "</div>"
      ],
      "text/plain": [
       "         asin  counts\n",
       "0     8505590    1293\n",
       "1     4251831    1224\n",
       "2     4201386     973\n",
       "3     6510154     876\n",
       "4     4007573     797\n",
       "...       ...     ...\n",
       "1401  9152069       1\n",
       "1402  2445546       1\n",
       "1403  5190331       1\n",
       "1404  5190290       1\n",
       "1405  3308857       1\n",
       "\n",
       "[1406 rows x 2 columns]"
      ]
     },
     "execution_count": 29,
     "metadata": {},
     "output_type": "execute_result"
    },
    {
     "data": {
      "application/javascript": [
       "\n",
       "            setTimeout(function() {\n",
       "                var nbb_cell_id = 29;\n",
       "                var nbb_unformatted_code = \"counts\";\n",
       "                var nbb_formatted_code = \"counts\";\n",
       "                var nbb_cells = Jupyter.notebook.get_cells();\n",
       "                for (var i = 0; i < nbb_cells.length; ++i) {\n",
       "                    if (nbb_cells[i].input_prompt_number == nbb_cell_id) {\n",
       "                        if (nbb_cells[i].get_text() == nbb_unformatted_code) {\n",
       "                             nbb_cells[i].set_text(nbb_formatted_code);\n",
       "                        }\n",
       "                        break;\n",
       "                    }\n",
       "                }\n",
       "            }, 500);\n",
       "            "
      ],
      "text/plain": [
       "<IPython.core.display.Javascript object>"
      ]
     },
     "metadata": {},
     "output_type": "display_data"
    }
   ],
   "source": [
    "counts"
   ]
  },
  {
   "cell_type": "code",
   "execution_count": 36,
   "id": "488f7dd1",
   "metadata": {},
   "outputs": [
    {
     "data": {
      "text/plain": [
       "10     5323249\n",
       "11     8407045\n",
       "12     9010390\n",
       "13     8500296\n",
       "14     1270743\n",
       "        ...   \n",
       "390    2816436\n",
       "391    9068775\n",
       "392    4327411\n",
       "393     670155\n",
       "394    1279074\n",
       "Name: asin, Length: 385, dtype: int64"
      ]
     },
     "execution_count": 36,
     "metadata": {},
     "output_type": "execute_result"
    },
    {
     "data": {
      "application/javascript": [
       "\n",
       "            setTimeout(function() {\n",
       "                var nbb_cell_id = 36;\n",
       "                var nbb_unformatted_code = \"counts.asin[(counts.counts < 650) * (counts.counts > 100)]\";\n",
       "                var nbb_formatted_code = \"counts.asin[(counts.counts < 650) * (counts.counts > 100)]\";\n",
       "                var nbb_cells = Jupyter.notebook.get_cells();\n",
       "                for (var i = 0; i < nbb_cells.length; ++i) {\n",
       "                    if (nbb_cells[i].input_prompt_number == nbb_cell_id) {\n",
       "                        if (nbb_cells[i].get_text() == nbb_unformatted_code) {\n",
       "                             nbb_cells[i].set_text(nbb_formatted_code);\n",
       "                        }\n",
       "                        break;\n",
       "                    }\n",
       "                }\n",
       "            }, 500);\n",
       "            "
      ],
      "text/plain": [
       "<IPython.core.display.Javascript object>"
      ]
     },
     "metadata": {},
     "output_type": "display_data"
    }
   ],
   "source": [
    "counts.asin[(counts.counts < 650) * (counts.counts > 100)]"
   ]
  },
  {
   "cell_type": "code",
   "execution_count": 41,
   "id": "35e4bc1f",
   "metadata": {},
   "outputs": [
    {
     "data": {
      "text/plain": [
       "(array([200]),)"
      ]
     },
     "execution_count": 41,
     "metadata": {},
     "output_type": "execute_result"
    },
    {
     "data": {
      "application/javascript": [
       "\n",
       "            setTimeout(function() {\n",
       "                var nbb_cell_id = 41;\n",
       "                var nbb_unformatted_code = \"np.where(reviews.asin.unique() == 1279074)\";\n",
       "                var nbb_formatted_code = \"np.where(reviews.asin.unique() == 1279074)\";\n",
       "                var nbb_cells = Jupyter.notebook.get_cells();\n",
       "                for (var i = 0; i < nbb_cells.length; ++i) {\n",
       "                    if (nbb_cells[i].input_prompt_number == nbb_cell_id) {\n",
       "                        if (nbb_cells[i].get_text() == nbb_unformatted_code) {\n",
       "                             nbb_cells[i].set_text(nbb_formatted_code);\n",
       "                        }\n",
       "                        break;\n",
       "                    }\n",
       "                }\n",
       "            }, 500);\n",
       "            "
      ],
      "text/plain": [
       "<IPython.core.display.Javascript object>"
      ]
     },
     "metadata": {},
     "output_type": "display_data"
    }
   ],
   "source": [
    "np.where(reviews.asin.unique() == 1279074)"
   ]
  },
  {
   "cell_type": "code",
   "execution_count": 43,
   "id": "ab190bec",
   "metadata": {},
   "outputs": [
    {
     "data": {
      "text/plain": [
       "(array([1.000e+00, 1.000e+00, 3.000e+00, 6.000e+00, 3.400e+01, 8.800e+01,\n",
       "        1.740e+02, 3.390e+02, 6.280e+02, 9.290e+02, 1.261e+03, 1.426e+03,\n",
       "        1.515e+03, 1.296e+03, 1.073e+03, 7.190e+02, 3.310e+02, 1.230e+02,\n",
       "        4.100e+01, 1.200e+01]),\n",
       " array([1.00311565, 1.12505956, 1.24700346, 1.36894736, 1.49089127,\n",
       "        1.61283517, 1.73477907, 1.85672297, 1.97866688, 2.10061078,\n",
       "        2.22255468, 2.34449859, 2.46644249, 2.58838639, 2.7103303 ,\n",
       "        2.8322742 , 2.9542181 , 3.076162  , 3.19810591, 3.32004981,\n",
       "        3.44199371]),\n",
       " <BarContainer object of 20 artists>)"
      ]
     },
     "execution_count": 43,
     "metadata": {},
     "output_type": "execute_result"
    },
    {
     "data": {
      "image/png": "[encoded data removed]",
      "text/plain": [
       "<Figure size 432x288 with 1 Axes>"
      ]
     },
     "metadata": {},
     "output_type": "display_data"
    },
    {
     "data": {
      "application/javascript": [
       "\n",
       "            setTimeout(function() {\n",
       "                var nbb_cell_id = 43;\n",
       "                var nbb_unformatted_code = \"plt.hist(posterior_samples[:, 200, 1], bins=20)\";\n",
       "                var nbb_formatted_code = \"plt.hist(posterior_samples[:, 200, 1], bins=20)\";\n",
       "                var nbb_cells = Jupyter.notebook.get_cells();\n",
       "                for (var i = 0; i < nbb_cells.length; ++i) {\n",
       "                    if (nbb_cells[i].input_prompt_number == nbb_cell_id) {\n",
       "                        if (nbb_cells[i].get_text() == nbb_unformatted_code) {\n",
       "                             nbb_cells[i].set_text(nbb_formatted_code);\n",
       "                        }\n",
       "                        break;\n",
       "                    }\n",
       "                }\n",
       "            }, 500);\n",
       "            "
      ],
      "text/plain": [
       "<IPython.core.display.Javascript object>"
      ]
     },
     "metadata": {},
     "output_type": "display_data"
    }
   ],
   "source": [
    "plt.hist(posterior_samples[:, 200, 1], bins=20)"
   ]
  },
  {
   "cell_type": "code",
   "execution_count": 14,
   "id": "cca29bfc",
   "metadata": {},
   "outputs": [
    {
     "data": {
      "text/plain": [
       "array([[ 0.,  0.,  0.,  0.,  0.],\n",
       "       [ 0.,  0.,  0.,  0.,  1.],\n",
       "       [ 0.,  0.,  0.,  0.,  2.],\n",
       "       [ 0.,  0.,  0.,  0.,  3.],\n",
       "       [ 0.,  0.,  0.,  0.,  4.],\n",
       "       [ 0.,  0.,  0.,  0.,  5.],\n",
       "       [ 0.,  0.,  0.,  0.,  6.],\n",
       "       [ 0.,  0.,  0.,  0.,  7.],\n",
       "       [ 0.,  0.,  0.,  0.,  8.],\n",
       "       [ 0.,  0.,  0.,  1.,  8.],\n",
       "       [ 0.,  0.,  0.,  1.,  9.],\n",
       "       [ 0.,  0.,  0.,  1., 10.],\n",
       "       [ 0.,  0.,  0.,  1., 11.],\n",
       "       [ 1.,  0.,  0.,  1., 11.],\n",
       "       [ 1.,  0.,  0.,  1., 12.],\n",
       "       [ 1.,  0.,  0.,  1., 13.],\n",
       "       [ 1.,  0.,  0.,  1., 14.],\n",
       "       [ 1.,  0.,  1.,  1., 14.],\n",
       "       [ 1.,  0.,  1.,  1., 15.],\n",
       "       [ 1.,  0.,  1.,  2., 15.],\n",
       "       [ 1.,  0.,  2.,  2., 15.],\n",
       "       [ 1.,  0.,  2.,  3., 15.],\n",
       "       [ 1.,  0.,  2.,  3., 16.],\n",
       "       [ 1.,  0.,  2.,  3., 17.],\n",
       "       [ 1.,  1.,  2.,  3., 17.],\n",
       "       [ 1.,  1.,  2.,  4., 17.],\n",
       "       [ 1.,  1.,  2.,  4., 18.],\n",
       "       [ 1.,  1.,  2.,  4., 19.],\n",
       "       [ 1.,  1.,  2.,  5., 19.],\n",
       "       [ 1.,  1.,  2.,  5., 20.],\n",
       "       [ 1.,  1.,  2.,  5., 21.],\n",
       "       [ 1.,  1.,  2.,  6., 21.],\n",
       "       [ 1.,  1.,  2.,  7., 21.],\n",
       "       [ 1.,  1.,  2.,  7., 22.],\n",
       "       [ 1.,  1.,  3.,  7., 22.],\n",
       "       [ 1.,  1.,  4.,  7., 22.],\n",
       "       [ 1.,  1.,  4.,  7., 23.],\n",
       "       [ 2.,  1.,  4.,  7., 23.],\n",
       "       [ 2.,  1.,  4.,  7., 24.],\n",
       "       [ 2.,  1.,  4.,  7., 25.],\n",
       "       [ 2.,  1.,  4.,  7., 26.],\n",
       "       [ 2.,  1.,  4.,  7., 27.],\n",
       "       [ 2.,  1.,  4.,  7., 28.],\n",
       "       [ 2.,  1.,  4.,  7., 29.],\n",
       "       [ 2.,  1.,  5.,  7., 29.],\n",
       "       [ 2.,  1.,  5.,  7., 30.]])"
      ]
     },
     "execution_count": 14,
     "metadata": {},
     "output_type": "execute_result"
    },
    {
     "data": {
      "application/javascript": [
       "\n",
       "            setTimeout(function() {\n",
       "                var nbb_cell_id = 14;\n",
       "                var nbb_unformatted_code = \"timeseries_data[1300]\";\n",
       "                var nbb_formatted_code = \"timeseries_data[1300]\";\n",
       "                var nbb_cells = Jupyter.notebook.get_cells();\n",
       "                for (var i = 0; i < nbb_cells.length; ++i) {\n",
       "                    if (nbb_cells[i].input_prompt_number == nbb_cell_id) {\n",
       "                        if (nbb_cells[i].get_text() == nbb_unformatted_code) {\n",
       "                             nbb_cells[i].set_text(nbb_formatted_code);\n",
       "                        }\n",
       "                        break;\n",
       "                    }\n",
       "                }\n",
       "            }, 500);\n",
       "            "
      ],
      "text/plain": [
       "<IPython.core.display.Javascript object>"
      ]
     },
     "metadata": {},
     "output_type": "display_data"
    }
   ],
   "source": [
    "timeseries_data[1300]"
   ]
  },
  {
   "cell_type": "code",
   "execution_count": null,
   "id": "916cadca",
   "metadata": {},
   "outputs": [],
   "source": []
  }
 ],
 "metadata": {
  "kernelspec": {
   "display_name": "Python 3 (ipykernel)",
   "language": "python",
   "name": "python3"
  },
  "language_info": {
   "codemirror_mode": {
    "name": "ipython",
    "version": 3
   },
   "file_extension": ".py",
   "mimetype": "text/x-python",
   "name": "python",
   "nbconvert_exporter": "python",
   "pygments_lexer": "ipython3",
   "version": "3.9.7"
  }
 },
 "nbformat": 4,
 "nbformat_minor": 5
}
