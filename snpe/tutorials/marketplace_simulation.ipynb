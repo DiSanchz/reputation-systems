{
 "cells": [
  {
   "cell_type": "markdown",
   "id": "96879790",
   "metadata": {},
   "source": [
    "# Marketplace simulation"
   ]
  },
  {
   "cell_type": "markdown",
   "id": "c046f999",
   "metadata": {},
   "source": [
    "### A. Introduction"
   ]
  },
  {
   "cell_type": "markdown",
   "id": "f1b136d8",
   "metadata": {},
   "source": [
    "While non-marketplace simulations are focused on a number of consumers experiencing and leaving ratings of a single product, marketplace simulations allow to conduct a similar excercise but including a whole range of ___P___ different products from which consumers can choose between. Accordingly the journey of virtual consumers through the marketplace simulation will be in part similar to that of a non-marketplace one, with the main difference that now each of them will have to choose which particular product to buy from those available. Once this selection process takes place the consumer goes through the rest of the steps that will determine whether a rating is posted or not (formulating expectations, experiencing the product etc.). Moreover multiple marketplaces can be included in a single simulation so you can think of a marketplace simulation as being composed of ___M___ different marketplaces, including  ___P___ different simulated products each from which simulated consumers are able to choose.\n"
   ]
  },
  {
   "cell_type": "markdown",
   "id": "169c0fdd",
   "metadata": {},
   "source": [
    "### B. Preparing the simulation"
   ]
  },
  {
   "cell_type": "markdown",
   "id": "8d826fde",
   "metadata": {},
   "source": [
    "Having briefly introduced the concept of Marketplace simulation, lets execute the following code cell containing the relevant imports to run the simulation alongside other related settings."
   ]
  },
  {
   "cell_type": "code",
   "execution_count": 1,
   "id": "4eb6c73a",
   "metadata": {},
   "outputs": [
    {
     "ename": "ModuleNotFoundError",
     "evalue": "No module named 'nb_black'",
     "output_type": "error",
     "traceback": [
      "\u001b[0;31m---------------------------------------------------------------------------\u001b[0m",
      "\u001b[0;31mModuleNotFoundError\u001b[0m                       Traceback (most recent call last)",
      "\u001b[0;32m/tmp/ipykernel_122/2088343733.py\u001b[0m in \u001b[0;36m<cell line: 5>\u001b[0;34m()\u001b[0m\n\u001b[1;32m      3\u001b[0m \u001b[0;34m\u001b[0m\u001b[0m\n\u001b[1;32m      4\u001b[0m \u001b[0;31m### Just a formatting related plugin\u001b[0m\u001b[0;34m\u001b[0m\u001b[0;34m\u001b[0m\u001b[0m\n\u001b[0;32m----> 5\u001b[0;31m \u001b[0mget_ipython\u001b[0m\u001b[0;34m(\u001b[0m\u001b[0;34m)\u001b[0m\u001b[0;34m.\u001b[0m\u001b[0mrun_line_magic\u001b[0m\u001b[0;34m(\u001b[0m\u001b[0;34m'load_ext'\u001b[0m\u001b[0;34m,\u001b[0m \u001b[0;34m'nb_black'\u001b[0m\u001b[0;34m)\u001b[0m\u001b[0;34m\u001b[0m\u001b[0;34m\u001b[0m\u001b[0m\n\u001b[0m\u001b[1;32m      6\u001b[0m \u001b[0;34m\u001b[0m\u001b[0m\n\u001b[1;32m      7\u001b[0m \u001b[0mget_ipython\u001b[0m\u001b[0;34m(\u001b[0m\u001b[0;34m)\u001b[0m\u001b[0;34m.\u001b[0m\u001b[0mrun_line_magic\u001b[0m\u001b[0;34m(\u001b[0m\u001b[0;34m'matplotlib'\u001b[0m\u001b[0;34m,\u001b[0m \u001b[0;34m'inline'\u001b[0m\u001b[0;34m)\u001b[0m\u001b[0;34m\u001b[0m\u001b[0;34m\u001b[0m\u001b[0m\n",
      "\u001b[0;32m~/anaconda3/lib/python3.9/site-packages/IPython/core/interactiveshell.py\u001b[0m in \u001b[0;36mrun_line_magic\u001b[0;34m(self, magic_name, line, _stack_depth)\u001b[0m\n\u001b[1;32m   2405\u001b[0m                 \u001b[0mkwargs\u001b[0m\u001b[0;34m[\u001b[0m\u001b[0;34m'local_ns'\u001b[0m\u001b[0;34m]\u001b[0m \u001b[0;34m=\u001b[0m \u001b[0mself\u001b[0m\u001b[0;34m.\u001b[0m\u001b[0mget_local_scope\u001b[0m\u001b[0;34m(\u001b[0m\u001b[0mstack_depth\u001b[0m\u001b[0;34m)\u001b[0m\u001b[0;34m\u001b[0m\u001b[0;34m\u001b[0m\u001b[0m\n\u001b[1;32m   2406\u001b[0m             \u001b[0;32mwith\u001b[0m \u001b[0mself\u001b[0m\u001b[0;34m.\u001b[0m\u001b[0mbuiltin_trap\u001b[0m\u001b[0;34m:\u001b[0m\u001b[0;34m\u001b[0m\u001b[0;34m\u001b[0m\u001b[0m\n\u001b[0;32m-> 2407\u001b[0;31m                 \u001b[0mresult\u001b[0m \u001b[0;34m=\u001b[0m \u001b[0mfn\u001b[0m\u001b[0;34m(\u001b[0m\u001b[0;34m*\u001b[0m\u001b[0margs\u001b[0m\u001b[0;34m,\u001b[0m \u001b[0;34m**\u001b[0m\u001b[0mkwargs\u001b[0m\u001b[0;34m)\u001b[0m\u001b[0;34m\u001b[0m\u001b[0;34m\u001b[0m\u001b[0m\n\u001b[0m\u001b[1;32m   2408\u001b[0m             \u001b[0;32mreturn\u001b[0m \u001b[0mresult\u001b[0m\u001b[0;34m\u001b[0m\u001b[0;34m\u001b[0m\u001b[0m\n\u001b[1;32m   2409\u001b[0m \u001b[0;34m\u001b[0m\u001b[0m\n",
      "\u001b[0;32m~/anaconda3/lib/python3.9/site-packages/decorator.py\u001b[0m in \u001b[0;36mfun\u001b[0;34m(*args, **kw)\u001b[0m\n\u001b[1;32m    230\u001b[0m             \u001b[0;32mif\u001b[0m \u001b[0;32mnot\u001b[0m \u001b[0mkwsyntax\u001b[0m\u001b[0;34m:\u001b[0m\u001b[0;34m\u001b[0m\u001b[0;34m\u001b[0m\u001b[0m\n\u001b[1;32m    231\u001b[0m                 \u001b[0margs\u001b[0m\u001b[0;34m,\u001b[0m \u001b[0mkw\u001b[0m \u001b[0;34m=\u001b[0m \u001b[0mfix\u001b[0m\u001b[0;34m(\u001b[0m\u001b[0margs\u001b[0m\u001b[0;34m,\u001b[0m \u001b[0mkw\u001b[0m\u001b[0;34m,\u001b[0m \u001b[0msig\u001b[0m\u001b[0;34m)\u001b[0m\u001b[0;34m\u001b[0m\u001b[0;34m\u001b[0m\u001b[0m\n\u001b[0;32m--> 232\u001b[0;31m             \u001b[0;32mreturn\u001b[0m \u001b[0mcaller\u001b[0m\u001b[0;34m(\u001b[0m\u001b[0mfunc\u001b[0m\u001b[0;34m,\u001b[0m \u001b[0;34m*\u001b[0m\u001b[0;34m(\u001b[0m\u001b[0mextras\u001b[0m \u001b[0;34m+\u001b[0m \u001b[0margs\u001b[0m\u001b[0;34m)\u001b[0m\u001b[0;34m,\u001b[0m \u001b[0;34m**\u001b[0m\u001b[0mkw\u001b[0m\u001b[0;34m)\u001b[0m\u001b[0;34m\u001b[0m\u001b[0;34m\u001b[0m\u001b[0m\n\u001b[0m\u001b[1;32m    233\u001b[0m     \u001b[0mfun\u001b[0m\u001b[0;34m.\u001b[0m\u001b[0m__name__\u001b[0m \u001b[0;34m=\u001b[0m \u001b[0mfunc\u001b[0m\u001b[0;34m.\u001b[0m\u001b[0m__name__\u001b[0m\u001b[0;34m\u001b[0m\u001b[0;34m\u001b[0m\u001b[0m\n\u001b[1;32m    234\u001b[0m     \u001b[0mfun\u001b[0m\u001b[0;34m.\u001b[0m\u001b[0m__doc__\u001b[0m \u001b[0;34m=\u001b[0m \u001b[0mfunc\u001b[0m\u001b[0;34m.\u001b[0m\u001b[0m__doc__\u001b[0m\u001b[0;34m\u001b[0m\u001b[0;34m\u001b[0m\u001b[0m\n",
      "\u001b[0;32m~/anaconda3/lib/python3.9/site-packages/IPython/core/magic.py\u001b[0m in \u001b[0;36m<lambda>\u001b[0;34m(f, *a, **k)\u001b[0m\n\u001b[1;32m    185\u001b[0m     \u001b[0;31m# but it's overkill for just that one bit of state.\u001b[0m\u001b[0;34m\u001b[0m\u001b[0;34m\u001b[0m\u001b[0m\n\u001b[1;32m    186\u001b[0m     \u001b[0;32mdef\u001b[0m \u001b[0mmagic_deco\u001b[0m\u001b[0;34m(\u001b[0m\u001b[0marg\u001b[0m\u001b[0;34m)\u001b[0m\u001b[0;34m:\u001b[0m\u001b[0;34m\u001b[0m\u001b[0;34m\u001b[0m\u001b[0m\n\u001b[0;32m--> 187\u001b[0;31m         \u001b[0mcall\u001b[0m \u001b[0;34m=\u001b[0m \u001b[0;32mlambda\u001b[0m \u001b[0mf\u001b[0m\u001b[0;34m,\u001b[0m \u001b[0;34m*\u001b[0m\u001b[0ma\u001b[0m\u001b[0;34m,\u001b[0m \u001b[0;34m**\u001b[0m\u001b[0mk\u001b[0m\u001b[0;34m:\u001b[0m \u001b[0mf\u001b[0m\u001b[0;34m(\u001b[0m\u001b[0;34m*\u001b[0m\u001b[0ma\u001b[0m\u001b[0;34m,\u001b[0m \u001b[0;34m**\u001b[0m\u001b[0mk\u001b[0m\u001b[0;34m)\u001b[0m\u001b[0;34m\u001b[0m\u001b[0;34m\u001b[0m\u001b[0m\n\u001b[0m\u001b[1;32m    188\u001b[0m \u001b[0;34m\u001b[0m\u001b[0m\n\u001b[1;32m    189\u001b[0m         \u001b[0;32mif\u001b[0m \u001b[0mcallable\u001b[0m\u001b[0;34m(\u001b[0m\u001b[0marg\u001b[0m\u001b[0;34m)\u001b[0m\u001b[0;34m:\u001b[0m\u001b[0;34m\u001b[0m\u001b[0;34m\u001b[0m\u001b[0m\n",
      "\u001b[0;32m~/anaconda3/lib/python3.9/site-packages/IPython/core/magics/extension.py\u001b[0m in \u001b[0;36mload_ext\u001b[0;34m(self, module_str)\u001b[0m\n\u001b[1;32m     31\u001b[0m         \u001b[0;32mif\u001b[0m \u001b[0;32mnot\u001b[0m \u001b[0mmodule_str\u001b[0m\u001b[0;34m:\u001b[0m\u001b[0;34m\u001b[0m\u001b[0;34m\u001b[0m\u001b[0m\n\u001b[1;32m     32\u001b[0m             \u001b[0;32mraise\u001b[0m \u001b[0mUsageError\u001b[0m\u001b[0;34m(\u001b[0m\u001b[0;34m'Missing module name.'\u001b[0m\u001b[0;34m)\u001b[0m\u001b[0;34m\u001b[0m\u001b[0;34m\u001b[0m\u001b[0m\n\u001b[0;32m---> 33\u001b[0;31m         \u001b[0mres\u001b[0m \u001b[0;34m=\u001b[0m \u001b[0mself\u001b[0m\u001b[0;34m.\u001b[0m\u001b[0mshell\u001b[0m\u001b[0;34m.\u001b[0m\u001b[0mextension_manager\u001b[0m\u001b[0;34m.\u001b[0m\u001b[0mload_extension\u001b[0m\u001b[0;34m(\u001b[0m\u001b[0mmodule_str\u001b[0m\u001b[0;34m)\u001b[0m\u001b[0;34m\u001b[0m\u001b[0;34m\u001b[0m\u001b[0m\n\u001b[0m\u001b[1;32m     34\u001b[0m \u001b[0;34m\u001b[0m\u001b[0m\n\u001b[1;32m     35\u001b[0m         \u001b[0;32mif\u001b[0m \u001b[0mres\u001b[0m \u001b[0;34m==\u001b[0m \u001b[0;34m'already loaded'\u001b[0m\u001b[0;34m:\u001b[0m\u001b[0;34m\u001b[0m\u001b[0;34m\u001b[0m\u001b[0m\n",
      "\u001b[0;32m~/anaconda3/lib/python3.9/site-packages/IPython/core/extensions.py\u001b[0m in \u001b[0;36mload_extension\u001b[0;34m(self, module_str)\u001b[0m\n\u001b[1;32m     78\u001b[0m             \u001b[0;32mif\u001b[0m \u001b[0mmodule_str\u001b[0m \u001b[0;32mnot\u001b[0m \u001b[0;32min\u001b[0m \u001b[0msys\u001b[0m\u001b[0;34m.\u001b[0m\u001b[0mmodules\u001b[0m\u001b[0;34m:\u001b[0m\u001b[0;34m\u001b[0m\u001b[0;34m\u001b[0m\u001b[0m\n\u001b[1;32m     79\u001b[0m                 \u001b[0;32mwith\u001b[0m \u001b[0mprepended_to_syspath\u001b[0m\u001b[0;34m(\u001b[0m\u001b[0mself\u001b[0m\u001b[0;34m.\u001b[0m\u001b[0mipython_extension_dir\u001b[0m\u001b[0;34m)\u001b[0m\u001b[0;34m:\u001b[0m\u001b[0;34m\u001b[0m\u001b[0;34m\u001b[0m\u001b[0m\n\u001b[0;32m---> 80\u001b[0;31m                     \u001b[0mmod\u001b[0m \u001b[0;34m=\u001b[0m \u001b[0mimport_module\u001b[0m\u001b[0;34m(\u001b[0m\u001b[0mmodule_str\u001b[0m\u001b[0;34m)\u001b[0m\u001b[0;34m\u001b[0m\u001b[0;34m\u001b[0m\u001b[0m\n\u001b[0m\u001b[1;32m     81\u001b[0m                     \u001b[0;32mif\u001b[0m \u001b[0mmod\u001b[0m\u001b[0;34m.\u001b[0m\u001b[0m__file__\u001b[0m\u001b[0;34m.\u001b[0m\u001b[0mstartswith\u001b[0m\u001b[0;34m(\u001b[0m\u001b[0mself\u001b[0m\u001b[0;34m.\u001b[0m\u001b[0mipython_extension_dir\u001b[0m\u001b[0;34m)\u001b[0m\u001b[0;34m:\u001b[0m\u001b[0;34m\u001b[0m\u001b[0;34m\u001b[0m\u001b[0m\n\u001b[1;32m     82\u001b[0m                         print((\"Loading extensions from {dir} is deprecated. \"\n",
      "\u001b[0;32m~/anaconda3/lib/python3.9/importlib/__init__.py\u001b[0m in \u001b[0;36mimport_module\u001b[0;34m(name, package)\u001b[0m\n\u001b[1;32m    125\u001b[0m                 \u001b[0;32mbreak\u001b[0m\u001b[0;34m\u001b[0m\u001b[0;34m\u001b[0m\u001b[0m\n\u001b[1;32m    126\u001b[0m             \u001b[0mlevel\u001b[0m \u001b[0;34m+=\u001b[0m \u001b[0;36m1\u001b[0m\u001b[0;34m\u001b[0m\u001b[0;34m\u001b[0m\u001b[0m\n\u001b[0;32m--> 127\u001b[0;31m     \u001b[0;32mreturn\u001b[0m \u001b[0m_bootstrap\u001b[0m\u001b[0;34m.\u001b[0m\u001b[0m_gcd_import\u001b[0m\u001b[0;34m(\u001b[0m\u001b[0mname\u001b[0m\u001b[0;34m[\u001b[0m\u001b[0mlevel\u001b[0m\u001b[0;34m:\u001b[0m\u001b[0;34m]\u001b[0m\u001b[0;34m,\u001b[0m \u001b[0mpackage\u001b[0m\u001b[0;34m,\u001b[0m \u001b[0mlevel\u001b[0m\u001b[0;34m)\u001b[0m\u001b[0;34m\u001b[0m\u001b[0;34m\u001b[0m\u001b[0m\n\u001b[0m\u001b[1;32m    128\u001b[0m \u001b[0;34m\u001b[0m\u001b[0m\n\u001b[1;32m    129\u001b[0m \u001b[0;34m\u001b[0m\u001b[0m\n",
      "\u001b[0;32m~/anaconda3/lib/python3.9/importlib/_bootstrap.py\u001b[0m in \u001b[0;36m_gcd_import\u001b[0;34m(name, package, level)\u001b[0m\n",
      "\u001b[0;32m~/anaconda3/lib/python3.9/importlib/_bootstrap.py\u001b[0m in \u001b[0;36m_find_and_load\u001b[0;34m(name, import_)\u001b[0m\n",
      "\u001b[0;32m~/anaconda3/lib/python3.9/importlib/_bootstrap.py\u001b[0m in \u001b[0;36m_find_and_load_unlocked\u001b[0;34m(name, import_)\u001b[0m\n",
      "\u001b[0;31mModuleNotFoundError\u001b[0m: No module named 'nb_black'"
     ]
    }
   ],
   "source": [
    "%load_ext autoreload\n",
    "%autoreload 2\n",
    "\n",
    "### Just a formatting related plugin\n",
    "%load_ext nb_black\n",
    "\n",
    "%matplotlib inline\n",
    "import matplotlib.pyplot as plt\n",
    "\n",
    "import sys\n",
    "from numpy import random\n",
    "\n",
    "sys.path.append(\"../\")\n",
    "\n",
    "\n",
    "import multiprocessing as mp\n",
    "\n",
    "from collections import deque\n",
    "from pathlib import Path\n",
    "from typing import Dict, Optional\n",
    "\n",
    "import arviz\n",
    "import pickle\n",
    "\n",
    "import numpy as np\n",
    "import pandas as pd\n",
    "import pyreadr\n",
    "import sbi\n",
    "import sbi.utils as sbi_utils\n",
    "import seaborn as sns\n",
    "import statsmodels.formula.api as smf\n",
    "\n",
    "import torch\n",
    "\n",
    "from joblib import Parallel, delayed\n",
    "from matplotlib.lines import Line2D\n",
    "from scipy.stats import ttest_ind\n",
    "from snpe.inference import inference_class\n",
    "from snpe.simulations import simulator_class\n",
    "from snpe.simulations import simulator_class, marketplace_simulator_class\n",
    "from snpe.embeddings.embeddings_to_ratings import EmbeddingRatingPredictor\n",
    "from snpe.embeddings.embeddings_density_est_GMM import EmbeddingDensityGMM\n",
    "from snpe.utils.statistics import review_histogram_correlation\n",
    "from snpe.utils.tqdm_utils import tqdm_joblib\n",
    "from tqdm import tqdm\n",
    "\n",
    "# import tqdm\n",
    "\n",
    "ARTIFACT_PATH = Path(\"../artifacts/marketplace/\")\n",
    "\n",
    "### Set plotting parameters\n",
    "sns.set(style=\"white\", context=\"talk\", font_scale=2.5)\n",
    "sns.set_color_codes(palette=\"colorblind\")\n",
    "sns.set_style(\"ticks\", {\"axes.linewidth\": 2.0})"
   ]
  },
  {
   "cell_type": "markdown",
   "id": "4abd9708",
   "metadata": {},
   "source": [
    "In the cell below the path where the output of the simulation will be stored is defined. It is set such that output is stored in the \"output\" folder within this directory, but you can modify it to match your storage preferences. "
   ]
  },
  {
   "cell_type": "code",
   "execution_count": null,
   "id": "cd004dff",
   "metadata": {},
   "outputs": [],
   "source": [
    "OUTPUT_PATH = Path(\"output/\")"
   ]
  },
  {
   "cell_type": "markdown",
   "id": "24787404",
   "metadata": {},
   "source": [
    "Beyond the overall scheme presented in the introduction, markeplace simulations incorporate two other significant new elements which were not present in the non-marketplace setting and that deserve to be mentioned before actually runing the simulation.\n",
    "\n",
    "1. The first of these are the Gaussian mixture models (GMM) fitted on the products' and users' embeddings that are then used to draw the embeddings for the fictional products and users that will compose the simulated marketplaces. \n",
    "\n",
    "2. The second element is a feed-forward neural network trained to predict the real quality of each simulated product from its embedding. \n",
    "\n",
    "At this point, if you intend to run an example marketplace simulation you can just carry on with the rest of the notebook given that example data for such task is already provided. However if you are interested in running the simulation with your own data on products and users you should consider that the processes mentioned above require the following inputs:\n",
    "\n",
    "1. A file called \"productspace.tsv\" containing the n-dimensional product embeddings, each one accompained by a product identifier in the format \"product_< id-number >\" (e.g. product_1234567). Additionally, make sure that the id-number itself does not contain any underscore itself as this may cause problem in the input processing stage.\n",
    "\n",
    "\n",
    "2. A second file \"userspace.tsv\" containing the n-dimensional user embeddings (without any specific user identifier unlike the case of \"productspace.tsv\").\n",
    "\n",
    "\n",
    "3. A third file named \"rating_histogram_all.txt\" containing the numerical IDs and actual rating distribution [1 - 5] of the products in \"productspace.tsv\".\n",
    "\n",
    "\n",
    "For further clarity on the exact format expected for the inputs you can visit the example versions of these already provided at the path \"snpe/artifacts/marketplace/\" path within the repository. Moreover at the end of the notebook you can also find an example piece of code designed to generate valid artificial inputs for the marketplace simulation.\n",
    "\n",
    "You can place your inputs in the path \"snpe/artifacts/marketplace/\" (which is the one used by default), or alternatively select any path of your choice by setting it as the value of the argument \"artifact_path\" when instantiating the new objects of the classes in charge of fitting/training the models in the code cells below. Once the inputs have been provided as specified, the code cells below headings B.1 and B.2 can be executed to fit the GMM models for embeddings and train the feed-forward neural network for quality prediction respectively."
   ]
  },
  {
   "cell_type": "markdown",
   "id": "8c5cc166",
   "metadata": {},
   "source": [
    "#### B.1 GMM model for generation of virtual products and users"
   ]
  },
  {
   "cell_type": "code",
   "execution_count": null,
   "id": "83d34ae0",
   "metadata": {
    "scrolled": true
   },
   "outputs": [],
   "source": [
    "model = EmbeddingDensityGMM(n_components=10, n_init=5, artifact_path=ARTIFACT_PATH)\n",
    "product_embeddings, user_embeddings = model.process_input_data()\n",
    "model.fit(product_embeddings, user_embeddings)\n",
    "model.save()"
   ]
  },
  {
   "cell_type": "markdown",
   "id": "0b1bb45e",
   "metadata": {},
   "source": [
    "\n",
    "\n",
    "#### B.2 Feed-forward neural network for predicting real quality of products"
   ]
  },
  {
   "cell_type": "code",
   "execution_count": null,
   "id": "db5114dc",
   "metadata": {},
   "outputs": [],
   "source": [
    "embedding_model = EmbeddingRatingPredictor(artifact_path=ARTIFACT_PATH)\n",
    "input_df = embedding_model.process_input_data()\n",
    "(\n",
    "    ratings,\n",
    "    embeddings,\n",
    "    train_loader,\n",
    "    val_loader,\n",
    "    train_indices,\n",
    "    val_indices,\n",
    ") = embedding_model.create_training_data(input_df, validation_frac=0.1, batch_size=100)\n",
    "embedding_model.fit(train_loader, val_loader, train_indices, val_indices)\n",
    "embedding_model.save()"
   ]
  },
  {
   "cell_type": "markdown",
   "id": "9573d550",
   "metadata": {},
   "source": [
    "### C. The simulation and its arguments"
   ]
  },
  {
   "cell_type": "markdown",
   "id": "0cd5b508",
   "metadata": {},
   "source": [
    "The Marketplace simulation is represented by the MarketplaceSimulator class, and its incresed complexity requires three new arguments (to be added on top of those inherited from its parent class, the HerdingSimulator class) to govern its functioning. These new arguments are:\n",
    "\n",
    "- __num_products__: Number of products to be included in each marketplace. For example, if set at a value of 1400, a total of 1400 different virtual products will be sampled from the GMM fit of the provided product embeddings for each of the simulated marketplaces. \n",
    "\n",
    "\n",
    "- __num_marketplace_reviews__: Desired number (Integer) of ratings to be obtained accross all products in a marketplace of a given to conclude the simulation. Alternatively the simulation of a marketplace will also be concluded automatically if this number of ratings has not been reached by the time that an amount of consumers 30 times larger have visited the marketplace. E.g. In a case where this argument is set to 10, if by the time 300 consumers have been simulated less than 10 ratings have been posted the simulation will be concluded automatically.\n",
    "\n",
    "\n",
    "- __consideration_set_size__: Number of virtual products (Integer) that will compose the consideration set from which the consumer will make the final purchasing decision. For instance, if set at a value of 5, consumers in the simulation will make their final purchasing decision from a set comprised of the top 5 products whose embeddings display the highest cosine similarity to their own assigned embedding.  \n",
    "\n",
    "Furthermore the MarketplaceSimulator class allows to simulate multiple different marketplaces at once. As a result of this the function of the argument 'num_simulations' which was already employed in the non-marketplace setting has been updated in accordance with the new simulational design so now it is described as:\n",
    "\n",
    "- __num_simulations__: Total number (Integer) of marketplaces to be simulated. Each marketplace will be composed of its unique set of virtual products and consumers sampled from the GMM fit of the provided product embeddings.\n",
    "\n",
    "The generate_and_save_simulations function defined below is in charge of calling the MarkeplaceSimulator class and deliver the required arguments to configure and carry out the simulation. In case you would like to re-visit the interpretations of the other arguments which were already introduced for non-marketplace simulations you can scroll further  down the notebook where a brief review has been included."
   ]
  },
  {
   "cell_type": "code",
   "execution_count": null,
   "id": "28e1af35",
   "metadata": {},
   "outputs": [],
   "source": [
    "def generate_and_save_simulations(\n",
    "    num_simulations: int,\n",
    "    review_prior: np.ndarray,\n",
    "    tendency_to_rate: float,\n",
    "    simulation_type: str,\n",
    "    previous_rating_measure: str,\n",
    "    min_reviews_for_herding: int,\n",
    "    # herding_differentiating_measure: str,\n",
    "    num_products: int,\n",
    "    num_total_marketplace_reviews: int,\n",
    "    consideration_set_size: int,\n",
    ") -> None:\n",
    "    params = {\n",
    "        \"num_simulations\": num_simulations,\n",
    "        \"review_prior\": review_prior,\n",
    "        \"tendency_to_rate\": tendency_to_rate,\n",
    "        \"simulation_type\": simulation_type,\n",
    "        \"previous_rating_measure\": previous_rating_measure,\n",
    "        \"min_reviews_for_herding\": min_reviews_for_herding,\n",
    "        # \"herding_differentiating_measure\": herding_differentiating_measure,\n",
    "        \"num_products\": num_products,\n",
    "        \"num_total_marketplace_reviews\": num_total_marketplace_reviews,\n",
    "        \"consideration_set_size\": consideration_set_size,\n",
    "    }\n",
    "    simulator = marketplace_simulator_class.MarketplaceSimulator(params)\n",
    "    simulator.simulate(num_simulations=num_simulations)\n",
    "    simulator.save_simulations(OUTPUT_PATH)"
   ]
  },
  {
   "cell_type": "markdown",
   "id": "4abf4d8f",
   "metadata": {},
   "source": [
    "### D. Running the simulation"
   ]
  },
  {
   "cell_type": "markdown",
   "id": "e524c7cf",
   "metadata": {},
   "source": [
    "After reviwing the key aspects involved in running a marketplace simulation we can proceed to run an example of it. In the code cell below the function in charge of running the simulation is called including a series of parameters that will shape it such that:\n",
    "\n",
    "1. 16 different marketplaces will be simulated.\n",
    "2. Five ratings (one for each rating value) are pre-loaded.\n",
    "3. The tendency to rate is set at 5%.\n",
    "4. It will return a timeseries of the simulated ratings.\n",
    "5. The mode (of all previous ratings) is taken as the reference metric for herding.\n",
    "6. At least five previous ratings are required for herding to start happening.\n",
    "7. Each of the simulated marketplaces will be comprised of 10 different virtual products\n",
    "8. Five ratings are required to conclude the simulation of a given marketplace.\n",
    "9. The consideration sets will be comprised of three virtual products."
   ]
  },
  {
   "cell_type": "code",
   "execution_count": 6,
   "id": "dd64ec4b",
   "metadata": {
    "scrolled": false
   },
   "outputs": [
    {
     "name": "stdout",
     "output_type": "stream",
     "text": [
      "8 marketplaces to be simulated on 1 CPUs. Press Enter to continue..\n",
      "Loaded product embedding density estimator: \n",
      " GaussianMixture(max_iter=500, n_components=10, n_init=5, random_state=42,\n",
      "                verbose=2, verbose_interval=20)\n",
      "Loaded user embedding density estimator: \n",
      " GaussianMixture(max_iter=500, n_components=10, n_init=5, random_state=42,\n",
      "                verbose=2, verbose_interval=20)\n",
      "\t Device set to cpu, using torch num threads=1\n",
      "Using the dense network: \n",
      " Sequential(\n",
      "  (0): Linear(in_features=100, out_features=256, bias=True)\n",
      "  (1): LeakyReLU(negative_slope=0.01)\n",
      "  (2): Linear(in_features=256, out_features=128, bias=True)\n",
      "  (3): LeakyReLU(negative_slope=0.01)\n",
      "  (4): Linear(in_features=128, out_features=64, bias=True)\n",
      "  (5): LeakyReLU(negative_slope=0.01)\n",
      "  (6): Linear(in_features=64, out_features=5, bias=True)\n",
      ")\n",
      "Loaded embedding -> rating predictor model: \n",
      " RatingPredictorModel(\n",
      "  (net): Sequential(\n",
      "    (0): Linear(in_features=100, out_features=256, bias=True)\n",
      "    (1): LeakyReLU(negative_slope=0.01)\n",
      "    (2): Linear(in_features=256, out_features=128, bias=True)\n",
      "    (3): LeakyReLU(negative_slope=0.01)\n",
      "    (4): Linear(in_features=128, out_features=64, bias=True)\n",
      "    (5): LeakyReLU(negative_slope=0.01)\n",
      "    (6): Linear(in_features=64, out_features=5, bias=True)\n",
      "  )\n",
      ")\n"
     ]
    },
    {
     "name": "stderr",
     "output_type": "stream",
     "text": [
      "Worker 1: 100% 200/200 [00:20<00:00, 24.20it/s]"
     ]
    },
    {
     "data": {
      "application/javascript": [
       "\n",
       "            setTimeout(function() {\n",
       "                var nbb_cell_id = 6;\n",
       "                var nbb_unformatted_code = \"generate_and_save_simulations(8, np.ones(5), 0.05, \\\"timeseries\\\", \\\"mode\\\", 5, 10, 200, 5)\";\n",
       "                var nbb_formatted_code = \"generate_and_save_simulations(8, np.ones(5), 0.05, \\\"timeseries\\\", \\\"mode\\\", 5, 10, 200, 5)\";\n",
       "                var nbb_cells = Jupyter.notebook.get_cells();\n",
       "                for (var i = 0; i < nbb_cells.length; ++i) {\n",
       "                    if (nbb_cells[i].input_prompt_number == nbb_cell_id) {\n",
       "                        if (nbb_cells[i].get_text() == nbb_unformatted_code) {\n",
       "                             nbb_cells[i].set_text(nbb_formatted_code);\n",
       "                        }\n",
       "                        break;\n",
       "                    }\n",
       "                }\n",
       "            }, 500);\n",
       "            "
      ],
      "text/plain": [
       "<IPython.core.display.Javascript object>"
      ]
     },
     "metadata": {},
     "output_type": "display_data"
    }
   ],
   "source": [
    "generate_and_save_simulations(8, np.ones(5), 0.05, \"timeseries\", \"mode\", 5, 10, 200, 5)"
   ]
  },
  {
   "cell_type": "markdown",
   "id": "3f7ce006",
   "metadata": {},
   "source": [
    "### Appendix 1: Review of the simulation's arguments"
   ]
  },
  {
   "cell_type": "markdown",
   "id": "a9bdf3bc",
   "metadata": {},
   "source": [
    "Below you can find a review of the arguments required to carry out the simulation but that are not exclusive of the marketplace-simulations. Their functioning and interpretation is exactly the same as for non-marketplace simulations except for the 'review_prior' argument, whose interpretation differs intuitively in the sense that in does not only apply to the single product considered in a non-marketplace simulation, but to all products accross all marketplaces.\n",
    "\n",
    "- __review_prior__: Set of initial ratings for the products that are pre-loaded before the simulation starts, taking the shape of an array of five integer values. By default this is set as an array os five 1s. This implies that by the time a product within a marketplace is purchased for the first time, the consumer that has done so will observe 5 prior reviews, each of them assigned to one of the five values composing the rating scale [1 - 5]. \n",
    "\n",
    "\n",
    "- __tendency_to_rate__: Underliying tendency to rate for all consumers taking float values in the interval [0,1]. In other words, this is the proportion of consumers that will post a rating regardless of the value of the rho parameter(s) and the difference between their actual and expected product experience. If set at the default value of 0.05, 5% of all consumers will post a rating independently of the other factors at play in the simulation.This is necessary to address the \"cold start\" problem where by random chance for some products, we might have high enough values of rho that no visitors ever leave a rating.\n",
    "\n",
    "\n",
    "- __simulation_type__: Type of simulation output to produce between timeseries and histogram. Accepts the strings \"timeseries\" and \"histogram\" as inputs. Returns the timeseries of the simulated ratings, in a cumulative histogram format (so, the order of rating accumulation is preserved) if \"timeseries\" is chosen. For \"histogram\", returns the final histogram of ratings (and throws away the order of rating accumulation). \n",
    "\n",
    "\n",
    "- __previous_rating_measure__: Measure of previous ratings that will be taken as reference when experiencing herding behavior. It can be either the mean, the mode or the latest review posted. For example, if a consumer leaves a rating being subject to herding and this parameter is set as mode, it will herd towards the mode of all previous reviews. This argument is specific of the Herding and Double herding simulations and takes the strings \"mode\", \"mean\" and \"latest\" as valid inputs.\n",
    "\n",
    "\n",
    "- __min_reviews_for_herding__: Minimum number of pre-existing reviews for a consumer to be able to be subject to herding behavior. It has to be an integer value larger than 0. This argument is specific of the Herding and Double herding simulations."
   ]
  },
  {
   "cell_type": "markdown",
   "id": "344cdf2a",
   "metadata": {},
   "source": [
    "### Appendix 2: Generating artificial inputs for the simulation"
   ]
  },
  {
   "cell_type": "code",
   "execution_count": 3,
   "id": "b2f919b5",
   "metadata": {},
   "outputs": [
    {
     "data": {
      "application/javascript": [
       "\n",
       "            setTimeout(function() {\n",
       "                var nbb_cell_id = 3;\n",
       "                var nbb_unformatted_code = \"def input_generator(\\n    number_prods: int, number_users: int, artifact_path=\\\"../artifacts/marketplace/ \\\"\\n):\\n    \\\"\\\"\\\"\\n    This function generates and saves fictional inputs for a marketplace simulation.\\n    It requires the number of products and users to include in the fictional inputs as arguments.\\n    Output is stored by default in the path \\\"snpe/artifacts/marketplace/\\\",\\n    which is the path where the instances of the marketplace simulation-related classes are instructed\\n    to look for the inputs by default.\\n    A different path storage can be provided as the value of the optional \\\"artifact_path\\\" argument.\\n    \\\"\\\"\\\"\\n    assert (\\n        number_prods < 13939\\n    ), \\\"Argument number_user cannot be set at a avalue higher than 13939\\\"\\n\\n    # Generating a set of random product ids to be used in rating histograms and embeddings\\n    ids_alone = np.random.choice(\\n        np.arange(1000000, 9999999), size=number_prods, replace=False\\n    )\\n    ids_product = ids_alone.astype(str)\\n    for i in range(len(ids_product)):\\n        ids_product[i] = \\\"product_\\\" + ids_product[i]\\n\\n    # Generating 100d arrays to be used as product embeddings\\n    hundred_space = np.random.normal(size=(number_prods, 100))\\n\\n    # Generating 100d arrays to be used as user embeddings\\n    hundred_space_users = np.random.normal(size=(number_prods, 100))\\n\\n    # Including product ids alogside product embeddings\\n    embeddings_ready = pd.DataFrame(hundred_space)\\n    embeddings_ready.insert(0, \\\"product_id\\\", ids_product)\\n\\n    # Users have no visible id\\n    users_ready = pd.DataFrame(hundred_space_users)\\n\\n    ratings = pd.read_csv(\\\"rating_histogram_anom.txt\\\", sep=\\\"\\\\t\\\")\\n    ratings_ready = ratings.iloc[:1400]\\n    ratings_ready.insert(0, \\\"asin\\\", ids_alone)\\n\\n    embeddings_ready.to_csv(\\n        str(artifact_path) + \\\"productspace.tsv\\\", sep=\\\"\\\\t\\\", index=False, header=False\\n    )\\n    users_ready.to_csv(\\n        str(artifact_path) + \\\"userspace.tsv\\\", sep=\\\"\\\\t\\\", index=False, header=False\\n    )\\n    ratings_ready.to_csv(\\n        str(artifact_path) + \\\"rating_histogram_all.txt\\\", sep=\\\"\\\\t\\\", index=False\\n    )\";\n",
       "                var nbb_formatted_code = \"def input_generator(\\n    number_prods: int, number_users: int, artifact_path=\\\"../artifacts/marketplace/ \\\"\\n):\\n    \\\"\\\"\\\"\\n    This function generates and saves fictional inputs for a marketplace simulation.\\n    It requires the number of products and users to include in the fictional inputs as arguments.\\n    Output is stored by default in the path \\\"snpe/artifacts/marketplace/\\\",\\n    which is the path where the instances of the marketplace simulation-related classes are instructed\\n    to look for the inputs by default.\\n    A different path storage can be provided as the value of the optional \\\"artifact_path\\\" argument.\\n    \\\"\\\"\\\"\\n    assert (\\n        number_prods < 13939\\n    ), \\\"Argument number_user cannot be set at a avalue higher than 13939\\\"\\n\\n    # Generating a set of random product ids to be used in rating histograms and embeddings\\n    ids_alone = np.random.choice(\\n        np.arange(1000000, 9999999), size=number_prods, replace=False\\n    )\\n    ids_product = ids_alone.astype(str)\\n    for i in range(len(ids_product)):\\n        ids_product[i] = \\\"product_\\\" + ids_product[i]\\n\\n    # Generating 100d arrays to be used as product embeddings\\n    hundred_space = np.random.normal(size=(number_prods, 100))\\n\\n    # Generating 100d arrays to be used as user embeddings\\n    hundred_space_users = np.random.normal(size=(number_prods, 100))\\n\\n    # Including product ids alogside product embeddings\\n    embeddings_ready = pd.DataFrame(hundred_space)\\n    embeddings_ready.insert(0, \\\"product_id\\\", ids_product)\\n\\n    # Users have no visible id\\n    users_ready = pd.DataFrame(hundred_space_users)\\n\\n    ratings = pd.read_csv(\\\"rating_histogram_anom.txt\\\", sep=\\\"\\\\t\\\")\\n    ratings_ready = ratings.iloc[:1400]\\n    ratings_ready.insert(0, \\\"asin\\\", ids_alone)\\n\\n    embeddings_ready.to_csv(\\n        str(artifact_path) + \\\"productspace.tsv\\\", sep=\\\"\\\\t\\\", index=False, header=False\\n    )\\n    users_ready.to_csv(\\n        str(artifact_path) + \\\"userspace.tsv\\\", sep=\\\"\\\\t\\\", index=False, header=False\\n    )\\n    ratings_ready.to_csv(\\n        str(artifact_path) + \\\"rating_histogram_all.txt\\\", sep=\\\"\\\\t\\\", index=False\\n    )\";\n",
       "                var nbb_cells = Jupyter.notebook.get_cells();\n",
       "                for (var i = 0; i < nbb_cells.length; ++i) {\n",
       "                    if (nbb_cells[i].input_prompt_number == nbb_cell_id) {\n",
       "                        if (nbb_cells[i].get_text() == nbb_unformatted_code) {\n",
       "                             nbb_cells[i].set_text(nbb_formatted_code);\n",
       "                        }\n",
       "                        break;\n",
       "                    }\n",
       "                }\n",
       "            }, 500);\n",
       "            "
      ],
      "text/plain": [
       "<IPython.core.display.Javascript object>"
      ]
     },
     "metadata": {},
     "output_type": "display_data"
    }
   ],
   "source": [
    "def input_generator(\n",
    "    number_prods: int, number_users: int, artifact_path=\"../artifacts/marketplace/\"\n",
    "):\n",
    "    \"\"\"\n",
    "    This function generates and saves fictional inputs for a marketplace simulation.\n",
    "    It requires the number of products and users to include in the fictional inputs as arguments.\n",
    "    Output is stored by default in the path \"snpe/artifacts/marketplace/\",\n",
    "    which is the path where the instances of the marketplace simulation-related classes are instructed\n",
    "    to look for the inputs by default.\n",
    "    A different path storage can be provided as the value of the optional \"artifact_path\" argument.\n",
    "    \"\"\"\n",
    "    assert (\n",
    "        number_prods < 13939\n",
    "    ), \"Argument number_user cannot be set at a avalue higher than 13939\"\n",
    "\n",
    "    # Generating a set of random product ids to be used in rating histograms and embeddings\n",
    "    ids_alone = np.random.choice(\n",
    "        np.arange(1000000, 9999999), size=number_prods, replace=False\n",
    "    )\n",
    "    ids_product = ids_alone.astype(str)\n",
    "    for i in range(len(ids_product)):\n",
    "        ids_product[i] = \"product_\" + ids_product[i]\n",
    "\n",
    "    # Generating 100d arrays to be used as product embeddings\n",
    "    hundred_space = np.random.normal(size=(number_prods, 100))\n",
    "\n",
    "    # Generating 100d arrays to be used as user embeddings\n",
    "    hundred_space_users = np.random.normal(size=(number_prods, 100))\n",
    "\n",
    "    # Including product ids alogside product embeddings\n",
    "    embeddings_ready = pd.DataFrame(hundred_space)\n",
    "    embeddings_ready.insert(0, \"product_id\", ids_product)\n",
    "\n",
    "    # Users have no visible id\n",
    "    users_ready = pd.DataFrame(hundred_space_users)\n",
    "\n",
    "    ratings = pd.read_csv(\"rating_histogram_anom.txt\", sep=\"\\t\")\n",
    "    ratings_ready = ratings.iloc[:1400]\n",
    "    ratings_ready.insert(0, \"asin\", ids_alone)\n",
    "\n",
    "    embeddings_ready.to_csv(\n",
    "        str(artifact_path) + \"productspace.tsv\", sep=\"\\t\", index=False, header=False\n",
    "    )\n",
    "    users_ready.to_csv(\n",
    "        str(artifact_path) + \"userspace.tsv\", sep=\"\\t\", index=False, header=False\n",
    "    )\n",
    "    ratings_ready.to_csv(\n",
    "        str(artifact_path) + \"rating_histogram_all.txt\", sep=\"\\t\", index=False\n",
    "    )"
   ]
  },
  {
   "cell_type": "markdown",
   "id": "bd6b93e9",
   "metadata": {},
   "source": [
    "Genrating artificial output containing 1400 fictional products and users to feed the GMM models and the neural network from B.1 and B.2"
   ]
  },
  {
   "cell_type": "code",
   "execution_count": 4,
   "id": "f437d6df",
   "metadata": {
    "scrolled": true
   },
   "outputs": [
    {
     "data": {
      "application/javascript": [
       "\n",
       "            setTimeout(function() {\n",
       "                var nbb_cell_id = 4;\n",
       "                var nbb_unformatted_code = \"input_generator(1400, 1400)\";\n",
       "                var nbb_formatted_code = \"input_generator(1400, 1400)\";\n",
       "                var nbb_cells = Jupyter.notebook.get_cells();\n",
       "                for (var i = 0; i < nbb_cells.length; ++i) {\n",
       "                    if (nbb_cells[i].input_prompt_number == nbb_cell_id) {\n",
       "                        if (nbb_cells[i].get_text() == nbb_unformatted_code) {\n",
       "                             nbb_cells[i].set_text(nbb_formatted_code);\n",
       "                        }\n",
       "                        break;\n",
       "                    }\n",
       "                }\n",
       "            }, 500);\n",
       "            "
      ],
      "text/plain": [
       "<IPython.core.display.Javascript object>"
      ]
     },
     "metadata": {},
     "output_type": "display_data"
    }
   ],
   "source": [
    "input_generator(1400, 1400)"
   ]
  }
 ],
 "metadata": {
  "kernelspec": {
   "display_name": "Python 3 (ipykernel)",
   "language": "python",
   "name": "python3"
  },
  "language_info": {
   "codemirror_mode": {
    "name": "ipython",
    "version": 3
   },
   "file_extension": ".py",
   "mimetype": "text/x-python",
   "name": "python",
   "nbconvert_exporter": "python",
   "pygments_lexer": "ipython3",
   "version": "3.9.7"
  }
 },
 "nbformat": 4,
 "nbformat_minor": 5
}
