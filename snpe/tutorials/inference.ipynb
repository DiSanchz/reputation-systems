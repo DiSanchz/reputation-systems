{
 "cells": [
  {
   "cell_type": "code",
   "execution_count": 2,
   "id": "3ef0c2be",
   "metadata": {
    "scrolled": true
   },
   "outputs": [],
   "source": [
    "#!pip install arviz sbi pyreadr"
   ]
  },
  {
   "cell_type": "code",
   "execution_count": 2,
   "id": "1e876b47",
   "metadata": {},
   "outputs": [],
   "source": [
    "#import torch\n",
    "#use_cuda = torch.cuda.is_available()\n",
    "#use_cuda"
   ]
  },
  {
   "cell_type": "markdown",
   "id": "58794d33",
   "metadata": {},
   "source": [
    "# Inference"
   ]
  },
  {
   "cell_type": "markdown",
   "id": "00d0872b",
   "metadata": {},
   "source": [
    "Inference on the simulation parameters is carried out employing Sequential Neural Posterior Estimation (SNPE), implemented by the `sbi` (acronym for simulation based inference) package. \n",
    "\n",
    "This notebooks explores the process behind building a posterior distribution and getting samples from it. First the training of the neural posterior estimator and the building of a posterior distribution from it will be reviewed. After that, posterior samples will be obtained from this distribution conditioned on both observational and simulated reviews data."
   ]
  },
  {
   "cell_type": "markdown",
   "id": "5ea001b6",
   "metadata": {},
   "source": [
    "### A. Imports and preliminary steps"
   ]
  },
  {
   "cell_type": "markdown",
   "id": "0669835e",
   "metadata": {},
   "source": [
    "First of all, the relevant imports are carried out in the cell below."
   ]
  },
  {
   "cell_type": "code",
   "execution_count": 3,
   "id": "ff30a5a6",
   "metadata": {},
   "outputs": [],
   "source": [
    "%load_ext autoreload\n",
    "%autoreload 2\n",
    "\n",
    "# Just a formatting related plugin\n",
    "#%load_ext nb_black\n",
    "\n",
    "%matplotlib inline\n",
    "import matplotlib.pyplot as plt\n",
    "\n",
    "import sys\n",
    "\n",
    "sys.path.append(\"../\")\n",
    "\n",
    "import multiprocessing as mp\n",
    "\n",
    "from collections import deque\n",
    "from pathlib import Path\n",
    "from typing import Dict, Optional\n",
    "\n",
    "import arviz\n",
    "import pickle\n",
    "\n",
    "import numpy as np\n",
    "import pandas as pd\n",
    "import pyreadr\n",
    "import sbi\n",
    "import sbi.utils as sbi_utils\n",
    "import seaborn as sns\n",
    "import statsmodels.formula.api as smf\n",
    "import torch\n",
    "\n",
    "from joblib import Parallel, delayed\n",
    "from matplotlib.lines import Line2D\n",
    "from scipy.stats import ttest_ind\n",
    "from snpe.inference import inference_class\n",
    "from snpe.simulations import simulator_class, marketplace_simulator_class\n",
    "from snpe.embeddings.embeddings_to_ratings import EmbeddingRatingPredictor\n",
    "from snpe.utils.statistics import review_histogram_correlation\n",
    "from snpe.utils.tqdm_utils import tqdm_joblib\n",
    "from tqdm import tqdm\n",
    "\n",
    "# Set plotting parameters\n",
    "sns.set(style=\"white\", context=\"talk\", font_scale=2.5)\n",
    "sns.set_color_codes(palette=\"colorblind\")\n",
    "sns.set_style(\"ticks\", {\"axes.linewidth\": 2.0})"
   ]
  },
  {
   "cell_type": "markdown",
   "id": "86c81c8d",
   "metadata": {},
   "source": [
    "Then the `ARTIFACT_PATH` is defined, where most the relevant inputs/outputs related to the task of carried out in the notebook will be retrieved/stored. You can modify it at your convenience.\n",
    "\n",
    "Moreover a second `SAMPLING_SIMULATION_PATH` is defined, this is the path where simulation data for conditional sampling will be retrieved from during section D. of the notebook. "
   ]
  },
  {
   "cell_type": "code",
   "execution_count": 4,
   "id": "6365b672",
   "metadata": {},
   "outputs": [],
   "source": [
    "ARTIFACT_PATH = Path(\"../../../bucket/data\")\n",
    "SAMPLING_SIMULATION_PATH = Path(\"../../../bucket/large_data\")"
   ]
  },
  {
   "cell_type": "markdown",
   "id": "2b7cefe6",
   "metadata": {},
   "source": [
    "### B. Training the estimator and building a posterior distribution"
   ]
  },
  {
   "cell_type": "markdown",
   "id": "d6cb9892",
   "metadata": {},
   "source": [
    "The first step to conduct inference over the parameters of a timeseries of ratings under the methodology here considered is to train the neural estimator with reviews data. In this case a previeously simulated marketplace timeseries is loaded by the `infer_and_save_posterior` function defined below for such purpose. Two tensors containing the upper and lower bounds of the parameter distributions are also initialized to be provided to the estimator during training. In this case such tensors define the upper and lower bounds for a total of 8 different parameters, being that the number of parameters considered in marketplace simulations, which is the kind of simulation that will be used as reference throughout this notebook alongside the parameters it contemplates.\n",
    "\n",
    "Subsequently the `infer_snpe_posterior` method of the inference class (TimeSeriesInference in this particular case) is called. This method is in charge of both, training the nerual sequential posterior estimator and building a posterior distribution from the density estimator obtained after the training phase. Finally the posterior distribution is saved for later use in conditional sampling.\n",
    "\n",
    "The arguments to provide to `infer_and_save_posterior` are the following:\n",
    "\n",
    "- `device`: Device where the inference excercise will take place. Must be a string, either 'cuda' or 'cpu'.\n",
    "- `simulator_type`: Type of the simulator to be loaded by the inferrer (e.g. double_herding, marketplace...).\n",
    "- `simulation_type`: Modality of simulation that will be loaded. Must be str 'timeseries' or 'histogram'.\n",
    "- `params`: Dictionary of parameters to configure the posterior net.\n",
    "\n",
    "It is also worth mentioning that the inferrer's `infer_snpe_posterior` method can be provided with additional arguments not covered within the scope of `infer_and_save_posterior`. These include:\n",
    "\n",
    "- `embedding_net_creator` (Optional): A function-like embedding net creator whose parameter are given by `embedding_net_conf`. If not provided the default embedding net creator will be `torch.nn.Identity()`\n",
    "- `simulation_transform` (Optional): A function like object in charge of transforming the simulation data in the desired manner. If not provided, simulation data will be converted into pytorch tensors.\n",
    "- `model`: Type of density estimator to be used by sbi. It should be one of the following (str): \"mdn\", \"made\", \"maf\", \"nsf\". \"maf\" is the default estimator to empleoy."
   ]
  },
  {
   "cell_type": "code",
   "execution_count": 5,
   "id": "b7365ab4",
   "metadata": {},
   "outputs": [],
   "source": [
    "def infer_and_save_posterior(\n",
    "    device: str, simulator_type: str, simulation_type: str, params: Dict\n",
    ") -> None:\n",
    "    parameter_prior = sbi_utils.BoxUniform(\n",
    "        low=torch.tensor([0.0, 0.0, 0.0, 0.5, 0.25, 0.25, 0.5, 0.0]).type(\n",
    "            torch.FloatTensor),\n",
    "        high=torch.tensor([4.0, 4.0, 1.0, 1.0, 0.75, 0.75, 1.0, 1.0]).type(\n",
    "            torch.FloatTensor),\n",
    "        device=device)\n",
    "    \n",
    "    inferrer = inference_class.TimeSeriesInference(\n",
    "        parameter_prior=parameter_prior, device=device)\n",
    "    \n",
    "    inferrer.load_simulator(\n",
    "        dirname=ARTIFACT_PATH,\n",
    "        simulator_type=simulator_type,\n",
    "        simulation_type=simulation_type)\n",
    "    \n",
    "    batch_size = params.pop(\"batch_size\")\n",
    "    learning_rate = params.pop(\"learning_rate\")\n",
    "    hidden_features = params.pop(\"hidden_features\")\n",
    "    num_transforms = params.pop(\"num_transforms\")\n",
    "    inferrer.infer_snpe_posterior(\n",
    "        embedding_net_conf=params,\n",
    "        batch_size=batch_size,\n",
    "        learning_rate=learning_rate,\n",
    "        hidden_features=hidden_features,\n",
    "        num_transforms=num_transforms)\n",
    "    \n",
    "    inferrer.save_inference(ARTIFACT_PATH)"
   ]
  },
  {
   "cell_type": "markdown",
   "id": "88521c7b",
   "metadata": {},
   "source": [
    "Below the dictionary of hyperparameters to configure posterior net that will be provided as an argument to `infer_and_save_posterior` is defined. These have been obtained by carrying out a hyperparameter tuning procedure.\n",
    "\n"
   ]
  },
  {
   "cell_type": "code",
   "execution_count": 6,
   "id": "e3dbf545",
   "metadata": {},
   "outputs": [],
   "source": [
    "inference_params = {\n",
    "    \"batch_size\": 256,\n",
    "    \"learning_rate\": 3.67e-4,\n",
    "    \"hidden_features\": 40,\n",
    "    \"num_transforms\": 8,\n",
    "    \"num_conv_layers\": 2,\n",
    "    \"num_channels\": 9,\n",
    "    \"conv_kernel_size\": 13,\n",
    "    \"maxpool_kernel_size\": 9,\n",
    "    \"num_dense_layers\": 3,\n",
    "}"
   ]
  },
  {
   "cell_type": "markdown",
   "id": "6939950d",
   "metadata": {},
   "source": [
    "With all the ingredients in place `infer_and_save_posterior` is called. In this case and according to the provided parameters, timeseries of a marketplace simulation are employed as training data. The training of the posterior estimator will stop automatically once convergence has been reached.\n"
   ]
  },
  {
   "cell_type": "code",
   "execution_count": 7,
   "id": "3589e2ff",
   "metadata": {
    "scrolled": true
   },
   "outputs": [
    {
     "name": "stdout",
     "output_type": "stream",
     "text": [
      "\t Device set to cpu, using torch num threads=32\n",
      "Embedding net created: \n",
      " Sequential(\n",
      "  (0): Conv1d(5, 9, kernel_size=(13,), stride=(1,), padding=(6,))\n",
      "  (1): LeakyReLU(negative_slope=0.01)\n",
      "  (2): Conv1d(9, 9, kernel_size=(13,), stride=(1,), padding=(12,), dilation=(2,))\n",
      "  (3): MaxPool1d(kernel_size=9, stride=9, padding=0, dilation=1, ceil_mode=False)\n",
      "  (4): Flatten(start_dim=1, end_dim=-1)\n",
      "  (5): LeakyReLU(negative_slope=0.01)\n",
      "  (6): Linear(in_features=558, out_features=128, bias=True)\n",
      "  (7): LeakyReLU(negative_slope=0.01)\n",
      "  (8): Linear(in_features=128, out_features=64, bias=True)\n",
      "  (9): LeakyReLU(negative_slope=0.01)\n",
      "  (10): Linear(in_features=64, out_features=32, bias=True)\n",
      ")\n",
      " Neural network successfully converged after 153 epochs.\n",
      "        -------------------------\n",
      "        ||||| ROUND 1 STATS |||||:\n",
      "        -------------------------\n",
      "        Epochs trained: 153\n",
      "        Best validation performance: 3.0130\n",
      "        -------------------------\n",
      "        \n"
     ]
    }
   ],
   "source": [
    "infer_and_save_posterior(\"cpu\", \"marketplace\", \"timeseries\", inference_params)"
   ]
  },
  {
   "cell_type": "markdown",
   "id": "0a43f567",
   "metadata": {},
   "source": [
    "### C. Posterior sampling conditioned on observed data"
   ]
  },
  {
   "cell_type": "markdown",
   "id": "b51ce1eb",
   "metadata": {},
   "source": [
    "After the posterior net has been trained and the posterior distribution built, now it is posible to get samples from it conditioned on a series of provided observations. In this particular case, as its name suggests, the function `sample_posterior_with_observed` is designed to get samples from the posterior distribution conditioned on a provided set of observed ratings. \n",
    "\n",
    "For that, `sample_posterior_with_observed` will load the posterior distribution previously built and saved by `infer_and_save_posterior` to then call the inferrer class' method `get_posterior_samples`. This method takes the conditioned samples on the basis of the provided observed ratings the function's agruments. These are:\n",
    "\n",
    "- `device`: Device where the sampling operation will take place. Must be a string, either 'cuda' or 'cpu'.\n",
    "- `observations`: Numpy array of type timeseries/histogram (Observed) to condition the sampling. \n",
    "- `num_samples`: Number of samples of each parameter to take from the built posterior.\n",
    "- `simulator_type`: Type of the simulator to be loaded by the inferrer instance in charge of drawing the samples (e.g. double_herding, marketplace...). Given that `sample_posterior_with_observed` works with observed data, the relevance of this arguments comes from the fact that it defines the number of parameters that should be sampled from the distribution. \n",
    "- `simulation_type`: Modality of the data that will be used to condition the sampling procedure. Must be a string, either 'timeseries' or 'histogram'. `sample_posterior_with_observed` will not work with simulated data, however this parameter reffers to the word simulation as the shape of the data to be loaded should be equivalent to either the 'histogram' or 'timeseries' type produced by the different kinds of simulators.\n",
    "\n",
    "\n",
    "The function returns a numpy array of the shape (num_samples, number_of_products_in_observations, number_of_parameters) with the sampled posteriors."
   ]
  },
  {
   "cell_type": "code",
   "execution_count": 8,
   "id": "c02bd2ad",
   "metadata": {},
   "outputs": [],
   "source": [
    "def sample_posterior_with_observed(\n",
    "    device: str,\n",
    "    observations: np.array,\n",
    "    num_samples: int,\n",
    "    simulator_type: str,\n",
    "    simulation_type: str,\n",
    ") -> np.ndarray:\n",
    "    # The parameter prior doesn't matter here as it will be overridden by that of the loaded inference object\n",
    "    parameter_prior = sbi.utils.BoxUniform(\n",
    "        low=torch.tensor([0.0, 0.0, 0.0, 0.5, 0.25, 0.25, 0.5, 0.0]).type(\n",
    "            torch.FloatTensor\n",
    "        ),\n",
    "        high=torch.tensor([4.0, 4.0, 1.0, 1.0, 0.75, 0.75, 1.0, 1.0]).type(\n",
    "            torch.FloatTensor\n",
    "        ),\n",
    "        device=device,\n",
    "    )\n",
    "    inferrer = inference_class.TimeSeriesInference(\n",
    "        parameter_prior=parameter_prior, device=device\n",
    "    )\n",
    "    inferrer.load_simulator(\n",
    "        dirname=ARTIFACT_PATH,\n",
    "        simulator_type=simulator_type,\n",
    "        simulation_type=simulation_type,\n",
    "    )\n",
    "    inferrer.load_inference(dirname=ARTIFACT_PATH)\n",
    "    posterior_samples = inferrer.get_posterior_samples(\n",
    "        observations, num_samples=num_samples\n",
    "    )\n",
    "    return posterior_samples"
   ]
  },
  {
   "cell_type": "markdown",
   "id": "aecc2b83",
   "metadata": {},
   "source": [
    "In the example below, `sample_posterior_with_observed` is set to get parameter samples from the posterior distribution conditioned on an timeseries of observed ratings (`timeseries_data`) which is imported in the cell below immediately before actually calling the sampling function. 100 samples will be taken for each product and parameter. Given that the argument `simulation_type` is set as 'marketplace' the function will take samples for the 8 differnet parameters contemplated in such setting. \n",
    "\n",
    "Bear in mind that the maximum length of the timeseries of ratings for each product in the data that will condition the sampling procdure cannot be larger than the maximum one employed to train the posterior net. If this is the case you should restrict the length of the provided timeseries that exceed this limit to match it before you load and pass them to `sample_posterior_with_observed`."
   ]
  },
  {
   "cell_type": "code",
   "execution_count": 9,
   "id": "990d671b",
   "metadata": {},
   "outputs": [],
   "source": [
    "timeseries_data = np.load(ARTIFACT_PATH / 'timeseries_data.npy', allow_pickle=True)"
   ]
  },
  {
   "cell_type": "code",
   "execution_count": 10,
   "id": "a0aadbd7",
   "metadata": {},
   "outputs": [
    {
     "name": "stdout",
     "output_type": "stream",
     "text": [
      "\t Device set to cpu, using torch num threads=32\n"
     ]
    }
   ],
   "source": [
    "posterior_samples = sample_posterior_with_observed(\n",
    "    \"cpu\", timeseries_data, 100, \"marketplace\", \"timeseries\")"
   ]
  },
  {
   "cell_type": "markdown",
   "id": "f0e8011f",
   "metadata": {},
   "source": [
    "#### C.1. Plotting the mean posteriors"
   ]
  },
  {
   "cell_type": "markdown",
   "id": "23db5efd",
   "metadata": {},
   "source": [
    "With the aim of visualizing the distribution of the products' mean posteriors sampled, the following function `plot_mean_posteriors_for_products` is defined. I will produce a histogram with... ___TBC___"
   ]
  },
  {
   "cell_type": "code",
   "execution_count": 26,
   "id": "bb5f1aea",
   "metadata": {},
   "outputs": [
    {
     "data": {
      "text/plain": [
       "1406"
      ]
     },
     "execution_count": 26,
     "metadata": {},
     "output_type": "execute_result"
    }
   ],
   "source": [
    "len(np.mean(posterior_samples[:, :, 0], axis=0))\n",
    "\n",
    "# Efectivywonder, lo que suponias, calcula la media de todas las muestras obtenidas de un parámetro concreto para todos los productos, y las plotea como hist."
   ]
  },
  {
   "cell_type": "code",
   "execution_count": 14,
   "id": "72a7752d",
   "metadata": {},
   "outputs": [],
   "source": [
    "def plot_mean_posteriors_for_products(posterior_samples: np.ndarray) -> None:\n",
    "    fig, ax = plt.subplots(1, 2, squeeze=False)\n",
    "    ax[0, 0].hist(\n",
    "        np.mean(posterior_samples[:, :, 0], axis=0),\n",
    "        color=sns.xkcd_rgb[\"cerulean\"],\n",
    "        alpha=0.5,\n",
    "        bins=10,\n",
    "        label=r\"$\\rho_{-}$\",\n",
    "    )\n",
    "    ax[0, 0].hist(\n",
    "        np.mean(posterior_samples[:, :, 1], axis=0),\n",
    "        color=sns.xkcd_rgb[\"dark orange\"],\n",
    "        alpha=0.5,\n",
    "        bins=10,\n",
    "        label=r\"$\\rho_{+}$\",\n",
    "    )\n",
    "    ax[0, 1].hist(\n",
    "        np.mean(posterior_samples[:, :, 2], axis=0),\n",
    "        color=sns.xkcd_rgb[\"black\"],\n",
    "        alpha=0.5,\n",
    "        bins=10,\n",
    "        label=r\"$h_p$\",\n",
    "    )\n",
    "    ax[0, 0].legend(fontsize=20)\n",
    "    ax[0, 1].legend(fontsize=20)\n",
    "    ax[0, 0].set_xticks([0, 1, 2, 3, 4])\n",
    "    ax[0, 1].set_xticks([0, 0.5, 1])\n",
    "    ax[0, 0].tick_params(axis=\"both\", labelsize=23)\n",
    "    ax[0, 1].tick_params(axis=\"both\", labelsize=23)\n",
    "    # add a big axis, hide frame\n",
    "    fig.add_subplot(111, frameon=False)\n",
    "    # hide tick and tick label of the big axis\n",
    "    plt.tick_params(labelcolor=\"none\", top=False, bottom=False, left=False, right=False)\n",
    "    # plt.xlabel(r\"$\\rho_{-}, \\rho_{+}$\")\n",
    "    plt.ylabel(\n",
    "        f\"Number of products (Total = {posterior_samples.shape[1]})\", fontsize=28\n",
    "    )\n",
    "    fig.savefig(ARTIFACT_PATH / \"mean_posteriors.png\", bbox_inches=\"tight\")"
   ]
  },
  {
   "cell_type": "code",
   "execution_count": 15,
   "id": "798c8efc",
   "metadata": {},
   "outputs": [
    {
     "data": {
      "image/png": "[encoded data removed]",
      "text/plain": [
       "<Figure size 640x480 with 3 Axes>"
      ]
     },
     "metadata": {},
     "output_type": "display_data"
    }
   ],
   "source": [
    "plot_mean_posteriors_for_products(posterior_samples)"
   ]
  },
  {
   "cell_type": "markdown",
   "id": "996631b3",
   "metadata": {},
   "source": [
    "### D. Posterior sampling conditioned on simulation data"
   ]
  },
  {
   "cell_type": "markdown",
   "id": "e8496315",
   "metadata": {},
   "source": [
    "If instead of taking samples from the posterior distribution conditioned on observed data, we would like to do it from simulated data, the `sample_posterior_on_simlations` function can be used. This function works in a similar manner to `sample_posterior_with_observed` with the main difference that instead of employing some 'external' ratings data provided by us, it will load a simlation stored in SAMPLING_SIMULATION_PATH (defined at the beggining of the notebook). \n",
    "\n",
    "It is also worth considering that `sample_posterior_on_simlations` is built in such a way in which, given a marketplace simulation with N marketplaces provided to condition the sampling, only the one (the first) of these marketplaces will be considered during sampling. \n",
    "\n",
    "The arguments governing this function are the same as those of `sample_posterior_with_observed`, with the exception of the new argument `max_inference_length`. This argument is understood from the fact that `sample_posterior_on_simulated` will automatically restrict the length of any timeseries in the loaded simulation that may exceed the maximum one considered at the time of training the posterior net. That maximum training timeseries length must be specified as the value for `max_inference_length` so the lenght adjustment of the loaded timeseries can be carried out appropriately.\n",
    "\n"
   ]
  },
  {
   "cell_type": "code",
   "execution_count": 11,
   "id": "84e89ff0",
   "metadata": {},
   "outputs": [],
   "source": [
    "# In marketplace simulations, we cannot just supply a set of rho params, then simulate and infer on these simulations\n",
    "# to test if the inference can recover the initially provided params\n",
    "# So we instead sample from the posterior of a separate set of marketplace simulations not used in training and see\n",
    "# if parameters are recovered on this new set\n",
    "def sample_posterior_on_simulations(\n",
    "    device: str,\n",
    "    num_samples: int,\n",
    "    simulator_type: str,\n",
    "    simulation_type: str,\n",
    "    max_inference_length: int,\n",
    ") -> np.ndarray:\n",
    "    # We load the larger simulation (over 64 marketplaces) as the separate simulation for the inference to be tested on\n",
    "    params = {\n",
    "        \"review_prior\": np.ones(5),\n",
    "        \"tendency_to_rate\": 0.05,\n",
    "        \"simulation_type\": simulation_type,\n",
    "        \"previous_rating_measure\": \"mode\",\n",
    "        \"min_reviews_for_herding\": 5,\n",
    "        \"num_products\": 1400,\n",
    "        # \"num_products\": 100,\n",
    "        \"num_total_marketplace_reviews\": 300_000,\n",
    "        # \"num_total_marketplace_reviews\": 5_000,\n",
    "        \"consideration_set_size\": 5,\n",
    "        \"previous_rating_measure\": \"mean\",\n",
    "        \"min_reviews_for_herding\": 5,\n",
    "        \"one_star_lowest_limit\": -1.5,\n",
    "        \"five_star_highest_limit\": 1.5,\n",
    "        \"max_bias_5_star\": 0.5,\n",
    "    }\n",
    "    simulator = marketplace_simulator_class.MarketplaceSimulator(params)\n",
    "    #simulator.load_simulator(ARTIFACT_PATH / \"../large_data\")\n",
    "    simulator.load_simulator(SAMPLING_SIMULATION_PATH)\n",
    "    # We pick all simulations from a single marketplace as the observations on which we wish to obtain\n",
    "    # posterior samples\n",
    "    # These are the observations for the posterior sampling function defined above\n",
    "    observations = simulator.simulations[0]\n",
    "    # Also pick the simulation parameters corresponding to these simulations\n",
    "    simulation_params = simulator.simulation_parameters.copy()\n",
    "    simulation_params[\"rho\"] = simulation_params[\"rho\"][: len(observations), :]\n",
    "    simulation_params[\"h_p\"] = simulation_params[\"h_p\"][: len(observations)]\n",
    "    # Cut the observations to the max length seen during SNPE training\n",
    "    observations = np.array(\n",
    "        [obs[:max_inference_length, :] for obs in observations], dtype=\"object\"\n",
    "    )\n",
    "    posterior_samples = sample_posterior_with_observed(\n",
    "        device, observations, num_samples, simulator_type, simulation_type\n",
    "    )\n",
    "    return posterior_samples, simulation_params"
   ]
  },
  {
   "cell_type": "code",
   "execution_count": 12,
   "id": "1ca32ab7",
   "metadata": {},
   "outputs": [
    {
     "name": "stdout",
     "output_type": "stream",
     "text": [
      "\t Device set to cpu, using torch num threads=32\n"
     ]
    }
   ],
   "source": [
    "posterior_simulations, simulation_parameters = sample_posterior_on_simulations(\n",
    "    \"cpu\", 100, \"marketplace\", \"timeseries\", 563)"
   ]
  },
  {
   "cell_type": "markdown",
   "id": "4d001e7f",
   "metadata": {},
   "source": [
    "#### D.1. Plotting the mean posteriors"
   ]
  },
  {
   "cell_type": "code",
   "execution_count": 16,
   "id": "d82137cb",
   "metadata": {},
   "outputs": [
    {
     "data": {
      "image/png": "[encoded data removed]",
      "text/plain": [
       "<Figure size 640x480 with 3 Axes>"
      ]
     },
     "metadata": {},
     "output_type": "display_data"
    }
   ],
   "source": [
    "plot_mean_posteriors_for_products(posterior_simulations)"
   ]
  },
  {
   "cell_type": "markdown",
   "id": "15313e21",
   "metadata": {},
   "source": [
    "### E. Parameter appendix"
   ]
  },
  {
   "cell_type": "code",
   "execution_count": null,
   "id": "b3551edb",
   "metadata": {},
   "outputs": [],
   "source": []
  },
  {
   "cell_type": "code",
   "execution_count": null,
   "id": "8d168d8c",
   "metadata": {},
   "outputs": [],
   "source": []
  },
  {
   "cell_type": "code",
   "execution_count": null,
   "id": "a23c3ef3",
   "metadata": {},
   "outputs": [],
   "source": []
  },
  {
   "cell_type": "code",
   "execution_count": null,
   "id": "27e9c828",
   "metadata": {},
   "outputs": [],
   "source": []
  },
  {
   "cell_type": "code",
   "execution_count": null,
   "id": "4448575c",
   "metadata": {},
   "outputs": [],
   "source": []
  },
  {
   "cell_type": "code",
   "execution_count": null,
   "id": "4c6f2a6f",
   "metadata": {},
   "outputs": [],
   "source": []
  },
  {
   "cell_type": "code",
   "execution_count": null,
   "id": "5c1a5891",
   "metadata": {},
   "outputs": [],
   "source": []
  }
 ],
 "metadata": {
  "kernelspec": {
   "display_name": "Python 3 (ipykernel)",
   "language": "python",
   "name": "python3"
  },
  "language_info": {
   "codemirror_mode": {
    "name": "ipython",
    "version": 3
   },
   "file_extension": ".py",
   "mimetype": "text/x-python",
   "name": "python",
   "nbconvert_exporter": "python",
   "pygments_lexer": "ipython3",
   "version": "3.9.13"
  }
 },
 "nbformat": 4,
 "nbformat_minor": 5
}
